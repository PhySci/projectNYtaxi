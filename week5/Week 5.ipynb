{
 "cells": [
  {
   "cell_type": "code",
   "execution_count": 20,
   "metadata": {
    "collapsed": false
   },
   "outputs": [],
   "source": [
    "# import libraries\n",
    "import pandas as pd\n",
    "import numpy as np \n",
    "import matplotlib.pyplot as plt\n",
    "import datetime\n",
    "from sklearn import preprocessing, linear_model, model_selection\n",
    "\n",
    "%matplotlib inline"
   ]
  },
  {
   "cell_type": "markdown",
   "metadata": {},
   "source": [
    "Класс моделей ARIMA недостаточно богат для наших данных: с их помощью, например, никак нельзя учесть взаимосвязи между рядами. Это можно сделать с помощью векторной авторегрессии VARIMA, но её питоновская реализация не позволяет использовать регрессионные признаки. Кроме того, авторегрессионный подход не позволяет учитывать, например, взаимодействия между сезонными компонентами. Вы могли заметить, что форма суточных сезонных профилей в будни и выходные немного разная; явно моделировать этот эффект с помощью ARIMA не получится.\n",
    "\n",
    "Нам нужна более сложная модель. Давайте займёмся сведением задачи массового прогнозирования рядов к регрессионной постановке! Вам понадобится много признаков. Некоторые из них у вас уже есть — это:\n",
    "<ol>\n",
    "<li>идентификатор географической зоны\n",
    "<li>дата и время\n",
    "<li>количество поездок в периоды, предшествующие прогнозируемому\n",
    "<li>синусы, косинусы и тренды, которые вы использовали внутри регрессионной компоненты ARIMA\n",
    "<li>Кроме того, не спешите выбрасывать построенный вами на прошлой неделе прогнозы — из них может получиться хороший признак для регрессии!\n",
    "</ol>\n",
    "\n",
    "\n",
    "\n",
    "Вы можете попробовать разные регрессионный модели, но хорошие результаты, скорее всего, дадут такие, которые будут позволять признакам взаимодействовать друг с другом.\n",
    "\n",
    "Поскольку прогноз нужен на 6 часов вперёд, проще всего будет построить 6 независимых регрессионных моделей — одна для прогнозирования y^T+1|T, другая для y^T+2|T и т.д.\n",
    "\n",
    "<ol>Чтобы сдать задание, выполните следующую последовательность действий.\n",
    "<li>Для каждой из шести задач прогнозирования y^T+i|T,i=1,…,6 сформируйте выборки. Откликом будет yT+i при всевозможных значениях T, а признаки можно использовать следующие:\n",
    "<ul>\n",
    "<li>идентификатор географической зоны — категориальный\n",
    "<li>год, месяц, день месяца, день недели, час — эти признаки можно пробовать брать и категориальными, и непрерывными, можно даже и так, и так (done)\n",
    "<li>синусы, косинусы и тренды, которые вы использовали внутри регрессионной компоненты ARIMA (done)\n",
    "<li>сами значения прогнозов ARIMA y^T+i|TARIMA\n",
    "<li>количество поездок из рассматриваемого района в моменты времени yT,yT−1,…,yT−K (параметр K можно подбирать; попробуйте начать, например, с 6)\n",
    "<li>количество поездок из рассматриваемого района в моменты времени yT−24,yT−48,…,yT−24∗Kd (параметр Kd можно подбирать; попробуйте начать, например, с 2)\n",
    "<li>суммарное количество поездок из рассматриваемого района за предшествующие полдня, сутки, неделю, месяц\n",
    "</ul>\n",
    "Будьте внимательны при создании признаков — все факторы должны быть рассчитаны без использования информации из будущего: при прогнозировании y^T+i|T,i=1,…,6 вы можете учитывать только значения y до момента времени T включительно.\n",
    "\n",
    "\n",
    "<li>Выбранными моделями постройте для каждой географической зоны и каждого конца истории от 2016.04.30 23:00 до 2016.05.31 17:00 прогнозы на 6 часов вперёд; посчитайте в ноутбуке ошибку прогноза по следующему функционалу:\n",
    "Qmay=1R∗739∗6∑r=1R∑T=2016.04.3023:002016.05.3117:00∑i=16y^T|T+ir−yT+ir.\n",
    "Убедитесь, что ошибка полученных прогнозов, рассчитанная согласно функционалу Q, определённому на прошлой неделе, уменьшилась по сравнению с той, которую вы получили методом индивидуального применения моделей ARIMA. Если этого не произошло, попробуйте улучшить ваши модели.\n",
    "\n",
    "<li>Итоговыми моделями постройте прогнозы для каждого конца истории от 2016.05.31 23:00 до 2016.06.30 17:00 и запишите все результаты в один файл в формате geoID, histEndDay, histEndHour, step, y. Здесь geoID — идентификатор зоны, histEndDay — день конца истории в формате id,y, где столбец id состоит из склеенных через подчёркивание идентификатора географической зоны, даты конца истории, часа конца истории и номера отсчёта, на который делается предсказание (1-6); столбец y — ваш прогноз.\n",
    "\n",
    "<li>Загрузите полученный файл на kaggle: https://inclass.kaggle.com/c/yellowtaxi. Добавьте в ноутбук ссылку на сабмишн.\n",
    "\n",
    "<li>Загрузите ноутбук в форму."
   ]
  },
  {
   "cell_type": "markdown",
   "metadata": {},
   "source": [
    "Подгружаем данные"
   ]
  },
  {
   "cell_type": "code",
   "execution_count": 21,
   "metadata": {
    "collapsed": false
   },
   "outputs": [],
   "source": [
    "# id нужных регионов\n",
    "regsDf = pd.read_csv('../crowdRegs.csv',names=['id','regId']);  \n",
    "\n",
    "# времянные ряды для этих регионов\n",
    "df = pd.read_pickle('../loadData/crowdRegs3.pcl')\n",
    "regNames = regsDf.regId.values.astype('str')\n",
    "df.columns = regNames"
   ]
  },
  {
   "cell_type": "markdown",
   "metadata": {},
   "source": [
    "Наверное, оптимальный способ - пройтись по всем регионам, сформировать требуемую выборку, а потом - состыковать. \n",
    "Вероятно, в процессе работы получится векторизовать это действие.\n",
    "Пожалуй, имеет смысл сначала для всего фрейма добавить общие для всех колонок признаки (тренд, гармоники, даты, дни недели)"
   ]
  },
  {
   "cell_type": "code",
   "execution_count": 22,
   "metadata": {
    "collapsed": false
   },
   "outputs": [],
   "source": [
    "def processDataFrame(inpDf, Kw = 5, Ka = 2):\n",
    "    \"\"\"\n",
    "    Обрабатываем сразу весь dateFrame и добавляем признаки, общие для всех рядов\n",
    "    тренд, гармоники, категориальные перемнные\n",
    "    для дат, дней недели, etc)\n",
    "\n",
    "    Parameters:\n",
    "    Kw number of weeks harmonics\n",
    "    Ka number of annual harmonics\n",
    "    \"\"\"\n",
    "\n",
    "    inpDf = inpDf.assign(linear = (inpDf.index - datetime.datetime(2014,1,1,0,0,0))/np.timedelta64(1, 'h'))\n",
    "    \n",
    "    # час — эти признаки можно пробовать брать и категориальными\n",
    "    # и непрерывными, можно даже и так, и так\n",
    "\n",
    "    # добавляем гармонические фичи\n",
    "    for ind in range(1,Kw+1):\n",
    "        inpDf['weekCos'+str(ind)]= np.cos(np.pi*inpDf.linear*ind/168)\n",
    "        inpDf['weekSin'+str(ind)]= np.sin(np.pi*inpDf.linear*ind/168)\n",
    "     \n",
    "    for ind in range(1,Ka+1):\n",
    "        inpDf['yearCos'+str(ind)]= np.cos(2*np.pi*inpDf.linear*ind/8766)        \n",
    "        inpDf['yearSin'+str(ind)]= np.sin(2*np.pi*inpDf.linear*ind/8766)\n",
    "\n",
    "    # добавляем числовое и категориальные свойства для дней недели\n",
    "    inpDf = inpDf.assign(dayOfWeek = inpDf.index.dayofweek)\n",
    "    lbDays = preprocessing.LabelBinarizer()\n",
    "    lbDays.fit(list(np.arange(6)))\n",
    "    DoW = pd.DataFrame(lbDays.transform(inpDf.index.dayofweek),columns = ['dayOfWeek_'+str(x) for x in np.arange(6)],\n",
    "                       index = inpDf.index)      \n",
    "    inpDf = inpDf.merge(DoW,left_index=True,right_index=True)\n",
    "\n",
    "    # добавляем dummy variables для месяца\n",
    "    inpDf = inpDf.assign(month = inpDf.index.month)\n",
    "    lbMonths = preprocessing.LabelBinarizer()\n",
    "    lbMonths.fit(list(np.arange(12)))\n",
    "    Months = pd.DataFrame(lbMonths.transform(inpDf.index.month),columns = ['month_'+str(x) for x in np.arange(1,13)],\n",
    "                          index = inpDf.index)      \n",
    "    inpDf = inpDf.merge(Months,left_index=True,right_index=True);\n",
    "\n",
    "    # добавляем год (вещественный)\n",
    "    inpDf = inpDf.assign(year = inpDf.index.year)\n",
    "\n",
    "    # добавляем день месяца (вещественный)\n",
    "    inpDf = inpDf.assign(day = inpDf.index.day)\n",
    "\n",
    "    # добавляем час (вещественный и категориальный)\n",
    "    inpDf = inpDf.assign(hour = inpDf.index.hour)\n",
    "    lbHours = preprocessing.LabelBinarizer()\n",
    "    lbHours.fit(list(np.arange(24)))\n",
    "    Hours = pd.DataFrame(lbHours.transform(inpDf.index.hour),columns = ['hour_'+str(x) for x in np.arange(24)],\n",
    "                       index = inpDf.index)      \n",
    "    inpDf = inpDf.merge(Hours,left_index=True,right_index=True)\n",
    "    \n",
    "    return inpDf"
   ]
  },
  {
   "cell_type": "markdown",
   "metadata": {},
   "source": [
    "Теперь делаем индивидуальную обработку для каждого региона\n",
    "<ol>\n",
    "<li> добавляем идентификатор географической зоны — категориальный\n",
    "<li> количество поездок из рассматриваемого района в моменты времени yT,yT−1,…,yT−K (параметр K можно подбирать; попробуйте начать, например, с 6)\n",
    "<li> количество поездок из рассматриваемого района в моменты времени yT−24,yT−48,…,yT−24∗Kd (параметр Kd можно подбирать; попробуйте начать, например, с 2)\n",
    "<li>суммарное количество поездок из рассматриваемого района за предшествующие полдня, сутки, неделю, месяц \n",
    "2) \n",
    "</ol>"
   ]
  },
  {
   "cell_type": "code",
   "execution_count": 23,
   "metadata": {
    "collapsed": false
   },
   "outputs": [],
   "source": [
    "def processSeries(df,tReg,Kh = 6, Kp = 2):\n",
    "    \"\"\"\n",
    "    Обработка одного данного ряда \n",
    "    parameters:\n",
    "        df - начальный датафрейм, из которого выберем для обработки один ряд\n",
    "        tReg - название ряда, который надо обработать\n",
    "        Kh - количество отслеживаемых прошлых суточных лагов \"назад\"\n",
    "        Kp - количество отслеживаемых прошлых периодических лагов (период 24 часа)\n",
    "\n",
    "    \"\"\"\n",
    " \n",
    "\n",
    "    tDf = df.loc[:,tReg.split() + commonFeatures].rename(columns={tReg:'y'})\n",
    "\n",
    "    tDf = tDf.assign(region = tReg)\n",
    "\n",
    "    for timeLag in np.arange(1,Kh+1):\n",
    "        name = 'hourLag_'+str(timeLag)\n",
    "        tDf.loc[:,name] = tDf.y.shift(periods=timeLag)\n",
    "\n",
    "    for timeLag in np.arange(1,Kp+1):\n",
    "        name = 'periodicLag_'+str(timeLag)\n",
    "        tDf.loc[:,name] = tDf.y.shift(periods=timeLag*24)\n",
    "\n",
    "    tDf.fillna(0,inplace=True)    \n",
    "\n",
    "    # суммарное количество поездок из рассматриваемого района за предшествующие полдня, сутки, неделю, месяц\n",
    "    tDf.loc[:,'sum12'] = tDf.y.rolling(window = 12, min_periods = 1).sum()\n",
    "    tDf.loc[:,'sum24'] = tDf.y.rolling(window = 24, min_periods = 1).sum()\n",
    "    tDf.loc[:,'sumWeek'] = tDf.y.rolling(window = 168, min_periods = 1).sum()\n",
    "    tDf.loc[:,'sumMonth'] = tDf.y.rolling(window = 720, min_periods = 1).sum()\n",
    "    \n",
    "    #создаём шесть целевые переменных для каждого конца истории\n",
    "    for targetVar in np.arange(1,7):\n",
    "        name = 'y'+str(targetVar)\n",
    "        tDf.loc[:,name] = tDf.y.shift(-targetVar)\n",
    "    tDf.fillna(0,inplace=True)\n",
    "    \n",
    "    return tDf\n"
   ]
  },
  {
   "cell_type": "code",
   "execution_count": 24,
   "metadata": {
    "collapsed": false
   },
   "outputs": [],
   "source": [
    "# общая обработка данных\n",
    "df2 = processDataFrame(df,Kw = 7, Ka = 5)\n",
    "commonFeatures =  list(set(df2.columns)-set(df.columns.values))\n",
    "# обработка отдельный рядов\n",
    "df3 = pd.DataFrame()\n",
    "for regName in regNames:\n",
    "    df3 = pd.concat([df3, processSeries(df2,regName,Kh = 12, Kp = 4)])"
   ]
  },
  {
   "cell_type": "code",
   "execution_count": 25,
   "metadata": {
    "collapsed": false
   },
   "outputs": [],
   "source": [
    "regDf = df3.get('region')\n",
    "regDf = regDf.reset_index()\n",
    "regDf.rename(columns={'index':'date'},inplace=True)"
   ]
  },
  {
   "cell_type": "markdown",
   "metadata": {},
   "source": [
    "Разбейте каждую из шести выборок на три части:\n",
    "<ul>\n",
    "<li> Обучающая, на которой будут настраиваться параметры моделей — всё до апреля 2016\n",
    "<li> Тестовая, на которой вы будете подбирать значения гиперпараметров — май 2016\n",
    "<li> Итоговая, которая не будет использоваться при настройке моделей вообще — июнь 2016\n",
    "</ul>"
   ]
  },
  {
   "cell_type": "code",
   "execution_count": 26,
   "metadata": {
    "collapsed": false
   },
   "outputs": [],
   "source": [
    "df3.reset_index(inplace=True)\n",
    "df3 = pd.get_dummies(df3,'region')"
   ]
  },
  {
   "cell_type": "code",
   "execution_count": 27,
   "metadata": {
    "collapsed": true
   },
   "outputs": [],
   "source": [
    "startTrain = '2014-01-01 00:00:00'\n",
    "endTrain   = '2016-04-30 23:00:00'\n",
    "\n",
    "startValidation = '2016-05-01 00:00:00'\n",
    "endValidation   = '2016-05-31 23:00:00'\n",
    "\n",
    "startTest = '2016-06-01 00:00:00'\n",
    "endTest   = '2016-06-30 23:00:00'"
   ]
  },
  {
   "cell_type": "code",
   "execution_count": 28,
   "metadata": {
    "collapsed": false
   },
   "outputs": [],
   "source": [
    "trainSet = df3.query('index >= @startTrain and index <= @endTrain') \n",
    "validationSet = df3.query('index >= @startValidation and index <= @endValidation')\n",
    "testSet = df3.query('index >= @startTest and index <= @endTest')"
   ]
  },
  {
   "cell_type": "markdown",
   "metadata": {},
   "source": [
    "Выберите вашу любимую регрессионную модель и настройте её на каждом из шести наборов данных, подбирая гиперпараметры на мае 2016. Желательно, чтобы модель:\n",
    "<ul>\n",
    "<li>Допускала попарные взаимодействия между признаками\n",
    "<li>Была устойчивой к избыточному количеству признаков (например, использовала регуляризаторы)\n",
    "</ul>"
   ]
  },
  {
   "cell_type": "code",
   "execution_count": 29,
   "metadata": {
    "collapsed": false
   },
   "outputs": [
    {
     "data": {
      "text/html": [
       "<div>\n",
       "<table border=\"1\" class=\"dataframe\">\n",
       "  <thead>\n",
       "    <tr style=\"text-align: right;\">\n",
       "      <th></th>\n",
       "      <th>index</th>\n",
       "      <th>y</th>\n",
       "      <th>weekSin1</th>\n",
       "      <th>weekSin2</th>\n",
       "      <th>month</th>\n",
       "      <th>hour_19</th>\n",
       "      <th>hour_9</th>\n",
       "      <th>hour_8</th>\n",
       "      <th>year</th>\n",
       "      <th>hour_5</th>\n",
       "      <th>...</th>\n",
       "      <th>region_1630</th>\n",
       "      <th>region_1684</th>\n",
       "      <th>region_1733</th>\n",
       "      <th>region_1734</th>\n",
       "      <th>region_1783</th>\n",
       "      <th>region_2068</th>\n",
       "      <th>region_2069</th>\n",
       "      <th>region_2118</th>\n",
       "      <th>region_2119</th>\n",
       "      <th>region_2168</th>\n",
       "    </tr>\n",
       "  </thead>\n",
       "  <tbody>\n",
       "    <tr>\n",
       "      <th>21168</th>\n",
       "      <td>2016-06-01 00:00:00</td>\n",
       "      <td>26</td>\n",
       "      <td>-5.095769e-14</td>\n",
       "      <td>-1.019154e-13</td>\n",
       "      <td>6</td>\n",
       "      <td>0</td>\n",
       "      <td>0</td>\n",
       "      <td>0</td>\n",
       "      <td>2016</td>\n",
       "      <td>0</td>\n",
       "      <td>...</td>\n",
       "      <td>0</td>\n",
       "      <td>0</td>\n",
       "      <td>0</td>\n",
       "      <td>0</td>\n",
       "      <td>0</td>\n",
       "      <td>0</td>\n",
       "      <td>0</td>\n",
       "      <td>0</td>\n",
       "      <td>0</td>\n",
       "      <td>0</td>\n",
       "    </tr>\n",
       "    <tr>\n",
       "      <th>21169</th>\n",
       "      <td>2016-06-01 01:00:00</td>\n",
       "      <td>14</td>\n",
       "      <td>1.869887e-02</td>\n",
       "      <td>3.739119e-02</td>\n",
       "      <td>6</td>\n",
       "      <td>0</td>\n",
       "      <td>0</td>\n",
       "      <td>0</td>\n",
       "      <td>2016</td>\n",
       "      <td>0</td>\n",
       "      <td>...</td>\n",
       "      <td>0</td>\n",
       "      <td>0</td>\n",
       "      <td>0</td>\n",
       "      <td>0</td>\n",
       "      <td>0</td>\n",
       "      <td>0</td>\n",
       "      <td>0</td>\n",
       "      <td>0</td>\n",
       "      <td>0</td>\n",
       "      <td>0</td>\n",
       "    </tr>\n",
       "    <tr>\n",
       "      <th>21170</th>\n",
       "      <td>2016-06-01 02:00:00</td>\n",
       "      <td>5</td>\n",
       "      <td>3.739119e-02</td>\n",
       "      <td>7.473009e-02</td>\n",
       "      <td>6</td>\n",
       "      <td>0</td>\n",
       "      <td>0</td>\n",
       "      <td>0</td>\n",
       "      <td>2016</td>\n",
       "      <td>0</td>\n",
       "      <td>...</td>\n",
       "      <td>0</td>\n",
       "      <td>0</td>\n",
       "      <td>0</td>\n",
       "      <td>0</td>\n",
       "      <td>0</td>\n",
       "      <td>0</td>\n",
       "      <td>0</td>\n",
       "      <td>0</td>\n",
       "      <td>0</td>\n",
       "      <td>0</td>\n",
       "    </tr>\n",
       "    <tr>\n",
       "      <th>21171</th>\n",
       "      <td>2016-06-01 03:00:00</td>\n",
       "      <td>2</td>\n",
       "      <td>5.607045e-02</td>\n",
       "      <td>1.119645e-01</td>\n",
       "      <td>6</td>\n",
       "      <td>0</td>\n",
       "      <td>0</td>\n",
       "      <td>0</td>\n",
       "      <td>2016</td>\n",
       "      <td>0</td>\n",
       "      <td>...</td>\n",
       "      <td>0</td>\n",
       "      <td>0</td>\n",
       "      <td>0</td>\n",
       "      <td>0</td>\n",
       "      <td>0</td>\n",
       "      <td>0</td>\n",
       "      <td>0</td>\n",
       "      <td>0</td>\n",
       "      <td>0</td>\n",
       "      <td>0</td>\n",
       "    </tr>\n",
       "    <tr>\n",
       "      <th>21172</th>\n",
       "      <td>2016-06-01 04:00:00</td>\n",
       "      <td>1</td>\n",
       "      <td>7.473009e-02</td>\n",
       "      <td>1.490423e-01</td>\n",
       "      <td>6</td>\n",
       "      <td>0</td>\n",
       "      <td>0</td>\n",
       "      <td>0</td>\n",
       "      <td>2016</td>\n",
       "      <td>0</td>\n",
       "      <td>...</td>\n",
       "      <td>0</td>\n",
       "      <td>0</td>\n",
       "      <td>0</td>\n",
       "      <td>0</td>\n",
       "      <td>0</td>\n",
       "      <td>0</td>\n",
       "      <td>0</td>\n",
       "      <td>0</td>\n",
       "      <td>0</td>\n",
       "      <td>0</td>\n",
       "    </tr>\n",
       "  </tbody>\n",
       "</table>\n",
       "<p>5 rows × 202 columns</p>\n",
       "</div>"
      ],
      "text/plain": [
       "                    index   y      weekSin1      weekSin2  month  hour_19  \\\n",
       "21168 2016-06-01 00:00:00  26 -5.095769e-14 -1.019154e-13      6        0   \n",
       "21169 2016-06-01 01:00:00  14  1.869887e-02  3.739119e-02      6        0   \n",
       "21170 2016-06-01 02:00:00   5  3.739119e-02  7.473009e-02      6        0   \n",
       "21171 2016-06-01 03:00:00   2  5.607045e-02  1.119645e-01      6        0   \n",
       "21172 2016-06-01 04:00:00   1  7.473009e-02  1.490423e-01      6        0   \n",
       "\n",
       "       hour_9  hour_8  year  hour_5     ...       region_1630  region_1684  \\\n",
       "21168       0       0  2016       0     ...                 0            0   \n",
       "21169       0       0  2016       0     ...                 0            0   \n",
       "21170       0       0  2016       0     ...                 0            0   \n",
       "21171       0       0  2016       0     ...                 0            0   \n",
       "21172       0       0  2016       0     ...                 0            0   \n",
       "\n",
       "       region_1733  region_1734  region_1783  region_2068  region_2069  \\\n",
       "21168            0            0            0            0            0   \n",
       "21169            0            0            0            0            0   \n",
       "21170            0            0            0            0            0   \n",
       "21171            0            0            0            0            0   \n",
       "21172            0            0            0            0            0   \n",
       "\n",
       "       region_2118  region_2119  region_2168  \n",
       "21168            0            0            0  \n",
       "21169            0            0            0  \n",
       "21170            0            0            0  \n",
       "21171            0            0            0  \n",
       "21172            0            0            0  \n",
       "\n",
       "[5 rows x 202 columns]"
      ]
     },
     "execution_count": 29,
     "metadata": {},
     "output_type": "execute_result"
    }
   ],
   "source": [
    "testSet.head()"
   ]
  },
  {
   "cell_type": "markdown",
   "metadata": {},
   "source": [
    "Попробуем обучить Ridge классификатор с L2 регуляризацией."
   ]
  },
  {
   "cell_type": "code",
   "execution_count": 49,
   "metadata": {
    "collapsed": true
   },
   "outputs": [],
   "source": [
    "targetList = ['y1','y2','y3','y4','y5','y6']\n",
    "paramsAlpha = np.linspace(0.2,2,5)"
   ]
  },
  {
   "cell_type": "code",
   "execution_count": 50,
   "metadata": {
    "collapsed": false,
    "scrolled": true
   },
   "outputs": [
    {
     "name": "stdout",
     "output_type": "stream",
     "text": [
      "y1\n"
     ]
    },
    {
     "name": "stderr",
     "output_type": "stream",
     "text": [
      "C:\\Anaconda2\\lib\\site-packages\\sklearn\\linear_model\\coordinate_descent.py:484: ConvergenceWarning: Objective did not converge. You might want to increase the number of iterations. Fitting data with very small alpha may cause precision problems.\n",
      "  ConvergenceWarning)\n"
     ]
    },
    {
     "name": "stdout",
     "output_type": "stream",
     "text": [
      "0.2 30.3537252324\n",
      "0.65 30.3925861949\n",
      "1.1 30.4183938719\n",
      "1.55 30.4243368721\n",
      "2.0 30.4198267144\n",
      "Smallest error 30.420 at a = 2.000\n",
      "y2\n",
      "0.2 41.9685838924\n",
      "0.65 42.091605839\n",
      "1.1 42.1419190039\n",
      "1.55 42.1518007526\n",
      "2.0 42.1433554047\n",
      "Smallest error 42.143 at a = 2.000\n",
      "y3\n",
      "0.2 47.0919063516\n",
      "0.65 47.1599091756\n",
      "1.1 47.1516918978\n",
      "1.55 47.1274092037\n",
      "2.0 47.0991704764\n",
      "Smallest error 47.099 at a = 2.000\n",
      "y4\n",
      "0.2 47.4079815039\n",
      "0.65 47.3303732518\n",
      "1.1 47.2744314105\n",
      "1.55 47.2026658307\n",
      "2.0 47.133650041\n",
      "Smallest error 47.134 at a = 2.000\n",
      "y5\n",
      "0.2 45.8541548975\n",
      "0.65 45.8173109884\n",
      "1.1 45.7664630569\n",
      "1.55 45.6702743607\n",
      "2.0 45.5796259981\n",
      "Smallest error 45.580 at a = 2.000\n",
      "y6\n",
      "0.2 44.8009826345\n",
      "0.65 44.7931117899\n",
      "1.1 44.7158633964\n",
      "1.55 44.6110548119\n",
      "2.0 44.506692815\n",
      "Smallest error 44.507 at a = 2.000\n"
     ]
    }
   ],
   "source": [
    "bestModels = dict()\n",
    "for target in targetList:\n",
    "    print target\n",
    "    dropCols = [x for x in targetList if x != target ]\n",
    "    dropCols.append('y')\n",
    "    dropCols.append('index')\n",
    "    tmpTrain = trainSet.drop(dropCols,axis = 1)\n",
    "    tmpTrain.rename(columns={target:'y'},inplace=True)\n",
    "    \n",
    "    tmpValidation = validationSet.drop(dropCols,axis = 1)\n",
    "    tmpValidation.rename(columns={target:'y'},inplace=True)\n",
    "    \n",
    "    minErr = np.inf\n",
    "    bestAlpha = 0\n",
    "    \n",
    "    \n",
    "    for a in paramsAlpha:\n",
    "        regressor = linear_model.ElasticNet(alpha= a)\n",
    "        regressor.fit(tmpTrain.drop('y',axis = 1),tmpTrain.loc[:,'y'])\n",
    "        prediction = regressor.predict(tmpValidation.drop('y',axis = 1))\n",
    "        err = np.abs(prediction - tmpValidation.loc[:,'y'])\n",
    "        err = err.mean()\n",
    "        print a, err\n",
    "        if err <minErr:\n",
    "            minErr = err\n",
    "            bestAlpha = a\n",
    "            bestModel = regressor\n",
    "    \n",
    "    bestModels.update({target:bestModel})\n",
    "            \n",
    "    print 'Smallest error {:2.3f} at a = {:2.3f}'.format(err,a)     "
   ]
  },
  {
   "cell_type": "code",
   "execution_count": 33,
   "metadata": {
    "collapsed": false
   },
   "outputs": [],
   "source": [
    "# now there are three regressors. WE have to use them.\n",
    "np.save('bestModels.npy',bestModels)"
   ]
  },
  {
   "cell_type": "code",
   "execution_count": 34,
   "metadata": {
    "collapsed": true
   },
   "outputs": [],
   "source": [
    "bestModels = np.load('bestModels.npy').item()"
   ]
  },
  {
   "cell_type": "code",
   "execution_count": 35,
   "metadata": {
    "collapsed": false
   },
   "outputs": [
    {
     "name": "stderr",
     "output_type": "stream",
     "text": [
      "C:\\Anaconda2\\lib\\site-packages\\ipykernel\\__main__.py:4: SettingWithCopyWarning: \n",
      "A value is trying to be set on a copy of a slice from a DataFrame\n",
      "\n",
      "See the caveats in the documentation: http://pandas.pydata.org/pandas-docs/stable/indexing.html#indexing-view-versus-copy\n"
     ]
    }
   ],
   "source": [
    "testSet.columns.values\n",
    "dropCols = ['index','y','y1','y2','y3','y4','y5','y6']\n",
    "tripVal = testSet.get(dropCols)\n",
    "testSet.drop(dropCols,inplace = True, axis = 1)"
   ]
  },
  {
   "cell_type": "code",
   "execution_count": 37,
   "metadata": {
    "collapsed": false
   },
   "outputs": [],
   "source": [
    "def getTrips(X):\n",
    "    model1 = bestModels.get('y1')\n",
    "    model2 = bestModels.get('y2')\n",
    "    model3 = bestModels.get('y3')\n",
    "    model4 = bestModels.get('y4')\n",
    "    model5 = bestModels.get('y5')\n",
    "    model6 = bestModels.get('y6')\n",
    "    pr1 = model1.predict(X)\n",
    "    pr2 = model2.predict(X)\n",
    "    pr3 = model3.predict(X)\n",
    "    pr4 = model4.predict(X)\n",
    "    pr5 = model5.predict(X)\n",
    "    pr6 = model6.predict(X)\n",
    "    pr1[pr1<0] = 0\n",
    "    pr2[pr2<0] = 0\n",
    "    pr3[pr3<0] = 0\n",
    "    pr4[pr4<0] = 0\n",
    "    pr5[pr5<0] = 0\n",
    "    pr6[pr6<0] = 0\n",
    "    \n",
    "    return np.array([pr1, pr2, pr3, pr4, pr5, pr6])"
   ]
  },
  {
   "cell_type": "code",
   "execution_count": 48,
   "metadata": {
    "collapsed": false
   },
   "outputs": [],
   "source": [
    "prediction = getTrips(testSet)\n",
    "\n",
    "predictionDf = pd.DataFrame(prediction.T,columns=['y1','y2','y3','y4','y5','y6'])\n",
    "predictionDf.set_index(testSet.index,inplace=True)\n",
    "predictionDf = predictionDf.merge(regDf,left_index=True,right_index=True,how='left')\n",
    "\n",
    "# теперь надо сохранить это в файл\n",
    "fName = 'res_week5-3.csv'\n",
    "\n",
    "rnd = np.round\n",
    "\n",
    "f = open(fName,'w')\n",
    "f.writelines('id,y\\n')\n",
    "\n",
    "for ind, row in predictionDf.iterrows():\n",
    "    historyStart = row.date - datetime.timedelta(hours = 1)\n",
    "    \n",
    "    if historyStart > datetime.datetime(2016,6,30,17):\n",
    "        continue\n",
    "    \n",
    "    s0 = str(row.region)+'_'+ str(datetime.datetime.strftime(historyStart, \"%Y-%m-%d\"))+ '_'+ str(historyStart.hour)\n",
    "    \n",
    "    s1 = s0 +'_1,'+str(rnd(row.get('y1'))) + '\\n'\n",
    "    f.writelines(s1)\n",
    "\n",
    "    s2 = s0 +'_2,'+str(rnd(row.get('y2'))) + '\\n'\n",
    "    f.writelines(s2)\n",
    "    \n",
    "    s3 = s0 +'_3,'+str(rnd(row.get('y3'))) + '\\n'\n",
    "    f.writelines(s3)\n",
    "\n",
    "    s4 = s0 +'_4,'+str(rnd(row.get('y4'))) + '\\n'\n",
    "    f.writelines(s4)\n",
    "\n",
    "    s5 = s0 +'_5,'+str(rnd(row.get('y5'))) + '\\n'\n",
    "    f.writelines(s5)\n",
    "\n",
    "    s6 = s0 +'_6,'+str(rnd(row.get('y6'))) + '\\n'\n",
    "    f.writelines(s6)\n",
    "    \n",
    "f.close()    "
   ]
  },
  {
   "cell_type": "code",
   "execution_count": null,
   "metadata": {
    "collapsed": true
   },
   "outputs": [],
   "source": []
  }
 ],
 "metadata": {
  "anaconda-cloud": {},
  "kernelspec": {
   "display_name": "Python [default]",
   "language": "python",
   "name": "python2"
  },
  "language_info": {
   "codemirror_mode": {
    "name": "ipython",
    "version": 2
   },
   "file_extension": ".py",
   "mimetype": "text/x-python",
   "name": "python",
   "nbconvert_exporter": "python",
   "pygments_lexer": "ipython2",
   "version": "2.7.13"
  }
 },
 "nbformat": 4,
 "nbformat_minor": 2
}
