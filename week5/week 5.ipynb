{
 "cells": [
  {
   "cell_type": "code",
   "execution_count": 1,
   "metadata": {
    "collapsed": false
   },
   "outputs": [],
   "source": [
    "# import libraries\n",
    "import pandas as pd\n",
    "import numpy as np\n",
    "import matplotlib.pyplot as plt\n",
    "import datetime\n",
    "from sklearn import preprocessing, linear_model, model_selection\n",
    "\n",
    "%matplotlib inline"
   ]
  },
  {
   "cell_type": "markdown",
   "metadata": {},
   "source": [
    "Класс моделей ARIMA недостаточно богат для наших данных: с их помощью, например, никак нельзя учесть взаимосвязи между рядами. Это можно сделать с помощью векторной авторегрессии VARIMA, но её питоновская реализация не позволяет использовать регрессионные признаки. Кроме того, авторегрессионный подход не позволяет учитывать, например, взаимодействия между сезонными компонентами. Вы могли заметить, что форма суточных сезонных профилей в будни и выходные немного разная; явно моделировать этот эффект с помощью ARIMA не получится.\n",
    "\n",
    "Нам нужна более сложная модель. Давайте займёмся сведением задачи массового прогнозирования рядов к регрессионной постановке! Вам понадобится много признаков. Некоторые из них у вас уже есть — это:\n",
    "<ol>\n",
    "<li>идентификатор географической зоны\n",
    "<li>дата и время\n",
    "<li>количество поездок в периоды, предшествующие прогнозируемому\n",
    "<li>синусы, косинусы и тренды, которые вы использовали внутри регрессионной компоненты ARIMA\n",
    "<li>Кроме того, не спешите выбрасывать построенный вами на прошлой неделе прогнозы — из них может получиться хороший признак для регрессии!\n",
    "</ol>\n",
    "\n",
    "\n",
    "\n",
    "Вы можете попробовать разные регрессионный модели, но хорошие результаты, скорее всего, дадут такие, которые будут позволять признакам взаимодействовать друг с другом.\n",
    "\n",
    "Поскольку прогноз нужен на 6 часов вперёд, проще всего будет построить 6 независимых регрессионных моделей — одна для прогнозирования y^T+1|T, другая для y^T+2|T и т.д.\n",
    "\n",
    "<ol>Чтобы сдать задание, выполните следующую последовательность действий.\n",
    "<li>Для каждой из шести задач прогнозирования y^T+i|T,i=1,…,6 сформируйте выборки. Откликом будет yT+i при всевозможных значениях T, а признаки можно использовать следующие:\n",
    "<ul>\n",
    "<li>идентификатор географической зоны — категориальный\n",
    "<li>год, месяц, день месяца, день недели, час — эти признаки можно пробовать брать и категориальными, и непрерывными, можно даже и так, и так (done)\n",
    "<li>синусы, косинусы и тренды, которые вы использовали внутри регрессионной компоненты ARIMA (done)\n",
    "<li>сами значения прогнозов ARIMA y^T+i|TARIMA\n",
    "<li>количество поездок из рассматриваемого района в моменты времени yT,yT−1,…,yT−K (параметр K можно подбирать; попробуйте начать, например, с 6)\n",
    "<li>количество поездок из рассматриваемого района в моменты времени yT−24,yT−48,…,yT−24∗Kd (параметр Kd можно подбирать; попробуйте начать, например, с 2)\n",
    "<li>суммарное количество поездок из рассматриваемого района за предшествующие полдня, сутки, неделю, месяц\n",
    "</ul>\n",
    "Будьте внимательны при создании признаков — все факторы должны быть рассчитаны без использования информации из будущего: при прогнозировании y^T+i|T,i=1,…,6 вы можете учитывать только значения y до момента времени T включительно.\n",
    "\n",
    "\n",
    "<li>Выбранными моделями постройте для каждой географической зоны и каждого конца истории от 2016.04.30 23:00 до 2016.05.31 17:00 прогнозы на 6 часов вперёд; посчитайте в ноутбуке ошибку прогноза по следующему функционалу:\n",
    "Qmay=1R∗739∗6∑r=1R∑T=2016.04.3023:002016.05.3117:00∑i=16y^T|T+ir−yT+ir.\n",
    "Убедитесь, что ошибка полученных прогнозов, рассчитанная согласно функционалу Q, определённому на прошлой неделе, уменьшилась по сравнению с той, которую вы получили методом индивидуального применения моделей ARIMA. Если этого не произошло, попробуйте улучшить ваши модели.\n",
    "\n",
    "<li>Итоговыми моделями постройте прогнозы для каждого конца истории от 2016.05.31 23:00 до 2016.06.30 17:00 и запишите все результаты в один файл в формате geoID, histEndDay, histEndHour, step, y. Здесь geoID — идентификатор зоны, histEndDay — день конца истории в формате id,y, где столбец id состоит из склеенных через подчёркивание идентификатора географической зоны, даты конца истории, часа конца истории и номера отсчёта, на который делается предсказание (1-6); столбец y — ваш прогноз.\n",
    "\n",
    "<li>Загрузите полученный файл на kaggle: https://inclass.kaggle.com/c/yellowtaxi. Добавьте в ноутбук ссылку на сабмишн.\n",
    "\n",
    "<li>Загрузите ноутбук в форму."
   ]
  },
  {
   "cell_type": "markdown",
   "metadata": {},
   "source": [
    "Подгружаем данные"
   ]
  },
  {
   "cell_type": "code",
   "execution_count": 2,
   "metadata": {
    "collapsed": true
   },
   "outputs": [],
   "source": [
    "# id нужных регионов\n",
    "regsDf = pd.read_csv('../crowdRegs.csv',names=['id','regId']);  \n",
    "\n",
    "# времянные ряды для этих регионов\n",
    "df = pd.read_pickle('../loadData/crowdRegs3.pcl')\n",
    "regNames = regsDf.regId.values.astype('str')\n",
    "df.columns = regNames"
   ]
  },
  {
   "cell_type": "markdown",
   "metadata": {},
   "source": [
    "Наверное, оптимальный способ - пройтись по всем регионам, сформировать требуемую выборку, а потом - состыковать. \n",
    "Вероятно, в процессе работы получится векторизовать это действие.\n",
    "Пожалуй, имеет смысл сначала для всего фрейма добавить общие для всех колонок признаки (тренд, гармоники, даты, дни недели)"
   ]
  },
  {
   "cell_type": "code",
   "execution_count": 3,
   "metadata": {
    "collapsed": false
   },
   "outputs": [],
   "source": [
    "def processDataFrame(df2, Kw = 5, Ka = 2):\n",
    "    \"\"\"\n",
    "    Обрабатываем сразу весь dateFrame и добавляем признаки, общие для всех рядов\n",
    "    тренд, гармоники, категориальные перемнные\n",
    "    для дат, дней недели, etc)\n",
    "\n",
    "    Parameters:\n",
    "    Kw number of weeks harmonics\n",
    "    Ka number of annual harmonics\n",
    "    \"\"\"\n",
    "\n",
    "    df2 = df2.assign(linear = (df2.index - datetime.datetime(2014,1,1,0,0,0))/np.timedelta64(1, 'h'))\n",
    "    \n",
    "    # час — эти признаки можно пробовать брать и категориальными\n",
    "    # и непрерывными, можно даже и так, и так\n",
    "\n",
    "    # добавляем гармонические фичи\n",
    "    for ind in range(1,Kw+1):\n",
    "        df2['weekCos'+str(ind)]= np.cos(np.pi*df2.linear*ind/168)\n",
    "        df2['weekSin'+str(ind)]= np.sin(np.pi*df2.linear*ind/168)\n",
    "     \n",
    "    for ind in range(1,Ka+1):\n",
    "        df2['yearCos'+str(ind)]= np.cos(2*np.pi*df2.linear*ind/8766)        \n",
    "        df2['yearSin'+str(ind)]= np.sin(2*np.pi*df2.linear*ind/8766)\n",
    "\n",
    "    # добавляем числовое и категориальные свойства для дней недели\n",
    "    df2 = df2.assign(dayOfWeek = df2.index.dayofweek)\n",
    "    lbDays = preprocessing.LabelBinarizer()\n",
    "    lbDays.fit(list(np.arange(6)))\n",
    "    DoW = pd.DataFrame(lbDays.transform(df2.index.dayofweek),columns = ['dayOfWeek_'+str(x) for x in np.arange(6)],\n",
    "                       index = df2.index)      \n",
    "    df2 = df2.merge(DoW,left_index=True,right_index=True)\n",
    "\n",
    "    # добавляем dummy variables для месяца\n",
    "    df2 = df2.assign(month = df2.index.month)\n",
    "    lbMonths = preprocessing.LabelBinarizer()\n",
    "    lbMonths.fit(list(np.arange(12)))\n",
    "    Months = pd.DataFrame(lbMonths.transform(df2.index.month),columns = ['month_'+str(x) for x in np.arange(1,13)],\n",
    "                          index = df2.index)      \n",
    "    df2 = df2.merge(Months,left_index=True,right_index=True);\n",
    "\n",
    "    # добавляем год (вещественный)\n",
    "    df2 = df2.assign(year = df.index.year)\n",
    "\n",
    "    # добавляем день месяца (вещественный)\n",
    "    df2 = df2.assign(day = df.index.day)\n",
    "\n",
    "    # добавляем час (вещественный и категориальный)\n",
    "    df2 = df2.assign(hour = df.index.hour)\n",
    "    lbHours = preprocessing.LabelBinarizer()\n",
    "    lbHours.fit(list(np.arange(24)))\n",
    "    Hours = pd.DataFrame(lbHours.transform(df2.index.hour),columns = ['hour_'+str(x) for x in np.arange(24)],\n",
    "                       index = df2.index)      \n",
    "    df2 = df2.merge(Hours,left_index=True,right_index=True)\n",
    "    \n",
    "    return df2"
   ]
  },
  {
   "cell_type": "markdown",
   "metadata": {},
   "source": [
    "Теперь делаем индивидуальную обработку для каждого региона\n",
    "<ol>\n",
    "<li> добавляем идентификатор географической зоны — категориальный\n",
    "<li> количество поездок из рассматриваемого района в моменты времени yT,yT−1,…,yT−K (параметр K можно подбирать; попробуйте начать, например, с 6)\n",
    "<li> количество поездок из рассматриваемого района в моменты времени yT−24,yT−48,…,yT−24∗Kd (параметр Kd можно подбирать; попробуйте начать, например, с 2)\n",
    "<li>суммарное количество поездок из рассматриваемого района за предшествующие полдня, сутки, неделю, месяц \n",
    "2) \n",
    "</ol>"
   ]
  },
  {
   "cell_type": "code",
   "execution_count": 4,
   "metadata": {
    "collapsed": false
   },
   "outputs": [],
   "source": [
    "def processSeries(df,tReg,Kh = 6, Kp = 2):\n",
    "    \"\"\"\n",
    "    Обработка одного данного ряда \n",
    "    parameters:\n",
    "        df - начальный датафрейм, из которого выберем для обработки один ряд\n",
    "        tReg - название ряда, который надо обработать\n",
    "        Kh - количество отслеживаемых прошлых суточных лагов \"назад\"\n",
    "        Kp - количество отслеживаемых прошлых периодических лагов (период 24 часа)\n",
    "\n",
    "    \"\"\"\n",
    " \n",
    "\n",
    "    tDf = df.loc[:,tReg.split() + commonFeatures].rename(columns={tReg:'y'})\n",
    "\n",
    "    tDf = tDf.assign(region = tReg)\n",
    "\n",
    "    for timeLag in np.arange(1,Kh+1):\n",
    "        name = 'hourLag_'+str(timeLag)\n",
    "        tDf.loc[:,name] = tDf.y.shift(periods=timeLag)\n",
    "\n",
    "    for timeLag in np.arange(1,Kp+1):\n",
    "        name = 'periodicLag_'+str(timeLag)\n",
    "        tDf.loc[:,name] = tDf.y.shift(periods=timeLag*24)\n",
    "\n",
    "    tDf.fillna(0,inplace=True)    \n",
    "\n",
    "    # суммарное количество поездок из рассматриваемого района за предшествующие полдня, сутки, неделю, месяц\n",
    "    tDf.loc[:,'sum12'] = tDf.y.rolling(window = 12, min_periods = 1).sum()\n",
    "    tDf.loc[:,'sum24'] = tDf.y.rolling(window = 24, min_periods = 1).sum()\n",
    "    tDf.loc[:,'sumWeek'] = tDf.y.rolling(window = 168, min_periods = 1).sum()\n",
    "    tDf.loc[:,'sumMonth'] = tDf.y.rolling(window = 720, min_periods = 1).sum()\n",
    "    \n",
    "    #создаём шесть целевые переменных для каждого конца истории\n",
    "    for targetVar in np.arange(1,7):\n",
    "        name = 'y'+str(targetVar)\n",
    "        tDf.loc[:,name] = tDf.y.shift(-targetVar)\n",
    "    tDf.fillna(0,inplace=True)\n",
    "    \n",
    "    return tDf\n"
   ]
  },
  {
   "cell_type": "code",
   "execution_count": 6,
   "metadata": {
    "collapsed": false
   },
   "outputs": [],
   "source": [
    "# общая обработка данных\n",
    "df2 = processDataFrame(df,Kw = 5, Ka = 5)"
   ]
  },
  {
   "cell_type": "code",
   "execution_count": 7,
   "metadata": {
    "collapsed": false
   },
   "outputs": [],
   "source": [
    "commonFeatures =  list(set(df2.columns)-set(df.columns.values))"
   ]
  },
  {
   "cell_type": "code",
   "execution_count": 8,
   "metadata": {
    "collapsed": false
   },
   "outputs": [
    {
     "name": "stdout",
     "output_type": "stream",
     "text": [
      "1075\n",
      "1076\n",
      "1077\n",
      "1125\n",
      "1126\n",
      "1127\n",
      "1128\n",
      "1129\n",
      "1130\n",
      "1131\n",
      "1132\n",
      "1172\n",
      "1173\n",
      "1174\n",
      "1175\n",
      "1176\n",
      "1177\n",
      "1178\n",
      "1179\n",
      "1180\n",
      "1181\n",
      "1182\n",
      "1183\n",
      "1184\n",
      "1221\n",
      "1222\n",
      "1223\n",
      "1224\n",
      "1225\n",
      "1227\n",
      "1228\n",
      "1229\n",
      "1230\n",
      "1231\n",
      "1232\n",
      "1233\n",
      "1234\n",
      "1235\n",
      "1272\n",
      "1273\n",
      "1274\n",
      "1278\n",
      "1279\n",
      "1280\n",
      "1281\n",
      "1282\n",
      "1283\n",
      "1284\n",
      "1285\n",
      "1286\n",
      "1287\n",
      "1326\n",
      "1327\n",
      "1331\n",
      "1332\n",
      "1333\n",
      "1334\n",
      "1335\n",
      "1336\n",
      "1337\n",
      "1338\n",
      "1339\n",
      "1376\n",
      "1377\n",
      "1378\n",
      "1380\n",
      "1382\n",
      "1383\n",
      "1384\n",
      "1385\n",
      "1386\n",
      "1387\n",
      "1388\n",
      "1389\n",
      "1390\n",
      "1426\n",
      "1431\n",
      "1434\n",
      "1435\n",
      "1436\n",
      "1437\n",
      "1438\n",
      "1439\n",
      "1441\n",
      "1442\n",
      "1480\n",
      "1482\n",
      "1483\n",
      "1530\n",
      "1532\n",
      "1533\n",
      "1580\n",
      "1630\n",
      "1684\n",
      "1733\n",
      "1734\n",
      "1783\n",
      "2068\n",
      "2069\n",
      "2118\n",
      "2119\n",
      "2168\n"
     ]
    }
   ],
   "source": [
    "# общая обработка данных\n",
    "df = processDataFrame(df,Kw = 5, Ka = 5)\n",
    "\n",
    "# обработка отдельный рядов\n",
    "df3 = pd.DataFrame()\n",
    "for regName in regNames:\n",
    "    print regName\n",
    "    df3 = pd.concat([df3, processSeries(df,regName,Kh = 12, Kp = 4)])"
   ]
  },
  {
   "cell_type": "markdown",
   "metadata": {},
   "source": [
    "Разбейте каждую из шести выборок на три части:\n",
    "<ul>\n",
    "<li> Обучающая, на которой будут настраиваться параметры моделей — всё до апреля 2016\n",
    "<li> Тестовая, на которой вы будете подбирать значения гиперпараметров — май 2016\n",
    "<li> Итоговая, которая не будет использоваться при настройке моделей вообще — июнь 2016\n",
    "</ul>"
   ]
  },
  {
   "cell_type": "code",
   "execution_count": 9,
   "metadata": {
    "collapsed": true
   },
   "outputs": [],
   "source": [
    "df3 = pd.get_dummies(df3,'regions')\n",
    "df3.reset_index(inplace=True)"
   ]
  },
  {
   "cell_type": "code",
   "execution_count": 12,
   "metadata": {
    "collapsed": true
   },
   "outputs": [],
   "source": [
    "startTrain = '2016-01-01 00:00:00'\n",
    "endTrain   = '2016-04-30 23:00:00'\n",
    "\n",
    "startValidation = '2016-05-01 00:00:00'\n",
    "endValidation   = '2016-05-31 23:00:00'\n",
    "\n",
    "startTest = '2016-06-01 00:00:00'\n",
    "endTest   = '2016-06-30 23:00:00'"
   ]
  },
  {
   "cell_type": "code",
   "execution_count": 13,
   "metadata": {
    "collapsed": false
   },
   "outputs": [],
   "source": [
    "trainSet = df3.query('index >= @startTrain and index <= @endTrain') \n",
    "validationSet = df3.query('index >= @startValidation and index <= @endValidation')\n",
    "testSet = df3.query('index >= @startTest and index <= @endTest')"
   ]
  },
  {
   "cell_type": "markdown",
   "metadata": {},
   "source": [
    "Выберите вашу любимую регрессионную модель и настройте её на каждом из шести наборов данных, подбирая гиперпараметры на мае 2016. Желательно, чтобы модель:\n",
    "<ul>\n",
    "<li>Допускала попарные взаимодействия между признаками\n",
    "<li>Была устойчивой к избыточному количеству признаков (например, использовала регуляризаторы)\n",
    "</ul>"
   ]
  },
  {
   "cell_type": "markdown",
   "metadata": {},
   "source": [
    "Попробуем обучить Ridge классификатор с L2 регуляризацией."
   ]
  },
  {
   "cell_type": "code",
   "execution_count": 22,
   "metadata": {
    "collapsed": true
   },
   "outputs": [],
   "source": [
    "targetList = ['y1','y2','y3','y4','y5','y6']\n",
    "paramsAlpha = np.linspace(200,300,5)"
   ]
  },
  {
   "cell_type": "code",
   "execution_count": 23,
   "metadata": {
    "collapsed": false,
    "scrolled": true
   },
   "outputs": [
    {
     "name": "stdout",
     "output_type": "stream",
     "text": [
      "y1\n",
      "Smallest error 28.049 at a = 300.000\n",
      "y2\n",
      "Smallest error 43.381 at a = 300.000\n",
      "y3\n",
      "Smallest error 50.481 at a = 300.000\n",
      "y4\n",
      "Smallest error 53.004 at a = 300.000\n",
      "y5\n",
      "Smallest error 53.418 at a = 300.000\n",
      "y6\n",
      "Smallest error 53.025 at a = 300.000\n"
     ]
    }
   ],
   "source": [
    "for target in targetList:\n",
    "    print target\n",
    "    dropCols = [x for x in targetList if x != target ]\n",
    "    dropCols.append('y')\n",
    "    dropCols.append('index')\n",
    "    tmpTrain = trainSet.drop(dropCols,axis = 1)\n",
    "    tmpTrain.rename(columns={target:'y'},inplace=True)\n",
    "    \n",
    "    tmpValidation = validationSet.drop(dropCols,axis = 1)\n",
    "    tmpValidation.rename(columns={target:'y'},inplace=True)\n",
    "    \n",
    "    minErr = np.inf\n",
    "    bestAlpha = 0;\n",
    "    \n",
    "    for a in paramsAlpha:\n",
    "        regressor = linear_model.Ridge(alpha= a)\n",
    "        regressor.fit(tmpTrain.drop('y',axis = 1),tmpTrain.loc[:,'y'])\n",
    "        prediction = regressor.predict(tmpValidation.drop('y',axis = 1))\n",
    "        err = np.abs(prediction - tmpValidation.loc[:,'y'])\n",
    "        err = err.mean()\n",
    "        if err <minErr:\n",
    "            minErr = err\n",
    "            bestAlpha = a\n",
    "            \n",
    "    print 'Smallest error {:2.3f} at a = {:2.3f}'.format(err,a)     "
   ]
  },
  {
   "cell_type": "code",
   "execution_count": null,
   "metadata": {
    "collapsed": true
   },
   "outputs": [],
   "source": []
  }
 ],
 "metadata": {
  "kernelspec": {
   "display_name": "Python 2",
   "language": "python",
   "name": "python2"
  },
  "language_info": {
   "codemirror_mode": {
    "name": "ipython",
    "version": 2
   },
   "file_extension": ".py",
   "mimetype": "text/x-python",
   "name": "python",
   "nbconvert_exporter": "python",
   "pygments_lexer": "ipython2",
   "version": "2.7.13"
  }
 },
 "nbformat": 4,
 "nbformat_minor": 2
}
