{
 "cells": [
  {
   "cell_type": "code",
   "execution_count": 1,
   "metadata": {
    "collapsed": false
   },
   "outputs": [],
   "source": [
    "# import libraries\n",
    "import pandas as pd\n",
    "import numpy as np\n",
    "import matplotlib.pyplot as plt\n",
    "import datetime\n",
    "from sklearn import preprocessing, linear_model, model_selection\n",
    "\n",
    "%matplotlib inline"
   ]
  },
  {
   "cell_type": "markdown",
   "metadata": {},
   "source": [
    "Класс моделей ARIMA недостаточно богат для наших данных: с их помощью, например, никак нельзя учесть взаимосвязи между рядами. Это можно сделать с помощью векторной авторегрессии VARIMA, но её питоновская реализация не позволяет использовать регрессионные признаки. Кроме того, авторегрессионный подход не позволяет учитывать, например, взаимодействия между сезонными компонентами. Вы могли заметить, что форма суточных сезонных профилей в будни и выходные немного разная; явно моделировать этот эффект с помощью ARIMA не получится.\n",
    "\n",
    "Нам нужна более сложная модель. Давайте займёмся сведением задачи массового прогнозирования рядов к регрессионной постановке! Вам понадобится много признаков. Некоторые из них у вас уже есть — это:\n",
    "<ol>\n",
    "<li>идентификатор географической зоны\n",
    "<li>дата и время\n",
    "<li>количество поездок в периоды, предшествующие прогнозируемому\n",
    "<li>синусы, косинусы и тренды, которые вы использовали внутри регрессионной компоненты ARIMA\n",
    "<li>Кроме того, не спешите выбрасывать построенный вами на прошлой неделе прогнозы — из них может получиться хороший признак для регрессии!\n",
    "</ol>\n",
    "\n",
    "\n",
    "\n",
    "Вы можете попробовать разные регрессионный модели, но хорошие результаты, скорее всего, дадут такие, которые будут позволять признакам взаимодействовать друг с другом.\n",
    "\n",
    "Поскольку прогноз нужен на 6 часов вперёд, проще всего будет построить 6 независимых регрессионных моделей — одна для прогнозирования y^T+1|T, другая для y^T+2|T и т.д.\n",
    "\n",
    "<ol>Чтобы сдать задание, выполните следующую последовательность действий.\n",
    "<li>Для каждой из шести задач прогнозирования y^T+i|T,i=1,…,6 сформируйте выборки. Откликом будет yT+i при всевозможных значениях T, а признаки можно использовать следующие:\n",
    "<ul>\n",
    "<li>идентификатор географической зоны — категориальный\n",
    "<li>год, месяц, день месяца, день недели, час — эти признаки можно пробовать брать и категориальными, и непрерывными, можно даже и так, и так (done)\n",
    "<li>синусы, косинусы и тренды, которые вы использовали внутри регрессионной компоненты ARIMA (done)\n",
    "<li>сами значения прогнозов ARIMA y^T+i|TARIMA\n",
    "<li>количество поездок из рассматриваемого района в моменты времени yT,yT−1,…,yT−K (параметр K можно подбирать; попробуйте начать, например, с 6)\n",
    "<li>количество поездок из рассматриваемого района в моменты времени yT−24,yT−48,…,yT−24∗Kd (параметр Kd можно подбирать; попробуйте начать, например, с 2)\n",
    "<li>суммарное количество поездок из рассматриваемого района за предшествующие полдня, сутки, неделю, месяц\n",
    "</ul>\n",
    "Будьте внимательны при создании признаков — все факторы должны быть рассчитаны без использования информации из будущего: при прогнозировании y^T+i|T,i=1,…,6 вы можете учитывать только значения y до момента времени T включительно.\n",
    "\n",
    "\n",
    "<li>Выбранными моделями постройте для каждой географической зоны и каждого конца истории от 2016.04.30 23:00 до 2016.05.31 17:00 прогнозы на 6 часов вперёд; посчитайте в ноутбуке ошибку прогноза по следующему функционалу:\n",
    "Qmay=1R∗739∗6∑r=1R∑T=2016.04.3023:002016.05.3117:00∑i=16y^T|T+ir−yT+ir.\n",
    "Убедитесь, что ошибка полученных прогнозов, рассчитанная согласно функционалу Q, определённому на прошлой неделе, уменьшилась по сравнению с той, которую вы получили методом индивидуального применения моделей ARIMA. Если этого не произошло, попробуйте улучшить ваши модели.\n",
    "\n",
    "<li>Итоговыми моделями постройте прогнозы для каждого конца истории от 2016.05.31 23:00 до 2016.06.30 17:00 и запишите все результаты в один файл в формате geoID, histEndDay, histEndHour, step, y. Здесь geoID — идентификатор зоны, histEndDay — день конца истории в формате id,y, где столбец id состоит из склеенных через подчёркивание идентификатора географической зоны, даты конца истории, часа конца истории и номера отсчёта, на который делается предсказание (1-6); столбец y — ваш прогноз.\n",
    "\n",
    "<li>Загрузите полученный файл на kaggle: https://inclass.kaggle.com/c/yellowtaxi. Добавьте в ноутбук ссылку на сабмишн.\n",
    "\n",
    "<li>Загрузите ноутбук в форму."
   ]
  },
  {
   "cell_type": "markdown",
   "metadata": {},
   "source": [
    "Подгружаем данные"
   ]
  },
  {
   "cell_type": "code",
   "execution_count": 2,
   "metadata": {
    "collapsed": false
   },
   "outputs": [],
   "source": [
    "# id нужных регионов\n",
    "regsDf = pd.read_csv('../crowdRegs.csv',names=['id','regId']);  \n",
    "\n",
    "# времянные ряды для этих регионов\n",
    "df = pd.read_pickle('../loadData/crowdRegs3.pcl')\n",
    "regNames = regsDf.regId.values.astype('str')\n",
    "df.columns = regNames"
   ]
  },
  {
   "cell_type": "markdown",
   "metadata": {},
   "source": [
    "Наверное, оптимальный способ - пройтись по всем регионам, сформировать требуемую выборку, а потом - состыковать. \n",
    "Вероятно, в процессе работы получится векторизовать это действие.\n",
    "Пожалуй, имеет смысл сначала для всего фрейма добавить общие для всех колонок признаки (тренд, гармоники, даты, дни недели)"
   ]
  },
  {
   "cell_type": "code",
   "execution_count": 54,
   "metadata": {
    "collapsed": false
   },
   "outputs": [],
   "source": [
    "def processDataFrame(inpDf, Kw = 5, Ka = 2):\n",
    "    \"\"\"\n",
    "    Обрабатываем сразу весь dateFrame и добавляем признаки, общие для всех рядов\n",
    "    тренд, гармоники, категориальные перемнные\n",
    "    для дат, дней недели, etc)\n",
    "\n",
    "    Parameters:\n",
    "    Kw number of weeks harmonics\n",
    "    Ka number of annual harmonics\n",
    "    \"\"\"\n",
    "\n",
    "    inpDf = inpDf.assign(linear = (inpDf.index - datetime.datetime(2014,1,1,0,0,0))/np.timedelta64(1, 'h'))\n",
    "    \n",
    "    # час — эти признаки можно пробовать брать и категориальными\n",
    "    # и непрерывными, можно даже и так, и так\n",
    "\n",
    "    # добавляем гармонические фичи\n",
    "    for ind in range(1,Kw+1):\n",
    "        inpDf['weekCos'+str(ind)]= np.cos(np.pi*inpDf.linear*ind/168)\n",
    "        inpDf['weekSin'+str(ind)]= np.sin(np.pi*inpDf.linear*ind/168)\n",
    "     \n",
    "    for ind in range(1,Ka+1):\n",
    "        inpDf['yearCos'+str(ind)]= np.cos(2*np.pi*inpDf.linear*ind/8766)        \n",
    "        inpDf['yearSin'+str(ind)]= np.sin(2*np.pi*inpDf.linear*ind/8766)\n",
    "\n",
    "    # добавляем числовое и категориальные свойства для дней недели\n",
    "    inpDf = inpDf.assign(dayOfWeek = inpDf.index.dayofweek)\n",
    "    lbDays = preprocessing.LabelBinarizer()\n",
    "    lbDays.fit(list(np.arange(6)))\n",
    "    DoW = pd.DataFrame(lbDays.transform(inpDf.index.dayofweek),columns = ['dayOfWeek_'+str(x) for x in np.arange(6)],\n",
    "                       index = inpDf.index)      \n",
    "    inpDf = inpDf.merge(DoW,left_index=True,right_index=True)\n",
    "\n",
    "    # добавляем dummy variables для месяца\n",
    "    inpDf = inpDf.assign(month = inpDf.index.month)\n",
    "    lbMonths = preprocessing.LabelBinarizer()\n",
    "    lbMonths.fit(list(np.arange(12)))\n",
    "    Months = pd.DataFrame(lbMonths.transform(inpDf.index.month),columns = ['month_'+str(x) for x in np.arange(1,13)],\n",
    "                          index = inpDf.index)      \n",
    "    inpDf = inpDf.merge(Months,left_index=True,right_index=True);\n",
    "\n",
    "    # добавляем год (вещественный)\n",
    "    inpDf = inpDf.assign(year = inpDf.index.year)\n",
    "\n",
    "    # добавляем день месяца (вещественный)\n",
    "    inpDf = inpDf.assign(day = inpDf.index.day)\n",
    "\n",
    "    # добавляем час (вещественный и категориальный)\n",
    "    inpDf = inpDf.assign(hour = inpDf.index.hour)\n",
    "    lbHours = preprocessing.LabelBinarizer()\n",
    "    lbHours.fit(list(np.arange(24)))\n",
    "    Hours = pd.DataFrame(lbHours.transform(inpDf.index.hour),columns = ['hour_'+str(x) for x in np.arange(24)],\n",
    "                       index = inpDf.index)      \n",
    "    inpDf = inpDf.merge(Hours,left_index=True,right_index=True)\n",
    "    \n",
    "    return inpDf"
   ]
  },
  {
   "cell_type": "markdown",
   "metadata": {},
   "source": [
    "Теперь делаем индивидуальную обработку для каждого региона\n",
    "<ol>\n",
    "<li> добавляем идентификатор географической зоны — категориальный\n",
    "<li> количество поездок из рассматриваемого района в моменты времени yT,yT−1,…,yT−K (параметр K можно подбирать; попробуйте начать, например, с 6)\n",
    "<li> количество поездок из рассматриваемого района в моменты времени yT−24,yT−48,…,yT−24∗Kd (параметр Kd можно подбирать; попробуйте начать, например, с 2)\n",
    "<li>суммарное количество поездок из рассматриваемого района за предшествующие полдня, сутки, неделю, месяц \n",
    "2) \n",
    "</ol>"
   ]
  },
  {
   "cell_type": "code",
   "execution_count": 55,
   "metadata": {
    "collapsed": false
   },
   "outputs": [],
   "source": [
    "def processSeries(df,tReg,Kh = 6, Kp = 2):\n",
    "    \"\"\"\n",
    "    Обработка одного данного ряда \n",
    "    parameters:\n",
    "        df - начальный датафрейм, из которого выберем для обработки один ряд\n",
    "        tReg - название ряда, который надо обработать\n",
    "        Kh - количество отслеживаемых прошлых суточных лагов \"назад\"\n",
    "        Kp - количество отслеживаемых прошлых периодических лагов (период 24 часа)\n",
    "\n",
    "    \"\"\"\n",
    " \n",
    "\n",
    "    tDf = df.loc[:,tReg.split() + commonFeatures].rename(columns={tReg:'y'})\n",
    "\n",
    "    tDf = tDf.assign(region = tReg)\n",
    "\n",
    "    for timeLag in np.arange(1,Kh+1):\n",
    "        name = 'hourLag_'+str(timeLag)\n",
    "        tDf.loc[:,name] = tDf.y.shift(periods=timeLag)\n",
    "\n",
    "    for timeLag in np.arange(1,Kp+1):\n",
    "        name = 'periodicLag_'+str(timeLag)\n",
    "        tDf.loc[:,name] = tDf.y.shift(periods=timeLag*24)\n",
    "\n",
    "    tDf.fillna(0,inplace=True)    \n",
    "\n",
    "    # суммарное количество поездок из рассматриваемого района за предшествующие полдня, сутки, неделю, месяц\n",
    "    tDf.loc[:,'sum12'] = tDf.y.rolling(window = 12, min_periods = 1).sum()\n",
    "    tDf.loc[:,'sum24'] = tDf.y.rolling(window = 24, min_periods = 1).sum()\n",
    "    tDf.loc[:,'sumWeek'] = tDf.y.rolling(window = 168, min_periods = 1).sum()\n",
    "    tDf.loc[:,'sumMonth'] = tDf.y.rolling(window = 720, min_periods = 1).sum()\n",
    "    \n",
    "    #создаём шесть целевые переменных для каждого конца истории\n",
    "    for targetVar in np.arange(1,7):\n",
    "        name = 'y'+str(targetVar)\n",
    "        tDf.loc[:,name] = tDf.y.shift(-targetVar)\n",
    "    tDf.fillna(0,inplace=True)\n",
    "    \n",
    "    return tDf\n"
   ]
  },
  {
   "cell_type": "code",
   "execution_count": 56,
   "metadata": {
    "collapsed": false
   },
   "outputs": [],
   "source": [
    "# общая обработка данных\n",
    "df2 = processDataFrame(df,Kw = 5, Ka = 5)"
   ]
  },
  {
   "cell_type": "code",
   "execution_count": 57,
   "metadata": {
    "collapsed": false
   },
   "outputs": [],
   "source": [
    "commonFeatures =  list(set(df2.columns)-set(df.columns.values))"
   ]
  },
  {
   "cell_type": "code",
   "execution_count": 58,
   "metadata": {
    "collapsed": false
   },
   "outputs": [
    {
     "name": "stdout",
     "output_type": "stream",
     "text": [
      "1075\n",
      "1076\n",
      "1077\n",
      "1125\n",
      "1126\n",
      "1127\n",
      "1128\n",
      "1129\n",
      "1130\n",
      "1131\n",
      "1132\n",
      "1172\n",
      "1173\n",
      "1174\n",
      "1175\n",
      "1176\n",
      "1177\n",
      "1178\n",
      "1179\n",
      "1180\n",
      "1181\n",
      "1182\n",
      "1183\n",
      "1184\n",
      "1221\n",
      "1222\n",
      "1223\n",
      "1224\n",
      "1225\n",
      "1227\n",
      "1228\n",
      "1229\n",
      "1230\n",
      "1231\n",
      "1232\n",
      "1233\n",
      "1234\n",
      "1235\n",
      "1272\n",
      "1273\n",
      "1274\n",
      "1278\n",
      "1279\n",
      "1280\n",
      "1281\n",
      "1282\n",
      "1283\n",
      "1284\n",
      "1285\n",
      "1286\n",
      "1287\n",
      "1326\n",
      "1327\n",
      "1331\n",
      "1332\n",
      "1333\n",
      "1334\n",
      "1335\n",
      "1336\n",
      "1337\n",
      "1338\n",
      "1339\n",
      "1376\n",
      "1377\n",
      "1378\n",
      "1380\n",
      "1382\n",
      "1383\n",
      "1384\n",
      "1385\n",
      "1386\n",
      "1387\n",
      "1388\n",
      "1389\n",
      "1390\n",
      "1426\n",
      "1431\n",
      "1434\n",
      "1435\n",
      "1436\n",
      "1437\n",
      "1438\n",
      "1439\n",
      "1441\n",
      "1442\n",
      "1480\n",
      "1482\n",
      "1483\n",
      "1530\n",
      "1532\n",
      "1533\n",
      "1580\n",
      "1630\n",
      "1684\n",
      "1733\n",
      "1734\n",
      "1783\n",
      "2068\n",
      "2069\n",
      "2118\n",
      "2119\n",
      "2168\n"
     ]
    }
   ],
   "source": [
    "# общая обработка данных\n",
    "df = processDataFrame(df,Kw = 5, Ka = 5)\n",
    "\n",
    "# обработка отдельный рядов\n",
    "df3 = pd.DataFrame()\n",
    "for regName in regNames:\n",
    "    print regName\n",
    "    df3 = pd.concat([df3, processSeries(df,regName,Kh = 12, Kp = 4)])"
   ]
  },
  {
   "cell_type": "markdown",
   "metadata": {},
   "source": [
    "Разбейте каждую из шести выборок на три части:\n",
    "<ul>\n",
    "<li> Обучающая, на которой будут настраиваться параметры моделей — всё до апреля 2016\n",
    "<li> Тестовая, на которой вы будете подбирать значения гиперпараметров — май 2016\n",
    "<li> Итоговая, которая не будет использоваться при настройке моделей вообще — июнь 2016\n",
    "</ul>"
   ]
  },
  {
   "cell_type": "code",
   "execution_count": 41,
   "metadata": {
    "collapsed": false
   },
   "outputs": [
    {
     "data": {
      "text/plain": [
       "2014-01-01 00:00:00    1075\n",
       "2014-01-01 01:00:00    1075\n",
       "2014-01-01 02:00:00    1075\n",
       "2014-01-01 03:00:00    1075\n",
       "2014-01-01 04:00:00    1075\n",
       "Name: region, dtype: object"
      ]
     },
     "execution_count": 41,
     "metadata": {},
     "output_type": "execute_result"
    }
   ],
   "source": [
    "df3.region.head()"
   ]
  },
  {
   "cell_type": "code",
   "execution_count": 42,
   "metadata": {
    "collapsed": false
   },
   "outputs": [
    {
     "name": "stdout",
     "output_type": "stream",
     "text": [
      "(2232576, 214)\n"
     ]
    }
   ],
   "source": [
    "df3.reset_index(inplace=True)\n",
    "regIds = df3.get('region')\n",
    "df3 = pd.get_dummies(df3,'region')\n",
    "print df3.shape"
   ]
  },
  {
   "cell_type": "code",
   "execution_count": 43,
   "metadata": {
    "collapsed": true
   },
   "outputs": [],
   "source": [
    "startTrain = '2016-01-01 00:00:00'\n",
    "endTrain   = '2016-04-30 23:00:00'\n",
    "\n",
    "startValidation = '2016-05-01 00:00:00'\n",
    "endValidation   = '2016-05-31 23:00:00'\n",
    "\n",
    "startTest = '2016-06-01 00:00:00'\n",
    "endTest   = '2016-06-30 23:00:00'"
   ]
  },
  {
   "cell_type": "code",
   "execution_count": 44,
   "metadata": {
    "collapsed": false
   },
   "outputs": [],
   "source": [
    "trainSet = df3.query('index >= @startTrain and index <= @endTrain') \n",
    "validationSet = df3.query('index >= @startValidation and index <= @endValidation')\n",
    "testSet = df3.query('index >= @startTest and index <= @endTest')"
   ]
  },
  {
   "cell_type": "markdown",
   "metadata": {},
   "source": [
    "Выберите вашу любимую регрессионную модель и настройте её на каждом из шести наборов данных, подбирая гиперпараметры на мае 2016. Желательно, чтобы модель:\n",
    "<ul>\n",
    "<li>Допускала попарные взаимодействия между признаками\n",
    "<li>Была устойчивой к избыточному количеству признаков (например, использовала регуляризаторы)\n",
    "</ul>"
   ]
  },
  {
   "cell_type": "code",
   "execution_count": 45,
   "metadata": {
    "collapsed": false
   },
   "outputs": [
    {
     "data": {
      "text/html": [
       "<div>\n",
       "<table border=\"1\" class=\"dataframe\">\n",
       "  <thead>\n",
       "    <tr style=\"text-align: right;\">\n",
       "      <th></th>\n",
       "      <th>index</th>\n",
       "      <th>y</th>\n",
       "      <th>hour_8_x</th>\n",
       "      <th>hour_8_y</th>\n",
       "      <th>hour_18_x</th>\n",
       "      <th>hour_18_y</th>\n",
       "      <th>hour_9_y</th>\n",
       "      <th>hour_9_x</th>\n",
       "      <th>hour_2_x</th>\n",
       "      <th>hour_2_y</th>\n",
       "      <th>...</th>\n",
       "      <th>region_1630</th>\n",
       "      <th>region_1684</th>\n",
       "      <th>region_1733</th>\n",
       "      <th>region_1734</th>\n",
       "      <th>region_1783</th>\n",
       "      <th>region_2068</th>\n",
       "      <th>region_2069</th>\n",
       "      <th>region_2118</th>\n",
       "      <th>region_2119</th>\n",
       "      <th>region_2168</th>\n",
       "    </tr>\n",
       "  </thead>\n",
       "  <tbody>\n",
       "    <tr>\n",
       "      <th>21168</th>\n",
       "      <td>2016-06-01 00:00:00</td>\n",
       "      <td>26</td>\n",
       "      <td>0</td>\n",
       "      <td>0</td>\n",
       "      <td>0</td>\n",
       "      <td>0</td>\n",
       "      <td>0</td>\n",
       "      <td>0</td>\n",
       "      <td>0</td>\n",
       "      <td>0</td>\n",
       "      <td>...</td>\n",
       "      <td>0</td>\n",
       "      <td>0</td>\n",
       "      <td>0</td>\n",
       "      <td>0</td>\n",
       "      <td>0</td>\n",
       "      <td>0</td>\n",
       "      <td>0</td>\n",
       "      <td>0</td>\n",
       "      <td>0</td>\n",
       "      <td>0</td>\n",
       "    </tr>\n",
       "    <tr>\n",
       "      <th>21169</th>\n",
       "      <td>2016-06-01 01:00:00</td>\n",
       "      <td>14</td>\n",
       "      <td>0</td>\n",
       "      <td>0</td>\n",
       "      <td>0</td>\n",
       "      <td>0</td>\n",
       "      <td>0</td>\n",
       "      <td>0</td>\n",
       "      <td>0</td>\n",
       "      <td>0</td>\n",
       "      <td>...</td>\n",
       "      <td>0</td>\n",
       "      <td>0</td>\n",
       "      <td>0</td>\n",
       "      <td>0</td>\n",
       "      <td>0</td>\n",
       "      <td>0</td>\n",
       "      <td>0</td>\n",
       "      <td>0</td>\n",
       "      <td>0</td>\n",
       "      <td>0</td>\n",
       "    </tr>\n",
       "    <tr>\n",
       "      <th>21170</th>\n",
       "      <td>2016-06-01 02:00:00</td>\n",
       "      <td>5</td>\n",
       "      <td>0</td>\n",
       "      <td>0</td>\n",
       "      <td>0</td>\n",
       "      <td>0</td>\n",
       "      <td>0</td>\n",
       "      <td>0</td>\n",
       "      <td>1</td>\n",
       "      <td>1</td>\n",
       "      <td>...</td>\n",
       "      <td>0</td>\n",
       "      <td>0</td>\n",
       "      <td>0</td>\n",
       "      <td>0</td>\n",
       "      <td>0</td>\n",
       "      <td>0</td>\n",
       "      <td>0</td>\n",
       "      <td>0</td>\n",
       "      <td>0</td>\n",
       "      <td>0</td>\n",
       "    </tr>\n",
       "    <tr>\n",
       "      <th>21171</th>\n",
       "      <td>2016-06-01 03:00:00</td>\n",
       "      <td>2</td>\n",
       "      <td>0</td>\n",
       "      <td>0</td>\n",
       "      <td>0</td>\n",
       "      <td>0</td>\n",
       "      <td>0</td>\n",
       "      <td>0</td>\n",
       "      <td>0</td>\n",
       "      <td>0</td>\n",
       "      <td>...</td>\n",
       "      <td>0</td>\n",
       "      <td>0</td>\n",
       "      <td>0</td>\n",
       "      <td>0</td>\n",
       "      <td>0</td>\n",
       "      <td>0</td>\n",
       "      <td>0</td>\n",
       "      <td>0</td>\n",
       "      <td>0</td>\n",
       "      <td>0</td>\n",
       "    </tr>\n",
       "    <tr>\n",
       "      <th>21172</th>\n",
       "      <td>2016-06-01 04:00:00</td>\n",
       "      <td>1</td>\n",
       "      <td>0</td>\n",
       "      <td>0</td>\n",
       "      <td>0</td>\n",
       "      <td>0</td>\n",
       "      <td>0</td>\n",
       "      <td>0</td>\n",
       "      <td>0</td>\n",
       "      <td>0</td>\n",
       "      <td>...</td>\n",
       "      <td>0</td>\n",
       "      <td>0</td>\n",
       "      <td>0</td>\n",
       "      <td>0</td>\n",
       "      <td>0</td>\n",
       "      <td>0</td>\n",
       "      <td>0</td>\n",
       "      <td>0</td>\n",
       "      <td>0</td>\n",
       "      <td>0</td>\n",
       "    </tr>\n",
       "  </tbody>\n",
       "</table>\n",
       "<p>5 rows × 214 columns</p>\n",
       "</div>"
      ],
      "text/plain": [
       "                    index   y  hour_8_x  hour_8_y  hour_18_x  hour_18_y  \\\n",
       "21168 2016-06-01 00:00:00  26         0         0          0          0   \n",
       "21169 2016-06-01 01:00:00  14         0         0          0          0   \n",
       "21170 2016-06-01 02:00:00   5         0         0          0          0   \n",
       "21171 2016-06-01 03:00:00   2         0         0          0          0   \n",
       "21172 2016-06-01 04:00:00   1         0         0          0          0   \n",
       "\n",
       "       hour_9_y  hour_9_x  hour_2_x  hour_2_y     ...       region_1630  \\\n",
       "21168         0         0         0         0     ...                 0   \n",
       "21169         0         0         0         0     ...                 0   \n",
       "21170         0         0         1         1     ...                 0   \n",
       "21171         0         0         0         0     ...                 0   \n",
       "21172         0         0         0         0     ...                 0   \n",
       "\n",
       "       region_1684  region_1733  region_1734  region_1783  region_2068  \\\n",
       "21168            0            0            0            0            0   \n",
       "21169            0            0            0            0            0   \n",
       "21170            0            0            0            0            0   \n",
       "21171            0            0            0            0            0   \n",
       "21172            0            0            0            0            0   \n",
       "\n",
       "       region_2069  region_2118  region_2119  region_2168  \n",
       "21168            0            0            0            0  \n",
       "21169            0            0            0            0  \n",
       "21170            0            0            0            0  \n",
       "21171            0            0            0            0  \n",
       "21172            0            0            0            0  \n",
       "\n",
       "[5 rows x 214 columns]"
      ]
     },
     "execution_count": 45,
     "metadata": {},
     "output_type": "execute_result"
    }
   ],
   "source": [
    "testSet.head()"
   ]
  },
  {
   "cell_type": "markdown",
   "metadata": {},
   "source": [
    "Попробуем обучить Ridge классификатор с L2 регуляризацией."
   ]
  },
  {
   "cell_type": "code",
   "execution_count": null,
   "metadata": {
    "collapsed": true
   },
   "outputs": [],
   "source": [
    "targetList = ['y1','y2','y3','y4','y5','y6']\n",
    "paramsAlpha = np.linspace(200,300,5)"
   ]
  },
  {
   "cell_type": "code",
   "execution_count": null,
   "metadata": {
    "collapsed": false,
    "scrolled": true
   },
   "outputs": [],
   "source": [
    "bestModels = dict()\n",
    "for target in targetList:\n",
    "    print target\n",
    "    dropCols = [x for x in targetList if x != target ]\n",
    "    dropCols.append('y')\n",
    "    dropCols.append('index')\n",
    "    tmpTrain = trainSet.drop(dropCols,axis = 1)\n",
    "    tmpTrain.rename(columns={target:'y'},inplace=True)\n",
    "    \n",
    "    tmpValidation = validationSet.drop(dropCols,axis = 1)\n",
    "    tmpValidation.rename(columns={target:'y'},inplace=True)\n",
    "    \n",
    "    minErr = np.inf\n",
    "    bestAlpha = 0\n",
    "    \n",
    "    \n",
    "    for a in paramsAlpha:\n",
    "        regressor = linear_model.Ridge(alpha= a)\n",
    "        regressor.fit(tmpTrain.drop('y',axis = 1),tmpTrain.loc[:,'y'])\n",
    "        prediction = regressor.predict(tmpValidation.drop('y',axis = 1))\n",
    "        err = np.abs(prediction - tmpValidation.loc[:,'y'])\n",
    "        err = err.mean()\n",
    "        print a, err\n",
    "        if err <minErr:\n",
    "            minErr = err\n",
    "            bestAlpha = a\n",
    "            bestModel = regressor\n",
    "    \n",
    "    bestModels.update({target:bestModel})\n",
    "            \n",
    "    print 'Smallest error {:2.3f} at a = {:2.3f}'.format(err,a)     "
   ]
  },
  {
   "cell_type": "code",
   "execution_count": null,
   "metadata": {
    "collapsed": false
   },
   "outputs": [],
   "source": [
    "bestModels"
   ]
  },
  {
   "cell_type": "code",
   "execution_count": null,
   "metadata": {
    "collapsed": false
   },
   "outputs": [],
   "source": [
    "# now there are three regressors. WE have to use them.\n",
    "np.save('bestModels.npy',bestModels)"
   ]
  },
  {
   "cell_type": "code",
   "execution_count": 46,
   "metadata": {
    "collapsed": true
   },
   "outputs": [],
   "source": [
    "bestModels = np.load('bestModels.npy').item()"
   ]
  },
  {
   "cell_type": "code",
   "execution_count": 47,
   "metadata": {
    "collapsed": false
   },
   "outputs": [
    {
     "name": "stderr",
     "output_type": "stream",
     "text": [
      "D:\\Anaconda2\\lib\\site-packages\\ipykernel\\__main__.py:4: SettingWithCopyWarning: \n",
      "A value is trying to be set on a copy of a slice from a DataFrame\n",
      "\n",
      "See the caveats in the documentation: http://pandas.pydata.org/pandas-docs/stable/indexing.html#indexing-view-versus-copy\n"
     ]
    }
   ],
   "source": [
    "testSet.columns.values\n",
    "dropCols = ['index','y','y1','y2','y3','y4','y5','y6']\n",
    "tripVal = testSet.get(dropCols)\n",
    "testSet.drop(dropCols,inplace = True, axis = 1)"
   ]
  },
  {
   "cell_type": "code",
   "execution_count": 48,
   "metadata": {
    "collapsed": false
   },
   "outputs": [
    {
     "data": {
      "text/plain": [
       "{'y1': Ridge(alpha=300.0, copy_X=True, fit_intercept=True, max_iter=None,\n",
       "    normalize=False, random_state=None, solver='auto', tol=0.001),\n",
       " 'y2': Ridge(alpha=300.0, copy_X=True, fit_intercept=True, max_iter=None,\n",
       "    normalize=False, random_state=None, solver='auto', tol=0.001),\n",
       " 'y3': Ridge(alpha=300.0, copy_X=True, fit_intercept=True, max_iter=None,\n",
       "    normalize=False, random_state=None, solver='auto', tol=0.001),\n",
       " 'y4': Ridge(alpha=300.0, copy_X=True, fit_intercept=True, max_iter=None,\n",
       "    normalize=False, random_state=None, solver='auto', tol=0.001),\n",
       " 'y5': Ridge(alpha=300.0, copy_X=True, fit_intercept=True, max_iter=None,\n",
       "    normalize=False, random_state=None, solver='auto', tol=0.001),\n",
       " 'y6': Ridge(alpha=300.0, copy_X=True, fit_intercept=True, max_iter=None,\n",
       "    normalize=False, random_state=None, solver='auto', tol=0.001)}"
      ]
     },
     "execution_count": 48,
     "metadata": {},
     "output_type": "execute_result"
    }
   ],
   "source": [
    "bestModels"
   ]
  },
  {
   "cell_type": "code",
   "execution_count": 49,
   "metadata": {
    "collapsed": false
   },
   "outputs": [],
   "source": [
    "def getTrips(X):\n",
    "    model1 = bestModels.get('y1')\n",
    "    model2 = bestModels.get('y2')\n",
    "    model3 = bestModels.get('y3')\n",
    "    model4 = bestModels.get('y4')\n",
    "    model5 = bestModels.get('y5')\n",
    "    model6 = bestModels.get('y6')\n",
    "    pr1 = model1.predict(X)\n",
    "    pr2 = model2.predict(X)\n",
    "    pr3 = model3.predict(X)\n",
    "    pr4 = model4.predict(X)\n",
    "    pr5 = model5.predict(X)\n",
    "    pr6 = model6.predict(X)\n",
    "    pr1[pr1<0] = 0\n",
    "    pr2[pr2<0] = 0\n",
    "    pr3[pr3<0] = 0\n",
    "    pr4[pr4<0] = 0\n",
    "    pr5[pr5<0] = 0\n",
    "    pr6[pr6<0] = 0\n",
    "    \n",
    "    return np.array([pr1, pr2, pr3, pr4, pr5, pr6])"
   ]
  },
  {
   "cell_type": "code",
   "execution_count": 53,
   "metadata": {
    "collapsed": false
   },
   "outputs": [
    {
     "data": {
      "text/plain": [
       "array(['hour_8_x', 'hour_8_y', 'hour_18_x', 'hour_18_y', 'hour_9_y',\n",
       "       'hour_9_x', 'hour_2_x', 'hour_2_y', 'hour_7_y', 'hour_7_x',\n",
       "       'hour_1_x', 'hour_16_x', 'hour_16_y', 'month_4_y', 'hour_0_x',\n",
       "       'hour_0_y', 'month_8_y', 'month_9_x', 'hour_19_y', 'hour_19_x',\n",
       "       'dayOfWeek_1_y', 'hour_14_x', 'hour_14_y', 'month_5_x', 'month_6_x',\n",
       "       'dayOfWeek_5_y', 'hour_6_y', 'month_12_y', 'month_12_x',\n",
       "       'hour_17_y', 'hour_17_x', 'hour_5_x', 'hour_12_x', 'hour_12_y',\n",
       "       'month_4_x', 'dayOfWeek_0_x', 'dayOfWeek_0_y', 'hour_4_x',\n",
       "       'hour_4_y', 'month_10_y', 'hour_15_y', 'hour_15_x', 'hour_5_y',\n",
       "       'month_10_x', 'hour_23_y', 'hour_1_y', 'month_5_y', 'hour_13_y',\n",
       "       'hour_13_x', 'month_11_x', 'month_11_y', 'dayOfWeek_1_x',\n",
       "       'dayOfWeek_3_y', 'dayOfWeek_3_x', 'hour_23_x', 'month_2_x',\n",
       "       'hour_11_y', 'hour_11_x', 'dayOfWeek_2_x', 'dayOfWeek_2_y',\n",
       "       'month_3_x', 'month_3_y', 'hour_10_x', 'hour_10_y', 'month_9_y',\n",
       "       'dayOfWeek_4_x', 'hour_21_x', 'hour_21_y', 'dayOfWeek_4_y',\n",
       "       'month_2_y', 'month_1_x', 'month_1_y', 'hour_22_y', 'hour_22_x',\n",
       "       'month_6_y', 'hour_6_x', 'hour_3_y', 'hour_3_x', 'dayOfWeek_5_x',\n",
       "       'month_7_x', 'month_7_y', 'hour_20_y', 'hour_20_x', 'month_8_x',\n",
       "       'hourLag_1', 'hourLag_2', 'hourLag_3', 'hourLag_4', 'hourLag_5',\n",
       "       'hourLag_6', 'hourLag_7', 'hourLag_8', 'hourLag_9', 'hourLag_10',\n",
       "       'hourLag_11', 'hourLag_12', 'periodicLag_1', 'periodicLag_2',\n",
       "       'periodicLag_3', 'periodicLag_4', 'sum12', 'sum24', 'sumWeek',\n",
       "       'sumMonth', 'region_1075', 'region_1076', 'region_1077',\n",
       "       'region_1125', 'region_1126', 'region_1127', 'region_1128',\n",
       "       'region_1129', 'region_1130', 'region_1131', 'region_1132',\n",
       "       'region_1172', 'region_1173', 'region_1174', 'region_1175',\n",
       "       'region_1176', 'region_1177', 'region_1178', 'region_1179',\n",
       "       'region_1180', 'region_1181', 'region_1182', 'region_1183',\n",
       "       'region_1184', 'region_1221', 'region_1222', 'region_1223',\n",
       "       'region_1224', 'region_1225', 'region_1227', 'region_1228',\n",
       "       'region_1229', 'region_1230', 'region_1231', 'region_1232',\n",
       "       'region_1233', 'region_1234', 'region_1235', 'region_1272',\n",
       "       'region_1273', 'region_1274', 'region_1278', 'region_1279',\n",
       "       'region_1280', 'region_1281', 'region_1282', 'region_1283',\n",
       "       'region_1284', 'region_1285', 'region_1286', 'region_1287',\n",
       "       'region_1326', 'region_1327', 'region_1331', 'region_1332',\n",
       "       'region_1333', 'region_1334', 'region_1335', 'region_1336',\n",
       "       'region_1337', 'region_1338', 'region_1339', 'region_1376',\n",
       "       'region_1377', 'region_1378', 'region_1380', 'region_1382',\n",
       "       'region_1383', 'region_1384', 'region_1385', 'region_1386',\n",
       "       'region_1387', 'region_1388', 'region_1389', 'region_1390',\n",
       "       'region_1426', 'region_1431', 'region_1434', 'region_1435',\n",
       "       'region_1436', 'region_1437', 'region_1438', 'region_1439',\n",
       "       'region_1441', 'region_1442', 'region_1480', 'region_1482',\n",
       "       'region_1483', 'region_1530', 'region_1532', 'region_1533',\n",
       "       'region_1580', 'region_1630', 'region_1684', 'region_1733',\n",
       "       'region_1734', 'region_1783', 'region_2068', 'region_2069',\n",
       "       'region_2118', 'region_2119', 'region_2168'], dtype=object)"
      ]
     },
     "execution_count": 53,
     "metadata": {},
     "output_type": "execute_result"
    }
   ],
   "source": [
    "testSet.columns.values"
   ]
  },
  {
   "cell_type": "code",
   "execution_count": 50,
   "metadata": {
    "collapsed": false
   },
   "outputs": [
    {
     "ename": "ValueError",
     "evalue": "shapes (73440,206) and (190,) not aligned: 206 (dim 1) != 190 (dim 0)",
     "output_type": "error",
     "traceback": [
      "\u001b[0;31m---------------------------------------------------------------------------\u001b[0m",
      "\u001b[0;31mValueError\u001b[0m                                Traceback (most recent call last)",
      "\u001b[0;32m<ipython-input-50-95035ae51da1>\u001b[0m in \u001b[0;36m<module>\u001b[0;34m()\u001b[0m\n\u001b[0;32m----> 1\u001b[0;31m \u001b[0mprediction\u001b[0m \u001b[1;33m=\u001b[0m \u001b[0mgetTrips\u001b[0m\u001b[1;33m(\u001b[0m\u001b[0mtestSet\u001b[0m\u001b[1;33m)\u001b[0m\u001b[1;33m\u001b[0m\u001b[0m\n\u001b[0m",
      "\u001b[0;32m<ipython-input-49-891db3b6396b>\u001b[0m in \u001b[0;36mgetTrips\u001b[0;34m(X)\u001b[0m\n\u001b[1;32m      6\u001b[0m     \u001b[0mmodel5\u001b[0m \u001b[1;33m=\u001b[0m \u001b[0mbestModels\u001b[0m\u001b[1;33m.\u001b[0m\u001b[0mget\u001b[0m\u001b[1;33m(\u001b[0m\u001b[1;34m'y5'\u001b[0m\u001b[1;33m)\u001b[0m\u001b[1;33m\u001b[0m\u001b[0m\n\u001b[1;32m      7\u001b[0m     \u001b[0mmodel6\u001b[0m \u001b[1;33m=\u001b[0m \u001b[0mbestModels\u001b[0m\u001b[1;33m.\u001b[0m\u001b[0mget\u001b[0m\u001b[1;33m(\u001b[0m\u001b[1;34m'y6'\u001b[0m\u001b[1;33m)\u001b[0m\u001b[1;33m\u001b[0m\u001b[0m\n\u001b[0;32m----> 8\u001b[0;31m     \u001b[0mpr1\u001b[0m \u001b[1;33m=\u001b[0m \u001b[0mmodel1\u001b[0m\u001b[1;33m.\u001b[0m\u001b[0mpredict\u001b[0m\u001b[1;33m(\u001b[0m\u001b[0mX\u001b[0m\u001b[1;33m)\u001b[0m\u001b[1;33m\u001b[0m\u001b[0m\n\u001b[0m\u001b[1;32m      9\u001b[0m     \u001b[0mpr2\u001b[0m \u001b[1;33m=\u001b[0m \u001b[0mmodel2\u001b[0m\u001b[1;33m.\u001b[0m\u001b[0mpredict\u001b[0m\u001b[1;33m(\u001b[0m\u001b[0mX\u001b[0m\u001b[1;33m)\u001b[0m\u001b[1;33m\u001b[0m\u001b[0m\n\u001b[1;32m     10\u001b[0m     \u001b[0mpr3\u001b[0m \u001b[1;33m=\u001b[0m \u001b[0mmodel3\u001b[0m\u001b[1;33m.\u001b[0m\u001b[0mpredict\u001b[0m\u001b[1;33m(\u001b[0m\u001b[0mX\u001b[0m\u001b[1;33m)\u001b[0m\u001b[1;33m\u001b[0m\u001b[0m\n",
      "\u001b[0;32mD:\\Anaconda2\\lib\\site-packages\\sklearn\\linear_model\\base.pyc\u001b[0m in \u001b[0;36mpredict\u001b[0;34m(self, X)\u001b[0m\n\u001b[1;32m    266\u001b[0m             \u001b[0mReturns\u001b[0m \u001b[0mpredicted\u001b[0m \u001b[0mvalues\u001b[0m\u001b[1;33m.\u001b[0m\u001b[1;33m\u001b[0m\u001b[0m\n\u001b[1;32m    267\u001b[0m         \"\"\"\n\u001b[0;32m--> 268\u001b[0;31m         \u001b[1;32mreturn\u001b[0m \u001b[0mself\u001b[0m\u001b[1;33m.\u001b[0m\u001b[0m_decision_function\u001b[0m\u001b[1;33m(\u001b[0m\u001b[0mX\u001b[0m\u001b[1;33m)\u001b[0m\u001b[1;33m\u001b[0m\u001b[0m\n\u001b[0m\u001b[1;32m    269\u001b[0m \u001b[1;33m\u001b[0m\u001b[0m\n\u001b[1;32m    270\u001b[0m     \u001b[0m_preprocess_data\u001b[0m \u001b[1;33m=\u001b[0m \u001b[0mstaticmethod\u001b[0m\u001b[1;33m(\u001b[0m\u001b[0m_preprocess_data\u001b[0m\u001b[1;33m)\u001b[0m\u001b[1;33m\u001b[0m\u001b[0m\n",
      "\u001b[0;32mD:\\Anaconda2\\lib\\site-packages\\sklearn\\linear_model\\base.pyc\u001b[0m in \u001b[0;36m_decision_function\u001b[0;34m(self, X)\u001b[0m\n\u001b[1;32m    251\u001b[0m         \u001b[0mX\u001b[0m \u001b[1;33m=\u001b[0m \u001b[0mcheck_array\u001b[0m\u001b[1;33m(\u001b[0m\u001b[0mX\u001b[0m\u001b[1;33m,\u001b[0m \u001b[0maccept_sparse\u001b[0m\u001b[1;33m=\u001b[0m\u001b[1;33m[\u001b[0m\u001b[1;34m'csr'\u001b[0m\u001b[1;33m,\u001b[0m \u001b[1;34m'csc'\u001b[0m\u001b[1;33m,\u001b[0m \u001b[1;34m'coo'\u001b[0m\u001b[1;33m]\u001b[0m\u001b[1;33m)\u001b[0m\u001b[1;33m\u001b[0m\u001b[0m\n\u001b[1;32m    252\u001b[0m         return safe_sparse_dot(X, self.coef_.T,\n\u001b[0;32m--> 253\u001b[0;31m                                dense_output=True) + self.intercept_\n\u001b[0m\u001b[1;32m    254\u001b[0m \u001b[1;33m\u001b[0m\u001b[0m\n\u001b[1;32m    255\u001b[0m     \u001b[1;32mdef\u001b[0m \u001b[0mpredict\u001b[0m\u001b[1;33m(\u001b[0m\u001b[0mself\u001b[0m\u001b[1;33m,\u001b[0m \u001b[0mX\u001b[0m\u001b[1;33m)\u001b[0m\u001b[1;33m:\u001b[0m\u001b[1;33m\u001b[0m\u001b[0m\n",
      "\u001b[0;32mD:\\Anaconda2\\lib\\site-packages\\sklearn\\utils\\extmath.pyc\u001b[0m in \u001b[0;36msafe_sparse_dot\u001b[0;34m(a, b, dense_output)\u001b[0m\n\u001b[1;32m    187\u001b[0m         \u001b[1;32mreturn\u001b[0m \u001b[0mret\u001b[0m\u001b[1;33m\u001b[0m\u001b[0m\n\u001b[1;32m    188\u001b[0m     \u001b[1;32melse\u001b[0m\u001b[1;33m:\u001b[0m\u001b[1;33m\u001b[0m\u001b[0m\n\u001b[0;32m--> 189\u001b[0;31m         \u001b[1;32mreturn\u001b[0m \u001b[0mfast_dot\u001b[0m\u001b[1;33m(\u001b[0m\u001b[0ma\u001b[0m\u001b[1;33m,\u001b[0m \u001b[0mb\u001b[0m\u001b[1;33m)\u001b[0m\u001b[1;33m\u001b[0m\u001b[0m\n\u001b[0m\u001b[1;32m    190\u001b[0m \u001b[1;33m\u001b[0m\u001b[0m\n\u001b[1;32m    191\u001b[0m \u001b[1;33m\u001b[0m\u001b[0m\n",
      "\u001b[0;31mValueError\u001b[0m: shapes (73440,206) and (190,) not aligned: 206 (dim 1) != 190 (dim 0)"
     ]
    }
   ],
   "source": [
    "prediction = getTrips(testSet)"
   ]
  },
  {
   "cell_type": "code",
   "execution_count": null,
   "metadata": {
    "collapsed": false
   },
   "outputs": [],
   "source": [
    "diff = prediction[0,:]-tripVal.get('y1').values\n",
    "\n",
    "plt.figure(figsize = [25,25])\n",
    "\n",
    "plt.subplot(211)\n",
    "plt.plot(prediction[0,:])\n",
    "plt.plot(tripVal.get('y1').values)\n",
    "plt.legend(['prediction','value'])\n",
    "\n",
    "plt.subplot(212)\n",
    "plt.plot(diff)\n",
    "\n",
    "print np.abs(diff).mean()"
   ]
  },
  {
   "cell_type": "code",
   "execution_count": 29,
   "metadata": {
    "collapsed": false
   },
   "outputs": [
    {
     "ename": "NameError",
     "evalue": "name 'prediction' is not defined",
     "output_type": "error",
     "traceback": [
      "\u001b[0;31m---------------------------------------------------------------------------\u001b[0m",
      "\u001b[0;31mNameError\u001b[0m                                 Traceback (most recent call last)",
      "\u001b[0;32m<ipython-input-29-857e057dc47e>\u001b[0m in \u001b[0;36m<module>\u001b[0;34m()\u001b[0m\n\u001b[1;32m      4\u001b[0m \u001b[0mplt\u001b[0m\u001b[1;33m.\u001b[0m\u001b[0mfigure\u001b[0m\u001b[1;33m(\u001b[0m\u001b[0mfigsize\u001b[0m \u001b[1;33m=\u001b[0m \u001b[1;33m[\u001b[0m\u001b[1;36m15\u001b[0m\u001b[1;33m,\u001b[0m \u001b[1;36m10\u001b[0m\u001b[1;33m]\u001b[0m\u001b[1;33m)\u001b[0m\u001b[1;33m\u001b[0m\u001b[0m\n\u001b[1;32m      5\u001b[0m \u001b[0mplt\u001b[0m\u001b[1;33m.\u001b[0m\u001b[0msubplot\u001b[0m\u001b[1;33m(\u001b[0m\u001b[1;36m211\u001b[0m\u001b[1;33m)\u001b[0m\u001b[1;33m\u001b[0m\u001b[0m\n\u001b[0;32m----> 6\u001b[0;31m \u001b[0mplt\u001b[0m\u001b[1;33m.\u001b[0m\u001b[0mplot\u001b[0m\u001b[1;33m(\u001b[0m\u001b[0mprediction\u001b[0m\u001b[1;33m)\u001b[0m\u001b[1;33m\u001b[0m\u001b[0m\n\u001b[0m\u001b[1;32m      7\u001b[0m \u001b[0mplt\u001b[0m\u001b[1;33m.\u001b[0m\u001b[0mplot\u001b[0m\u001b[1;33m(\u001b[0m\u001b[0mtmpValidation\u001b[0m\u001b[1;33m.\u001b[0m\u001b[0mloc\u001b[0m\u001b[1;33m[\u001b[0m\u001b[1;33m:\u001b[0m\u001b[1;33m,\u001b[0m\u001b[1;34m'y'\u001b[0m\u001b[1;33m]\u001b[0m\u001b[1;33m.\u001b[0m\u001b[0mvalues\u001b[0m\u001b[1;33m)\u001b[0m\u001b[1;33m\u001b[0m\u001b[0m\n\u001b[1;32m      8\u001b[0m \u001b[0mplt\u001b[0m\u001b[1;33m.\u001b[0m\u001b[0mxlim\u001b[0m\u001b[1;33m(\u001b[0m\u001b[1;33m[\u001b[0m\u001b[0mst\u001b[0m\u001b[1;33m,\u001b[0m\u001b[0med\u001b[0m\u001b[1;33m]\u001b[0m\u001b[1;33m)\u001b[0m\u001b[1;33m\u001b[0m\u001b[0m\n",
      "\u001b[0;31mNameError\u001b[0m: name 'prediction' is not defined"
     ]
    },
    {
     "data": {
      "image/png": "[encoded data removed]",
      "text/plain": [
       "<matplotlib.figure.Figure at 0xe95c828>"
      ]
     },
     "metadata": {},
     "output_type": "display_data"
    }
   ],
   "source": [
    "st = 1.24e4\n",
    "ed = 1.26e4\n",
    "\n",
    "plt.figure(figsize = [15, 10])\n",
    "plt.subplot(211)\n",
    "plt.plot(prediction)\n",
    "plt.plot(tmpValidation.loc[:,'y'].values)\n",
    "plt.xlim([st,ed])\n",
    "\n",
    "plt.subplot(212)\n",
    "plt.plot(tmpValidation.loc[:,'y'].values-prediction)\n",
    "plt.xlim([st,ed])"
   ]
  },
  {
   "cell_type": "code",
   "execution_count": null,
   "metadata": {
    "collapsed": false
   },
   "outputs": [],
   "source": [
    "diff = prediction[1,:]-tripVal.get('y2').values\n",
    "\n",
    "plt.figure(figsize = [25,25])\n",
    "\n",
    "plt.subplot(211)\n",
    "plt.plot(prediction[1,:])\n",
    "plt.plot(tripVal.get('y2').values)\n",
    "plt.legend(['prediction','value'])\n",
    "\n",
    "plt.subplot(212)\n",
    "plt.plot(diff)\n",
    "\n",
    "print np.abs(diff).mean()"
   ]
  },
  {
   "cell_type": "code",
   "execution_count": null,
   "metadata": {
    "collapsed": false
   },
   "outputs": [],
   "source": [
    "diff = prediction[2,:]-tripVal.get('y3').values\n",
    "\n",
    "plt.figure(figsize = [25,25])\n",
    "\n",
    "plt.subplot(211)\n",
    "plt.plot(prediction[2,:])\n",
    "plt.plot(tripVal.get('y3').values)\n",
    "plt.legend(['prediction','value'])\n",
    "\n",
    "plt.subplot(212)\n",
    "plt.plot(diff)\n",
    "\n",
    "print np.abs(diff).mean()"
   ]
  },
  {
   "cell_type": "code",
   "execution_count": null,
   "metadata": {
    "collapsed": false
   },
   "outputs": [],
   "source": [
    "predictionDf = pd.DataFrame(prediction.T,columns=['y1','y2','y3','y4','y5','y6'])\n",
    "#predictionDf.set_index(tripVal.get('index'),inplace=True)\n",
    "predictionDf.merge()\n",
    "predictionDf"
   ]
  },
  {
   "cell_type": "code",
   "execution_count": null,
   "metadata": {
    "collapsed": false,
    "scrolled": true
   },
   "outputs": [],
   "source": [
    "tripVal.head()"
   ]
  },
  {
   "cell_type": "code",
   "execution_count": null,
   "metadata": {
    "collapsed": true
   },
   "outputs": [],
   "source": [
    "testSet = df3.query('index >= @startTest and index <= @endTest')"
   ]
  },
  {
   "cell_type": "code",
   "execution_count": null,
   "metadata": {
    "collapsed": false
   },
   "outputs": [],
   "source": [
    "testSet.columns.values\n",
    "#dropCols = ['index','y','y1','y2','y3','y4','y5','y6']\n",
    "#tripVal = testSet.get(['index','y','y1','y2','y3','y4','y5','y6','regions'])\n",
    "#testSet.drop(dropCols,inplace = True, axis = 1)"
   ]
  },
  {
   "cell_type": "code",
   "execution_count": null,
   "metadata": {
    "collapsed": false
   },
   "outputs": [],
   "source": [
    "df3.columns.values"
   ]
  },
  {
   "cell_type": "code",
   "execution_count": null,
   "metadata": {
    "collapsed": false
   },
   "outputs": [],
   "source": [
    "df3.columns.values"
   ]
  },
  {
   "cell_type": "code",
   "execution_count": null,
   "metadata": {
    "collapsed": true
   },
   "outputs": [],
   "source": []
  }
 ],
 "metadata": {
  "anaconda-cloud": {},
  "kernelspec": {
   "display_name": "Python 2",
   "language": "python",
   "name": "python2"
  },
  "language_info": {
   "codemirror_mode": {
    "name": "ipython",
    "version": 2
   },
   "file_extension": ".py",
   "mimetype": "text/x-python",
   "name": "python",
   "nbconvert_exporter": "python",
   "pygments_lexer": "ipython2",
   "version": "2.7.13"
  }
 },
 "nbformat": 4,
 "nbformat_minor": 2
}
