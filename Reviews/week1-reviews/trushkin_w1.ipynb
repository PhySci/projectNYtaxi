{
 "cells": [
  {
   "cell_type": "markdown",
   "metadata": {},
   "source": [
    "# Прогнозирование временных рядов на карте (Трушкин)\n",
    "\n",
    "Задача этого проекта — научиться предсказывать количество поездок в ближайшие часы в каждом районе Нью-Йорка. Для того, чтобы её решить, сырые данные необходимо агрегировать по часам и районам. Агрегированные данные будут представлять собой почасовые временные ряды с количествами поездок из каждого района. Похожие задачи возникают на практике, если вам необходимо спрогнозировать продажи большого количества товаров в большом количестве магазинов, объём снятия денег в сети банкоматов, посещаемость разных страниц сайта и т.д.\n",
    "\n",
    "## Знакомство с данными и агрегация\n",
    "\n",
    "Скачайте сырые данные о поездках жёлтого такси с сайта TLC: \n",
    "\n",
    "http://www.nyc.gov/html/tlc/html/about/trip_record_data.shtml\n",
    "\n",
    "Поездки зелёного такси и лимузинов нас не интересуют!\n",
    "\n",
    "Данные выложены в файлах по месяцам. Скачайте так много данных жёлтого такси, как сможете; чем больше вы будете использовать данных, тем точнее получатся ваши прогнозы. Если вы решите использовать не все данные, а только часть, выбирайте её по времени с конца. Абсолютный минимум необходимых данных — 6 месяцев: один, последний месяц, вам понадобится для тестирования, предшествующие 5 — для обучения. По 5 месяцам можно построить прогнозы, учитывающие дневную и недельную сезонности, но в данных есть и годовая. Чтобы её учесть, необходимы данные как минимум за 2 года.\n",
    "\n",
    "Обработайте сырые данные по следующей схеме:\n",
    "1. Почистите данные от ошибок и аномалий.\n",
    "1. Отбросьте минуты и секунды во времени начала поездки.\n",
    "1. Нью-Йорк вписан в прямоугольник от -74.25559 до -73.70001 градусов долготы и от 40.49612 до 40.91553 широты. Разбейте этот прямоугольник на 2500 одинаковых прямоугольных областей — по 50 интервалов вдоль каждой оси.\n",
    "1. Посчитайте количество поездок за каждый час из каждой области. Не забудьте, что если в сырых данных для какой-то пары час-область нет ни одной записи, то в агрегированных данных для неё должен стоять 0.\n",
    "\n",
    "\n",
    "В дальнейшем, когда вы будете предсказывать получившиеся ряды, нужно будет загружать ваши прогнозы на kaggle, поэтому нужно, чтобы идентификаторы ячеек были определены однозначно. В следующем файле даны идентификаторы ячеек, которые вам нужно использовать, и географические координаты их границ:\n",
    "\n",
    "regions.csv\n",
    "\n",
    "Для сдачи задания этой недели вам нужно агрегировать только данные за май 2016, но, когда задание будет сдано, не забудьте запустить ваш агрегирующий скрипт на всех остальных месяцах, которые вы собираетесь использовать при прогнозировании.\n",
    "\n",
    "Чтобы сдать задание, выполните следующую последовательность действий.\n",
    "\n",
    "1. Загрузите данные за май 2016 года.\n",
    "\n",
    "2. Проведите фильтрацию: удалите поездки с\n",
    "  * нулевой длительностью   \n",
    "  * нулевым количеством пассажиров\n",
    "  * нулевым расстоянием поездки по счётчику\n",
    "  * координатами начала, не попадающими в прямоугольник Нью-Йорка \n",
    "3. Агрегируйте данные за май 2016 года по часам и областям (можно использовать функцию stats.binned_statistic_2d, с которой вы сталкивались в заданиях четвёртого курса). Не забудьте проверить, что идентификаторы, которые вы присваиваете ячейкам, соответствуют приложенному выше файлу.\n",
    "\n",
    "4. Выведите первые строки полученной таблицы.\n",
    "\n",
    "5. Постройте график количества поездок жёлтого такси из ячейки, содержащей Empire State Building.\n",
    "\n",
    "6. Посчитайте, сколько в мае 2016 было пар час-ячейка, для которых не было совершено ни одной поездки.\n",
    "\n",
    "7. Загрузите ноутбук в форму ниже\n",
    "\n",
    "### Review criteria\n",
    "\n",
    "В качестве ответа в этом задании вам нужно загрузить ноутбук; убедитесь, что ход анализа, который вы провели, описан достаточно подробно для того, чтобы ваши сокурсники поняли, что вы делали и почему."
   ]
  },
  {
   "cell_type": "markdown",
   "metadata": {},
   "source": [
    "### Описание полей CSV-файлов\n",
    "\n",
    "Field | Description\n",
    "--- | ---\n",
    "VendorID | A code indicating the TPEP provider that provided the record. 1= Creative Mobile Technologies, LLC; 2= VeriFone Inc.\n",
    "tpep_pickup_datetime | The date and time when the meter was engaged.\n",
    "tpep_dropoff_datetime | The date and time when the meter was disengaged.\n",
    "Passenger_count | The number of passengers in the vehicle. This is a driver-entered value.\n",
    "Trip_distance | The elapsed trip distance in miles reported by the taximeter.\n",
    "Pickup_longitude | Longitude where the meter was engaged.\n",
    "Pickup_latitude | Latitude where the meter was engaged.\n",
    "RateCodeID | The final rate code in effect at the end of the trip. 1= Standard rate 2=JFK 3=Newark 4=Nassau or Westchester 5=Negotiated fare 6=Group ride\n",
    "Store_and_fwd_flag | This flag indicates whether the trip record was held in vehicle memory before sending to the vendor, aka “store and forward,” because the vehicle did not have a connection to the server. Y= store and forward trip N= not a store and forward trip\n",
    "Dropoff_longitude | Longitude where the meter was disengaged.\n",
    "Dropoff_latitude | Latitude where the meter was disengaged.\n",
    "Payment_type | A numeric code signifying how the passenger paid for the trip. 1= Credit card 2= Cash 3= No charge 4= Dispute 5= Unknown 6= Voided trip\n",
    "Fare_amount | The time-and-distance fare calculated by the meter.\n",
    "Extra | Miscellaneous extras and surcharges. Currently, this only includes the \\$0.50 and \\$1 rush hour and overnight charges.\n",
    "MTA_tax | \\$0.50 MTA tax that is automatically triggered based on the metered rate in use.\n",
    "Improvement_surcharge | \\$0.30 improvement surcharge assessed trips at the flag drop. The improvement surcharge began being levied in 2015.\n",
    "Tip_amount | Tip amount – This field is automatically populated for credit card tips. Cash tips are not included.\n",
    "Tolls_amount | Total amount of all tolls paid in trip.\n",
    "Total_amount | The total amount charged to passengers. Does not include cash tips."
   ]
  },
  {
   "cell_type": "code",
   "execution_count": 1,
   "metadata": {
    "collapsed": false
   },
   "outputs": [],
   "source": [
    "import pandas as pd\n",
    "import numpy as np\n",
    "import cPickle\n",
    "import matplotlib.pyplot as plt\n",
    "from scipy import stats"
   ]
  },
  {
   "cell_type": "code",
   "execution_count": 2,
   "metadata": {
    "collapsed": true
   },
   "outputs": [],
   "source": [
    "%matplotlib inline"
   ]
  },
  {
   "cell_type": "markdown",
   "metadata": {},
   "source": [
    "Загрузим из файла таблицу с id условных областей NY из задания."
   ]
  },
  {
   "cell_type": "code",
   "execution_count": 3,
   "metadata": {
    "collapsed": false
   },
   "outputs": [
    {
     "data": {
      "text/html": [
       "<div>\n",
       "<table border=\"1\" class=\"dataframe\">\n",
       "  <thead>\n",
       "    <tr style=\"text-align: right;\">\n",
       "      <th></th>\n",
       "      <th>region</th>\n",
       "      <th>west</th>\n",
       "      <th>east</th>\n",
       "      <th>south</th>\n",
       "      <th>north</th>\n",
       "    </tr>\n",
       "  </thead>\n",
       "  <tbody>\n",
       "    <tr>\n",
       "      <th>0</th>\n",
       "      <td>1</td>\n",
       "      <td>-74.25559</td>\n",
       "      <td>-74.244478</td>\n",
       "      <td>40.496120</td>\n",
       "      <td>40.504508</td>\n",
       "    </tr>\n",
       "    <tr>\n",
       "      <th>1</th>\n",
       "      <td>2</td>\n",
       "      <td>-74.25559</td>\n",
       "      <td>-74.244478</td>\n",
       "      <td>40.504508</td>\n",
       "      <td>40.512896</td>\n",
       "    </tr>\n",
       "    <tr>\n",
       "      <th>2</th>\n",
       "      <td>3</td>\n",
       "      <td>-74.25559</td>\n",
       "      <td>-74.244478</td>\n",
       "      <td>40.512896</td>\n",
       "      <td>40.521285</td>\n",
       "    </tr>\n",
       "    <tr>\n",
       "      <th>3</th>\n",
       "      <td>4</td>\n",
       "      <td>-74.25559</td>\n",
       "      <td>-74.244478</td>\n",
       "      <td>40.521285</td>\n",
       "      <td>40.529673</td>\n",
       "    </tr>\n",
       "    <tr>\n",
       "      <th>4</th>\n",
       "      <td>5</td>\n",
       "      <td>-74.25559</td>\n",
       "      <td>-74.244478</td>\n",
       "      <td>40.529673</td>\n",
       "      <td>40.538061</td>\n",
       "    </tr>\n",
       "  </tbody>\n",
       "</table>\n",
       "</div>"
      ],
      "text/plain": [
       "   region      west       east      south      north\n",
       "0       1 -74.25559 -74.244478  40.496120  40.504508\n",
       "1       2 -74.25559 -74.244478  40.504508  40.512896\n",
       "2       3 -74.25559 -74.244478  40.512896  40.521285\n",
       "3       4 -74.25559 -74.244478  40.521285  40.529673\n",
       "4       5 -74.25559 -74.244478  40.529673  40.538061"
      ]
     },
     "execution_count": 3,
     "metadata": {},
     "output_type": "execute_result"
    }
   ],
   "source": [
    "ny_regions = pd.read_csv(\"regions.csv\", sep=\";\", dtype={\n",
    "        \"region\":np.uint16,\n",
    "        \"west\":np.float64,\n",
    "        \"east\":np.float64,\n",
    "        \"south\":np.float64,\n",
    "        \"north\":np.float64})\n",
    "ny_regions.head()"
   ]
  },
  {
   "cell_type": "markdown",
   "metadata": {},
   "source": [
    "Границы прямоугольника, в который вписан NY (из задания). Долгота по-английски будет longitude, широта – latitude.\n",
    "\n",
    "Ниже – векторизованные функции: проверяющая, попадает ли точка в этот прямоугольник и выдающая id областей."
   ]
  },
  {
   "cell_type": "code",
   "execution_count": 42,
   "metadata": {
    "collapsed": false
   },
   "outputs": [
    {
     "name": "stdout",
     "output_type": "stream",
     "text": [
      "Test get_area_ids function:\n",
      "True\n",
      "True\n",
      "True\n",
      "True\n"
     ]
    }
   ],
   "source": [
    "ny_limits= {\"lon_min\":-74.25559, \"lon_max\":-73.70001, \"lat_min\":40.49612, \"lat_max\":40.91553}\n",
    "lon_step=(ny_limits[\"lon_max\"]-ny_limits[\"lon_min\"])/50\n",
    "lat_step=(ny_limits[\"lat_max\"]-ny_limits[\"lat_min\"])/50\n",
    "\n",
    "def check_ny_limits(lons, lats):\n",
    "    \"\"\"\n",
    "    Check if point within NY rectangle\n",
    "    \"\"\"\n",
    "    return ~((lons < ny_limits[\"lon_min\"]) | \n",
    "              (lons > ny_limits[\"lon_max\"]) | \n",
    "              (lats < ny_limits[\"lat_min\"]) | \n",
    "              (lats > ny_limits[\"lat_max\"])) \n",
    "\n",
    "def get_area_ids(lons, lats):\n",
    "    \"\"\"\n",
    "    Calculate numpy vector of NY regions from longitude and latitude\n",
    "    \"\"\"\n",
    "    return (1 + np.floor((lons-ny_limits[\"lon_min\"])/lon_step)*50 + \n",
    "            (lats-ny_limits[\"lat_min\"])/lat_step).astype(np.uint32)\n",
    "\n",
    "print \"Test get_area_ids function:\"\n",
    "print (get_area_ids(ny_regions.west.values+0.00001, ny_regions.south.values+0.00001)==ny_regions.region).all()\n",
    "print (get_area_ids(ny_regions.west.values+0.00001, ny_regions.north.values-0.00001)==ny_regions.region).all()\n",
    "print (get_area_ids(ny_regions.east.values-0.00001, ny_regions.south.values+0.00001)==ny_regions.region).all()\n",
    "print (get_area_ids(ny_regions.east.values-0.00001, ny_regions.north.values-0.00001)==ny_regions.region).all()"
   ]
  },
  {
   "cell_type": "markdown",
   "metadata": {},
   "source": [
    "### Загружаем данные за май 2016 года\n",
    "\n",
    "Считываем данные за май 2016 из CSV-файла."
   ]
  },
  {
   "cell_type": "code",
   "execution_count": 5,
   "metadata": {
    "collapsed": false
   },
   "outputs": [
    {
     "name": "stdout",
     "output_type": "stream",
     "text": [
      "CPU times: user 45.1 s, sys: 2.47 s, total: 47.5 s\n",
      "Wall time: 47.6 s\n"
     ]
    }
   ],
   "source": [
    "%%time\n",
    "data = pd.read_csv(\"./data/yellow_tripdata_2016-05.csv\", dtype={\n",
    "        \"VendorID\":np.int8,\n",
    "        #\"tpep_pickup_datetime\":np.datetime64,\n",
    "        #\"tpep_dropoff_datetime\":np.datetime64,\n",
    "        \"passenger_count\":np.int8,\n",
    "        \"trip_distance\":np.float32,\n",
    "        \"pickup_longitude\":np.float64,\n",
    "        \"pickup_latitude\":np.float64,\n",
    "        \"RatecodeID\":np.int8,\n",
    "        \"store_and_fwd_flag\":np.bool_,\n",
    "        \"dropoff_longitude\":np.float64,\n",
    "        \"dropoff_latitude\":np.float64,\n",
    "        \"payment_type\":np.int8,\n",
    "        \"fare_amount\":np.float32,\n",
    "        \"extra\":np.float32,\n",
    "        \"mta_tax\":np.float32,\n",
    "        \"tip_amount\":np.float32,\n",
    "        \"tolls_amount\":np.float32,\n",
    "        \"improvement_surcharge\":np.float32,\n",
    "        \"total_amount\":np.float32 }, \n",
    "        parse_dates=[1, 2],\n",
    "        converters={\"store_and_fwd_flag\": lambda x: x=='Y',})\n",
    "#data.info()"
   ]
  },
  {
   "cell_type": "code",
   "execution_count": 6,
   "metadata": {
    "collapsed": false
   },
   "outputs": [
    {
     "data": {
      "text/html": [
       "<div>\n",
       "<table border=\"1\" class=\"dataframe\">\n",
       "  <thead>\n",
       "    <tr style=\"text-align: right;\">\n",
       "      <th></th>\n",
       "      <th>VendorID</th>\n",
       "      <th>tpep_pickup_datetime</th>\n",
       "      <th>tpep_dropoff_datetime</th>\n",
       "      <th>passenger_count</th>\n",
       "      <th>trip_distance</th>\n",
       "      <th>pickup_longitude</th>\n",
       "      <th>pickup_latitude</th>\n",
       "      <th>RatecodeID</th>\n",
       "      <th>store_and_fwd_flag</th>\n",
       "      <th>dropoff_longitude</th>\n",
       "      <th>dropoff_latitude</th>\n",
       "      <th>payment_type</th>\n",
       "      <th>fare_amount</th>\n",
       "      <th>extra</th>\n",
       "      <th>mta_tax</th>\n",
       "      <th>tip_amount</th>\n",
       "      <th>tolls_amount</th>\n",
       "      <th>improvement_surcharge</th>\n",
       "      <th>total_amount</th>\n",
       "    </tr>\n",
       "  </thead>\n",
       "  <tbody>\n",
       "    <tr>\n",
       "      <th>0</th>\n",
       "      <td>1</td>\n",
       "      <td>2016-05-01</td>\n",
       "      <td>2016-05-01 00:17:31</td>\n",
       "      <td>1</td>\n",
       "      <td>3.60</td>\n",
       "      <td>-73.985901</td>\n",
       "      <td>40.768040</td>\n",
       "      <td>1</td>\n",
       "      <td>False</td>\n",
       "      <td>-73.983986</td>\n",
       "      <td>40.730099</td>\n",
       "      <td>1</td>\n",
       "      <td>15.0</td>\n",
       "      <td>0.5</td>\n",
       "      <td>0.5</td>\n",
       "      <td>1.50</td>\n",
       "      <td>0.0</td>\n",
       "      <td>0.3</td>\n",
       "      <td>17.799999</td>\n",
       "    </tr>\n",
       "    <tr>\n",
       "      <th>1</th>\n",
       "      <td>2</td>\n",
       "      <td>2016-05-01</td>\n",
       "      <td>2016-05-01 00:07:31</td>\n",
       "      <td>1</td>\n",
       "      <td>1.68</td>\n",
       "      <td>-73.991577</td>\n",
       "      <td>40.744751</td>\n",
       "      <td>1</td>\n",
       "      <td>False</td>\n",
       "      <td>-73.975700</td>\n",
       "      <td>40.765469</td>\n",
       "      <td>1</td>\n",
       "      <td>7.5</td>\n",
       "      <td>0.5</td>\n",
       "      <td>0.5</td>\n",
       "      <td>0.88</td>\n",
       "      <td>0.0</td>\n",
       "      <td>0.3</td>\n",
       "      <td>9.680000</td>\n",
       "    </tr>\n",
       "    <tr>\n",
       "      <th>2</th>\n",
       "      <td>2</td>\n",
       "      <td>2016-05-01</td>\n",
       "      <td>2016-05-01 00:07:01</td>\n",
       "      <td>6</td>\n",
       "      <td>1.09</td>\n",
       "      <td>-73.993073</td>\n",
       "      <td>40.741573</td>\n",
       "      <td>1</td>\n",
       "      <td>False</td>\n",
       "      <td>-73.980995</td>\n",
       "      <td>40.744633</td>\n",
       "      <td>1</td>\n",
       "      <td>6.5</td>\n",
       "      <td>0.5</td>\n",
       "      <td>0.5</td>\n",
       "      <td>1.56</td>\n",
       "      <td>0.0</td>\n",
       "      <td>0.3</td>\n",
       "      <td>9.360000</td>\n",
       "    </tr>\n",
       "    <tr>\n",
       "      <th>3</th>\n",
       "      <td>2</td>\n",
       "      <td>2016-05-01</td>\n",
       "      <td>2016-05-01 00:19:47</td>\n",
       "      <td>1</td>\n",
       "      <td>4.21</td>\n",
       "      <td>-73.991943</td>\n",
       "      <td>40.684601</td>\n",
       "      <td>1</td>\n",
       "      <td>False</td>\n",
       "      <td>-74.002258</td>\n",
       "      <td>40.733002</td>\n",
       "      <td>1</td>\n",
       "      <td>17.0</td>\n",
       "      <td>0.5</td>\n",
       "      <td>0.5</td>\n",
       "      <td>3.66</td>\n",
       "      <td>0.0</td>\n",
       "      <td>0.3</td>\n",
       "      <td>21.959999</td>\n",
       "    </tr>\n",
       "    <tr>\n",
       "      <th>4</th>\n",
       "      <td>2</td>\n",
       "      <td>2016-05-01</td>\n",
       "      <td>2016-05-01 00:06:39</td>\n",
       "      <td>1</td>\n",
       "      <td>0.56</td>\n",
       "      <td>-74.005280</td>\n",
       "      <td>40.740192</td>\n",
       "      <td>1</td>\n",
       "      <td>False</td>\n",
       "      <td>-73.997498</td>\n",
       "      <td>40.737564</td>\n",
       "      <td>1</td>\n",
       "      <td>6.0</td>\n",
       "      <td>0.5</td>\n",
       "      <td>0.5</td>\n",
       "      <td>1.46</td>\n",
       "      <td>0.0</td>\n",
       "      <td>0.3</td>\n",
       "      <td>8.760000</td>\n",
       "    </tr>\n",
       "  </tbody>\n",
       "</table>\n",
       "</div>"
      ],
      "text/plain": [
       "   VendorID tpep_pickup_datetime tpep_dropoff_datetime  passenger_count  \\\n",
       "0         1           2016-05-01   2016-05-01 00:17:31                1   \n",
       "1         2           2016-05-01   2016-05-01 00:07:31                1   \n",
       "2         2           2016-05-01   2016-05-01 00:07:01                6   \n",
       "3         2           2016-05-01   2016-05-01 00:19:47                1   \n",
       "4         2           2016-05-01   2016-05-01 00:06:39                1   \n",
       "\n",
       "   trip_distance  pickup_longitude  pickup_latitude  RatecodeID  \\\n",
       "0           3.60        -73.985901        40.768040           1   \n",
       "1           1.68        -73.991577        40.744751           1   \n",
       "2           1.09        -73.993073        40.741573           1   \n",
       "3           4.21        -73.991943        40.684601           1   \n",
       "4           0.56        -74.005280        40.740192           1   \n",
       "\n",
       "  store_and_fwd_flag  dropoff_longitude  dropoff_latitude  payment_type  \\\n",
       "0              False         -73.983986         40.730099             1   \n",
       "1              False         -73.975700         40.765469             1   \n",
       "2              False         -73.980995         40.744633             1   \n",
       "3              False         -74.002258         40.733002             1   \n",
       "4              False         -73.997498         40.737564             1   \n",
       "\n",
       "   fare_amount  extra  mta_tax  tip_amount  tolls_amount  \\\n",
       "0         15.0    0.5      0.5        1.50           0.0   \n",
       "1          7.5    0.5      0.5        0.88           0.0   \n",
       "2          6.5    0.5      0.5        1.56           0.0   \n",
       "3         17.0    0.5      0.5        3.66           0.0   \n",
       "4          6.0    0.5      0.5        1.46           0.0   \n",
       "\n",
       "   improvement_surcharge  total_amount  \n",
       "0                    0.3     17.799999  \n",
       "1                    0.3      9.680000  \n",
       "2                    0.3      9.360000  \n",
       "3                    0.3     21.959999  \n",
       "4                    0.3      8.760000  "
      ]
     },
     "execution_count": 6,
     "metadata": {},
     "output_type": "execute_result"
    }
   ],
   "source": [
    "data.head()"
   ]
  },
  {
   "cell_type": "markdown",
   "metadata": {},
   "source": [
    "### Проведём фильтрацию\n",
    "Удаляем поездки с координатами начала, не попадающими в прямоугольник Нью-Йорка. \n",
    "\n",
    "Судя по заданию, поездки могут заканчиваться не в Нью-Йорке."
   ]
  },
  {
   "cell_type": "code",
   "execution_count": 7,
   "metadata": {
    "collapsed": false
   },
   "outputs": [
    {
     "name": "stdout",
     "output_type": "stream",
     "text": [
      "Before filtration: 11836853\n",
      "After trips froum outside of NY are filtered: 11686529\n"
     ]
    }
   ],
   "source": [
    "def filter_data_outside(d):\n",
    "    d.drop( d[ ~ check_ny_limits(d.pickup_longitude, d.pickup_latitude)].index, inplace=True )\n",
    "\n",
    "print \"Before filtration: \" + str(len(data))\n",
    "filter_data_outside(data)\n",
    "print \"After trips froum outside of NY are filtered: \" + str(len(data))"
   ]
  },
  {
   "cell_type": "markdown",
   "metadata": {},
   "source": [
    "Отбросим поездки с нулевой длительностью."
   ]
  },
  {
   "cell_type": "code",
   "execution_count": 8,
   "metadata": {
    "collapsed": false
   },
   "outputs": [
    {
     "name": "stdout",
     "output_type": "stream",
     "text": [
      "After trips with zero duration are filtered: 11675138\n"
     ]
    }
   ],
   "source": [
    "def filter_data_zero_duration(d):\n",
    "    d.drop( d[(d.tpep_pickup_datetime == d.tpep_dropoff_datetime) ].index, inplace=True )\n",
    "\n",
    "filter_data_zero_duration(data)\n",
    "print \"After trips with zero duration are filtered: \" + str(len(data))"
   ]
  },
  {
   "cell_type": "markdown",
   "metadata": {},
   "source": [
    "Также отбросим поездки с нулевым количеством пассажиров и нулевым расстоянием поездки по счётчику."
   ]
  },
  {
   "cell_type": "code",
   "execution_count": 9,
   "metadata": {
    "collapsed": false
   },
   "outputs": [
    {
     "name": "stdout",
     "output_type": "stream",
     "text": [
      "After trips with zero passengers are filtered: 11674671\n",
      "After trips with zero distance are filtered: 11626521\n"
     ]
    }
   ],
   "source": [
    "def filter_data_zero_passengers(d):\n",
    "    d.drop( d[(d.passenger_count == 0) ].index, inplace=True )\n",
    "\n",
    "def filter_data_zero_distance(d):\n",
    "    d.drop( d[ (d.trip_distance < 0.001) ].index, inplace=True )    \n",
    "\n",
    "filter_data_zero_passengers(data)\n",
    "print \"After trips with zero passengers are filtered: \" + str(len(data))\n",
    "filter_data_zero_distance(data)\n",
    "print \"After trips with zero distance are filtered: \" + str(len(data))\n",
    "\n",
    "#На будущее соберём все фильтры из задания в одну функцию:\n",
    "def filter_data_generic(d):\n",
    "    filter_data_outside(d)\n",
    "    filter_data_zero_duration(d)\n",
    "    filter_data_zero_passengers(d)\n",
    "    filter_data_zero_distance(d)"
   ]
  },
  {
   "cell_type": "markdown",
   "metadata": {},
   "source": [
    "Это же диплом, да? Поэтому посмотрим, есть ли в данных другие артефакты:\n",
    "1. Слишком большое число пассажиров (По правилам один спереди и четыре сзади. Сзади могут быть дети на коленях. Это даёт нам максимум \n",
    "девять).\n",
    "1. Слишком быстрая поездка (На такси можно уехать в другую страну или штат, включая Техас, но мы можем быть весьма уверены, что водитель будет ехать не быстрее 70 миль в час).\n",
    "1. Слишком долгая поездка (8 часов предел на мой взгляд).\n",
    "1. Некорректные координаты высадки пассажира (Посадку мы уже проверили. Расстояние до места высадки должно быть, допустим, не дальше, чем длина\\_маршрута\\*1.1).\n",
    "1. Некорректные RateCodeID, Payment_type.\n",
    "1. Несостоявшиеся поездки (Payment_type==6).\n",
    "1. Некорректная стоимость поездки (меньше нуля, или слишком большая).\n",
    "\n",
    "Ниже функция для расчёта расстояния по координатам ( <https://stackoverflow.com/questions/15736995/how-can-i-quickly-estimate-the-distance-between-two-latitude-longitude-points> ). Чтобы работало веселее, я её векторизовал."
   ]
  },
  {
   "cell_type": "code",
   "execution_count": 10,
   "metadata": {
    "collapsed": true
   },
   "outputs": [],
   "source": [
    "from math import radians, cos, sin, asin, sqrt\n",
    "def haversine(lon1, lat1, lon2, lat2):\n",
    "    \"\"\"\n",
    "    Calculate the great circle distance between two points \n",
    "    on the earth (specified in decimal degrees)\n",
    "    \"\"\"\n",
    "    # convert decimal degrees to radians \n",
    "    lon1, lat1, lon2, lat2 = map(np.radians, [lon1, lat1, lon2, lat2])\n",
    "    # haversine formula \n",
    "    dlon = lon2 - lon1 \n",
    "    dlat = lat2 - lat1 \n",
    "    a = np.sin(dlat/2)**2 + np.cos(lat1) * np.cos(lat2) * np.sin(dlon/2)**2\n",
    "    c = 2 * np.arcsin(np.sqrt(a)) \n",
    "    # 1 km = 0.621371 miles\n",
    "    miles = 6367 * 0.621371 * c\n",
    "    return miles"
   ]
  },
  {
   "cell_type": "markdown",
   "metadata": {},
   "source": [
    "Функции для проверки упомянутых выше критериев"
   ]
  },
  {
   "cell_type": "code",
   "execution_count": 43,
   "metadata": {
    "collapsed": true
   },
   "outputs": [],
   "source": [
    "def check_passengers(d, max_passengers=9):\n",
    "    return ((d.passenger_count < 0) | (d.passenger_count > max_passengers))\n",
    "\n",
    "def check_speed(d, speed_limit=70):\n",
    "    return (d.trip_distance/\n",
    "            ((d.tpep_dropoff_datetime-d.tpep_pickup_datetime).\n",
    "             values.astype(\"timedelta64[s]\").astype(np.float32)\n",
    "             /(60*60))\n",
    "           ) > speed_limit\n",
    "\n",
    "def check_duration(d, max_duration_h=8):\n",
    "    return (d.tpep_dropoff_datetime-d.tpep_pickup_datetime) > np.timedelta64(max_duration_h, \"h\")\n",
    "\n",
    "def check_gps(d, coef=1.1):\n",
    "    return haversine(d.pickup_longitude.values,\n",
    "                     d.pickup_latitude.values,\n",
    "                     d.dropoff_longitude.values,\n",
    "                     d.dropoff_latitude.values) > d.trip_distance.values*coef\n",
    "    \n",
    "def check_ratecode(d):\n",
    "    return (d.RatecodeID < 1) | (d.RatecodeID > 6)\n",
    "\n",
    "def check_payment_type(d):\n",
    "    return (d.payment_type < 1) | (d.payment_type > 6)\n",
    "\n",
    "def check_voided(d):\n",
    "    return (d.payment_type == 6)\n",
    "\n",
    "def check_cost(d, field, max_cost=1000):\n",
    "    return ((d[field] < 0) | (d[field] > max_cost))\n",
    "\n",
    "def check_optional (d, max_passengers=9, speed_limit=70, max_duration_h=8, gps_coef=1.1, max_cost=1000):\n",
    "    return (check_passengers(d, max_passengers)|\n",
    "            check_speed(d, speed_limit)|\n",
    "            check_duration(d, max_duration)|\n",
    "            check_gps(d, gps_coef)|\n",
    "            check_ratecode(d)|\n",
    "            check_payment_type(d)|\n",
    "            check_voided(d)|\n",
    "            check_cost(d, \"extra\", max_cost)|\n",
    "            check_cost(d, \"mta_tax\", max_cost)|\n",
    "            check_cost(d, \"tip_amount\", max_cost)|\n",
    "            check_cost(d, \"tolls_amount\", max_cost)|\n",
    "            check_cost(d, \"improvement_surcharge\", max_cost)|\n",
    "            check_cost(d, \"total_amount\", max_cost))\n",
    "\n",
    "def filter_data_optional(d, max_passengers=9, speed_limit=70, max_duration_h=8, gps_coef=1.1, max_cost=1000):\n",
    "    d.drop(d[ check_optional(d, max_passengers, speed_limit, \n",
    "                             max_duration_h, gps_coef, max_cost) ].index, inplace=True )"
   ]
  },
  {
   "cell_type": "code",
   "execution_count": 12,
   "metadata": {
    "collapsed": true
   },
   "outputs": [],
   "source": [
    "speed_limit = 70\n",
    "max_duration = 8\n",
    "max_cost = 1000"
   ]
  },
  {
   "cell_type": "markdown",
   "metadata": {},
   "source": [
    "Посмотрим, какое количество данных не подходит под эти критерии:"
   ]
  },
  {
   "cell_type": "code",
   "execution_count": 13,
   "metadata": {
    "collapsed": false
   },
   "outputs": [
    {
     "name": "stdout",
     "output_type": "stream",
     "text": [
      "1: Too many passengers: 0\n",
      "2: Faster than 70 mph: 10389\n",
      "3: Longer than 8 h: 17350\n",
      "4: Inconsistent distance/GPS data: 125062\n",
      "5: Wrong RatecodeID or payment_type: 111\n",
      "6: Voided trips: 0\n",
      "7: Wrong cost: \n",
      "\textra: 1839\n",
      "\tmta_tax: 3585\n",
      "\ttip_amount: 25\n",
      "\ttolls_amount: 13\n",
      "\timprovement_surcharge: 3637\n",
      "\ttotal_amount: 3638\n",
      "All criteria: 155127\n"
     ]
    }
   ],
   "source": [
    "print \"1: Too many passengers: \" + str(check_passengers(data).sum())\n",
    "print \"2: Faster than \" + str(speed_limit) + \" mph: \" + str(check_speed(data, speed_limit).sum())\n",
    "print \"3: Longer than \" + str(max_duration) + \" h: \" + str(check_duration(data, max_duration).sum())\n",
    "print \"4: Inconsistent distance/GPS data: \" + str(check_gps(data).sum())\n",
    "print \"5: Wrong RatecodeID or payment_type: \" + str((check_ratecode(data)|check_payment_type(data)).sum())\n",
    "print \"6: Voided trips: \" + str(check_voided(data).sum())\n",
    "print \"7: Wrong cost: \"\n",
    "for f in (\"extra\", \"mta_tax\", \"tip_amount\", \"tolls_amount\", \"improvement_surcharge\", \"total_amount\"):\n",
    "    print \"\\t\" + f +\": \"+ str(check_cost(data, f, max_cost).sum())\n",
    "print \"All criteria: \" + str(check_optional(data).sum())"
   ]
  },
  {
   "cell_type": "markdown",
   "metadata": {},
   "source": [
    "Неплохо. Удалим эти строки тоже. \n",
    "\n",
    "Потом можно будет сделать критерии жёстче, если это улучшит качество предсказания."
   ]
  },
  {
   "cell_type": "code",
   "execution_count": 14,
   "metadata": {
    "collapsed": false
   },
   "outputs": [
    {
     "name": "stdout",
     "output_type": "stream",
     "text": [
      "Before optional artefacts are filtered: 11626521\n",
      "After optional artefacts are filtered: 11471394\n"
     ]
    }
   ],
   "source": [
    "print \"Before optional artefacts are filtered: \" + str(len(data))\n",
    "filter_data_optional(data)\n",
    "print \"After optional artefacts are filtered: \" + str(len(data))"
   ]
  },
  {
   "cell_type": "markdown",
   "metadata": {},
   "source": [
    "## Разбиение на регионы и часы\n",
    "Добавим колонку с областями и колонку с часом."
   ]
  },
  {
   "cell_type": "code",
   "execution_count": 15,
   "metadata": {
    "collapsed": false
   },
   "outputs": [
    {
     "name": "stdout",
     "output_type": "stream",
     "text": [
      "Wrong region count: 0\n"
     ]
    }
   ],
   "source": [
    "data[\"pickup_region\"] = get_area_ids(data.pickup_longitude.values, data.pickup_latitude.values)\n",
    "\n",
    "def check_pickup_regions(d):\n",
    "    return ((d.pickup_region < 1) | (d.pickup_region > 2500))\n",
    "\n",
    "print \"Wrong region count: \" + str(check_pickup_regions(data).sum())\n",
    "\n",
    "def filter_pickup_regions(d):\n",
    "    d.drop(d[ check_pickup_regions(d) ].index, inplace=True )\n",
    "\n",
    "filter_pickup_regions(data)\n",
    "\n",
    "#объединять дни не нужно\n",
    "#data[\"hour\"]=np.uint8([dt.hour for dt in data.tpep_pickup_datetime.astype(object)])\n",
    "\n",
    "data[\"hour\"]=(data.tpep_pickup_datetime.values-np.datetime64(\"2016-05-01\")).astype(\"timedelta64[h]\").astype(np.int16)"
   ]
  },
  {
   "cell_type": "markdown",
   "metadata": {},
   "source": [
    "Число регионов, из которых в мае 2016 хотя бы раз были совершены поездки:"
   ]
  },
  {
   "cell_type": "code",
   "execution_count": 17,
   "metadata": {
    "collapsed": false
   },
   "outputs": [
    {
     "data": {
      "text/plain": [
       "1073"
      ]
     },
     "execution_count": 17,
     "metadata": {},
     "output_type": "execute_result"
    }
   ],
   "source": [
    "data[\"pickup_region\"].unique().shape[0]"
   ]
  },
  {
   "cell_type": "markdown",
   "metadata": {},
   "source": [
    "### Сохраним результаты\n",
    "Для того, чтобы в следующий раз быстро загрузить данные, воспользуюсь сериализацией cPickle."
   ]
  },
  {
   "cell_type": "code",
   "execution_count": 18,
   "metadata": {
    "collapsed": false
   },
   "outputs": [
    {
     "name": "stdout",
     "output_type": "stream",
     "text": [
      "CPU times: user 412 ms, sys: 1.56 s, total: 1.97 s\n",
      "Wall time: 2.09 s\n"
     ]
    }
   ],
   "source": [
    "%%time\n",
    "with open(\"./data/yellow_tripdata_2016-05.cPickle2\", \"w\") as f:\n",
    "    cPickle.dump(data, f, 2)"
   ]
  },
  {
   "cell_type": "markdown",
   "metadata": {},
   "source": [
    "Считать данные можно так:"
   ]
  },
  {
   "cell_type": "code",
   "execution_count": 19,
   "metadata": {
    "collapsed": false
   },
   "outputs": [
    {
     "name": "stdout",
     "output_type": "stream",
     "text": [
      "CPU times: user 2 µs, sys: 0 ns, total: 2 µs\n",
      "Wall time: 5.96 µs\n"
     ]
    }
   ],
   "source": [
    "%%time\n",
    "if False:\n",
    "    with open(\"./data/yellow_tripdata_2016-05.cPickle2\", \"r\") as f:\n",
    "        data=cPickle.load(f)"
   ]
  },
  {
   "cell_type": "markdown",
   "metadata": {},
   "source": [
    "### Агрегируем по часам и областям\n",
    "\n",
    "Должно получиться 744 корзины для часов * 2500 корзин для регионов."
   ]
  },
  {
   "cell_type": "code",
   "execution_count": 32,
   "metadata": {
    "collapsed": false
   },
   "outputs": [
    {
     "name": "stdout",
     "output_type": "stream",
     "text": [
      "Max. hour: 743\n",
      "Bins boundaries and count:\n",
      "0.5 2500.5 2500\n",
      "-0.5 743.5 744\n"
     ]
    }
   ],
   "source": [
    "binned_stats = stats.binned_statistic_2d(data.pickup_region.values, \n",
    "                                         data.hour.values, \n",
    "                                         None, \n",
    "                                         statistic='count', \n",
    "                                         bins=[np.arange(0.5,2500.+1), np.arange(-0.5,24.*31)])\n",
    "print \"Max. hour: \" + str(24*31-1)\n",
    "print \"Bins boundaries and count:\"\n",
    "print binned_stats.x_edge[0], binned_stats.x_edge[-1], binned_stats.x_edge.shape[0]-1\n",
    "print binned_stats.y_edge[0], binned_stats.y_edge[-1], binned_stats.y_edge.shape[0]-1"
   ]
  },
  {
   "cell_type": "markdown",
   "metadata": {},
   "source": [
    "Первые несколько строк таблицы выглядят совершенно не интересно:"
   ]
  },
  {
   "cell_type": "code",
   "execution_count": 33,
   "metadata": {
    "collapsed": false
   },
   "outputs": [
    {
     "data": {
      "text/plain": [
       "array([[ 0.,  0.,  0., ...,  0.,  0.,  0.],\n",
       "       [ 0.,  0.,  0., ...,  0.,  0.,  0.],\n",
       "       [ 0.,  0.,  0., ...,  0.,  0.,  0.],\n",
       "       ..., \n",
       "       [ 0.,  0.,  0., ...,  0.,  0.,  0.],\n",
       "       [ 0.,  0.,  0., ...,  0.,  0.,  0.],\n",
       "       [ 0.,  0.,  0., ...,  0.,  0.,  0.]])"
      ]
     },
     "execution_count": 33,
     "metadata": {},
     "output_type": "execute_result"
    }
   ],
   "source": [
    "binned_stats.statistic[0:10]"
   ]
  },
  {
   "cell_type": "markdown",
   "metadata": {},
   "source": [
    "Регион, в котором находится Empire state building:"
   ]
  },
  {
   "cell_type": "code",
   "execution_count": 34,
   "metadata": {
    "collapsed": false
   },
   "outputs": [
    {
     "name": "stdout",
     "output_type": "stream",
     "text": [
      "Empire state building region: 1231\n"
     ]
    }
   ],
   "source": [
    "empire_state_building=[-73.9856644, 40.7484405]\n",
    "empire_state_building_region=get_area_ids(*empire_state_building)\n",
    "print \"Empire state building region: \" + str(empire_state_building_region)"
   ]
  },
  {
   "cell_type": "markdown",
   "metadata": {},
   "source": [
    "График зависимости числа поездок от часа:"
   ]
  },
  {
   "cell_type": "code",
   "execution_count": 47,
   "metadata": {
    "collapsed": false
   },
   "outputs": [
    {
     "data": {
      "text/plain": [
       "[<matplotlib.lines.Line2D at 0x10b743fd0>]"
      ]
     },
     "execution_count": 47,
     "metadata": {},
     "output_type": "execute_result"
    },
    {
     "data": {
      "image/png": "[encoded data removed]",
      "text/plain": [
       "<matplotlib.figure.Figure at 0x10b4c23d0>"
      ]
     },
     "metadata": {},
     "output_type": "display_data"
    }
   ],
   "source": [
    "plt.figure(figsize=(10, 5))\n",
    "plt.xlabel(\"Hour\")\n",
    "plt.ylabel(\"Count\")\n",
    "plt.title(\"Trips from Empire state building\")\n",
    "plt.xlim(-1,744)\n",
    "\n",
    "#substract 1 to get bin index\n",
    "plt.plot(binned_stats.statistic[empire_state_building_region-1])"
   ]
  },
  {
   "cell_type": "markdown",
   "metadata": {},
   "source": [
    "На графике видно что-то очень похожее на дневную и недельную сезонность.\n",
    "\n",
    "Число пар час-ячейка в мае 2016, для которых не было совершено ни одной поездки:"
   ]
  },
  {
   "cell_type": "code",
   "execution_count": 41,
   "metadata": {
    "collapsed": false
   },
   "outputs": [
    {
     "name": "stdout",
     "output_type": "stream",
     "text": [
      "Region-hour pairs with zero trips: 1720551 (92%)\n"
     ]
    }
   ],
   "source": [
    "zero_regions=(np.array(binned_stats.statistic.flatten())==0).sum()\n",
    "zero_regions_percent=100*zero_regions/(2500*24*31)\n",
    "print \"Region-hour pairs with zero trips: \" + str(zero_regions) + \" (\" + str(zero_regions_percent) + \"%)\""
   ]
  },
  {
   "cell_type": "markdown",
   "metadata": {},
   "source": [
    "Довольно неожиданный результат, всего 8% корзин содержат данные."
   ]
  },
  {
   "cell_type": "code",
   "execution_count": null,
   "metadata": {
    "collapsed": true
   },
   "outputs": [],
   "source": []
  }
 ],
 "metadata": {
  "kernelspec": {
   "display_name": "Python 2",
   "language": "python",
   "name": "python2"
  },
  "language_info": {
   "codemirror_mode": {
    "name": "ipython",
    "version": 2
   },
   "file_extension": ".py",
   "mimetype": "text/x-python",
   "name": "python",
   "nbconvert_exporter": "python",
   "pygments_lexer": "ipython2",
   "version": "2.7.13"
  }
 },
 "nbformat": 4,
 "nbformat_minor": 2
}
