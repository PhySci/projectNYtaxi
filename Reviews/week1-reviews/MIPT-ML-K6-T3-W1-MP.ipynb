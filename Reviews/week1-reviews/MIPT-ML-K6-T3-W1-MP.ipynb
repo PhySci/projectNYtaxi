{
 "cells": [
  {
   "cell_type": "markdown",
   "metadata": {},
   "source": [
    "# Анализ данных: финальный проект\n",
    "## Прогнозирование временных рядов на карте\n",
    "### I. Знакомство с данными и агрегация\n",
    "Обработка сырых данных по схеме:\n",
    "    * Чистка данных от ошибок и аномалий.\n",
    "    * Удаление минут и секунд во времени начала поездки.\n",
    "    * Разбить прямоугольник Нью-Йорка на 2500 одинаковых прямоугольных областей. Нью-Йорк вписан в прямоугольник от -74.25559 до -73.70001 градусов долготы и от 40.49612 до 40.91553 широты.\n",
    "    * Подсчет количества поездок за каждый час из каждой области. При этом, если в сырых данных для какой-то пары час-область нет ни одной записи, то в агрегированных данных для неё должен стоять 0.\n",
    "    \n",
    "Задание:\n",
    "1. Загрузите данные за май 2016 года.\n",
    "2. Проведите фильтрацию: удалите поездки с\n",
    "    * нулевой длительностью\n",
    "    * нулевым количеством пассажиров\n",
    "    * нулевым расстоянием поездки по счётчику\n",
    "    * координатами начала, не попадающими в прямоугольник Нью-Йорка\n",
    "3. Агрегируйте данные за май 2016 года по часам и областям (можно использовать функцию stats.binned_statistic_2d, с которой вы сталкивались в заданиях четвёртого курса). Не забудьте проверить, что идентификаторы, которые вы присваиваете ячейкам, соответствуют приложенному выше файлу.\n",
    "4. Выведите первые строки полученной таблицы.\n",
    "5. Постройте график количества поездок жёлтого такси из ячейки, содержащей Empire State Building.\n",
    "6. Посчитайте, сколько в мае 2016 было пар час-ячейка, для которых не было совершено ни одной поездки."
   ]
  },
  {
   "cell_type": "code",
   "execution_count": 72,
   "metadata": {
    "collapsed": true
   },
   "outputs": [],
   "source": [
    "import numpy as np\n",
    "import pandas as pd\n",
    "from scipy.stats import binned_statistic_2d\n",
    "import matplotlib.pyplot as plt\n",
    "\n",
    "%matplotlib inline"
   ]
  },
  {
   "cell_type": "markdown",
   "metadata": {},
   "source": [
    "## 1. Загрузка данных за май 2016 года.\n",
    "Так как файл с данными большой (1,8 ГБ), желательно загружать его, указывая типы полей, так как иначе определение типа происходит позже, когда уже все данные в памяти."
   ]
  },
  {
   "cell_type": "code",
   "execution_count": 2,
   "metadata": {
    "collapsed": false
   },
   "outputs": [
    {
     "name": "stdout",
     "output_type": "stream",
     "text": [
      "Wall time: 36.1 s\n"
     ]
    }
   ],
   "source": [
    "%%time\n",
    "df = pd.read_csv(\"yellow_tripdata_2016-05.csv\", sep=',', dtype={\"VendorID\":np.int8,\n",
    "                                                                            \"passenger_count\":np.int8,\n",
    "                                                                            \"trip_distance\":float,\n",
    "                                                                            \"pickup_longitude\":float,\n",
    "                                                                            \"pickup_latitude\":float,\n",
    "                                                                            \"RatecodeID\":np.int8,\n",
    "                                                                            \"store_and_fwd_flag\":str,\n",
    "                                                                            \"dropoff_longitude\":float,\n",
    "                                                                            \"dropoff_latitude\":float,\n",
    "                                                                            \"payment_type\":np.int8,\n",
    "                                                                            \"fare_amount\":float,\n",
    "                                                                            \"extra\":float,\n",
    "                                                                            \"mta_tax\":float,\n",
    "                                                                            \"tip_amount\":float,\n",
    "                                                                            \"tolls_amount\":float,\n",
    "                                                                            \"improvement_surcharge\":float,\n",
    "                                                                            \"total_amount\":float})"
   ]
  },
  {
   "cell_type": "code",
   "execution_count": 3,
   "metadata": {
    "collapsed": false
   },
   "outputs": [],
   "source": [
    "df['store_and_fwd_flag'].replace(['N', 'Y'],[0, 1], inplace=True)\n",
    "df['store_and_fwd_flag'] = df['store_and_fwd_flag'].astype(np.int8)"
   ]
  },
  {
   "cell_type": "code",
   "execution_count": 4,
   "metadata": {
    "collapsed": false
   },
   "outputs": [],
   "source": [
    "df[\"tpep_pickup_datetime\"] = pd.to_datetime(df[\"tpep_pickup_datetime\"],format=\"%Y-%m-%d %H:%M:%S\")\n",
    "df[\"tpep_dropoff_datetime\"] = pd.to_datetime(df[\"tpep_dropoff_datetime\"],format=\"%Y-%m-%d %H:%M:%S\")\n",
    "df['trip_duration'] = (df[\"tpep_dropoff_datetime\"] - df[\"tpep_pickup_datetime\"]).astype('timedelta64[s]')\n",
    "del(df['tpep_dropoff_datetime'])"
   ]
  },
  {
   "cell_type": "code",
   "execution_count": 5,
   "metadata": {
    "collapsed": true
   },
   "outputs": [],
   "source": [
    "# Сократим формат даты и времени старта до даты и часов.\n",
    "df.tpep_pickup_datetime =df.tpep_pickup_datetime.map(lambda t: t.strftime('%Y-%m-%d %H'))\n",
    "\n",
    "# Вариант:\n",
    "# df['tpep_pickup_datetime'] = df['tpep_pickup_datetime'].values.astype('<M8[h]')"
   ]
  },
  {
   "cell_type": "code",
   "execution_count": 6,
   "metadata": {
    "collapsed": false
   },
   "outputs": [
    {
     "data": {
      "text/html": [
       "<div>\n",
       "<table border=\"1\" class=\"dataframe\">\n",
       "  <thead>\n",
       "    <tr style=\"text-align: right;\">\n",
       "      <th></th>\n",
       "      <th>VendorID</th>\n",
       "      <th>tpep_pickup_datetime</th>\n",
       "      <th>passenger_count</th>\n",
       "      <th>trip_distance</th>\n",
       "      <th>pickup_longitude</th>\n",
       "      <th>pickup_latitude</th>\n",
       "      <th>RatecodeID</th>\n",
       "      <th>store_and_fwd_flag</th>\n",
       "      <th>dropoff_longitude</th>\n",
       "      <th>dropoff_latitude</th>\n",
       "      <th>payment_type</th>\n",
       "      <th>fare_amount</th>\n",
       "      <th>extra</th>\n",
       "      <th>mta_tax</th>\n",
       "      <th>tip_amount</th>\n",
       "      <th>tolls_amount</th>\n",
       "      <th>improvement_surcharge</th>\n",
       "      <th>total_amount</th>\n",
       "      <th>trip_duration</th>\n",
       "    </tr>\n",
       "  </thead>\n",
       "  <tbody>\n",
       "    <tr>\n",
       "      <th>0</th>\n",
       "      <td>1</td>\n",
       "      <td>2016-05-01 00</td>\n",
       "      <td>1</td>\n",
       "      <td>3.60</td>\n",
       "      <td>-73.985901</td>\n",
       "      <td>40.768040</td>\n",
       "      <td>1</td>\n",
       "      <td>0</td>\n",
       "      <td>-73.983986</td>\n",
       "      <td>40.730099</td>\n",
       "      <td>1</td>\n",
       "      <td>15.0</td>\n",
       "      <td>0.5</td>\n",
       "      <td>0.5</td>\n",
       "      <td>1.50</td>\n",
       "      <td>0.0</td>\n",
       "      <td>0.3</td>\n",
       "      <td>17.80</td>\n",
       "      <td>1051.0</td>\n",
       "    </tr>\n",
       "    <tr>\n",
       "      <th>1</th>\n",
       "      <td>2</td>\n",
       "      <td>2016-05-01 00</td>\n",
       "      <td>1</td>\n",
       "      <td>1.68</td>\n",
       "      <td>-73.991577</td>\n",
       "      <td>40.744751</td>\n",
       "      <td>1</td>\n",
       "      <td>0</td>\n",
       "      <td>-73.975700</td>\n",
       "      <td>40.765469</td>\n",
       "      <td>1</td>\n",
       "      <td>7.5</td>\n",
       "      <td>0.5</td>\n",
       "      <td>0.5</td>\n",
       "      <td>0.88</td>\n",
       "      <td>0.0</td>\n",
       "      <td>0.3</td>\n",
       "      <td>9.68</td>\n",
       "      <td>451.0</td>\n",
       "    </tr>\n",
       "    <tr>\n",
       "      <th>2</th>\n",
       "      <td>2</td>\n",
       "      <td>2016-05-01 00</td>\n",
       "      <td>6</td>\n",
       "      <td>1.09</td>\n",
       "      <td>-73.993073</td>\n",
       "      <td>40.741573</td>\n",
       "      <td>1</td>\n",
       "      <td>0</td>\n",
       "      <td>-73.980995</td>\n",
       "      <td>40.744633</td>\n",
       "      <td>1</td>\n",
       "      <td>6.5</td>\n",
       "      <td>0.5</td>\n",
       "      <td>0.5</td>\n",
       "      <td>1.56</td>\n",
       "      <td>0.0</td>\n",
       "      <td>0.3</td>\n",
       "      <td>9.36</td>\n",
       "      <td>421.0</td>\n",
       "    </tr>\n",
       "    <tr>\n",
       "      <th>3</th>\n",
       "      <td>2</td>\n",
       "      <td>2016-05-01 00</td>\n",
       "      <td>1</td>\n",
       "      <td>4.21</td>\n",
       "      <td>-73.991943</td>\n",
       "      <td>40.684601</td>\n",
       "      <td>1</td>\n",
       "      <td>0</td>\n",
       "      <td>-74.002258</td>\n",
       "      <td>40.733002</td>\n",
       "      <td>1</td>\n",
       "      <td>17.0</td>\n",
       "      <td>0.5</td>\n",
       "      <td>0.5</td>\n",
       "      <td>3.66</td>\n",
       "      <td>0.0</td>\n",
       "      <td>0.3</td>\n",
       "      <td>21.96</td>\n",
       "      <td>1187.0</td>\n",
       "    </tr>\n",
       "    <tr>\n",
       "      <th>4</th>\n",
       "      <td>2</td>\n",
       "      <td>2016-05-01 00</td>\n",
       "      <td>1</td>\n",
       "      <td>0.56</td>\n",
       "      <td>-74.005280</td>\n",
       "      <td>40.740192</td>\n",
       "      <td>1</td>\n",
       "      <td>0</td>\n",
       "      <td>-73.997498</td>\n",
       "      <td>40.737564</td>\n",
       "      <td>1</td>\n",
       "      <td>6.0</td>\n",
       "      <td>0.5</td>\n",
       "      <td>0.5</td>\n",
       "      <td>1.46</td>\n",
       "      <td>0.0</td>\n",
       "      <td>0.3</td>\n",
       "      <td>8.76</td>\n",
       "      <td>399.0</td>\n",
       "    </tr>\n",
       "  </tbody>\n",
       "</table>\n",
       "</div>"
      ],
      "text/plain": [
       "   VendorID tpep_pickup_datetime  passenger_count  trip_distance  \\\n",
       "0         1        2016-05-01 00                1           3.60   \n",
       "1         2        2016-05-01 00                1           1.68   \n",
       "2         2        2016-05-01 00                6           1.09   \n",
       "3         2        2016-05-01 00                1           4.21   \n",
       "4         2        2016-05-01 00                1           0.56   \n",
       "\n",
       "   pickup_longitude  pickup_latitude  RatecodeID  store_and_fwd_flag  \\\n",
       "0        -73.985901        40.768040           1                   0   \n",
       "1        -73.991577        40.744751           1                   0   \n",
       "2        -73.993073        40.741573           1                   0   \n",
       "3        -73.991943        40.684601           1                   0   \n",
       "4        -74.005280        40.740192           1                   0   \n",
       "\n",
       "   dropoff_longitude  dropoff_latitude  payment_type  fare_amount  extra  \\\n",
       "0         -73.983986         40.730099             1         15.0    0.5   \n",
       "1         -73.975700         40.765469             1          7.5    0.5   \n",
       "2         -73.980995         40.744633             1          6.5    0.5   \n",
       "3         -74.002258         40.733002             1         17.0    0.5   \n",
       "4         -73.997498         40.737564             1          6.0    0.5   \n",
       "\n",
       "   mta_tax  tip_amount  tolls_amount  improvement_surcharge  total_amount  \\\n",
       "0      0.5        1.50           0.0                    0.3         17.80   \n",
       "1      0.5        0.88           0.0                    0.3          9.68   \n",
       "2      0.5        1.56           0.0                    0.3          9.36   \n",
       "3      0.5        3.66           0.0                    0.3         21.96   \n",
       "4      0.5        1.46           0.0                    0.3          8.76   \n",
       "\n",
       "   trip_duration  \n",
       "0         1051.0  \n",
       "1          451.0  \n",
       "2          421.0  \n",
       "3         1187.0  \n",
       "4          399.0  "
      ]
     },
     "execution_count": 6,
     "metadata": {},
     "output_type": "execute_result"
    }
   ],
   "source": [
    "df.head()"
   ]
  },
  {
   "cell_type": "code",
   "execution_count": 7,
   "metadata": {
    "collapsed": false
   },
   "outputs": [
    {
     "name": "stdout",
     "output_type": "stream",
     "text": [
      "<class 'pandas.core.frame.DataFrame'>\n",
      "RangeIndex: 11836853 entries, 0 to 11836852\n",
      "Data columns (total 19 columns):\n",
      "VendorID                 11836853 non-null int8\n",
      "tpep_pickup_datetime     11836853 non-null object\n",
      "passenger_count          11836853 non-null int8\n",
      "trip_distance            11836853 non-null float64\n",
      "pickup_longitude         11836853 non-null float64\n",
      "pickup_latitude          11836853 non-null float64\n",
      "RatecodeID               11836853 non-null int8\n",
      "store_and_fwd_flag       11836853 non-null int8\n",
      "dropoff_longitude        11836853 non-null float64\n",
      "dropoff_latitude         11836853 non-null float64\n",
      "payment_type             11836853 non-null int8\n",
      "fare_amount              11836853 non-null float64\n",
      "extra                    11836853 non-null float64\n",
      "mta_tax                  11836853 non-null float64\n",
      "tip_amount               11836853 non-null float64\n",
      "tolls_amount             11836853 non-null float64\n",
      "improvement_surcharge    11836853 non-null float64\n",
      "total_amount             11836853 non-null float64\n",
      "trip_duration            11836853 non-null float64\n",
      "dtypes: float64(13), int8(5), object(1)\n",
      "memory usage: 1.3+ GB\n"
     ]
    }
   ],
   "source": [
    "df.info(verbose=True, null_counts=True)"
   ]
  },
  {
   "cell_type": "code",
   "execution_count": 8,
   "metadata": {
    "collapsed": true
   },
   "outputs": [],
   "source": [
    "# make_structure_df - Функция создания пандас-таблицы, описывающей структуру данных \n",
    "# Параметры:\n",
    "# make_col_df - создать таблицу (True) или просто вывести на печать краткую структуру данных (False)\n",
    "# nan_count - показать количетсов пропущенных данных в столбце\n",
    "# max_nuniques_for_print - максимальное количество уникальных значений для вывода в столбце \"uniques\"\n",
    "# max_nuniques_as_categorial - максимальное количество уникальных значений в столбце, при котором тип столбца признаётся категориальным\n",
    "\n",
    "def make_structure_df(data, make_col_df=True, nan_count=False, max_nuniques_for_print = 9, max_nuniques_as_categorial = 9):\n",
    "    \n",
    "    columns=['col_name', 'col_type', 'type', 'nunique', 'uniques',]\n",
    "    \n",
    "    if make_col_df == True:\n",
    "        cols = []\n",
    "    for col_name in data.columns:\n",
    "        \n",
    "        col_nunique = data[col_name].nunique()\n",
    "        ctype = data[col_name].dtype.name\n",
    "        \n",
    "        if make_col_df == True:\n",
    "            if (ctype == 'object') or (col_nunique <= max_nuniques_as_categorial):\n",
    "                col_type = \"categorial\"\n",
    "            elif ctype == 'datetime64[ns]':\n",
    "                col_type = \"datatime\"\n",
    "            else:\n",
    "                col_type = \"numeric\"\n",
    "            \n",
    "            col_uniques = \"...\"\n",
    "            if col_nunique <= max_nuniques_for_print:\n",
    "                col_uniques = data[col_name].unique()\n",
    "            cols.append([col_name, col_type, ctype, col_nunique, col_uniques])\n",
    "    \n",
    "    structure_df = pd.DataFrame(cols, columns=columns)\n",
    "        \n",
    "    if nan_count == True:\n",
    "        structure_df['nan_count'] = data.isnull().sum(axis=0).tolist()\n",
    "    \n",
    "    return structure_df"
   ]
  },
  {
   "cell_type": "code",
   "execution_count": 9,
   "metadata": {
    "collapsed": false
   },
   "outputs": [
    {
     "data": {
      "text/html": [
       "<div>\n",
       "<table border=\"1\" class=\"dataframe\">\n",
       "  <thead>\n",
       "    <tr style=\"text-align: right;\">\n",
       "      <th></th>\n",
       "      <th>col_name</th>\n",
       "      <th>col_type</th>\n",
       "      <th>type</th>\n",
       "      <th>nunique</th>\n",
       "      <th>uniques</th>\n",
       "    </tr>\n",
       "  </thead>\n",
       "  <tbody>\n",
       "    <tr>\n",
       "      <th>0</th>\n",
       "      <td>VendorID</td>\n",
       "      <td>categorial</td>\n",
       "      <td>int8</td>\n",
       "      <td>2</td>\n",
       "      <td>[1, 2]</td>\n",
       "    </tr>\n",
       "    <tr>\n",
       "      <th>1</th>\n",
       "      <td>tpep_pickup_datetime</td>\n",
       "      <td>categorial</td>\n",
       "      <td>object</td>\n",
       "      <td>744</td>\n",
       "      <td>...</td>\n",
       "    </tr>\n",
       "    <tr>\n",
       "      <th>2</th>\n",
       "      <td>passenger_count</td>\n",
       "      <td>numeric</td>\n",
       "      <td>int8</td>\n",
       "      <td>10</td>\n",
       "      <td>...</td>\n",
       "    </tr>\n",
       "    <tr>\n",
       "      <th>3</th>\n",
       "      <td>trip_distance</td>\n",
       "      <td>numeric</td>\n",
       "      <td>float64</td>\n",
       "      <td>4651</td>\n",
       "      <td>...</td>\n",
       "    </tr>\n",
       "    <tr>\n",
       "      <th>4</th>\n",
       "      <td>pickup_longitude</td>\n",
       "      <td>numeric</td>\n",
       "      <td>float64</td>\n",
       "      <td>35393</td>\n",
       "      <td>...</td>\n",
       "    </tr>\n",
       "    <tr>\n",
       "      <th>5</th>\n",
       "      <td>pickup_latitude</td>\n",
       "      <td>numeric</td>\n",
       "      <td>float64</td>\n",
       "      <td>62855</td>\n",
       "      <td>...</td>\n",
       "    </tr>\n",
       "    <tr>\n",
       "      <th>6</th>\n",
       "      <td>RatecodeID</td>\n",
       "      <td>categorial</td>\n",
       "      <td>int8</td>\n",
       "      <td>7</td>\n",
       "      <td>[1, 2, 5, 4, 3, 99, 6]</td>\n",
       "    </tr>\n",
       "    <tr>\n",
       "      <th>7</th>\n",
       "      <td>store_and_fwd_flag</td>\n",
       "      <td>categorial</td>\n",
       "      <td>int8</td>\n",
       "      <td>2</td>\n",
       "      <td>[0, 1]</td>\n",
       "    </tr>\n",
       "    <tr>\n",
       "      <th>8</th>\n",
       "      <td>dropoff_longitude</td>\n",
       "      <td>numeric</td>\n",
       "      <td>float64</td>\n",
       "      <td>55901</td>\n",
       "      <td>...</td>\n",
       "    </tr>\n",
       "    <tr>\n",
       "      <th>9</th>\n",
       "      <td>dropoff_latitude</td>\n",
       "      <td>numeric</td>\n",
       "      <td>float64</td>\n",
       "      <td>89505</td>\n",
       "      <td>...</td>\n",
       "    </tr>\n",
       "    <tr>\n",
       "      <th>10</th>\n",
       "      <td>payment_type</td>\n",
       "      <td>categorial</td>\n",
       "      <td>int8</td>\n",
       "      <td>5</td>\n",
       "      <td>[1, 2, 3, 4, 5]</td>\n",
       "    </tr>\n",
       "    <tr>\n",
       "      <th>11</th>\n",
       "      <td>fare_amount</td>\n",
       "      <td>numeric</td>\n",
       "      <td>float64</td>\n",
       "      <td>1970</td>\n",
       "      <td>...</td>\n",
       "    </tr>\n",
       "    <tr>\n",
       "      <th>12</th>\n",
       "      <td>extra</td>\n",
       "      <td>numeric</td>\n",
       "      <td>float64</td>\n",
       "      <td>74</td>\n",
       "      <td>...</td>\n",
       "    </tr>\n",
       "    <tr>\n",
       "      <th>13</th>\n",
       "      <td>mta_tax</td>\n",
       "      <td>numeric</td>\n",
       "      <td>float64</td>\n",
       "      <td>20</td>\n",
       "      <td>...</td>\n",
       "    </tr>\n",
       "    <tr>\n",
       "      <th>14</th>\n",
       "      <td>tip_amount</td>\n",
       "      <td>numeric</td>\n",
       "      <td>float64</td>\n",
       "      <td>3714</td>\n",
       "      <td>...</td>\n",
       "    </tr>\n",
       "    <tr>\n",
       "      <th>15</th>\n",
       "      <td>tolls_amount</td>\n",
       "      <td>numeric</td>\n",
       "      <td>float64</td>\n",
       "      <td>1038</td>\n",
       "      <td>...</td>\n",
       "    </tr>\n",
       "    <tr>\n",
       "      <th>16</th>\n",
       "      <td>improvement_surcharge</td>\n",
       "      <td>categorial</td>\n",
       "      <td>float64</td>\n",
       "      <td>8</td>\n",
       "      <td>[0.3, -0.3, 0.0, 0.08, 0.28, -0.28, 3.1, 0.17]</td>\n",
       "    </tr>\n",
       "    <tr>\n",
       "      <th>17</th>\n",
       "      <td>total_amount</td>\n",
       "      <td>numeric</td>\n",
       "      <td>float64</td>\n",
       "      <td>11907</td>\n",
       "      <td>...</td>\n",
       "    </tr>\n",
       "    <tr>\n",
       "      <th>18</th>\n",
       "      <td>trip_duration</td>\n",
       "      <td>numeric</td>\n",
       "      <td>float64</td>\n",
       "      <td>13905</td>\n",
       "      <td>...</td>\n",
       "    </tr>\n",
       "  </tbody>\n",
       "</table>\n",
       "</div>"
      ],
      "text/plain": [
       "                 col_name    col_type     type  nunique  \\\n",
       "0                VendorID  categorial     int8        2   \n",
       "1    tpep_pickup_datetime  categorial   object      744   \n",
       "2         passenger_count     numeric     int8       10   \n",
       "3           trip_distance     numeric  float64     4651   \n",
       "4        pickup_longitude     numeric  float64    35393   \n",
       "5         pickup_latitude     numeric  float64    62855   \n",
       "6              RatecodeID  categorial     int8        7   \n",
       "7      store_and_fwd_flag  categorial     int8        2   \n",
       "8       dropoff_longitude     numeric  float64    55901   \n",
       "9        dropoff_latitude     numeric  float64    89505   \n",
       "10           payment_type  categorial     int8        5   \n",
       "11            fare_amount     numeric  float64     1970   \n",
       "12                  extra     numeric  float64       74   \n",
       "13                mta_tax     numeric  float64       20   \n",
       "14             tip_amount     numeric  float64     3714   \n",
       "15           tolls_amount     numeric  float64     1038   \n",
       "16  improvement_surcharge  categorial  float64        8   \n",
       "17           total_amount     numeric  float64    11907   \n",
       "18          trip_duration     numeric  float64    13905   \n",
       "\n",
       "                                           uniques  \n",
       "0                                           [1, 2]  \n",
       "1                                              ...  \n",
       "2                                              ...  \n",
       "3                                              ...  \n",
       "4                                              ...  \n",
       "5                                              ...  \n",
       "6                           [1, 2, 5, 4, 3, 99, 6]  \n",
       "7                                           [0, 1]  \n",
       "8                                              ...  \n",
       "9                                              ...  \n",
       "10                                 [1, 2, 3, 4, 5]  \n",
       "11                                             ...  \n",
       "12                                             ...  \n",
       "13                                             ...  \n",
       "14                                             ...  \n",
       "15                                             ...  \n",
       "16  [0.3, -0.3, 0.0, 0.08, 0.28, -0.28, 3.1, 0.17]  \n",
       "17                                             ...  \n",
       "18                                             ...  "
      ]
     },
     "execution_count": 9,
     "metadata": {},
     "output_type": "execute_result"
    }
   ],
   "source": [
    "df_structure = make_structure_df(df)\n",
    "df_structure"
   ]
  },
  {
   "cell_type": "code",
   "execution_count": 10,
   "metadata": {
    "collapsed": false
   },
   "outputs": [
    {
     "data": {
      "text/html": [
       "<div>\n",
       "<table border=\"1\" class=\"dataframe\">\n",
       "  <thead>\n",
       "    <tr style=\"text-align: right;\">\n",
       "      <th></th>\n",
       "      <th>VendorID</th>\n",
       "      <th>passenger_count</th>\n",
       "      <th>trip_distance</th>\n",
       "      <th>pickup_longitude</th>\n",
       "      <th>pickup_latitude</th>\n",
       "      <th>RatecodeID</th>\n",
       "      <th>store_and_fwd_flag</th>\n",
       "      <th>dropoff_longitude</th>\n",
       "      <th>dropoff_latitude</th>\n",
       "      <th>payment_type</th>\n",
       "      <th>fare_amount</th>\n",
       "      <th>extra</th>\n",
       "      <th>mta_tax</th>\n",
       "      <th>tip_amount</th>\n",
       "      <th>tolls_amount</th>\n",
       "      <th>improvement_surcharge</th>\n",
       "      <th>total_amount</th>\n",
       "      <th>trip_duration</th>\n",
       "    </tr>\n",
       "  </thead>\n",
       "  <tbody>\n",
       "    <tr>\n",
       "      <th>count</th>\n",
       "      <td>1.183685e+07</td>\n",
       "      <td>1.183685e+07</td>\n",
       "      <td>1.183685e+07</td>\n",
       "      <td>1.183685e+07</td>\n",
       "      <td>1.183685e+07</td>\n",
       "      <td>1.183685e+07</td>\n",
       "      <td>1.183685e+07</td>\n",
       "      <td>1.183685e+07</td>\n",
       "      <td>1.183685e+07</td>\n",
       "      <td>1.183685e+07</td>\n",
       "      <td>1.183685e+07</td>\n",
       "      <td>1.183685e+07</td>\n",
       "      <td>1.183685e+07</td>\n",
       "      <td>1.183685e+07</td>\n",
       "      <td>1.183685e+07</td>\n",
       "      <td>1.183685e+07</td>\n",
       "      <td>1.183685e+07</td>\n",
       "      <td>1.183685e+07</td>\n",
       "    </tr>\n",
       "    <tr>\n",
       "      <th>mean</th>\n",
       "      <td>1.529075e+00</td>\n",
       "      <td>1.662265e+00</td>\n",
       "      <td>6.110069e+00</td>\n",
       "      <td>-7.304978e+01</td>\n",
       "      <td>4.024234e+01</td>\n",
       "      <td>1.045014e+00</td>\n",
       "      <td>5.381329e-03</td>\n",
       "      <td>-7.311869e+01</td>\n",
       "      <td>4.028127e+01</td>\n",
       "      <td>1.349840e+00</td>\n",
       "      <td>1.334066e+01</td>\n",
       "      <td>3.291893e-01</td>\n",
       "      <td>4.972577e-01</td>\n",
       "      <td>1.831982e+00</td>\n",
       "      <td>3.422044e-01</td>\n",
       "      <td>2.996838e-01</td>\n",
       "      <td>1.664095e+01</td>\n",
       "      <td>1.000449e+03</td>\n",
       "    </tr>\n",
       "    <tr>\n",
       "      <th>std</th>\n",
       "      <td>4.991539e-01</td>\n",
       "      <td>1.304418e+00</td>\n",
       "      <td>5.155162e+03</td>\n",
       "      <td>8.212003e+00</td>\n",
       "      <td>4.523904e+00</td>\n",
       "      <td>6.203209e-01</td>\n",
       "      <td>7.315990e-02</td>\n",
       "      <td>7.902544e+00</td>\n",
       "      <td>4.353644e+00</td>\n",
       "      <td>4.942504e-01</td>\n",
       "      <td>1.188799e+01</td>\n",
       "      <td>4.585669e-01</td>\n",
       "      <td>4.473578e-02</td>\n",
       "      <td>2.665043e+00</td>\n",
       "      <td>1.760303e+00</td>\n",
       "      <td>1.300760e-02</td>\n",
       "      <td>1.450379e+01</td>\n",
       "      <td>7.039696e+03</td>\n",
       "    </tr>\n",
       "    <tr>\n",
       "      <th>min</th>\n",
       "      <td>1.000000e+00</td>\n",
       "      <td>0.000000e+00</td>\n",
       "      <td>0.000000e+00</td>\n",
       "      <td>-1.650819e+02</td>\n",
       "      <td>-4.456935e+01</td>\n",
       "      <td>1.000000e+00</td>\n",
       "      <td>0.000000e+00</td>\n",
       "      <td>-1.295732e+02</td>\n",
       "      <td>0.000000e+00</td>\n",
       "      <td>1.000000e+00</td>\n",
       "      <td>-4.100000e+02</td>\n",
       "      <td>-3.900000e+01</td>\n",
       "      <td>-2.700000e+00</td>\n",
       "      <td>-8.000000e+01</td>\n",
       "      <td>-1.500000e+01</td>\n",
       "      <td>-3.000000e-01</td>\n",
       "      <td>-4.103000e+02</td>\n",
       "      <td>-8.188263e+06</td>\n",
       "    </tr>\n",
       "    <tr>\n",
       "      <th>25%</th>\n",
       "      <td>1.000000e+00</td>\n",
       "      <td>1.000000e+00</td>\n",
       "      <td>1.000000e+00</td>\n",
       "      <td>-7.399179e+01</td>\n",
       "      <td>4.073611e+01</td>\n",
       "      <td>1.000000e+00</td>\n",
       "      <td>0.000000e+00</td>\n",
       "      <td>-7.399116e+01</td>\n",
       "      <td>4.073457e+01</td>\n",
       "      <td>1.000000e+00</td>\n",
       "      <td>6.500000e+00</td>\n",
       "      <td>0.000000e+00</td>\n",
       "      <td>5.000000e-01</td>\n",
       "      <td>0.000000e+00</td>\n",
       "      <td>0.000000e+00</td>\n",
       "      <td>3.000000e-01</td>\n",
       "      <td>8.760000e+00</td>\n",
       "      <td>4.070000e+02</td>\n",
       "    </tr>\n",
       "    <tr>\n",
       "      <th>50%</th>\n",
       "      <td>2.000000e+00</td>\n",
       "      <td>1.000000e+00</td>\n",
       "      <td>1.720000e+00</td>\n",
       "      <td>-7.398136e+01</td>\n",
       "      <td>4.075375e+01</td>\n",
       "      <td>1.000000e+00</td>\n",
       "      <td>0.000000e+00</td>\n",
       "      <td>-7.397922e+01</td>\n",
       "      <td>4.075439e+01</td>\n",
       "      <td>1.000000e+00</td>\n",
       "      <td>9.500000e+00</td>\n",
       "      <td>0.000000e+00</td>\n",
       "      <td>5.000000e-01</td>\n",
       "      <td>1.260000e+00</td>\n",
       "      <td>0.000000e+00</td>\n",
       "      <td>3.000000e-01</td>\n",
       "      <td>1.230000e+01</td>\n",
       "      <td>6.880000e+02</td>\n",
       "    </tr>\n",
       "    <tr>\n",
       "      <th>75%</th>\n",
       "      <td>2.000000e+00</td>\n",
       "      <td>2.000000e+00</td>\n",
       "      <td>3.270000e+00</td>\n",
       "      <td>-7.396588e+01</td>\n",
       "      <td>4.076862e+01</td>\n",
       "      <td>1.000000e+00</td>\n",
       "      <td>0.000000e+00</td>\n",
       "      <td>-7.396164e+01</td>\n",
       "      <td>4.077012e+01</td>\n",
       "      <td>2.000000e+00</td>\n",
       "      <td>1.500000e+01</td>\n",
       "      <td>5.000000e-01</td>\n",
       "      <td>5.000000e-01</td>\n",
       "      <td>2.450000e+00</td>\n",
       "      <td>0.000000e+00</td>\n",
       "      <td>3.000000e-01</td>\n",
       "      <td>1.836000e+01</td>\n",
       "      <td>1.131000e+03</td>\n",
       "    </tr>\n",
       "    <tr>\n",
       "      <th>max</th>\n",
       "      <td>2.000000e+00</td>\n",
       "      <td>9.000000e+00</td>\n",
       "      <td>1.200000e+07</td>\n",
       "      <td>1.184089e+02</td>\n",
       "      <td>5.366724e+01</td>\n",
       "      <td>9.900000e+01</td>\n",
       "      <td>1.000000e+00</td>\n",
       "      <td>0.000000e+00</td>\n",
       "      <td>7.012994e+01</td>\n",
       "      <td>5.000000e+00</td>\n",
       "      <td>8.007000e+03</td>\n",
       "      <td>7.900000e+01</td>\n",
       "      <td>4.030000e+01</td>\n",
       "      <td>7.500000e+02</td>\n",
       "      <td>1.120680e+03</td>\n",
       "      <td>3.100000e+00</td>\n",
       "      <td>8.007800e+03</td>\n",
       "      <td>6.056060e+05</td>\n",
       "    </tr>\n",
       "  </tbody>\n",
       "</table>\n",
       "</div>"
      ],
      "text/plain": [
       "           VendorID  passenger_count  trip_distance  pickup_longitude  \\\n",
       "count  1.183685e+07     1.183685e+07   1.183685e+07      1.183685e+07   \n",
       "mean   1.529075e+00     1.662265e+00   6.110069e+00     -7.304978e+01   \n",
       "std    4.991539e-01     1.304418e+00   5.155162e+03      8.212003e+00   \n",
       "min    1.000000e+00     0.000000e+00   0.000000e+00     -1.650819e+02   \n",
       "25%    1.000000e+00     1.000000e+00   1.000000e+00     -7.399179e+01   \n",
       "50%    2.000000e+00     1.000000e+00   1.720000e+00     -7.398136e+01   \n",
       "75%    2.000000e+00     2.000000e+00   3.270000e+00     -7.396588e+01   \n",
       "max    2.000000e+00     9.000000e+00   1.200000e+07      1.184089e+02   \n",
       "\n",
       "       pickup_latitude    RatecodeID  store_and_fwd_flag  dropoff_longitude  \\\n",
       "count     1.183685e+07  1.183685e+07        1.183685e+07       1.183685e+07   \n",
       "mean      4.024234e+01  1.045014e+00        5.381329e-03      -7.311869e+01   \n",
       "std       4.523904e+00  6.203209e-01        7.315990e-02       7.902544e+00   \n",
       "min      -4.456935e+01  1.000000e+00        0.000000e+00      -1.295732e+02   \n",
       "25%       4.073611e+01  1.000000e+00        0.000000e+00      -7.399116e+01   \n",
       "50%       4.075375e+01  1.000000e+00        0.000000e+00      -7.397922e+01   \n",
       "75%       4.076862e+01  1.000000e+00        0.000000e+00      -7.396164e+01   \n",
       "max       5.366724e+01  9.900000e+01        1.000000e+00       0.000000e+00   \n",
       "\n",
       "       dropoff_latitude  payment_type   fare_amount         extra  \\\n",
       "count      1.183685e+07  1.183685e+07  1.183685e+07  1.183685e+07   \n",
       "mean       4.028127e+01  1.349840e+00  1.334066e+01  3.291893e-01   \n",
       "std        4.353644e+00  4.942504e-01  1.188799e+01  4.585669e-01   \n",
       "min        0.000000e+00  1.000000e+00 -4.100000e+02 -3.900000e+01   \n",
       "25%        4.073457e+01  1.000000e+00  6.500000e+00  0.000000e+00   \n",
       "50%        4.075439e+01  1.000000e+00  9.500000e+00  0.000000e+00   \n",
       "75%        4.077012e+01  2.000000e+00  1.500000e+01  5.000000e-01   \n",
       "max        7.012994e+01  5.000000e+00  8.007000e+03  7.900000e+01   \n",
       "\n",
       "            mta_tax    tip_amount  tolls_amount  improvement_surcharge  \\\n",
       "count  1.183685e+07  1.183685e+07  1.183685e+07           1.183685e+07   \n",
       "mean   4.972577e-01  1.831982e+00  3.422044e-01           2.996838e-01   \n",
       "std    4.473578e-02  2.665043e+00  1.760303e+00           1.300760e-02   \n",
       "min   -2.700000e+00 -8.000000e+01 -1.500000e+01          -3.000000e-01   \n",
       "25%    5.000000e-01  0.000000e+00  0.000000e+00           3.000000e-01   \n",
       "50%    5.000000e-01  1.260000e+00  0.000000e+00           3.000000e-01   \n",
       "75%    5.000000e-01  2.450000e+00  0.000000e+00           3.000000e-01   \n",
       "max    4.030000e+01  7.500000e+02  1.120680e+03           3.100000e+00   \n",
       "\n",
       "       total_amount  trip_duration  \n",
       "count  1.183685e+07   1.183685e+07  \n",
       "mean   1.664095e+01   1.000449e+03  \n",
       "std    1.450379e+01   7.039696e+03  \n",
       "min   -4.103000e+02  -8.188263e+06  \n",
       "25%    8.760000e+00   4.070000e+02  \n",
       "50%    1.230000e+01   6.880000e+02  \n",
       "75%    1.836000e+01   1.131000e+03  \n",
       "max    8.007800e+03   6.056060e+05  "
      ]
     },
     "execution_count": 10,
     "metadata": {},
     "output_type": "execute_result"
    }
   ],
   "source": [
    "df.describe()"
   ]
  },
  {
   "cell_type": "markdown",
   "metadata": {},
   "source": [
    "## Фильтрация данных"
   ]
  },
  {
   "cell_type": "code",
   "execution_count": 11,
   "metadata": {
    "collapsed": true
   },
   "outputs": [],
   "source": [
    "# Удаление поездок с нулевой и отрицательной длительностью\n",
    "df = df[df.trip_duration > 0]"
   ]
  },
  {
   "cell_type": "code",
   "execution_count": 12,
   "metadata": {
    "collapsed": true
   },
   "outputs": [],
   "source": [
    "# Удаление поездок с нулевым количеством пассажиров\n",
    "df = df[df.passenger_count != 0]"
   ]
  },
  {
   "cell_type": "code",
   "execution_count": 13,
   "metadata": {
    "collapsed": true
   },
   "outputs": [],
   "source": [
    "# Удаление поездок с нулевым расстоянием поездки по счётчику\n",
    "df = df[df.trip_distance != 0]"
   ]
  },
  {
   "cell_type": "markdown",
   "metadata": {},
   "source": [
    "Нью-Йорк вписан в прямоугольник от -74.25559 до -73.70001 градусов долготы и от 40.49612 до 40.91553 широты.\n",
    "Отфильтруем значения не входящие в эти ограничения координат."
   ]
  },
  {
   "cell_type": "code",
   "execution_count": 14,
   "metadata": {
    "collapsed": true
   },
   "outputs": [],
   "source": [
    "min_lat = 40.49612\n",
    "max_lat = 40.91553\n",
    "min_lon = -74.25559\n",
    "max_lon = -73.70001\n",
    "df = df[df.pickup_longitude >= min_lon]\n",
    "df = df[df.pickup_longitude <= max_lon]\n",
    "df = df[df.pickup_latitude >= min_lat]\n",
    "df = df[df.pickup_latitude <= max_lat]"
   ]
  },
  {
   "cell_type": "code",
   "execution_count": 113,
   "metadata": {
    "collapsed": true
   },
   "outputs": [],
   "source": [
    "# Или можно было одной строкой:\n",
    "# df = df[(df.trip_distance > 0) & (df.passenger_count > 0) & (df.fare_amount > 0) & (df.pickup_longitude >= -74.25559) & (df.pickup_longitude <= -73.70001) & (df.pickup_latitude >= 40.49612) & (df.pickup_latitude <= 40.91553)]"
   ]
  },
  {
   "cell_type": "code",
   "execution_count": 15,
   "metadata": {
    "collapsed": false
   },
   "outputs": [
    {
     "name": "stdout",
     "output_type": "stream",
     "text": [
      "<class 'pandas.core.frame.DataFrame'>\n",
      "Int64Index: 11626521 entries, 0 to 11836841\n",
      "Data columns (total 19 columns):\n",
      "VendorID                 int8\n",
      "tpep_pickup_datetime     object\n",
      "passenger_count          int8\n",
      "trip_distance            float64\n",
      "pickup_longitude         float64\n",
      "pickup_latitude          float64\n",
      "RatecodeID               int8\n",
      "store_and_fwd_flag       int8\n",
      "dropoff_longitude        float64\n",
      "dropoff_latitude         float64\n",
      "payment_type             int8\n",
      "fare_amount              float64\n",
      "extra                    float64\n",
      "mta_tax                  float64\n",
      "tip_amount               float64\n",
      "tolls_amount             float64\n",
      "improvement_surcharge    float64\n",
      "total_amount             float64\n",
      "trip_duration            float64\n",
      "dtypes: float64(13), int8(5), object(1)\n",
      "memory usage: 1.4+ GB\n"
     ]
    }
   ],
   "source": [
    "df.info()"
   ]
  },
  {
   "cell_type": "code",
   "execution_count": 16,
   "metadata": {
    "collapsed": false
   },
   "outputs": [
    {
     "data": {
      "text/html": [
       "<div>\n",
       "<table border=\"1\" class=\"dataframe\">\n",
       "  <thead>\n",
       "    <tr style=\"text-align: right;\">\n",
       "      <th></th>\n",
       "      <th>VendorID</th>\n",
       "      <th>passenger_count</th>\n",
       "      <th>trip_distance</th>\n",
       "      <th>pickup_longitude</th>\n",
       "      <th>pickup_latitude</th>\n",
       "      <th>RatecodeID</th>\n",
       "      <th>store_and_fwd_flag</th>\n",
       "      <th>dropoff_longitude</th>\n",
       "      <th>dropoff_latitude</th>\n",
       "      <th>payment_type</th>\n",
       "      <th>fare_amount</th>\n",
       "      <th>extra</th>\n",
       "      <th>mta_tax</th>\n",
       "      <th>tip_amount</th>\n",
       "      <th>tolls_amount</th>\n",
       "      <th>improvement_surcharge</th>\n",
       "      <th>total_amount</th>\n",
       "      <th>trip_duration</th>\n",
       "    </tr>\n",
       "  </thead>\n",
       "  <tbody>\n",
       "    <tr>\n",
       "      <th>count</th>\n",
       "      <td>1.162652e+07</td>\n",
       "      <td>1.162652e+07</td>\n",
       "      <td>1.162652e+07</td>\n",
       "      <td>1.162652e+07</td>\n",
       "      <td>1.162652e+07</td>\n",
       "      <td>1.162652e+07</td>\n",
       "      <td>1.162652e+07</td>\n",
       "      <td>1.162652e+07</td>\n",
       "      <td>1.162652e+07</td>\n",
       "      <td>1.162652e+07</td>\n",
       "      <td>1.162652e+07</td>\n",
       "      <td>1.162652e+07</td>\n",
       "      <td>1.162652e+07</td>\n",
       "      <td>1.162652e+07</td>\n",
       "      <td>1.162652e+07</td>\n",
       "      <td>1.162652e+07</td>\n",
       "      <td>1.162652e+07</td>\n",
       "      <td>1.162652e+07</td>\n",
       "    </tr>\n",
       "    <tr>\n",
       "      <th>mean</th>\n",
       "      <td>1.532216e+00</td>\n",
       "      <td>1.665547e+00</td>\n",
       "      <td>6.183120e+00</td>\n",
       "      <td>-7.397297e+01</td>\n",
       "      <td>4.075091e+01</td>\n",
       "      <td>1.035855e+00</td>\n",
       "      <td>5.189515e-03</td>\n",
       "      <td>-7.394901e+01</td>\n",
       "      <td>4.073869e+01</td>\n",
       "      <td>1.346877e+00</td>\n",
       "      <td>1.329009e+01</td>\n",
       "      <td>3.293084e-01</td>\n",
       "      <td>4.979773e-01</td>\n",
       "      <td>1.827028e+00</td>\n",
       "      <td>3.411761e-01</td>\n",
       "      <td>2.998080e-01</td>\n",
       "      <td>1.658536e+01</td>\n",
       "      <td>1.010139e+03</td>\n",
       "    </tr>\n",
       "    <tr>\n",
       "      <th>std</th>\n",
       "      <td>4.989611e-01</td>\n",
       "      <td>1.307689e+00</td>\n",
       "      <td>5.201581e+03</td>\n",
       "      <td>3.891102e-02</td>\n",
       "      <td>2.853368e-02</td>\n",
       "      <td>3.893456e-01</td>\n",
       "      <td>7.185112e-02</td>\n",
       "      <td>1.328789e+00</td>\n",
       "      <td>7.327153e-01</td>\n",
       "      <td>4.908161e-01</td>\n",
       "      <td>1.112288e+01</td>\n",
       "      <td>4.467856e-01</td>\n",
       "      <td>3.449482e-02</td>\n",
       "      <td>2.573152e+00</td>\n",
       "      <td>1.713772e+00</td>\n",
       "      <td>1.067103e-02</td>\n",
       "      <td>1.381537e+01</td>\n",
       "      <td>3.286354e+03</td>\n",
       "    </tr>\n",
       "    <tr>\n",
       "      <th>min</th>\n",
       "      <td>1.000000e+00</td>\n",
       "      <td>1.000000e+00</td>\n",
       "      <td>1.000000e-02</td>\n",
       "      <td>-7.425517e+01</td>\n",
       "      <td>4.051407e+01</td>\n",
       "      <td>1.000000e+00</td>\n",
       "      <td>0.000000e+00</td>\n",
       "      <td>-9.521244e+01</td>\n",
       "      <td>0.000000e+00</td>\n",
       "      <td>1.000000e+00</td>\n",
       "      <td>-2.750000e+02</td>\n",
       "      <td>-4.500000e+00</td>\n",
       "      <td>-5.000000e-01</td>\n",
       "      <td>-8.000000e+01</td>\n",
       "      <td>-1.500000e+01</td>\n",
       "      <td>-3.000000e-01</td>\n",
       "      <td>-2.753000e+02</td>\n",
       "      <td>1.000000e+00</td>\n",
       "    </tr>\n",
       "    <tr>\n",
       "      <th>25%</th>\n",
       "      <td>1.000000e+00</td>\n",
       "      <td>1.000000e+00</td>\n",
       "      <td>1.020000e+00</td>\n",
       "      <td>-7.399193e+01</td>\n",
       "      <td>4.073718e+01</td>\n",
       "      <td>1.000000e+00</td>\n",
       "      <td>0.000000e+00</td>\n",
       "      <td>-7.399126e+01</td>\n",
       "      <td>4.073568e+01</td>\n",
       "      <td>1.000000e+00</td>\n",
       "      <td>6.500000e+00</td>\n",
       "      <td>0.000000e+00</td>\n",
       "      <td>5.000000e-01</td>\n",
       "      <td>0.000000e+00</td>\n",
       "      <td>0.000000e+00</td>\n",
       "      <td>3.000000e-01</td>\n",
       "      <td>8.760000e+00</td>\n",
       "      <td>4.110000e+02</td>\n",
       "    </tr>\n",
       "    <tr>\n",
       "      <th>50%</th>\n",
       "      <td>2.000000e+00</td>\n",
       "      <td>1.000000e+00</td>\n",
       "      <td>1.750000e+00</td>\n",
       "      <td>-7.398161e+01</td>\n",
       "      <td>4.075435e+01</td>\n",
       "      <td>1.000000e+00</td>\n",
       "      <td>0.000000e+00</td>\n",
       "      <td>-7.397950e+01</td>\n",
       "      <td>4.075484e+01</td>\n",
       "      <td>1.000000e+00</td>\n",
       "      <td>9.500000e+00</td>\n",
       "      <td>0.000000e+00</td>\n",
       "      <td>5.000000e-01</td>\n",
       "      <td>1.320000e+00</td>\n",
       "      <td>0.000000e+00</td>\n",
       "      <td>3.000000e-01</td>\n",
       "      <td>1.230000e+01</td>\n",
       "      <td>6.910000e+02</td>\n",
       "    </tr>\n",
       "    <tr>\n",
       "      <th>75%</th>\n",
       "      <td>2.000000e+00</td>\n",
       "      <td>2.000000e+00</td>\n",
       "      <td>3.300000e+00</td>\n",
       "      <td>-7.396674e+01</td>\n",
       "      <td>4.076882e+01</td>\n",
       "      <td>1.000000e+00</td>\n",
       "      <td>0.000000e+00</td>\n",
       "      <td>-7.396247e+01</td>\n",
       "      <td>4.077037e+01</td>\n",
       "      <td>2.000000e+00</td>\n",
       "      <td>1.500000e+01</td>\n",
       "      <td>5.000000e-01</td>\n",
       "      <td>5.000000e-01</td>\n",
       "      <td>2.450000e+00</td>\n",
       "      <td>0.000000e+00</td>\n",
       "      <td>3.000000e-01</td>\n",
       "      <td>1.836000e+01</td>\n",
       "      <td>1.135000e+03</td>\n",
       "    </tr>\n",
       "    <tr>\n",
       "      <th>max</th>\n",
       "      <td>2.000000e+00</td>\n",
       "      <td>9.000000e+00</td>\n",
       "      <td>1.200000e+07</td>\n",
       "      <td>-7.370009e+01</td>\n",
       "      <td>4.091525e+01</td>\n",
       "      <td>9.900000e+01</td>\n",
       "      <td>1.000000e+00</td>\n",
       "      <td>0.000000e+00</td>\n",
       "      <td>7.012994e+01</td>\n",
       "      <td>5.000000e+00</td>\n",
       "      <td>9.520000e+02</td>\n",
       "      <td>7.900000e+01</td>\n",
       "      <td>1.635000e+01</td>\n",
       "      <td>6.500000e+02</td>\n",
       "      <td>1.120680e+03</td>\n",
       "      <td>3.000000e-01</td>\n",
       "      <td>1.173480e+03</td>\n",
       "      <td>6.056060e+05</td>\n",
       "    </tr>\n",
       "  </tbody>\n",
       "</table>\n",
       "</div>"
      ],
      "text/plain": [
       "           VendorID  passenger_count  trip_distance  pickup_longitude  \\\n",
       "count  1.162652e+07     1.162652e+07   1.162652e+07      1.162652e+07   \n",
       "mean   1.532216e+00     1.665547e+00   6.183120e+00     -7.397297e+01   \n",
       "std    4.989611e-01     1.307689e+00   5.201581e+03      3.891102e-02   \n",
       "min    1.000000e+00     1.000000e+00   1.000000e-02     -7.425517e+01   \n",
       "25%    1.000000e+00     1.000000e+00   1.020000e+00     -7.399193e+01   \n",
       "50%    2.000000e+00     1.000000e+00   1.750000e+00     -7.398161e+01   \n",
       "75%    2.000000e+00     2.000000e+00   3.300000e+00     -7.396674e+01   \n",
       "max    2.000000e+00     9.000000e+00   1.200000e+07     -7.370009e+01   \n",
       "\n",
       "       pickup_latitude    RatecodeID  store_and_fwd_flag  dropoff_longitude  \\\n",
       "count     1.162652e+07  1.162652e+07        1.162652e+07       1.162652e+07   \n",
       "mean      4.075091e+01  1.035855e+00        5.189515e-03      -7.394901e+01   \n",
       "std       2.853368e-02  3.893456e-01        7.185112e-02       1.328789e+00   \n",
       "min       4.051407e+01  1.000000e+00        0.000000e+00      -9.521244e+01   \n",
       "25%       4.073718e+01  1.000000e+00        0.000000e+00      -7.399126e+01   \n",
       "50%       4.075435e+01  1.000000e+00        0.000000e+00      -7.397950e+01   \n",
       "75%       4.076882e+01  1.000000e+00        0.000000e+00      -7.396247e+01   \n",
       "max       4.091525e+01  9.900000e+01        1.000000e+00       0.000000e+00   \n",
       "\n",
       "       dropoff_latitude  payment_type   fare_amount         extra  \\\n",
       "count      1.162652e+07  1.162652e+07  1.162652e+07  1.162652e+07   \n",
       "mean       4.073869e+01  1.346877e+00  1.329009e+01  3.293084e-01   \n",
       "std        7.327153e-01  4.908161e-01  1.112288e+01  4.467856e-01   \n",
       "min        0.000000e+00  1.000000e+00 -2.750000e+02 -4.500000e+00   \n",
       "25%        4.073568e+01  1.000000e+00  6.500000e+00  0.000000e+00   \n",
       "50%        4.075484e+01  1.000000e+00  9.500000e+00  0.000000e+00   \n",
       "75%        4.077037e+01  2.000000e+00  1.500000e+01  5.000000e-01   \n",
       "max        7.012994e+01  5.000000e+00  9.520000e+02  7.900000e+01   \n",
       "\n",
       "            mta_tax    tip_amount  tolls_amount  improvement_surcharge  \\\n",
       "count  1.162652e+07  1.162652e+07  1.162652e+07           1.162652e+07   \n",
       "mean   4.979773e-01  1.827028e+00  3.411761e-01           2.998080e-01   \n",
       "std    3.449482e-02  2.573152e+00  1.713772e+00           1.067103e-02   \n",
       "min   -5.000000e-01 -8.000000e+01 -1.500000e+01          -3.000000e-01   \n",
       "25%    5.000000e-01  0.000000e+00  0.000000e+00           3.000000e-01   \n",
       "50%    5.000000e-01  1.320000e+00  0.000000e+00           3.000000e-01   \n",
       "75%    5.000000e-01  2.450000e+00  0.000000e+00           3.000000e-01   \n",
       "max    1.635000e+01  6.500000e+02  1.120680e+03           3.000000e-01   \n",
       "\n",
       "       total_amount  trip_duration  \n",
       "count  1.162652e+07   1.162652e+07  \n",
       "mean   1.658536e+01   1.010139e+03  \n",
       "std    1.381537e+01   3.286354e+03  \n",
       "min   -2.753000e+02   1.000000e+00  \n",
       "25%    8.760000e+00   4.110000e+02  \n",
       "50%    1.230000e+01   6.910000e+02  \n",
       "75%    1.836000e+01   1.135000e+03  \n",
       "max    1.173480e+03   6.056060e+05  "
      ]
     },
     "execution_count": 16,
     "metadata": {},
     "output_type": "execute_result"
    }
   ],
   "source": [
    "df.describe()"
   ]
  },
  {
   "cell_type": "code",
   "execution_count": 17,
   "metadata": {
    "collapsed": false
   },
   "outputs": [
    {
     "data": {
      "text/plain": [
       "(3637, 19)"
      ]
     },
     "execution_count": 17,
     "metadata": {},
     "output_type": "execute_result"
    }
   ],
   "source": [
    "df[df.fare_amount < 0].shape"
   ]
  },
  {
   "cell_type": "markdown",
   "metadata": {},
   "source": [
    "Все указанные в задании варианты фильтрации данных осуществлены. Но остаются ещё вопросы. Например, поездки с отрицательной платой. 3637 поездки. Есть вопросы и по поездкам меньше полумили."
   ]
  },
  {
   "cell_type": "code",
   "execution_count": 18,
   "metadata": {
    "collapsed": false
   },
   "outputs": [
    {
     "data": {
      "text/plain": [
       "(14, 19)"
      ]
     },
     "execution_count": 18,
     "metadata": {},
     "output_type": "execute_result"
    }
   ],
   "source": [
    "df[df.trip_distance > 1000].shape"
   ]
  },
  {
   "cell_type": "markdown",
   "metadata": {},
   "source": [
    "14 поездок длинной более 1000 миль, причём на цене это не сказывается. Тоже наверняка выбросы."
   ]
  },
  {
   "cell_type": "code",
   "execution_count": 19,
   "metadata": {
    "collapsed": false
   },
   "outputs": [
    {
     "data": {
      "text/plain": [
       "(4, 19)"
      ]
     },
     "execution_count": 19,
     "metadata": {},
     "output_type": "execute_result"
    }
   ],
   "source": [
    "df[df.trip_duration > 24*60*60].shape"
   ]
  },
  {
   "cell_type": "markdown",
   "metadata": {},
   "source": [
    "4 поездки дольше 24 часов, 16963 - больше 12 часов."
   ]
  },
  {
   "cell_type": "code",
   "execution_count": 2,
   "metadata": {
    "collapsed": true
   },
   "outputs": [],
   "source": [
    "df.to_pickle(\"df_task1.pkl\")\n",
    "#df = pd.read_pickle(\"df_task1.pkl\")"
   ]
  },
  {
   "cell_type": "markdown",
   "metadata": {},
   "source": [
    "## 3. Агрегирование данных\n",
    "Агрегируйте данные за май 2016 года по часам и областям (можно использовать функцию stats.binned_statistic_2d, с которой вы сталкивались в заданиях четвёртого курса). Не забудьте проверить, что идентификаторы, которые вы присваиваете ячейкам, соответствуют приложенному выше файлу.\n",
    "\n",
    "\n",
    "4. Выведите первые строки полученной таблицы.\n",
    "5. Постройте график количества поездок жёлтого такси из ячейки, содержащей Empire State Building.\n",
    "6. Посчитайте, сколько в мае 2016 было пар час-ячейка, для которых не было совершено ни одной поездки."
   ]
  },
  {
   "cell_type": "code",
   "execution_count": 4,
   "metadata": {
    "collapsed": false
   },
   "outputs": [],
   "source": [
    "res = binned_statistic_2d(df['pickup_longitude'].values, df['pickup_latitude'].values, \n",
    "                                None, statistic='count', bins=[50, 50], range=[[min_lon, max_lon], [min_lat, max_lat]], \n",
    "                                expand_binnumbers = True)"
   ]
  },
  {
   "cell_type": "code",
   "execution_count": 5,
   "metadata": {
    "collapsed": false
   },
   "outputs": [],
   "source": [
    "districts = []\n",
    "for i in range(len(res.binnumber[0])):\n",
    "    districts.append((res.binnumber[0][i]-1)*50+res.binnumber[1][i])"
   ]
  },
  {
   "cell_type": "code",
   "execution_count": 6,
   "metadata": {
    "collapsed": false
   },
   "outputs": [],
   "source": [
    "df['pickup_district'] = districts\n",
    "del(districts)"
   ]
  },
  {
   "cell_type": "code",
   "execution_count": 7,
   "metadata": {
    "collapsed": false
   },
   "outputs": [],
   "source": [
    "df = df.drop(['pickup_longitude', 'pickup_latitude', 'dropoff_longitude','dropoff_latitude'], axis=1)"
   ]
  },
  {
   "cell_type": "code",
   "execution_count": 8,
   "metadata": {
    "collapsed": false
   },
   "outputs": [],
   "source": [
    "df['ones'] = np.ones(df.shape[0])"
   ]
  },
  {
   "cell_type": "code",
   "execution_count": 14,
   "metadata": {
    "collapsed": false
   },
   "outputs": [
    {
     "data": {
      "text/html": [
       "<div>\n",
       "<table border=\"1\" class=\"dataframe\">\n",
       "  <thead>\n",
       "    <tr style=\"text-align: right;\">\n",
       "      <th></th>\n",
       "      <th>VendorID</th>\n",
       "      <th>tpep_pickup_datetime</th>\n",
       "      <th>passenger_count</th>\n",
       "      <th>trip_distance</th>\n",
       "      <th>RatecodeID</th>\n",
       "      <th>store_and_fwd_flag</th>\n",
       "      <th>payment_type</th>\n",
       "      <th>fare_amount</th>\n",
       "      <th>extra</th>\n",
       "      <th>mta_tax</th>\n",
       "      <th>tip_amount</th>\n",
       "      <th>tolls_amount</th>\n",
       "      <th>improvement_surcharge</th>\n",
       "      <th>total_amount</th>\n",
       "      <th>trip_duration</th>\n",
       "      <th>pickup_district</th>\n",
       "      <th>ones</th>\n",
       "    </tr>\n",
       "  </thead>\n",
       "  <tbody>\n",
       "    <tr>\n",
       "      <th>0</th>\n",
       "      <td>1</td>\n",
       "      <td>2016-05-01 00</td>\n",
       "      <td>1</td>\n",
       "      <td>3.60</td>\n",
       "      <td>1</td>\n",
       "      <td>0</td>\n",
       "      <td>1</td>\n",
       "      <td>15.0</td>\n",
       "      <td>0.5</td>\n",
       "      <td>0.5</td>\n",
       "      <td>1.50</td>\n",
       "      <td>0.0</td>\n",
       "      <td>0.3</td>\n",
       "      <td>17.80</td>\n",
       "      <td>1051.0</td>\n",
       "      <td>1233</td>\n",
       "      <td>1.0</td>\n",
       "    </tr>\n",
       "    <tr>\n",
       "      <th>1</th>\n",
       "      <td>2</td>\n",
       "      <td>2016-05-01 00</td>\n",
       "      <td>1</td>\n",
       "      <td>1.68</td>\n",
       "      <td>1</td>\n",
       "      <td>0</td>\n",
       "      <td>1</td>\n",
       "      <td>7.5</td>\n",
       "      <td>0.5</td>\n",
       "      <td>0.5</td>\n",
       "      <td>0.88</td>\n",
       "      <td>0.0</td>\n",
       "      <td>0.3</td>\n",
       "      <td>9.68</td>\n",
       "      <td>451.0</td>\n",
       "      <td>1180</td>\n",
       "      <td>1.0</td>\n",
       "    </tr>\n",
       "    <tr>\n",
       "      <th>2</th>\n",
       "      <td>2</td>\n",
       "      <td>2016-05-01 00</td>\n",
       "      <td>6</td>\n",
       "      <td>1.09</td>\n",
       "      <td>1</td>\n",
       "      <td>0</td>\n",
       "      <td>1</td>\n",
       "      <td>6.5</td>\n",
       "      <td>0.5</td>\n",
       "      <td>0.5</td>\n",
       "      <td>1.56</td>\n",
       "      <td>0.0</td>\n",
       "      <td>0.3</td>\n",
       "      <td>9.36</td>\n",
       "      <td>421.0</td>\n",
       "      <td>1180</td>\n",
       "      <td>1.0</td>\n",
       "    </tr>\n",
       "    <tr>\n",
       "      <th>3</th>\n",
       "      <td>2</td>\n",
       "      <td>2016-05-01 00</td>\n",
       "      <td>1</td>\n",
       "      <td>4.21</td>\n",
       "      <td>1</td>\n",
       "      <td>0</td>\n",
       "      <td>1</td>\n",
       "      <td>17.0</td>\n",
       "      <td>0.5</td>\n",
       "      <td>0.5</td>\n",
       "      <td>3.66</td>\n",
       "      <td>0.0</td>\n",
       "      <td>0.3</td>\n",
       "      <td>21.96</td>\n",
       "      <td>1187.0</td>\n",
       "      <td>1173</td>\n",
       "      <td>1.0</td>\n",
       "    </tr>\n",
       "    <tr>\n",
       "      <th>4</th>\n",
       "      <td>2</td>\n",
       "      <td>2016-05-01 00</td>\n",
       "      <td>1</td>\n",
       "      <td>0.56</td>\n",
       "      <td>1</td>\n",
       "      <td>0</td>\n",
       "      <td>1</td>\n",
       "      <td>6.0</td>\n",
       "      <td>0.5</td>\n",
       "      <td>0.5</td>\n",
       "      <td>1.46</td>\n",
       "      <td>0.0</td>\n",
       "      <td>0.3</td>\n",
       "      <td>8.76</td>\n",
       "      <td>399.0</td>\n",
       "      <td>1130</td>\n",
       "      <td>1.0</td>\n",
       "    </tr>\n",
       "  </tbody>\n",
       "</table>\n",
       "</div>"
      ],
      "text/plain": [
       "   VendorID tpep_pickup_datetime  passenger_count  trip_distance  RatecodeID  \\\n",
       "0         1        2016-05-01 00                1           3.60           1   \n",
       "1         2        2016-05-01 00                1           1.68           1   \n",
       "2         2        2016-05-01 00                6           1.09           1   \n",
       "3         2        2016-05-01 00                1           4.21           1   \n",
       "4         2        2016-05-01 00                1           0.56           1   \n",
       "\n",
       "   store_and_fwd_flag  payment_type  fare_amount  extra  mta_tax  tip_amount  \\\n",
       "0                   0             1         15.0    0.5      0.5        1.50   \n",
       "1                   0             1          7.5    0.5      0.5        0.88   \n",
       "2                   0             1          6.5    0.5      0.5        1.56   \n",
       "3                   0             1         17.0    0.5      0.5        3.66   \n",
       "4                   0             1          6.0    0.5      0.5        1.46   \n",
       "\n",
       "   tolls_amount  improvement_surcharge  total_amount  trip_duration  \\\n",
       "0           0.0                    0.3         17.80         1051.0   \n",
       "1           0.0                    0.3          9.68          451.0   \n",
       "2           0.0                    0.3          9.36          421.0   \n",
       "3           0.0                    0.3         21.96         1187.0   \n",
       "4           0.0                    0.3          8.76          399.0   \n",
       "\n",
       "   pickup_district  ones  \n",
       "0             1233   1.0  \n",
       "1             1180   1.0  \n",
       "2             1180   1.0  \n",
       "3             1173   1.0  \n",
       "4             1130   1.0  "
      ]
     },
     "execution_count": 14,
     "metadata": {},
     "output_type": "execute_result"
    }
   ],
   "source": [
    "df.head()"
   ]
  },
  {
   "cell_type": "code",
   "execution_count": 9,
   "metadata": {
    "collapsed": false
   },
   "outputs": [],
   "source": [
    "df_time_dist = df.pivot_table(values='ones', index=['tpep_pickup_datetime', 'pickup_district'], aggfunc=sum, fill_value=0)"
   ]
  },
  {
   "cell_type": "code",
   "execution_count": 13,
   "metadata": {
    "collapsed": false
   },
   "outputs": [
    {
     "data": {
      "text/plain": [
       "11626521"
      ]
     },
     "execution_count": 13,
     "metadata": {},
     "output_type": "execute_result"
    }
   ],
   "source": [
    "sum(df_time_dist.values)"
   ]
  },
  {
   "cell_type": "code",
   "execution_count": 15,
   "metadata": {
    "collapsed": false
   },
   "outputs": [
    {
     "data": {
      "text/plain": [
       "tpep_pickup_datetime  pickup_district\n",
       "2016-05-01 00         1015                  1\n",
       "                      1017                  1\n",
       "                      1029                  3\n",
       "                      1030                  1\n",
       "                      1033                  4\n",
       "                      1068                  1\n",
       "                      1072                  4\n",
       "                      1075                 71\n",
       "                      1076                 64\n",
       "                      1077                 52\n",
       "                      1078                  2\n",
       "                      1096                  2\n",
       "                      1122                  9\n",
       "                      1123                  6\n",
       "                      1125                 81\n",
       "                      1126                259\n",
       "                      1127                535\n",
       "                      1128                691\n",
       "                      1129                994\n",
       "                      1130               1100\n",
       "                      1131                193\n",
       "                      1132                 27\n",
       "                      1170                  5\n",
       "                      1171                 10\n",
       "                      1172                 25\n",
       "                      1173                 77\n",
       "                      1174                 28\n",
       "                      1175                 15\n",
       "                      1176                 64\n",
       "                      1177               1179\n",
       "                                         ... \n",
       "2016-05-31 23         1631                  3\n",
       "                      1633                  1\n",
       "                      1679                  1\n",
       "                      1680                  3\n",
       "                      1681                  2\n",
       "                      1683                  9\n",
       "                      1684                 12\n",
       "                      1723                  1\n",
       "                      1730                  1\n",
       "                      1732                  1\n",
       "                      1733                 10\n",
       "                      1734                430\n",
       "                      1783                153\n",
       "                      1791                  1\n",
       "                      1828                  2\n",
       "                      1829                  1\n",
       "                      1872                  1\n",
       "                      1877                  1\n",
       "                      1976                  1\n",
       "                      1983                  1\n",
       "                      2019                  3\n",
       "                      2020                  1\n",
       "                      2022                  2\n",
       "                      2026                  1\n",
       "                      2068                157\n",
       "                      2069                 17\n",
       "                      2070                  1\n",
       "                      2118                192\n",
       "                      2119                 77\n",
       "                      2168                132\n",
       "Name: ones, dtype: int64"
      ]
     },
     "execution_count": 15,
     "metadata": {},
     "output_type": "execute_result"
    }
   ],
   "source": [
    "df_time_dist"
   ]
  },
  {
   "cell_type": "markdown",
   "metadata": {},
   "source": [
    "Количество поездок совпадает, из этой таблиц можно достать нужные данные."
   ]
  },
  {
   "cell_type": "code",
   "execution_count": 23,
   "metadata": {
    "collapsed": false
   },
   "outputs": [],
   "source": [
    "df_td = pd.DataFrame(df_time_dist.index.levels[0])"
   ]
  },
  {
   "cell_type": "code",
   "execution_count": 27,
   "metadata": {
    "collapsed": false
   },
   "outputs": [],
   "source": [
    "df_td = df_td.set_index('tpep_pickup_datetime')"
   ]
  },
  {
   "cell_type": "code",
   "execution_count": 45,
   "metadata": {
    "collapsed": false
   },
   "outputs": [
    {
     "name": "stdout",
     "output_type": "stream",
     "text": [
      "Wall time: 8min 33s\n"
     ]
    }
   ],
   "source": [
    "%%time\n",
    "for i in range(2500):\n",
    "    x = []\n",
    "    for j in df_time_dist.index.levels[0]:\n",
    "        if i+1 in df_time_dist.ix[j].index.values:\n",
    "            a = df_time_dist.ix[j][i+1]\n",
    "        else:\n",
    "            a = 0\n",
    "        x.append(a)\n",
    "    df_td[i+1]=x"
   ]
  },
  {
   "cell_type": "code",
   "execution_count": 61,
   "metadata": {
    "collapsed": false
   },
   "outputs": [
    {
     "data": {
      "text/plain": [
       "11626521L"
      ]
     },
     "execution_count": 61,
     "metadata": {},
     "output_type": "execute_result"
    }
   ],
   "source": [
    "df_td.sum().sum()"
   ]
  },
  {
   "cell_type": "markdown",
   "metadata": {},
   "source": [
    "## 4. Первые строки полученной таблицы."
   ]
  },
  {
   "cell_type": "code",
   "execution_count": 64,
   "metadata": {
    "collapsed": false
   },
   "outputs": [
    {
     "data": {
      "text/html": [
       "<div>\n",
       "<table border=\"1\" class=\"dataframe\">\n",
       "  <thead>\n",
       "    <tr style=\"text-align: right;\">\n",
       "      <th></th>\n",
       "      <th>1</th>\n",
       "      <th>2</th>\n",
       "      <th>3</th>\n",
       "      <th>4</th>\n",
       "      <th>5</th>\n",
       "      <th>6</th>\n",
       "      <th>7</th>\n",
       "      <th>8</th>\n",
       "      <th>9</th>\n",
       "      <th>10</th>\n",
       "      <th>...</th>\n",
       "      <th>2491</th>\n",
       "      <th>2492</th>\n",
       "      <th>2493</th>\n",
       "      <th>2494</th>\n",
       "      <th>2495</th>\n",
       "      <th>2496</th>\n",
       "      <th>2497</th>\n",
       "      <th>2498</th>\n",
       "      <th>2499</th>\n",
       "      <th>2500</th>\n",
       "    </tr>\n",
       "    <tr>\n",
       "      <th>tpep_pickup_datetime</th>\n",
       "      <th></th>\n",
       "      <th></th>\n",
       "      <th></th>\n",
       "      <th></th>\n",
       "      <th></th>\n",
       "      <th></th>\n",
       "      <th></th>\n",
       "      <th></th>\n",
       "      <th></th>\n",
       "      <th></th>\n",
       "      <th></th>\n",
       "      <th></th>\n",
       "      <th></th>\n",
       "      <th></th>\n",
       "      <th></th>\n",
       "      <th></th>\n",
       "      <th></th>\n",
       "      <th></th>\n",
       "      <th></th>\n",
       "      <th></th>\n",
       "      <th></th>\n",
       "    </tr>\n",
       "  </thead>\n",
       "  <tbody>\n",
       "    <tr>\n",
       "      <th>2016-05-01 00</th>\n",
       "      <td>0</td>\n",
       "      <td>0</td>\n",
       "      <td>0</td>\n",
       "      <td>0</td>\n",
       "      <td>0</td>\n",
       "      <td>0</td>\n",
       "      <td>0</td>\n",
       "      <td>0</td>\n",
       "      <td>0</td>\n",
       "      <td>0</td>\n",
       "      <td>...</td>\n",
       "      <td>0</td>\n",
       "      <td>0</td>\n",
       "      <td>0</td>\n",
       "      <td>0</td>\n",
       "      <td>0</td>\n",
       "      <td>0</td>\n",
       "      <td>0</td>\n",
       "      <td>0</td>\n",
       "      <td>0</td>\n",
       "      <td>0</td>\n",
       "    </tr>\n",
       "    <tr>\n",
       "      <th>2016-05-01 01</th>\n",
       "      <td>0</td>\n",
       "      <td>0</td>\n",
       "      <td>0</td>\n",
       "      <td>0</td>\n",
       "      <td>0</td>\n",
       "      <td>0</td>\n",
       "      <td>0</td>\n",
       "      <td>0</td>\n",
       "      <td>0</td>\n",
       "      <td>0</td>\n",
       "      <td>...</td>\n",
       "      <td>0</td>\n",
       "      <td>0</td>\n",
       "      <td>0</td>\n",
       "      <td>0</td>\n",
       "      <td>0</td>\n",
       "      <td>0</td>\n",
       "      <td>0</td>\n",
       "      <td>0</td>\n",
       "      <td>0</td>\n",
       "      <td>0</td>\n",
       "    </tr>\n",
       "    <tr>\n",
       "      <th>2016-05-01 02</th>\n",
       "      <td>0</td>\n",
       "      <td>0</td>\n",
       "      <td>0</td>\n",
       "      <td>0</td>\n",
       "      <td>0</td>\n",
       "      <td>0</td>\n",
       "      <td>0</td>\n",
       "      <td>0</td>\n",
       "      <td>0</td>\n",
       "      <td>0</td>\n",
       "      <td>...</td>\n",
       "      <td>0</td>\n",
       "      <td>0</td>\n",
       "      <td>0</td>\n",
       "      <td>0</td>\n",
       "      <td>0</td>\n",
       "      <td>0</td>\n",
       "      <td>0</td>\n",
       "      <td>0</td>\n",
       "      <td>0</td>\n",
       "      <td>0</td>\n",
       "    </tr>\n",
       "    <tr>\n",
       "      <th>2016-05-01 03</th>\n",
       "      <td>0</td>\n",
       "      <td>0</td>\n",
       "      <td>0</td>\n",
       "      <td>0</td>\n",
       "      <td>0</td>\n",
       "      <td>0</td>\n",
       "      <td>0</td>\n",
       "      <td>0</td>\n",
       "      <td>0</td>\n",
       "      <td>0</td>\n",
       "      <td>...</td>\n",
       "      <td>0</td>\n",
       "      <td>0</td>\n",
       "      <td>0</td>\n",
       "      <td>0</td>\n",
       "      <td>0</td>\n",
       "      <td>0</td>\n",
       "      <td>0</td>\n",
       "      <td>0</td>\n",
       "      <td>0</td>\n",
       "      <td>0</td>\n",
       "    </tr>\n",
       "    <tr>\n",
       "      <th>2016-05-01 04</th>\n",
       "      <td>0</td>\n",
       "      <td>0</td>\n",
       "      <td>0</td>\n",
       "      <td>0</td>\n",
       "      <td>0</td>\n",
       "      <td>0</td>\n",
       "      <td>0</td>\n",
       "      <td>0</td>\n",
       "      <td>0</td>\n",
       "      <td>0</td>\n",
       "      <td>...</td>\n",
       "      <td>0</td>\n",
       "      <td>0</td>\n",
       "      <td>0</td>\n",
       "      <td>0</td>\n",
       "      <td>0</td>\n",
       "      <td>0</td>\n",
       "      <td>0</td>\n",
       "      <td>0</td>\n",
       "      <td>0</td>\n",
       "      <td>0</td>\n",
       "    </tr>\n",
       "  </tbody>\n",
       "</table>\n",
       "<p>5 rows × 2500 columns</p>\n",
       "</div>"
      ],
      "text/plain": [
       "                      1     2     3     4     5     6     7     8     9     \\\n",
       "tpep_pickup_datetime                                                         \n",
       "2016-05-01 00            0     0     0     0     0     0     0     0     0   \n",
       "2016-05-01 01            0     0     0     0     0     0     0     0     0   \n",
       "2016-05-01 02            0     0     0     0     0     0     0     0     0   \n",
       "2016-05-01 03            0     0     0     0     0     0     0     0     0   \n",
       "2016-05-01 04            0     0     0     0     0     0     0     0     0   \n",
       "\n",
       "                      10    ...   2491  2492  2493  2494  2495  2496  2497  \\\n",
       "tpep_pickup_datetime        ...                                              \n",
       "2016-05-01 00            0  ...      0     0     0     0     0     0     0   \n",
       "2016-05-01 01            0  ...      0     0     0     0     0     0     0   \n",
       "2016-05-01 02            0  ...      0     0     0     0     0     0     0   \n",
       "2016-05-01 03            0  ...      0     0     0     0     0     0     0   \n",
       "2016-05-01 04            0  ...      0     0     0     0     0     0     0   \n",
       "\n",
       "                      2498  2499  2500  \n",
       "tpep_pickup_datetime                    \n",
       "2016-05-01 00            0     0     0  \n",
       "2016-05-01 01            0     0     0  \n",
       "2016-05-01 02            0     0     0  \n",
       "2016-05-01 03            0     0     0  \n",
       "2016-05-01 04            0     0     0  \n",
       "\n",
       "[5 rows x 2500 columns]"
      ]
     },
     "execution_count": 64,
     "metadata": {},
     "output_type": "execute_result"
    }
   ],
   "source": [
    "df_td.head()"
   ]
  },
  {
   "cell_type": "code",
   "execution_count": 65,
   "metadata": {
    "collapsed": true
   },
   "outputs": [],
   "source": [
    "df_td.to_pickle(\"df_td.pkl\") #Сохраним итог для будущего использования. 14 МБ"
   ]
  },
  {
   "cell_type": "markdown",
   "metadata": {},
   "source": [
    "## 5. График количества поездок жёлтого такси из ячейки, содержащей Empire State Building.\n",
    "Из wikipedia берём координаты здания - 40.747778°, -73.985833°\n",
    "Так как задача разовая, используем приложенную к задаче таблицу райнов и находим, что это район № 1231."
   ]
  },
  {
   "cell_type": "markdown",
   "metadata": {},
   "source": [
    "Можно было так:\n",
    "\n",
    "```\n",
    "\n",
    "regions = pandas.read_csv('regions.csv', sep=';')\n",
    "empire_state_building = regions[(regions.west <= -73.985428) & (regions.east >= -73.985428) & (regions.south <= 40.748817) & (regions.north >= 40.748817)]\n",
    "print region\n",
    "\n",
    "```"
   ]
  },
  {
   "cell_type": "code",
   "execution_count": 122,
   "metadata": {
    "collapsed": false
   },
   "outputs": [
    {
     "data": {
      "text/plain": [
       "<matplotlib.text.Text at 0xd2fac3c8>"
      ]
     },
     "execution_count": 122,
     "metadata": {},
     "output_type": "execute_result"
    },
    {
     "data": {
      "image/png": "[encoded data removed]",
      "text/plain": [
       "<matplotlib.figure.Figure at 0xec68550>"
      ]
     },
     "metadata": {},
     "output_type": "display_data"
    }
   ],
   "source": [
    "df_td[:][1231].plot(figsize=(15,7))\n",
    "plt.ylabel('Pickup count')\n",
    "plt.xlabel('2016-05')"
   ]
  },
  {
   "cell_type": "markdown",
   "metadata": {},
   "source": [
    "## 6. Расчёт, количества пар час-ячейка, для которых в мае 2016 не было совершено ни одной поездки."
   ]
  },
  {
   "cell_type": "code",
   "execution_count": 123,
   "metadata": {
    "collapsed": false
   },
   "outputs": [
    {
     "data": {
      "text/plain": [
       "1718238L"
      ]
     },
     "execution_count": 123,
     "metadata": {},
     "output_type": "execute_result"
    }
   ],
   "source": [
    "empty_td = (df_td[df_td.columns]==0).sum().sum()\n",
    "empty_td"
   ]
  },
  {
   "cell_type": "markdown",
   "metadata": {},
   "source": [
    "Ни одной поедки не совершено в мае 2016 из 1 718 238 пары час-ячйка."
   ]
  },
  {
   "cell_type": "code",
   "execution_count": 111,
   "metadata": {
    "collapsed": false
   },
   "outputs": [
    {
     "data": {
      "text/plain": [
       "141762L"
      ]
     },
     "execution_count": 111,
     "metadata": {},
     "output_type": "execute_result"
    }
   ],
   "source": [
    "df_td.shape[0]*df_td.shape[1] - empty_td"
   ]
  }
 ],
 "metadata": {
  "anaconda-cloud": {},
  "kernelspec": {
   "display_name": "Python 2",
   "language": "python",
   "name": "python2"
  },
  "language_info": {
   "codemirror_mode": {
    "name": "ipython",
    "version": 2
   },
   "file_extension": ".py",
   "mimetype": "text/x-python",
   "name": "python",
   "nbconvert_exporter": "python",
   "pygments_lexer": "ipython2",
   "version": "2.7.13"
  }
 },
 "nbformat": 4,
 "nbformat_minor": 1
}
