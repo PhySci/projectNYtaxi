{
 "cells": [
  {
   "cell_type": "code",
   "execution_count": 1,
   "metadata": {
    "collapsed": false
   },
   "outputs": [],
   "source": [
    "import pandas as pd\n",
    "import numpy as np\n",
    "import matplotlib.pyplot as plt\n",
    "%matplotlib inline"
   ]
  },
  {
   "cell_type": "code",
   "execution_count": 2,
   "metadata": {
    "collapsed": false,
    "scrolled": true
   },
   "outputs": [
    {
     "data": {
      "text/html": [
       "<div>\n",
       "<table border=\"1\" class=\"dataframe\">\n",
       "  <thead>\n",
       "    <tr style=\"text-align: right;\">\n",
       "      <th></th>\n",
       "      <th>VendorID</th>\n",
       "      <th>tpep_pickup_datetime</th>\n",
       "      <th>tpep_dropoff_datetime</th>\n",
       "      <th>passenger_count</th>\n",
       "      <th>trip_distance</th>\n",
       "      <th>pickup_longitude</th>\n",
       "      <th>pickup_latitude</th>\n",
       "      <th>RatecodeID</th>\n",
       "      <th>store_and_fwd_flag</th>\n",
       "      <th>dropoff_longitude</th>\n",
       "      <th>dropoff_latitude</th>\n",
       "      <th>payment_type</th>\n",
       "      <th>fare_amount</th>\n",
       "      <th>extra</th>\n",
       "      <th>mta_tax</th>\n",
       "      <th>tip_amount</th>\n",
       "      <th>tolls_amount</th>\n",
       "      <th>improvement_surcharge</th>\n",
       "      <th>total_amount</th>\n",
       "    </tr>\n",
       "  </thead>\n",
       "  <tbody>\n",
       "    <tr>\n",
       "      <th>0</th>\n",
       "      <td>1</td>\n",
       "      <td>2016-05-01</td>\n",
       "      <td>2016-05-01 00:17:31</td>\n",
       "      <td>1</td>\n",
       "      <td>3.60</td>\n",
       "      <td>-73.985901</td>\n",
       "      <td>40.768040</td>\n",
       "      <td>1</td>\n",
       "      <td>N</td>\n",
       "      <td>-73.983986</td>\n",
       "      <td>40.730099</td>\n",
       "      <td>1</td>\n",
       "      <td>15.0</td>\n",
       "      <td>0.5</td>\n",
       "      <td>0.5</td>\n",
       "      <td>1.50</td>\n",
       "      <td>0.0</td>\n",
       "      <td>0.3</td>\n",
       "      <td>17.80</td>\n",
       "    </tr>\n",
       "    <tr>\n",
       "      <th>1</th>\n",
       "      <td>2</td>\n",
       "      <td>2016-05-01</td>\n",
       "      <td>2016-05-01 00:07:31</td>\n",
       "      <td>1</td>\n",
       "      <td>1.68</td>\n",
       "      <td>-73.991577</td>\n",
       "      <td>40.744751</td>\n",
       "      <td>1</td>\n",
       "      <td>N</td>\n",
       "      <td>-73.975700</td>\n",
       "      <td>40.765469</td>\n",
       "      <td>1</td>\n",
       "      <td>7.5</td>\n",
       "      <td>0.5</td>\n",
       "      <td>0.5</td>\n",
       "      <td>0.88</td>\n",
       "      <td>0.0</td>\n",
       "      <td>0.3</td>\n",
       "      <td>9.68</td>\n",
       "    </tr>\n",
       "    <tr>\n",
       "      <th>2</th>\n",
       "      <td>2</td>\n",
       "      <td>2016-05-01</td>\n",
       "      <td>2016-05-01 00:07:01</td>\n",
       "      <td>6</td>\n",
       "      <td>1.09</td>\n",
       "      <td>-73.993073</td>\n",
       "      <td>40.741573</td>\n",
       "      <td>1</td>\n",
       "      <td>N</td>\n",
       "      <td>-73.980995</td>\n",
       "      <td>40.744633</td>\n",
       "      <td>1</td>\n",
       "      <td>6.5</td>\n",
       "      <td>0.5</td>\n",
       "      <td>0.5</td>\n",
       "      <td>1.56</td>\n",
       "      <td>0.0</td>\n",
       "      <td>0.3</td>\n",
       "      <td>9.36</td>\n",
       "    </tr>\n",
       "    <tr>\n",
       "      <th>3</th>\n",
       "      <td>2</td>\n",
       "      <td>2016-05-01</td>\n",
       "      <td>2016-05-01 00:19:47</td>\n",
       "      <td>1</td>\n",
       "      <td>4.21</td>\n",
       "      <td>-73.991943</td>\n",
       "      <td>40.684601</td>\n",
       "      <td>1</td>\n",
       "      <td>N</td>\n",
       "      <td>-74.002258</td>\n",
       "      <td>40.733002</td>\n",
       "      <td>1</td>\n",
       "      <td>17.0</td>\n",
       "      <td>0.5</td>\n",
       "      <td>0.5</td>\n",
       "      <td>3.66</td>\n",
       "      <td>0.0</td>\n",
       "      <td>0.3</td>\n",
       "      <td>21.96</td>\n",
       "    </tr>\n",
       "    <tr>\n",
       "      <th>4</th>\n",
       "      <td>2</td>\n",
       "      <td>2016-05-01</td>\n",
       "      <td>2016-05-01 00:06:39</td>\n",
       "      <td>1</td>\n",
       "      <td>0.56</td>\n",
       "      <td>-74.005280</td>\n",
       "      <td>40.740192</td>\n",
       "      <td>1</td>\n",
       "      <td>N</td>\n",
       "      <td>-73.997498</td>\n",
       "      <td>40.737564</td>\n",
       "      <td>1</td>\n",
       "      <td>6.0</td>\n",
       "      <td>0.5</td>\n",
       "      <td>0.5</td>\n",
       "      <td>1.46</td>\n",
       "      <td>0.0</td>\n",
       "      <td>0.3</td>\n",
       "      <td>8.76</td>\n",
       "    </tr>\n",
       "  </tbody>\n",
       "</table>\n",
       "</div>"
      ],
      "text/plain": [
       "   VendorID tpep_pickup_datetime tpep_dropoff_datetime  passenger_count  \\\n",
       "0         1           2016-05-01   2016-05-01 00:17:31                1   \n",
       "1         2           2016-05-01   2016-05-01 00:07:31                1   \n",
       "2         2           2016-05-01   2016-05-01 00:07:01                6   \n",
       "3         2           2016-05-01   2016-05-01 00:19:47                1   \n",
       "4         2           2016-05-01   2016-05-01 00:06:39                1   \n",
       "\n",
       "   trip_distance  pickup_longitude  pickup_latitude  RatecodeID  \\\n",
       "0           3.60        -73.985901        40.768040           1   \n",
       "1           1.68        -73.991577        40.744751           1   \n",
       "2           1.09        -73.993073        40.741573           1   \n",
       "3           4.21        -73.991943        40.684601           1   \n",
       "4           0.56        -74.005280        40.740192           1   \n",
       "\n",
       "  store_and_fwd_flag  dropoff_longitude  dropoff_latitude  payment_type  \\\n",
       "0                  N         -73.983986         40.730099             1   \n",
       "1                  N         -73.975700         40.765469             1   \n",
       "2                  N         -73.980995         40.744633             1   \n",
       "3                  N         -74.002258         40.733002             1   \n",
       "4                  N         -73.997498         40.737564             1   \n",
       "\n",
       "   fare_amount  extra  mta_tax  tip_amount  tolls_amount  \\\n",
       "0         15.0    0.5      0.5        1.50           0.0   \n",
       "1          7.5    0.5      0.5        0.88           0.0   \n",
       "2          6.5    0.5      0.5        1.56           0.0   \n",
       "3         17.0    0.5      0.5        3.66           0.0   \n",
       "4          6.0    0.5      0.5        1.46           0.0   \n",
       "\n",
       "   improvement_surcharge  total_amount  \n",
       "0                    0.3         17.80  \n",
       "1                    0.3          9.68  \n",
       "2                    0.3          9.36  \n",
       "3                    0.3         21.96  \n",
       "4                    0.3          8.76  "
      ]
     },
     "execution_count": 2,
     "metadata": {},
     "output_type": "execute_result"
    }
   ],
   "source": [
    "df = pd.read_csv(\"data//yellow_tripdata_2016-05.csv\",parse_dates = ['tpep_pickup_datetime','tpep_dropoff_datetime']);\n",
    "df.head()"
   ]
  },
  {
   "cell_type": "code",
   "execution_count": 3,
   "metadata": {
    "collapsed": false
   },
   "outputs": [],
   "source": [
    "df['tpep_pickup_datetime'] = pd.DatetimeIndex(df['tpep_pickup_datetime']).round('1H') "
   ]
  },
  {
   "cell_type": "markdown",
   "metadata": {},
   "source": [
    "Ищем поездки без пассажиров"
   ]
  },
  {
   "cell_type": "code",
   "execution_count": 4,
   "metadata": {
    "collapsed": false
   },
   "outputs": [
    {
     "name": "stdout",
     "output_type": "stream",
     "text": [
      "No passengers:  604  trips\n"
     ]
    }
   ],
   "source": [
    "inds = df[df.passenger_count ==0].index;\n",
    "print 'No passengers: ',len(inds),' trips';\n",
    "df.drop(inds,inplace = True);"
   ]
  },
  {
   "cell_type": "markdown",
   "metadata": {},
   "source": [
    "Ищем поездки нулевой длительности"
   ]
  },
  {
   "cell_type": "code",
   "execution_count": 5,
   "metadata": {
    "collapsed": false
   },
   "outputs": [
    {
     "name": "stdout",
     "output_type": "stream",
     "text": [
      "Zero duration:  3296  trips\n"
     ]
    }
   ],
   "source": [
    "# create additional column - duration of the trip\n",
    "df = df.assign(duration = df.tpep_dropoff_datetime - df.tpep_pickup_datetime);\n",
    "# delete empty trips\n",
    "inds = df[df.duration == pd.to_timedelta('0 days')].index;\n",
    "print 'Zero duration: ',len(inds),' trips';\n",
    "df.drop(inds,inplace = True);"
   ]
  },
  {
   "cell_type": "markdown",
   "metadata": {},
   "source": [
    "Ищем поездки с нулевым расстоянием по счётчику"
   ]
  },
  {
   "cell_type": "code",
   "execution_count": 6,
   "metadata": {
    "collapsed": false
   },
   "outputs": [
    {
     "name": "stdout",
     "output_type": "stream",
     "text": [
      "Zero distance:  72448  trips\n"
     ]
    }
   ],
   "source": [
    "# delete empty trips\n",
    "inds = df[df.trip_distance == 0].index;\n",
    "print 'Zero distance: ',len(inds),' trips';\n",
    "df.drop(inds,inplace = True);"
   ]
  },
  {
   "cell_type": "markdown",
   "metadata": {},
   "source": [
    "Ищем поездки за пределами Нью-Йорка"
   ]
  },
  {
   "cell_type": "code",
   "execution_count": 7,
   "metadata": {
    "collapsed": false
   },
   "outputs": [],
   "source": [
    "#load coordinates of regions\n",
    "regs = pd.read_csv(\"data\\\\regions.csv\",sep=\";\",index_col='region');\n",
    "# find corners of the New-York rectangular\n",
    "east = regs.loc[:,'east'].max();\n",
    "west = regs.loc[:,'west'].min();\n",
    "south = regs.loc[:,'south'].min();\n",
    "north = regs.loc[:,'north'].max();\n",
    "# find outliers\n",
    "inds = df[(df.pickup_longitude>east) | (df.pickup_longitude<west) | (df.pickup_latitude>north) | (df.pickup_latitude<south)].index;\n",
    "df.drop(inds,inplace=True);"
   ]
  },
  {
   "cell_type": "code",
   "execution_count": 8,
   "metadata": {
    "collapsed": false
   },
   "outputs": [
    {
     "data": {
      "text/plain": [
       "-73.700009999999992"
      ]
     },
     "execution_count": 8,
     "metadata": {},
     "output_type": "execute_result"
    }
   ],
   "source": [
    "east"
   ]
  },
  {
   "cell_type": "code",
   "execution_count": 9,
   "metadata": {
    "collapsed": false
   },
   "outputs": [
    {
     "data": {
      "text/plain": [
       "-74.255589999999998"
      ]
     },
     "execution_count": 9,
     "metadata": {},
     "output_type": "execute_result"
    }
   ],
   "source": [
    "west"
   ]
  },
  {
   "cell_type": "code",
   "execution_count": 10,
   "metadata": {
    "collapsed": false
   },
   "outputs": [
    {
     "data": {
      "text/plain": [
       "40.496119999999998"
      ]
     },
     "execution_count": 10,
     "metadata": {},
     "output_type": "execute_result"
    }
   ],
   "source": [
    "south"
   ]
  },
  {
   "cell_type": "code",
   "execution_count": 11,
   "metadata": {
    "collapsed": false
   },
   "outputs": [
    {
     "data": {
      "text/plain": [
       "40.915529999999997"
      ]
     },
     "execution_count": 11,
     "metadata": {},
     "output_type": "execute_result"
    }
   ],
   "source": [
    "north"
   ]
  },
  {
   "cell_type": "markdown",
   "metadata": {
    "collapsed": true
   },
   "source": [
    "3) Агрегируйте данные за май 2016 года по часам и областям (можно использовать функцию stats.binned_statistic_2d, с которой вы сталкивались в заданиях четвёртого курса). Не забудьте проверить, что идентификаторы, которые вы присваиваете ячейкам, соответствуют приложенному выше файлу."
   ]
  },
  {
   "cell_type": "code",
   "execution_count": 8,
   "metadata": {
    "collapsed": false
   },
   "outputs": [
    {
     "data": {
      "text/html": [
       "<div>\n",
       "<table border=\"1\" class=\"dataframe\">\n",
       "  <thead>\n",
       "    <tr style=\"text-align: right;\">\n",
       "      <th></th>\n",
       "      <th>VendorID</th>\n",
       "      <th>tpep_pickup_datetime</th>\n",
       "      <th>tpep_dropoff_datetime</th>\n",
       "      <th>passenger_count</th>\n",
       "      <th>trip_distance</th>\n",
       "      <th>pickup_longitude</th>\n",
       "      <th>pickup_latitude</th>\n",
       "      <th>RatecodeID</th>\n",
       "      <th>store_and_fwd_flag</th>\n",
       "      <th>dropoff_longitude</th>\n",
       "      <th>...</th>\n",
       "      <th>payment_type</th>\n",
       "      <th>fare_amount</th>\n",
       "      <th>extra</th>\n",
       "      <th>mta_tax</th>\n",
       "      <th>tip_amount</th>\n",
       "      <th>tolls_amount</th>\n",
       "      <th>improvement_surcharge</th>\n",
       "      <th>total_amount</th>\n",
       "      <th>duration</th>\n",
       "      <th>regions</th>\n",
       "    </tr>\n",
       "  </thead>\n",
       "  <tbody>\n",
       "    <tr>\n",
       "      <th>0</th>\n",
       "      <td>1</td>\n",
       "      <td>2016-05-01</td>\n",
       "      <td>2016-05-01 00:17:31</td>\n",
       "      <td>1</td>\n",
       "      <td>3.60</td>\n",
       "      <td>-73.985901</td>\n",
       "      <td>40.768040</td>\n",
       "      <td>1</td>\n",
       "      <td>N</td>\n",
       "      <td>-73.983986</td>\n",
       "      <td>...</td>\n",
       "      <td>1</td>\n",
       "      <td>15.0</td>\n",
       "      <td>0.5</td>\n",
       "      <td>0.5</td>\n",
       "      <td>1.50</td>\n",
       "      <td>0.0</td>\n",
       "      <td>0.3</td>\n",
       "      <td>17.80</td>\n",
       "      <td>00:17:31</td>\n",
       "      <td>1233</td>\n",
       "    </tr>\n",
       "    <tr>\n",
       "      <th>1</th>\n",
       "      <td>2</td>\n",
       "      <td>2016-05-01</td>\n",
       "      <td>2016-05-01 00:07:31</td>\n",
       "      <td>1</td>\n",
       "      <td>1.68</td>\n",
       "      <td>-73.991577</td>\n",
       "      <td>40.744751</td>\n",
       "      <td>1</td>\n",
       "      <td>N</td>\n",
       "      <td>-73.975700</td>\n",
       "      <td>...</td>\n",
       "      <td>1</td>\n",
       "      <td>7.5</td>\n",
       "      <td>0.5</td>\n",
       "      <td>0.5</td>\n",
       "      <td>0.88</td>\n",
       "      <td>0.0</td>\n",
       "      <td>0.3</td>\n",
       "      <td>9.68</td>\n",
       "      <td>00:07:31</td>\n",
       "      <td>1180</td>\n",
       "    </tr>\n",
       "    <tr>\n",
       "      <th>2</th>\n",
       "      <td>2</td>\n",
       "      <td>2016-05-01</td>\n",
       "      <td>2016-05-01 00:07:01</td>\n",
       "      <td>6</td>\n",
       "      <td>1.09</td>\n",
       "      <td>-73.993073</td>\n",
       "      <td>40.741573</td>\n",
       "      <td>1</td>\n",
       "      <td>N</td>\n",
       "      <td>-73.980995</td>\n",
       "      <td>...</td>\n",
       "      <td>1</td>\n",
       "      <td>6.5</td>\n",
       "      <td>0.5</td>\n",
       "      <td>0.5</td>\n",
       "      <td>1.56</td>\n",
       "      <td>0.0</td>\n",
       "      <td>0.3</td>\n",
       "      <td>9.36</td>\n",
       "      <td>00:07:01</td>\n",
       "      <td>1180</td>\n",
       "    </tr>\n",
       "    <tr>\n",
       "      <th>3</th>\n",
       "      <td>2</td>\n",
       "      <td>2016-05-01</td>\n",
       "      <td>2016-05-01 00:19:47</td>\n",
       "      <td>1</td>\n",
       "      <td>4.21</td>\n",
       "      <td>-73.991943</td>\n",
       "      <td>40.684601</td>\n",
       "      <td>1</td>\n",
       "      <td>N</td>\n",
       "      <td>-74.002258</td>\n",
       "      <td>...</td>\n",
       "      <td>1</td>\n",
       "      <td>17.0</td>\n",
       "      <td>0.5</td>\n",
       "      <td>0.5</td>\n",
       "      <td>3.66</td>\n",
       "      <td>0.0</td>\n",
       "      <td>0.3</td>\n",
       "      <td>21.96</td>\n",
       "      <td>00:19:47</td>\n",
       "      <td>1173</td>\n",
       "    </tr>\n",
       "    <tr>\n",
       "      <th>4</th>\n",
       "      <td>2</td>\n",
       "      <td>2016-05-01</td>\n",
       "      <td>2016-05-01 00:06:39</td>\n",
       "      <td>1</td>\n",
       "      <td>0.56</td>\n",
       "      <td>-74.005280</td>\n",
       "      <td>40.740192</td>\n",
       "      <td>1</td>\n",
       "      <td>N</td>\n",
       "      <td>-73.997498</td>\n",
       "      <td>...</td>\n",
       "      <td>1</td>\n",
       "      <td>6.0</td>\n",
       "      <td>0.5</td>\n",
       "      <td>0.5</td>\n",
       "      <td>1.46</td>\n",
       "      <td>0.0</td>\n",
       "      <td>0.3</td>\n",
       "      <td>8.76</td>\n",
       "      <td>00:06:39</td>\n",
       "      <td>1130</td>\n",
       "    </tr>\n",
       "  </tbody>\n",
       "</table>\n",
       "<p>5 rows × 21 columns</p>\n",
       "</div>"
      ],
      "text/plain": [
       "   VendorID tpep_pickup_datetime tpep_dropoff_datetime  passenger_count  \\\n",
       "0         1           2016-05-01   2016-05-01 00:17:31                1   \n",
       "1         2           2016-05-01   2016-05-01 00:07:31                1   \n",
       "2         2           2016-05-01   2016-05-01 00:07:01                6   \n",
       "3         2           2016-05-01   2016-05-01 00:19:47                1   \n",
       "4         2           2016-05-01   2016-05-01 00:06:39                1   \n",
       "\n",
       "   trip_distance  pickup_longitude  pickup_latitude  RatecodeID  \\\n",
       "0           3.60        -73.985901        40.768040           1   \n",
       "1           1.68        -73.991577        40.744751           1   \n",
       "2           1.09        -73.993073        40.741573           1   \n",
       "3           4.21        -73.991943        40.684601           1   \n",
       "4           0.56        -74.005280        40.740192           1   \n",
       "\n",
       "  store_and_fwd_flag  dropoff_longitude   ...     payment_type  fare_amount  \\\n",
       "0                  N         -73.983986   ...                1         15.0   \n",
       "1                  N         -73.975700   ...                1          7.5   \n",
       "2                  N         -73.980995   ...                1          6.5   \n",
       "3                  N         -74.002258   ...                1         17.0   \n",
       "4                  N         -73.997498   ...                1          6.0   \n",
       "\n",
       "   extra  mta_tax  tip_amount  tolls_amount  improvement_surcharge  \\\n",
       "0    0.5      0.5        1.50           0.0                    0.3   \n",
       "1    0.5      0.5        0.88           0.0                    0.3   \n",
       "2    0.5      0.5        1.56           0.0                    0.3   \n",
       "3    0.5      0.5        3.66           0.0                    0.3   \n",
       "4    0.5      0.5        1.46           0.0                    0.3   \n",
       "\n",
       "   total_amount  duration  regions  \n",
       "0         17.80  00:17:31     1233  \n",
       "1          9.68  00:07:31     1180  \n",
       "2          9.36  00:07:01     1180  \n",
       "3         21.96  00:19:47     1173  \n",
       "4          8.76  00:06:39     1130  \n",
       "\n",
       "[5 rows x 21 columns]"
      ]
     },
     "execution_count": 8,
     "metadata": {},
     "output_type": "execute_result"
    }
   ],
   "source": [
    "# Сопоставляем регион и координаты посадки для каждой поездки.\n",
    "# Добавляем данные о номере региона как новый столбец.\n",
    "from scipy.stats import binned_statistic_2d\n",
    "\n",
    "X = np.unique([regs.west,regs.east]);\n",
    "Y = np.unique([regs.south,regs.north]);\n",
    "\n",
    "[statistic, xEdge, yEdge, binNum] = binned_statistic_2d(df.pickup_longitude,df.pickup_latitude,\n",
    "        df.index,statistic = 'count',bins = [X,Y],expand_binnumbers = True);\n",
    "df = df.assign(regions = (binNum[0,:]-1)*(X.size-1)+binNum[1,:]);\n",
    "df.head()"
   ]
  },
  {
   "cell_type": "code",
   "execution_count": 9,
   "metadata": {
    "collapsed": false
   },
   "outputs": [],
   "source": [
    "# группируем данные по региону и часу посадки\n",
    "gr = df.groupby(['regions', df.tpep_pickup_datetime]);\n",
    "# считаем количество поездок в каждой мультигруппе\n",
    "tripCount = gr.VendorID.agg({'count':'count'});\n",
    "# заполняем нули. Для этого создаём новый индекс - произведение всех регионов на 24 часа\n",
    "new_index = pd.MultiIndex.from_product([regs.index,pd.date_range('5/1/2016 00:00:00', '5/31/2016 23:59:59',freq='H')])\n",
    "tripCount = tripCount.reindex(new_index,fill_value = 0,copy = False).rename_axis(['Region','date']);"
   ]
  },
  {
   "cell_type": "markdown",
   "metadata": {},
   "source": [
    " 4) Выведите первые строки полученной таблицы с указанием времени, идентификатора зоны и количества поездок."
   ]
  },
  {
   "cell_type": "code",
   "execution_count": 10,
   "metadata": {
    "collapsed": false
   },
   "outputs": [
    {
     "data": {
      "text/html": [
       "<div>\n",
       "<table border=\"1\" class=\"dataframe\">\n",
       "  <thead>\n",
       "    <tr style=\"text-align: right;\">\n",
       "      <th></th>\n",
       "      <th></th>\n",
       "      <th>count</th>\n",
       "    </tr>\n",
       "    <tr>\n",
       "      <th>Region</th>\n",
       "      <th>date</th>\n",
       "      <th></th>\n",
       "    </tr>\n",
       "  </thead>\n",
       "  <tbody>\n",
       "    <tr>\n",
       "      <th rowspan=\"5\" valign=\"top\">1</th>\n",
       "      <th>2016-05-01 00:00:00</th>\n",
       "      <td>0</td>\n",
       "    </tr>\n",
       "    <tr>\n",
       "      <th>2016-05-01 01:00:00</th>\n",
       "      <td>0</td>\n",
       "    </tr>\n",
       "    <tr>\n",
       "      <th>2016-05-01 02:00:00</th>\n",
       "      <td>0</td>\n",
       "    </tr>\n",
       "    <tr>\n",
       "      <th>2016-05-01 03:00:00</th>\n",
       "      <td>0</td>\n",
       "    </tr>\n",
       "    <tr>\n",
       "      <th>2016-05-01 04:00:00</th>\n",
       "      <td>0</td>\n",
       "    </tr>\n",
       "  </tbody>\n",
       "</table>\n",
       "</div>"
      ],
      "text/plain": [
       "                            count\n",
       "Region date                      \n",
       "1      2016-05-01 00:00:00      0\n",
       "       2016-05-01 01:00:00      0\n",
       "       2016-05-01 02:00:00      0\n",
       "       2016-05-01 03:00:00      0\n",
       "       2016-05-01 04:00:00      0"
      ]
     },
     "execution_count": 10,
     "metadata": {},
     "output_type": "execute_result"
    }
   ],
   "source": [
    "# первые строки пустые :)\n",
    "tripCount.head()"
   ]
  },
  {
   "cell_type": "code",
   "execution_count": 11,
   "metadata": {
    "collapsed": false
   },
   "outputs": [
    {
     "data": {
      "text/html": [
       "<div>\n",
       "<table border=\"1\" class=\"dataframe\">\n",
       "  <thead>\n",
       "    <tr style=\"text-align: right;\">\n",
       "      <th></th>\n",
       "      <th></th>\n",
       "      <th>count</th>\n",
       "    </tr>\n",
       "    <tr>\n",
       "      <th>Region</th>\n",
       "      <th>date</th>\n",
       "      <th></th>\n",
       "    </tr>\n",
       "  </thead>\n",
       "  <tbody>\n",
       "    <tr>\n",
       "      <th>15</th>\n",
       "      <th>2016-05-20 14:00:00</th>\n",
       "      <td>1</td>\n",
       "    </tr>\n",
       "    <tr>\n",
       "      <th>16</th>\n",
       "      <th>2016-05-23 09:00:00</th>\n",
       "      <td>1</td>\n",
       "    </tr>\n",
       "    <tr>\n",
       "      <th>25</th>\n",
       "      <th>2016-05-04 14:00:00</th>\n",
       "      <td>1</td>\n",
       "    </tr>\n",
       "    <tr>\n",
       "      <th>27</th>\n",
       "      <th>2016-05-30 04:00:00</th>\n",
       "      <td>1</td>\n",
       "    </tr>\n",
       "    <tr>\n",
       "      <th>32</th>\n",
       "      <th>2016-05-01 18:00:00</th>\n",
       "      <td>1</td>\n",
       "    </tr>\n",
       "  </tbody>\n",
       "</table>\n",
       "</div>"
      ],
      "text/plain": [
       "                            count\n",
       "Region date                      \n",
       "15     2016-05-20 14:00:00      1\n",
       "16     2016-05-23 09:00:00      1\n",
       "25     2016-05-04 14:00:00      1\n",
       "27     2016-05-30 04:00:00      1\n",
       "32     2016-05-01 18:00:00      1"
      ]
     },
     "execution_count": 11,
     "metadata": {},
     "output_type": "execute_result"
    }
   ],
   "source": [
    "# выведем непустые строки\n",
    "tripCount[tripCount['count'] > 0].head()"
   ]
  },
  {
   "cell_type": "markdown",
   "metadata": {},
   "source": [
    "5) Постройте график количества поездок жёлтого такси из ячейки, содержащей Empire State Building."
   ]
  },
  {
   "cell_type": "code",
   "execution_count": 12,
   "metadata": {
    "collapsed": false
   },
   "outputs": [
    {
     "data": {
      "image/png": "[encoded data removed]",
      "text/plain": [
       "<matplotlib.figure.Figure at 0x8c6e9438>"
      ]
     },
     "metadata": {},
     "output_type": "display_data"
    }
   ],
   "source": [
    "# координаты Empire State Building\n",
    "coord = [-73.9857012, 40.7488006];\n",
    "[c1, c2, c3, binId] = binned_statistic_2d([coord[0]],[coord[1]],1,statistic = 'count',bins = [X,Y],expand_binnumbers = True);\n",
    "binId = (binId[0,:]-1)*(X.size-1)+binId[1,:]\n",
    "tripCount.loc[int(binId)].plot();\n",
    "plt.ylabel('Trip number');"
   ]
  },
  {
   "cell_type": "markdown",
   "metadata": {},
   "source": [
    "6) Посчитайте, сколько в мае 2016 было пар час-ячейка, для которых не было совершено ни одной поездки."
   ]
  },
  {
   "cell_type": "code",
   "execution_count": 13,
   "metadata": {
    "collapsed": false
   },
   "outputs": [
    {
     "name": "stdout",
     "output_type": "stream",
     "text": [
      "Количество пар час-ячейка с нулевым количество поездок  1718130\n"
     ]
    }
   ],
   "source": [
    "print 'Количество пар час-ячейка с нулевым количество поездок ', len(tripCount[tripCount['count'] == 0])"
   ]
  },
  {
   "cell_type": "code",
   "execution_count": 14,
   "metadata": {
    "collapsed": true
   },
   "outputs": [],
   "source": [
    "tripCount.to_pickle('May2016-aggregate.pcl');"
   ]
  },
  {
   "cell_type": "code",
   "execution_count": null,
   "metadata": {
    "collapsed": true
   },
   "outputs": [],
   "source": []
  }
 ],
 "metadata": {
  "kernelspec": {
   "display_name": "Python 2",
   "language": "python",
   "name": "python2"
  },
  "language_info": {
   "codemirror_mode": {
    "name": "ipython",
    "version": 2
   },
   "file_extension": ".py",
   "mimetype": "text/x-python",
   "name": "python",
   "nbconvert_exporter": "python",
   "pygments_lexer": "ipython2",
   "version": "2.7.13"
  }
 },
 "nbformat": 4,
 "nbformat_minor": 0
}
