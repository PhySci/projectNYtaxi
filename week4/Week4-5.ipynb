{
 "cells": [
  {
   "cell_type": "code",
   "execution_count": 1,
   "metadata": {
    "collapsed": false
   },
   "outputs": [
    {
     "name": "stderr",
     "output_type": "stream",
     "text": [
      "/home/frodos/anaconda/lib/python2.7/site-packages/statsmodels/compat/pandas.py:56: FutureWarning: The pandas.core.datetools module is deprecated and will be removed in a future version. Please use the pandas.tseries module instead.\n",
      "  from pandas.core import datetools\n"
     ]
    }
   ],
   "source": [
    "# load libraries\n",
    "import pandas as pd\n",
    "import numpy as np\n",
    "import matplotlib.pyplot as plt\n",
    "\n",
    "from sklearn import linear_model, model_selection, preprocessing\n",
    "\n",
    "import datetime\n",
    "from itertools import product\n",
    "import statsmodels.api as sm\n",
    "\n",
    "import warnings\n",
    "warnings.filterwarnings(\"ignore\")\n",
    "\n",
    "%matplotlib inline"
   ]
  },
  {
   "cell_type": "code",
   "execution_count": 14,
   "metadata": {
    "collapsed": false
   },
   "outputs": [],
   "source": [
    "def regression(res, alpha = 0.1, plot = False,verbose = False, searchBestFit = False):\n",
    "    X = res.drop('trip_count',axis = 1)        \n",
    "    y = res.loc[:,'trip_count'];\n",
    "    \n",
    "    if searchBestFit:\n",
    "        # создать словарь параметров\n",
    "        param_grid = {'alpha': [x for x in np.linspace(10,500,20)]} #,'l1_ratio': [0.1, 0.25, 0.4, 0.5, 0.6, 0.75, 1]}\n",
    "        # создать кросс-валидацию для временных рядов\n",
    "        tscv = model_selection.TimeSeriesSplit()\n",
    "        \n",
    "        # запустить поиск оптимальных параметров\n",
    "        regressor = linear_model.Ridge()\n",
    "        clf = model_selection.GridSearchCV(regressor, param_grid, n_jobs=4, cv=tscv, verbose=1)\n",
    "        clf.fit(X,y)\n",
    "        regressor = clf.best_estimator_        \n",
    "        print 'Best params is', clf.best_params_ \n",
    "        \n",
    "        \n",
    "    else:\n",
    "        regressor = linear_model.Lasso(alpha = alpha, max_iter = 1e5,fit_intercept = True,random_state = 0);\n",
    "        regressor.fit(X,y)\n",
    "        \n",
    "    y_pr = pd.Series(data = regressor.predict(X), index = res.index)\n",
    "    R = regressor.score(X,y);\n",
    "    print 'R factor is ', R\n",
    "    \n",
    "    if plot:\n",
    "        plt.figure(figsize = [15,10])\n",
    "        plt.subplot(211)\n",
    "        plt.plot(y)\n",
    "        plt.plot(y_pr)\n",
    "        plt.legend(['Original data','Predicted'])\n",
    "\n",
    "        plt.subplot(212)\n",
    "        plt.plot(y-y_pr)\n",
    "        plt.legend(['Residuals'])\n",
    "        \n",
    "    return [y_pr, y-y_pr, regressor]"
   ]
  },
  {
   "cell_type": "code",
   "execution_count": 3,
   "metadata": {
    "collapsed": false
   },
   "outputs": [],
   "source": [
    "def getRegressor(regressor, start_date = '2016-05-15 00:00:00', end_date = '2016-05-20 23:00:00'):\n",
    "    predictionStart = datetime.datetime.strptime(start_date,'%Y-%m-%d %H:%M:%S')\n",
    "    predictionEnd = datetime.datetime.strptime(end_date,'%Y-%m-%d %H:%M:%S')\n",
    "    date_index = pd.date_range(predictionStart, predictionEnd, freq='H')\n",
    "   \n",
    "    #какой-то пипец. Должен быть способ сделать это проще.\n",
    "    features = date_index.to_series().to_frame()\n",
    "    features = addFeatures(features,verbose = True)\n",
    "    features = features.drop(0,axis = 1)\n",
    "    exog = regressor.predict(features)\n",
    "    return pd.Series(exog,index = date_index)"
   ]
  },
  {
   "cell_type": "code",
   "execution_count": 4,
   "metadata": {
    "collapsed": true
   },
   "outputs": [],
   "source": [
    "def addFeatures(res, Kw = 6, Ka = 3,verbose = False):    \n",
    "    # add linear feature\n",
    "    res = res.assign(hours = (res.index - datetime.datetime(2014,1,1,0,0,0))/np.timedelta64(1, 'h'))\n",
    "    \n",
    "    # добавляем гармонические фичи\n",
    "    for ind in range(1,Kw+1):\n",
    "        res['weekCos'+str(ind)]= np.cos(np.pi*res.hours*ind/168);\n",
    "        res['weekSin'+str(ind)]= np.sin(np.pi*res.hours*ind/168);\n",
    "    for ind in range(1,Ka+1):\n",
    "        res['yearCos'+str(ind)]= np.cos(2*np.pi*res.hours*ind/8766);\n",
    "        res['yearSin'+str(ind)]= np.sin(2*np.pi*res.hours*ind/8766);\n",
    "        \n",
    "    # добавляем dummy variables для дней недели\n",
    "    lbDays = preprocessing.LabelBinarizer()\n",
    "    lbDays.fit(list(np.arange(6)))\n",
    "    DoW = pd.DataFrame(lbDays.transform(res.index.dayofweek),columns = ['DayOfWeek_'+str(x) for x in np.arange(6)],\n",
    "                       index = res.index)      \n",
    "    res = res.merge(DoW,left_index=True,right_index=True)\n",
    " \n",
    "    # добавляем dummy variables для месяца\n",
    "    lbMonths = preprocessing.LabelBinarizer()\n",
    "    lbMonths.fit(list(np.arange(12)))\n",
    "    Months = pd.DataFrame(lbMonths.transform(res.index.month),columns = ['Month_'+str(x) for x in np.arange(12)],index = res.index)      \n",
    "    res = res.merge(Months,left_index=True,right_index=True);\n",
    "    return res"
   ]
  },
  {
   "cell_type": "code",
   "execution_count": null,
   "metadata": {
    "collapsed": true
   },
   "outputs": [],
   "source": [
    "def findHyperParams(ts,pList = []):\n",
    "    \n",
    "    if (len(pList) ==0):\n",
    "        # create list of parameters\n",
    "        ps = range(2, 7)\n",
    "        d  = 1\n",
    "        qs = range(2, 7)\n",
    "\n",
    "        Ps = range(1, 3)\n",
    "        D  = 1\n",
    "        Qs = range(1, 3)\n",
    "\n",
    "        pList = list(product(ps, qs, Ps, Qs))\n",
    "    \n",
    "    results = []\n",
    "    best_aic = float(\"inf\")\n",
    "    \n",
    "    # add features\n",
    "    ts = addFeatures(ts, Kw = 6, Ka = 3)\n",
    "    # regression\n",
    "    [s, r, lasso] = regression(ts,verbose = True, searchBestFit = True)\n",
    "    \n",
    "    # loop over parameters' list\n",
    "    for param in pList:\n",
    "        #try except нужен, потому что на некоторых наборах параметров модель не обучается\n",
    "        print('Parameters:', param)\n",
    "        try:\n",
    "            mSARIMA=sm.tsa.statespace.SARIMAX(ts.loc[:,'trip_count'], order=[param[0], 1, param[1]],\n",
    "                                          seasonal_order=(param[2], 1, param[3], 24),exog = r).fit(disp=1);\n",
    "        #выводим параметры, на которых модель не обучается и переходим к следующему набору\n",
    "        except Exception as inst:\n",
    "            print inst           # __str__ allows args to be printed directly\n",
    "            continue\n",
    "        else:     \n",
    "            aic = mSARIMA.aic\n",
    "            print('AIC',aic) \n",
    "            #сохраняем лучшую модель, aic, параметры\n",
    "            if aic < best_aic:\n",
    "                best_model = mSARIMA\n",
    "                best_aic = aic\n",
    "                best_param = param\n",
    "            results.append([param, mSARIMA.aic])\n",
    "    return [best_aic,best_param, best_model]"
   ]
  },
  {
   "cell_type": "code",
   "execution_count": 6,
   "metadata": {
    "collapsed": true
   },
   "outputs": [],
   "source": [
    "# id нужных регионов\n",
    "regsDf = pd.read_csv('../crowdRegs.csv',names=['id','regId']);  \n",
    "\n",
    "# временные ряды для этих регионов\n",
    "df = pd.read_pickle('../loadData/crowdRegs3.pcl')\n",
    "df.columns = regsDf.regId.values.astype('str')\n",
    "\n",
    "# словарь с группировкой рядов\n",
    "tsGroups = np.load('tsGroups.npy').item()\n",
    "\n",
    "# словарь с оптимальными параметрами для каждой группы\n",
    "paramsGroups = np.load('paramsGroups.npy').item()"
   ]
  },
  {
   "cell_type": "markdown",
   "metadata": {},
   "source": [
    "*Логика скрипта:*\n",
    "<ol>\n",
    "<li> Выбираем одну группу\n",
    "<li> В группе выбираем один ряд\n",
    "<li> По номеру группы подгружаем оптимальные параметры\n",
    "<li> Обучаем регрессор\n",
    "<li> Обучаем SARIMAX модель\n",
    "<li> Сохраняем модель (??? Может быть без данных, чтобы сэкономить место).\n",
    "<li> Делаем предсказание\n",
    "<li> Сохраняем предсказение\n",
    "<li> Идём на второй или первый шаг\n",
    "<ol>\n",
    "    "
   ]
  },
  {
   "cell_type": "code",
   "execution_count": null,
   "metadata": {
    "collapsed": true
   },
   "outputs": [],
   "source": [
    "# выберу настроечные ряды руками\n",
    "fitSeries = {'gr18':'1274','gr19':'1684','gr10':'1333','gr11':'1075','gr12':'2118','gr13':'1387','gr14':'1384','gr15':'1174'}\n",
    "fitSeries.update({'gr16':'1483','gr17':'1282','gr21':'1184','gr20':'1131','gr23':'1332','gr22':'1580','gr6':'1177','gr7':'1388'})\n",
    "fitSeries.update({'gr4':'1128','gr2':'1234','gr3':'1231','gr0':'1286','gr1':'1125','gr8':'1181','gr9':'1532'})"
   ]
  },
  {
   "cell_type": "code",
   "execution_count": null,
   "metadata": {
    "collapsed": true
   },
   "outputs": [],
   "source": [
    "def saveResults(df, fName):\n",
    "    \"\"\"\n",
    "    Save dataframe df to file fName\n",
    "    \"\"\"\n",
    "    f = open(fName, 'w')\n",
    "    for ts in df.index.levels[0]:\n",
    "        for lag in df.index.levels[1][6:-5]:\n",
    "            for i in np.arange(6):\n",
    "                try:\n",
    "                    historyStart = lag - datetime.timedelta(hours = 1)\n",
    "                    res = df.loc[ts,lag].y[i]\n",
    "                    if res<0:\n",
    "                        res = 0\n",
    "                    s =  str(ts)+'_'+datetime.datetime.strftime(historyStart, \"%Y-%m-%d\") +'_'+ str(historyStart.hour)+'_'+str(i+1)+','+str(res)+'\\n'\n",
    "                except Exception as ins:\n",
    "                    print lag, ts, i\n",
    "                    print ins\n",
    "                else:\n",
    "                    f.write(s)\n",
    "\n",
    "    f.close()"
   ]
  },
  {
   "cell_type": "code",
   "execution_count": 7,
   "metadata": {
    "collapsed": false
   },
   "outputs": [],
   "source": [
    "# диапазон дат для обучения\n",
    "startFit = '2015-01-01 0:0:0'\n",
    "endFit = '2016-05-31 23:00:00'\n",
    "\n",
    "err = 0\n",
    "\n",
    "# диапазон дат для предсказания\n",
    "startPrediction = '2016-05-31 18:00:00'\n",
    "endPrediction   = '2016-06-30 23:00:00'\n",
    "predictionRange = pd.date_range(startPrediction, endPrediction, freq='H')\n",
    "\n",
    "# словарь с оптимальными параметрами для каждой группы\n",
    "#paramsGroups = np.load('paramsGroups.npy').item()\n",
    "\n",
    "# create array to save prediction results\n",
    "mIndex = pd.MultiIndex.from_product([df.columns.values, predictionRange])\n",
    "resDf = pd.DataFrame(index = mIndex, columns = ['y','err'])\n",
    "# load data\n",
    "\n",
    "# тестирую ряд 1075, gr11\n",
    "\n",
    "grId = 'gr11'\n",
    "tsId = '1075'   \n",
    "\n",
    "params = paramsGroups.get(grId)[1]"
   ]
  },
  {
   "cell_type": "code",
   "execution_count": 23,
   "metadata": {
    "collapsed": false
   },
   "outputs": [
    {
     "name": "stdout",
     "output_type": "stream",
     "text": [
      "Regions is  1075\n",
      "Fitting 3 folds for each of 20 candidates, totalling 60 fits\n",
      "Best params is {'alpha': 164.73684210526318}\n",
      "R factor is  0.056635952918\n"
     ]
    },
    {
     "name": "stderr",
     "output_type": "stream",
     "text": [
      "[Parallel(n_jobs=4)]: Done  60 out of  60 | elapsed:    0.8s finished\n"
     ]
    }
   ],
   "source": [
    "# получаем параметры SARIMAX модели\n",
    "params = paramsGroups.get(grId)[1] \n",
    "\n",
    "print 'Regions is ', tsId\n",
    "# получаем временной ряд\n",
    "ts = df.loc[startFit:endFit,tsId] #\n",
    "\n",
    "# обучаем регрессор\n",
    "ts = ts.to_frame(name = 'trip_count')\n",
    "\n",
    "#[best_aic,best_params, best_model] = findHyperParams(ts)\n",
    "#print best_params\n",
    "#params = best_params\n",
    "\n",
    "[r_pr, res, regressor] = regression(addFeatures(ts), verbose = True, searchBestFit = True)\n",
    "exog = getRegressor(regressor,startFit,endFit)"
   ]
  },
  {
   "cell_type": "code",
   "execution_count": 24,
   "metadata": {
    "collapsed": false
   },
   "outputs": [
    {
     "data": {
      "text/plain": [
       "(394464, 395208)"
      ]
     },
     "execution_count": 24,
     "metadata": {},
     "output_type": "execute_result"
    },
    {
     "data": {
      "image/png": "[encoded data removed]",
      "text/plain": [
       "<matplotlib.figure.Figure at 0x7fbb4e08a190>"
      ]
     },
     "metadata": {},
     "output_type": "display_data"
    }
   ],
   "source": [
    "ts.plot()\n",
    "r_pr.plot()\n",
    "exog.plot()\n",
    "plt.xlim(['01-01-2015','02-01-2015'])"
   ]
  },
  {
   "cell_type": "code",
   "execution_count": 25,
   "metadata": {
    "collapsed": false
   },
   "outputs": [
    {
     "data": {
      "text/plain": [
       "<matplotlib.axes._subplots.AxesSubplot at 0x7fbb2472f950>"
      ]
     },
     "execution_count": 25,
     "metadata": {},
     "output_type": "execute_result"
    },
    {
     "data": {
      "image/png": "[encoded data removed]",
      "text/plain": [
       "<matplotlib.figure.Figure at 0x7fbb2455c450>"
      ]
     },
     "metadata": {},
     "output_type": "display_data"
    }
   ],
   "source": [
    "ts.plot()\n",
    "exog.plot()"
   ]
  },
  {
   "cell_type": "code",
   "execution_count": 26,
   "metadata": {
    "collapsed": false
   },
   "outputs": [
    {
     "name": "stdout",
     "output_type": "stream",
     "text": [
      "Teach SARIMAX\n"
     ]
    }
   ],
   "source": [
    "# обучаем SARIMAX модель\n",
    "print 'Teach SARIMAX'\n",
    "try:\n",
    "    mSARIMA=sm.tsa.statespace.SARIMAX(ts, order=[params[0], 2, params[1]],\n",
    "                                      seasonal_order=(params[2], 1, params[3], 24),\n",
    "                                      exog = exog).fit(disp=1);\n",
    "\n",
    "    # получаем предсказания регрессора на весь диапазон дат (обучение+предсказание)\n",
    "    exog = getRegressor(regressor,startFit,endPrediction)\n",
    "    # получаем данные о поездкахы на весь диапазон дат\n",
    "    endog = df.loc[startFit:endPrediction,tsId]\n",
    "\n",
    "    # создаём новую модель, которую будет использовать для предсказания\n",
    "    model_fitted = sm.tsa.statespace.SARIMAX(endog, order=[params[0], 2, params[1]],\n",
    "                                         seasonal_order=(params[2], 1, params[3], 24),\n",
    "                                         exog = exog).filter(mSARIMA.params)\n",
    "except Exception as inst:\n",
    "    print 'Can not teach or create the model'\n",
    "    print inst"
   ]
  },
  {
   "cell_type": "code",
   "execution_count": 11,
   "metadata": {
    "collapsed": false
   },
   "outputs": [
    {
     "name": "stdout",
     "output_type": "stream",
     "text": [
      "Make prediction\n",
      "Prediction error\n",
      "\n",
      "Prediction error\n",
      "\n",
      "Prediction error\n",
      "\n",
      "Prediction error\n",
      "\n",
      "Prediction error\n",
      "\n",
      "Prediction error\n",
      "\n",
      "Prediction error\n",
      "\n",
      "Prediction error\n",
      "\n",
      "Prediction error\n",
      "\n",
      "Prediction error\n",
      "\n",
      "Prediction error\n",
      "\n",
      "Prediction error\n",
      "\n",
      "Prediction error\n",
      "\n",
      "Prediction error\n",
      "\n",
      "Prediction error\n",
      "\n",
      "Prediction error\n",
      "\n",
      "Prediction error\n",
      "\n",
      "Prediction error\n",
      "\n",
      "Prediction error\n",
      "\n",
      "Prediction error\n",
      "\n",
      "Prediction error\n",
      "\n",
      "Prediction error\n",
      "\n",
      "Prediction error\n",
      "\n",
      "Prediction error\n",
      "\n",
      "Prediction error\n",
      "\n",
      "Prediction error\n",
      "\n",
      "Prediction error\n",
      "\n",
      "Prediction error\n",
      "\n",
      "Prediction error\n",
      "\n",
      "Prediction error\n",
      "\n",
      "Prediction error\n",
      "\n",
      "Prediction error\n",
      "\n",
      "Prediction error\n",
      "\n",
      "Prediction error\n",
      "\n",
      "Prediction error\n",
      "\n",
      "Prediction error\n",
      "\n",
      "Prediction error\n",
      "\n",
      "Prediction error\n",
      "\n",
      "Prediction error\n",
      "\n",
      "Prediction error\n",
      "\n",
      "Prediction error\n",
      "\n",
      "Prediction error\n",
      "\n",
      "Prediction error\n",
      "\n",
      "Prediction error\n",
      "\n",
      "Prediction error\n",
      "\n",
      "Prediction error\n",
      "\n",
      "Prediction error\n",
      "\n",
      "Prediction error\n",
      "\n",
      "Prediction error\n",
      "\n",
      "Prediction error\n",
      "\n",
      "Prediction error\n",
      "\n",
      "Prediction error\n",
      "\n",
      "Prediction error\n",
      "\n",
      "Prediction error\n",
      "\n",
      "Prediction error\n",
      "\n",
      "Prediction error\n",
      "\n",
      "Prediction error\n",
      "\n",
      "Prediction error\n",
      "\n",
      "Prediction error\n",
      "\n",
      "Prediction error\n",
      "\n",
      "Prediction error\n",
      "\n",
      "Prediction error\n",
      "\n",
      "Prediction error\n",
      "\n",
      "Prediction error\n",
      "\n",
      "Prediction error\n",
      "\n",
      "Prediction error\n",
      "\n",
      "Prediction error\n",
      "\n",
      "Prediction error\n",
      "\n",
      "Prediction error\n",
      "\n",
      "Prediction error\n",
      "\n",
      "Prediction error\n",
      "\n",
      "Prediction error\n",
      "\n",
      "Prediction error\n",
      "\n",
      "Prediction error\n",
      "\n",
      "Prediction error\n",
      "\n",
      "Prediction error\n",
      "\n",
      "Prediction error\n",
      "\n",
      "Prediction error\n",
      "\n",
      "Prediction error\n",
      "\n",
      "Prediction error\n",
      "\n",
      "Prediction error\n",
      "\n",
      "Prediction error\n",
      "\n",
      "Prediction error\n",
      "\n",
      "Prediction error\n",
      "\n",
      "Prediction error\n",
      "\n",
      "Prediction error\n",
      "\n",
      "Prediction error\n",
      "\n",
      "Prediction error\n",
      "\n",
      "Prediction error\n",
      "\n",
      "Prediction error\n",
      "\n",
      "Prediction error\n",
      "\n",
      "Prediction error\n",
      "\n",
      "Prediction error\n",
      "\n",
      "Prediction error\n",
      "\n",
      "Prediction error\n",
      "\n",
      "Prediction error\n",
      "\n",
      "Prediction error\n",
      "\n",
      "Prediction error\n",
      "\n",
      "Prediction error\n",
      "\n",
      "Prediction error\n",
      "\n",
      "Prediction error\n",
      "\n",
      "Prediction error\n",
      "\n",
      "Prediction error\n",
      "\n",
      "Prediction error\n",
      "\n",
      "Prediction error\n",
      "\n",
      "Prediction error\n",
      "\n",
      "Prediction error\n",
      "\n",
      "Prediction error\n",
      "\n",
      "Prediction error\n",
      "\n",
      "Prediction error\n",
      "\n",
      "Prediction error\n",
      "\n",
      "Prediction error\n",
      "\n",
      "Prediction error\n",
      "\n",
      "Prediction error\n",
      "\n",
      "Prediction error\n",
      "\n",
      "Prediction error\n",
      "\n",
      "Prediction error\n",
      "\n",
      "Prediction error\n",
      "\n",
      "Prediction error\n",
      "\n",
      "Prediction error\n",
      "\n",
      "Prediction error\n",
      "\n",
      "Prediction error\n",
      "\n",
      "Prediction error\n",
      "\n",
      "Prediction error\n",
      "\n",
      "Prediction error\n",
      "\n",
      "Prediction error\n",
      "\n",
      "Prediction error\n",
      "\n",
      "Prediction error\n",
      "\n",
      "Prediction error\n",
      "\n",
      "Prediction error\n",
      "\n",
      "Prediction error\n",
      "\n",
      "Prediction error\n",
      "\n",
      "Prediction error\n",
      "\n",
      "Prediction error\n",
      "\n",
      "Prediction error\n",
      "\n",
      "Prediction error\n",
      "\n",
      "Prediction error\n",
      "\n",
      "Prediction error\n",
      "\n",
      "Prediction error\n",
      "\n",
      "Prediction error\n",
      "\n",
      "Prediction error\n",
      "\n",
      "Prediction error\n",
      "\n",
      "Prediction error\n",
      "\n",
      "Prediction error\n",
      "\n",
      "Prediction error\n",
      "\n",
      "Prediction error\n",
      "\n",
      "Prediction error\n",
      "\n",
      "Prediction error\n",
      "\n",
      "Prediction error\n",
      "\n",
      "Prediction error\n",
      "\n",
      "Prediction error\n",
      "\n",
      "Prediction error\n",
      "\n",
      "Prediction error\n",
      "\n",
      "Prediction error\n",
      "\n",
      "Prediction error\n",
      "\n",
      "Prediction error\n",
      "\n",
      "Prediction error\n",
      "\n",
      "Prediction error\n",
      "\n",
      "Prediction error\n",
      "\n",
      "Prediction error\n",
      "\n",
      "Prediction error\n",
      "\n",
      "Prediction error\n",
      "\n",
      "Prediction error\n",
      "\n",
      "Prediction error\n",
      "\n",
      "Prediction error\n",
      "\n",
      "Prediction error\n",
      "\n",
      "Prediction error\n",
      "\n",
      "Prediction error\n",
      "\n",
      "Prediction error\n",
      "\n",
      "Prediction error\n",
      "\n",
      "Prediction error\n",
      "\n",
      "Prediction error\n",
      "\n",
      "Prediction error\n",
      "\n",
      "Prediction error\n",
      "\n"
     ]
    },
    {
     "name": "stderr",
     "output_type": "stream",
     "text": [
      "ERROR:root:Internal Python error in the inspect module.\n",
      "Below is the traceback from this internal error.\n",
      "\n"
     ]
    },
    {
     "name": "stdout",
     "output_type": "stream",
     "text": [
      "Traceback (most recent call last):\n",
      "  File \"/home/frodos/anaconda/lib/python2.7/site-packages/IPython/core/ultratb.py\", line 1132, in get_records\n",
      "    return _fixed_getinnerframes(etb, number_of_lines_of_context, tb_offset)\n",
      "  File \"/home/frodos/anaconda/lib/python2.7/site-packages/IPython/core/ultratb.py\", line 313, in wrapped\n",
      "    return f(*args, **kwargs)\n",
      "  File \"/home/frodos/anaconda/lib/python2.7/site-packages/IPython/core/ultratb.py\", line 358, in _fixed_getinnerframes\n",
      "    records = fix_frame_records_filenames(inspect.getinnerframes(etb, context))\n",
      "  File \"/home/frodos/anaconda/lib/python2.7/inspect.py\", line 1048, in getinnerframes\n",
      "    framelist.append((tb.tb_frame,) + getframeinfo(tb, context))\n",
      "  File \"/home/frodos/anaconda/lib/python2.7/inspect.py\", line 1008, in getframeinfo\n",
      "    filename = getsourcefile(frame) or getfile(frame)\n",
      "  File \"/home/frodos/anaconda/lib/python2.7/inspect.py\", line 453, in getsourcefile\n",
      "    if hasattr(getmodule(object, filename), '__loader__'):\n",
      "  File \"/home/frodos/anaconda/lib/python2.7/inspect.py\", line 490, in getmodule\n",
      "    if ismodule(module) and hasattr(module, '__file__'):\n",
      "KeyboardInterrupt\n"
     ]
    },
    {
     "ename": "IndexError",
     "evalue": "string index out of range",
     "output_type": "error",
     "traceback": [
      "\u001b[0;31m---------------------------------------------------------------------------\u001b[0m",
      "\u001b[0;31mIndexError\u001b[0m                                Traceback (most recent call last)",
      "\u001b[0;32m/home/frodos/anaconda/lib/python2.7/site-packages/IPython/core/interactiveshell.pyc\u001b[0m in \u001b[0;36mrun_code\u001b[0;34m(self, code_obj, result)\u001b[0m\n\u001b[1;32m   2896\u001b[0m             \u001b[0;32mif\u001b[0m \u001b[0mresult\u001b[0m \u001b[0;32mis\u001b[0m \u001b[0;32mnot\u001b[0m \u001b[0mNone\u001b[0m\u001b[0;34m:\u001b[0m\u001b[0;34m\u001b[0m\u001b[0m\n\u001b[1;32m   2897\u001b[0m                 \u001b[0mresult\u001b[0m\u001b[0;34m.\u001b[0m\u001b[0merror_in_exec\u001b[0m \u001b[0;34m=\u001b[0m \u001b[0msys\u001b[0m\u001b[0;34m.\u001b[0m\u001b[0mexc_info\u001b[0m\u001b[0;34m(\u001b[0m\u001b[0;34m)\u001b[0m\u001b[0;34m[\u001b[0m\u001b[0;36m1\u001b[0m\u001b[0;34m]\u001b[0m\u001b[0;34m\u001b[0m\u001b[0m\n\u001b[0;32m-> 2898\u001b[0;31m             \u001b[0mself\u001b[0m\u001b[0;34m.\u001b[0m\u001b[0mshowtraceback\u001b[0m\u001b[0;34m(\u001b[0m\u001b[0;34m)\u001b[0m\u001b[0;34m\u001b[0m\u001b[0m\n\u001b[0m\u001b[1;32m   2899\u001b[0m         \u001b[0;32melse\u001b[0m\u001b[0;34m:\u001b[0m\u001b[0;34m\u001b[0m\u001b[0m\n\u001b[1;32m   2900\u001b[0m             \u001b[0moutflag\u001b[0m \u001b[0;34m=\u001b[0m \u001b[0;36m0\u001b[0m\u001b[0;34m\u001b[0m\u001b[0m\n",
      "\u001b[0;32m/home/frodos/anaconda/lib/python2.7/site-packages/IPython/core/interactiveshell.pyc\u001b[0m in \u001b[0;36mshowtraceback\u001b[0;34m(self, exc_tuple, filename, tb_offset, exception_only)\u001b[0m\n\u001b[1;32m   1822\u001b[0m                     \u001b[0;32mexcept\u001b[0m \u001b[0mException\u001b[0m\u001b[0;34m:\u001b[0m\u001b[0;34m\u001b[0m\u001b[0m\n\u001b[1;32m   1823\u001b[0m                         stb = self.InteractiveTB.structured_traceback(etype,\n\u001b[0;32m-> 1824\u001b[0;31m                                             value, tb, tb_offset=tb_offset)\n\u001b[0m\u001b[1;32m   1825\u001b[0m \u001b[0;34m\u001b[0m\u001b[0m\n\u001b[1;32m   1826\u001b[0m                     \u001b[0mself\u001b[0m\u001b[0;34m.\u001b[0m\u001b[0m_showtraceback\u001b[0m\u001b[0;34m(\u001b[0m\u001b[0metype\u001b[0m\u001b[0;34m,\u001b[0m \u001b[0mvalue\u001b[0m\u001b[0;34m,\u001b[0m \u001b[0mstb\u001b[0m\u001b[0;34m)\u001b[0m\u001b[0;34m\u001b[0m\u001b[0m\n",
      "\u001b[0;32m/home/frodos/anaconda/lib/python2.7/site-packages/IPython/core/ultratb.pyc\u001b[0m in \u001b[0;36mstructured_traceback\u001b[0;34m(self, etype, value, tb, tb_offset, number_of_lines_of_context)\u001b[0m\n\u001b[1;32m   1404\u001b[0m         \u001b[0mself\u001b[0m\u001b[0;34m.\u001b[0m\u001b[0mtb\u001b[0m \u001b[0;34m=\u001b[0m \u001b[0mtb\u001b[0m\u001b[0;34m\u001b[0m\u001b[0m\n\u001b[1;32m   1405\u001b[0m         return FormattedTB.structured_traceback(\n\u001b[0;32m-> 1406\u001b[0;31m             self, etype, value, tb, tb_offset, number_of_lines_of_context)\n\u001b[0m\u001b[1;32m   1407\u001b[0m \u001b[0;34m\u001b[0m\u001b[0m\n\u001b[1;32m   1408\u001b[0m \u001b[0;34m\u001b[0m\u001b[0m\n",
      "\u001b[0;32m/home/frodos/anaconda/lib/python2.7/site-packages/IPython/core/ultratb.pyc\u001b[0m in \u001b[0;36mstructured_traceback\u001b[0;34m(self, etype, value, tb, tb_offset, number_of_lines_of_context)\u001b[0m\n\u001b[1;32m   1312\u001b[0m             \u001b[0;31m# Verbose modes need a full traceback\u001b[0m\u001b[0;34m\u001b[0m\u001b[0;34m\u001b[0m\u001b[0m\n\u001b[1;32m   1313\u001b[0m             return VerboseTB.structured_traceback(\n\u001b[0;32m-> 1314\u001b[0;31m                 \u001b[0mself\u001b[0m\u001b[0;34m,\u001b[0m \u001b[0metype\u001b[0m\u001b[0;34m,\u001b[0m \u001b[0mvalue\u001b[0m\u001b[0;34m,\u001b[0m \u001b[0mtb\u001b[0m\u001b[0;34m,\u001b[0m \u001b[0mtb_offset\u001b[0m\u001b[0;34m,\u001b[0m \u001b[0mnumber_of_lines_of_context\u001b[0m\u001b[0;34m\u001b[0m\u001b[0m\n\u001b[0m\u001b[1;32m   1315\u001b[0m             )\n\u001b[1;32m   1316\u001b[0m         \u001b[0;32melse\u001b[0m\u001b[0;34m:\u001b[0m\u001b[0;34m\u001b[0m\u001b[0m\n",
      "\u001b[0;32m/home/frodos/anaconda/lib/python2.7/site-packages/IPython/core/ultratb.pyc\u001b[0m in \u001b[0;36mstructured_traceback\u001b[0;34m(self, etype, evalue, etb, tb_offset, number_of_lines_of_context)\u001b[0m\n\u001b[1;32m   1196\u001b[0m                 \u001b[0mstructured_traceback_parts\u001b[0m \u001b[0;34m+=\u001b[0m \u001b[0mformatted_exception\u001b[0m\u001b[0;34m\u001b[0m\u001b[0m\n\u001b[1;32m   1197\u001b[0m         \u001b[0;32melse\u001b[0m\u001b[0;34m:\u001b[0m\u001b[0;34m\u001b[0m\u001b[0m\n\u001b[0;32m-> 1198\u001b[0;31m             \u001b[0mstructured_traceback_parts\u001b[0m \u001b[0;34m+=\u001b[0m \u001b[0mformatted_exception\u001b[0m\u001b[0;34m[\u001b[0m\u001b[0;36m0\u001b[0m\u001b[0;34m]\u001b[0m\u001b[0;34m\u001b[0m\u001b[0m\n\u001b[0m\u001b[1;32m   1199\u001b[0m \u001b[0;34m\u001b[0m\u001b[0m\n\u001b[1;32m   1200\u001b[0m         \u001b[0;32mreturn\u001b[0m \u001b[0mstructured_traceback_parts\u001b[0m\u001b[0;34m\u001b[0m\u001b[0m\n",
      "\u001b[0;31mIndexError\u001b[0m: string index out of range"
     ]
    }
   ],
   "source": [
    "# проходим по всему диапазону дат предсказаний\n",
    "print 'Make prediction'\n",
    "for firstLag in predictionRange:\n",
    "    lastLag = firstLag+datetime.timedelta(hours = 5)\n",
    "    # prediction\n",
    "    try:\n",
    "        predicted_data = model_fitted.predict(firstLag, lastLag, dynamic=True, exog = exog[firstLag:lastLag])\n",
    "    except Exception as inst:\n",
    "        print 'Prediction error'\n",
    "        print inst\n",
    "    else:\n",
    "        # save results\n",
    "        resDf.loc[tsId,firstLag].y = predicted_data\n",
    "        err += (df.loc[startPrediction:endPrediction,tsId]-predicted_data).abs().sum()\n",
    "        resDf.loc[tsId,firstLag].err = (df.loc[startPrediction:endPrediction,tsId]-predicted_data).abs().mean()"
   ]
  },
  {
   "cell_type": "code",
   "execution_count": 13,
   "metadata": {
    "collapsed": false
   },
   "outputs": [
    {
     "data": {
      "text/plain": [
       "Timestamp('2016-06-08 00:00:00', freq='H')"
      ]
     },
     "execution_count": 13,
     "metadata": {},
     "output_type": "execute_result"
    }
   ],
   "source": [
    "firstLag"
   ]
  },
  {
   "cell_type": "code",
   "execution_count": null,
   "metadata": {
    "collapsed": true
   },
   "outputs": [],
   "source": [
    "model_fitted.predict(firstLag, lastLag, dynamic=True, exog = exog[firstLag:lastLag])"
   ]
  },
  {
   "cell_type": "code",
   "execution_count": null,
   "metadata": {
    "collapsed": true
   },
   "outputs": [],
   "source": []
  }
 ],
 "metadata": {
  "anaconda-cloud": {},
  "kernelspec": {
   "display_name": "Python 2",
   "language": "python",
   "name": "python2"
  },
  "language_info": {
   "codemirror_mode": {
    "name": "ipython",
    "version": 2
   },
   "file_extension": ".py",
   "mimetype": "text/x-python",
   "name": "python",
   "nbconvert_exporter": "python",
   "pygments_lexer": "ipython2",
   "version": "2.7.13"
  }
 },
 "nbformat": 4,
 "nbformat_minor": 2
}
