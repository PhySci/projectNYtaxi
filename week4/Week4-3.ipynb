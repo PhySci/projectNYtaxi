{
 "cells": [
  {
   "cell_type": "code",
   "execution_count": 1,
   "metadata": {
    "collapsed": true
   },
   "outputs": [],
   "source": [
    "# load libraries\n",
    "import pandas as pd\n",
    "import numpy as np\n",
    "import matplotlib.pyplot as plt\n",
    "from itertools import product\n",
    "\n",
    "from sklearn import linear_model, model_selection, preprocessing\n",
    "\n",
    "import datetime\n",
    "from itertools import product\n",
    "import statsmodels.api as sm\n",
    "\n",
    "import warnings\n",
    "warnings.filterwarnings(\"ignore\")\n",
    "\n",
    "%matplotlib inline"
   ]
  },
  {
   "cell_type": "code",
   "execution_count": 2,
   "metadata": {
    "collapsed": true
   },
   "outputs": [],
   "source": [
    "def saveResults(df, fName):\n",
    "    \"\"\"\n",
    "    Save dataframe df to file fName\n",
    "    \"\"\"\n",
    "    f = open(fName, 'w')\n",
    "    for ts in df.index.levels[0]:\n",
    "        for lag in df.index.levels[1][:-6]:\n",
    "            for i in np.arange(6):\n",
    "                try:\n",
    "                    historyStart = lag - datetime.timedelta(hours = 1)\n",
    "                    s =  str(ts)+'_'+datetime.datetime.strftime(historyStart, \"%Y-%m-%d\") +'_'+ str(historyStart.hour)+'_'+str(i+1)+','+str(df.loc[ts,lag].y[i])+'\\n'\n",
    "                except Exception as ins:\n",
    "                    print lag, ts, i\n",
    "                    print ins\n",
    "                    break\n",
    "                else:\n",
    "                    f.write(s)\n",
    "\n",
    "    f.close()"
   ]
  },
  {
   "cell_type": "code",
   "execution_count": 3,
   "metadata": {
    "collapsed": false
   },
   "outputs": [],
   "source": [
    "def regression(res, alpha = 0.1, plot = False,verbose = False, searchBestFit = False):\n",
    "    X = res.drop('trip_count',axis = 1)        \n",
    "    y = res.loc[:,'trip_count'];\n",
    "    \n",
    "    if searchBestFit:\n",
    "        # создать словарь параметров\n",
    "        param_grid = {'alpha': [x for x in np.linspace(1,5,9)]} #, \n",
    "                    #  'l1_ratio': [0.1, 0.25, 0.4, 0.5, 0.6, 0.75, 1]}\n",
    "        # создать кросс-валидацию для временных рядов\n",
    "        tscv = model_selection.TimeSeriesSplit()\n",
    "        \n",
    "        # запустить поиск оптимальных параметров\n",
    "        regressor = linear_model.Ridge()\n",
    "        clf = model_selection.GridSearchCV(regressor, param_grid, n_jobs=4, cv=tscv, verbose=1)\n",
    "        clf.fit(X,y)\n",
    "        regressor = clf.best_estimator_        \n",
    "        print 'Best params is', clf.best_params_ \n",
    "        \n",
    "        \n",
    "    else:\n",
    "        regressor = linear_model.Lasso(alpha = alpha, max_iter = 1e5,fit_intercept = True,random_state = 0);\n",
    "        regressor.fit(X,y)\n",
    "        \n",
    "    y_pr = pd.Series(data = regressor.predict(X), index = res.index)\n",
    "    R = regressor.score(X,y);\n",
    "    print 'R factor is ', R\n",
    "    \n",
    "    if plot:\n",
    "        plt.figure(figsize = [15,10])\n",
    "        plt.subplot(211)\n",
    "        plt.plot(y)\n",
    "        plt.plot(y_pr)\n",
    "        plt.legend(['Original data','Predicted'])\n",
    "\n",
    "        plt.subplot(212)\n",
    "        plt.plot(y-y_pr)\n",
    "        plt.legend(['Residuals'])\n",
    "        \n",
    "    return [y_pr, y-y_pr, regressor]"
   ]
  },
  {
   "cell_type": "code",
   "execution_count": 4,
   "metadata": {
    "collapsed": false
   },
   "outputs": [],
   "source": [
    "def getRegressor(regressor, start_date = '2016-05-15 00:00:00', end_date = '2016-05-20 23:00:00'):\n",
    "    predictionStart = datetime.datetime.strptime(start_date,'%Y-%m-%d %H:%M:%S')\n",
    "    predictionEnd = datetime.datetime.strptime(end_date,'%Y-%m-%d %H:%M:%S')\n",
    "    date_index = pd.date_range(predictionStart, predictionEnd, freq='H')\n",
    "   \n",
    "    #какой-то пипец. Должен быть способ сделать это проще.\n",
    "    features = date_index.to_series().to_frame()\n",
    "    features = addFeatures(features,verbose = True)\n",
    "    features = features.drop(0,axis = 1)\n",
    "    exog = regressor.predict(features)\n",
    "    #print \n",
    "    #exog = np.expand_dims(,axis = 1)\n",
    "    #print exog\n",
    "    return pd.Series(exog,index = date_index)"
   ]
  },
  {
   "cell_type": "code",
   "execution_count": 5,
   "metadata": {
    "collapsed": true
   },
   "outputs": [],
   "source": [
    "def addFeatures(res, Kw = 6, Ka = 3,verbose = False):    \n",
    "    # add linear feature\n",
    "    res = res.assign(hours = (res.index - datetime.datetime(2014,1,1,0,0,0))/np.timedelta64(1, 'h'))\n",
    "    \n",
    "    # добавляем гармонические фичи\n",
    "    for ind in range(1,Kw+1):\n",
    "        res['weekCos'+str(ind)]= np.cos(np.pi*res.hours*ind/168);\n",
    "        res['weekSin'+str(ind)]= np.sin(np.pi*res.hours*ind/168);\n",
    "    for ind in range(1,Ka+1):\n",
    "        res['yearCos'+str(ind)]= np.cos(2*np.pi*res.hours*ind/8766);\n",
    "        res['yearSin'+str(ind)]= np.sin(2*np.pi*res.hours*ind/8766);\n",
    "        \n",
    "    # добавляем dummy variables для дней недели\n",
    "    lbDays = preprocessing.LabelBinarizer()\n",
    "    lbDays.fit(list(np.arange(6)))\n",
    "    DoW = pd.DataFrame(lbDays.transform(res.index.dayofweek),columns = ['DayOfWeek_'+str(x) for x in np.arange(6)],\n",
    "                       index = res.index)      \n",
    "    res = res.merge(DoW,left_index=True,right_index=True)\n",
    " \n",
    "    # добавляем dummy variables для месяца\n",
    "    lbMonths = preprocessing.LabelBinarizer()\n",
    "    lbMonths.fit(list(np.arange(12)))\n",
    "    Months = pd.DataFrame(lbMonths.transform(res.index.month),columns = ['Month_'+str(x) for x in np.arange(12)],index = res.index)      \n",
    "    res = res.merge(Months,left_index=True,right_index=True);\n",
    "    return res"
   ]
  },
  {
   "cell_type": "code",
   "execution_count": 6,
   "metadata": {
    "collapsed": true
   },
   "outputs": [],
   "source": [
    "def findHyperParams(ts,pList = []):\n",
    "    \n",
    "    if (len(pList) ==0):\n",
    "        # create list of parameters\n",
    "        ps = range(2, 7)\n",
    "        d  = 1\n",
    "        qs = range(2, 7)\n",
    "\n",
    "        Ps = range(1, 3)\n",
    "        D  = 1\n",
    "        Qs = range(1, 3)\n",
    "\n",
    "        pList = list(product(ps, qs, Ps, Qs))\n",
    "    \n",
    "    results = []\n",
    "    best_aic = float(\"inf\")\n",
    "    \n",
    "    # add features\n",
    "    ts = addFeatures(ts, Kw = 6, Ka = 3)\n",
    "    # regression\n",
    "    [s, r, lasso] = regression(ts,verbose = True, searchBestFit = True)\n",
    "    \n",
    "    # loop over parameters' list\n",
    "    for param in pList:\n",
    "        #try except нужен, потому что на некоторых наборах параметров модель не обучается\n",
    "        print('Parameters:', param)\n",
    "        try:\n",
    "            mSARIMA=sm.tsa.statespace.SARIMAX(ts.loc[:,'trip_count'], order=[param[0], 1, param[1]],\n",
    "                                          seasonal_order=(param[2], 1, param[3], 24),exog = r).fit(disp=1);\n",
    "        #выводим параметры, на которых модель не обучается и переходим к следующему набору\n",
    "        except Exception as inst:\n",
    "            print inst           # __str__ allows args to be printed directly\n",
    "            continue\n",
    "        else:     \n",
    "            aic = mSARIMA.aic\n",
    "            print('AIC',aic) \n",
    "            #сохраняем лучшую модель, aic, параметры\n",
    "            if aic < best_aic:\n",
    "                best_model = mSARIMA\n",
    "                best_aic = aic\n",
    "                best_param = param\n",
    "            results.append([param, mSARIMA.aic])\n",
    "    return [best_aic,best_param]"
   ]
  },
  {
   "cell_type": "code",
   "execution_count": 7,
   "metadata": {
    "collapsed": true
   },
   "outputs": [],
   "source": [
    "# id нужных регионов\n",
    "regsDf = pd.read_csv('../crowdRegs.csv',names=['id','regId']);  \n",
    "\n",
    "# временные ряды для этих регионов\n",
    "df = pd.read_pickle('../loadData/crowdRegs3.pcl')\n",
    "df.columns = regsDf.regId.values.astype('str')\n",
    "\n",
    "# словарь с группировкой рядов\n",
    "tsGroups = np.load('tsGroups.npy').item()\n",
    "\n",
    "# словарь с оптимальными параметрами для каждой группы\n",
    "paramsGroups = np.load('paramsGroups.npy').item()"
   ]
  },
  {
   "cell_type": "markdown",
   "metadata": {},
   "source": [
    "*Логика скрипта:*\n",
    "<ol>\n",
    "<li> Выбираем одну группу\n",
    "<li> В группе выбираем один ряд\n",
    "<li> По номеру группы подгружаем оптимальные параметры\n",
    "<li> Обучаем регрессор\n",
    "<li> Обучаем SARIMAX модель\n",
    "<li> Сохраняем модель (??? Может быть без данных, чтобы сэкономить место).\n",
    "<li> Делаем предсказание\n",
    "<li> Сохраняем предсказение\n",
    "<li> Идём на второй или первый шаг\n",
    "<ol>\n",
    "    "
   ]
  },
  {
   "cell_type": "code",
   "execution_count": null,
   "metadata": {
    "collapsed": false,
    "scrolled": true
   },
   "outputs": [],
   "source": [
    "# диапазон дат для обучения\n",
    "startFit = '2016-01-01 0:0:0'\n",
    "endFit = '2016-04-30 23:00:00'\n",
    "\n",
    "err = 0\n",
    "\n",
    "# диапазон дат для предсказания\n",
    "startPrediction = '2016-05-01 00:00:00'\n",
    "endPrediction = '2016-05-31 23:00:00'\n",
    "predictionRange = pd.date_range(startPrediction, endPrediction, freq='H')\n",
    "\n",
    "# create array to save prediction results\n",
    "mIndex = pd.MultiIndex.from_product([df.columns.values, predictionRange])\n",
    "resDf = pd.DataFrame(index = mIndex, columns = ['y','err'])\n",
    "\n",
    "for grId, ts in tsGroups.iteritems():\n",
    "    print 'Group ID is', grId\n",
    "    \n",
    "    # получаем параметры SARIMAX модели\n",
    "    params = paramsGroups.get(grId)[1] \n",
    "    \n",
    "    for tsId in ts:\n",
    "        print 'Regions is ', tsId\n",
    "        # получаем временной ряд\n",
    "        ts = df.loc[startFit:endFit,tsId] #\n",
    "\n",
    "        # обучаем регрессор\n",
    "        ts = ts.to_frame(name = 'trip_count')\n",
    "        [r_pr, res, regressor] = regression(addFeatures(ts),verbose = True)\n",
    "\n",
    "        # обучаем SARIMAX модель\n",
    "        print 'Learn SARIMAX'\n",
    "        try:\n",
    "            mSARIMA=sm.tsa.statespace.SARIMAX(ts, order=[params[0], 2, params[1]],\n",
    "                                              seasonal_order=(params[2], 1, params[3], 24),\n",
    "                                              exog = r_pr, enforce_invertibility = True).fit(disp=1);\n",
    "        except Exception as inst:\n",
    "            print type(inst)     \n",
    "            print inst          \n",
    "\n",
    "        # получаем предсказания регрессора на весь диапазон дат (обучение+предсказание)\n",
    "        exog = getRegressor(regressor,startFit,endPrediction)\n",
    "        # получаем данные о поездкахы на весь диапазон дат\n",
    "        endog = df.loc[startFit:endPrediction,tsId]\n",
    "       \n",
    "        # создаём новую модель, которую будет использовать для предсказания\n",
    "        # Для чего такой финт ушами - не понимаю до сих пор\n",
    "        try:\n",
    "            model_fitted = sm.tsa.statespace.SARIMAX(endog, order=[params[0], 1, params[1]],\n",
    "                                                 seasonal_order=(params[2], 1, params[3], 24),\n",
    "                                                 exog = exog).filter(mSARIMA.params)\n",
    "        except Exception as inst:\n",
    "            print 'Can not create the model'\n",
    "            print inst\n",
    "            continue\n",
    "            \n",
    "        # проходим по всему диапазону дат предсказаний\n",
    "        print 'Make prediction'\n",
    "        for firstLag in predictionRange[:-5]:\n",
    "            lastLag = firstLag+datetime.timedelta(hours = 5)\n",
    "            # prediction\n",
    "            try:\n",
    "                predicted_data = model_fitted.predict(firstLag, lastLag, dynamic=True, exog = exog[firstLag:lastLag])\n",
    "            except Exception as inst:\n",
    "                print 'Prediction error'\n",
    "                print inst\n",
    "            else:\n",
    "                # save results\n",
    "                #resDf.loc[tsId,firstLag].y = predicted_data\n",
    "                err += (df.loc[startPrediction:endPrediction,tsId]-predicted_data).abs().sum()\n",
    "                #resDf.loc[tsId,firstLag].err = (df.loc[startPrediction:endPrediction,tsId]-predicted_data).abs().mean()\n",
    "                    \n",
    "    # save results\n",
    "    #resDf.to_pickle('predictionResults.pcl')\n",
    "    \n",
    "print 'Total error is', err    "
   ]
  },
  {
   "cell_type": "code",
   "execution_count": 6,
   "metadata": {
    "collapsed": true
   },
   "outputs": [],
   "source": [
    "resDf = pd.read_pickle('predictionResults.pcl')"
   ]
  },
  {
   "cell_type": "code",
   "execution_count": 16,
   "metadata": {
    "collapsed": true
   },
   "outputs": [],
   "source": [
    "# выберу настроечные ряды руками\n",
    "fitSeries = {'gr18':'1274','gr19':'1684','gr10':'1333','gr11':'1075','gr12':'2118','gr13':'1387','gr14':'1384','gr15':'1174'}\n",
    "fitSeries.update({'gr16':'1483','gr17':'1282','gr21':'1184','gr20':'1131','gr23':'1332','gr22':'1580','gr6':'1177','gr7':'1388'})\n",
    "fitSeries.update({'gr4':'1128','gr2':'1234','gr3':'1231','gr0':'1286','gr1':'1125','gr8':'1181','gr9':'1532'})"
   ]
  },
  {
   "cell_type": "code",
   "execution_count": 57,
   "metadata": {
    "collapsed": false
   },
   "outputs": [
    {
     "name": "stdout",
     "output_type": "stream",
     "text": [
      "Fitting 3 folds for each of 9 candidates, totalling 27 fits\n"
     ]
    },
    {
     "name": "stderr",
     "output_type": "stream",
     "text": [
      "[Parallel(n_jobs=4)]: Done  27 out of  27 | elapsed:    2.3s finished\n"
     ]
    },
    {
     "name": "stdout",
     "output_type": "stream",
     "text": [
      "Best params is {'alpha': 0.6}\n",
      "R factor is  0.0260003769959\n",
      "('Parameters:', (2, 2, 1, 1))\n",
      "Non-stationary starting autoregressive parameters found with `enforce_stationarity` set to True.\n",
      "('Parameters:', (2, 2, 1, 2))\n",
      "Non-stationary starting autoregressive parameters found with `enforce_stationarity` set to True.\n",
      "('Parameters:', (2, 2, 2, 1))\n",
      "Non-stationary starting autoregressive parameters found with `enforce_stationarity` set to True.\n",
      "('Parameters:', (2, 2, 2, 2))\n",
      "Non-stationary starting autoregressive parameters found with `enforce_stationarity` set to True.\n",
      "('Parameters:', (2, 3, 1, 1))\n",
      "Non-stationary starting autoregressive parameters found with `enforce_stationarity` set to True.\n",
      "('Parameters:', (2, 3, 1, 2))\n",
      "Non-stationary starting autoregressive parameters found with `enforce_stationarity` set to True.\n",
      "('Parameters:', (2, 3, 2, 1))\n",
      "Non-stationary starting autoregressive parameters found with `enforce_stationarity` set to True.\n",
      "('Parameters:', (2, 3, 2, 2))\n",
      "Non-stationary starting autoregressive parameters found with `enforce_stationarity` set to True.\n",
      "('Parameters:', (2, 4, 1, 1))\n",
      "Non-stationary starting autoregressive parameters found with `enforce_stationarity` set to True.\n",
      "('Parameters:', (2, 4, 1, 2))\n",
      "Non-stationary starting autoregressive parameters found with `enforce_stationarity` set to True.\n",
      "('Parameters:', (2, 4, 2, 1))\n",
      "Non-stationary starting autoregressive parameters found with `enforce_stationarity` set to True.\n",
      "('Parameters:', (2, 4, 2, 2))\n",
      "Non-stationary starting autoregressive parameters found with `enforce_stationarity` set to True.\n",
      "('Parameters:', (2, 5, 1, 1))\n",
      "('AIC', 23099.095150733992)\n",
      "('Parameters:', (2, 5, 1, 2))\n",
      "non-invertible starting seasonal moving average parameters found with `enforce_invertibility` set to True.\n",
      "('Parameters:', (2, 5, 2, 1))\n",
      "('AIC', 22435.486185699014)\n",
      "('Parameters:', (2, 5, 2, 2))\n",
      "non-invertible starting seasonal moving average parameters found with `enforce_invertibility` set to True.\n",
      "('Parameters:', (2, 6, 1, 1))\n",
      "('AIC', 23152.887973935813)\n",
      "('Parameters:', (2, 6, 1, 2))\n",
      "non-invertible starting seasonal moving average parameters found with `enforce_invertibility` set to True.\n",
      "('Parameters:', (2, 6, 2, 1))\n",
      "('AIC', 22631.475449575817)\n",
      "('Parameters:', (2, 6, 2, 2))\n",
      "non-invertible starting seasonal moving average parameters found with `enforce_invertibility` set to True.\n",
      "('Parameters:', (3, 2, 1, 1))\n",
      "Non-stationary starting autoregressive parameters found with `enforce_stationarity` set to True.\n",
      "('Parameters:', (3, 2, 1, 2))\n",
      "Non-stationary starting autoregressive parameters found with `enforce_stationarity` set to True.\n",
      "('Parameters:', (3, 2, 2, 1))\n",
      "Non-stationary starting autoregressive parameters found with `enforce_stationarity` set to True.\n",
      "('Parameters:', (3, 2, 2, 2))\n",
      "Non-stationary starting autoregressive parameters found with `enforce_stationarity` set to True.\n",
      "('Parameters:', (3, 3, 1, 1))\n",
      "Non-stationary starting autoregressive parameters found with `enforce_stationarity` set to True.\n",
      "('Parameters:', (3, 3, 1, 2))\n",
      "Non-stationary starting autoregressive parameters found with `enforce_stationarity` set to True.\n",
      "('Parameters:', (3, 3, 2, 1))\n",
      "Non-stationary starting autoregressive parameters found with `enforce_stationarity` set to True.\n",
      "('Parameters:', (3, 3, 2, 2))\n",
      "Non-stationary starting autoregressive parameters found with `enforce_stationarity` set to True.\n",
      "('Parameters:', (3, 4, 1, 1))\n",
      "non-invertible starting MA parameters found with `enforce_invertibility` set to True.\n",
      "('Parameters:', (3, 4, 1, 2))\n",
      "non-invertible starting MA parameters found with `enforce_invertibility` set to True.\n",
      "('Parameters:', (3, 4, 2, 1))\n",
      "non-invertible starting MA parameters found with `enforce_invertibility` set to True.\n",
      "('Parameters:', (3, 4, 2, 2))\n",
      "non-invertible starting MA parameters found with `enforce_invertibility` set to True.\n",
      "('Parameters:', (3, 5, 1, 1))\n",
      "non-invertible starting MA parameters found with `enforce_invertibility` set to True.\n",
      "('Parameters:', (3, 5, 1, 2))\n",
      "non-invertible starting MA parameters found with `enforce_invertibility` set to True.\n",
      "('Parameters:', (3, 5, 2, 1))\n",
      "non-invertible starting MA parameters found with `enforce_invertibility` set to True.\n",
      "('Parameters:', (3, 5, 2, 2))\n",
      "non-invertible starting MA parameters found with `enforce_invertibility` set to True.\n",
      "('Parameters:', (3, 6, 1, 1))\n",
      "non-invertible starting MA parameters found with `enforce_invertibility` set to True.\n",
      "('Parameters:', (3, 6, 1, 2))\n",
      "non-invertible starting MA parameters found with `enforce_invertibility` set to True.\n",
      "('Parameters:', (3, 6, 2, 1))\n",
      "non-invertible starting MA parameters found with `enforce_invertibility` set to True.\n",
      "('Parameters:', (3, 6, 2, 2))\n",
      "non-invertible starting MA parameters found with `enforce_invertibility` set to True.\n",
      "('Parameters:', (4, 2, 1, 1))\n",
      "Non-stationary starting autoregressive parameters found with `enforce_stationarity` set to True.\n",
      "('Parameters:', (4, 2, 1, 2))\n",
      "Non-stationary starting autoregressive parameters found with `enforce_stationarity` set to True.\n",
      "('Parameters:', (4, 2, 2, 1))\n",
      "Non-stationary starting autoregressive parameters found with `enforce_stationarity` set to True.\n",
      "('Parameters:', (4, 2, 2, 2))\n",
      "Non-stationary starting autoregressive parameters found with `enforce_stationarity` set to True.\n",
      "('Parameters:', (4, 3, 1, 1))\n",
      "Non-stationary starting autoregressive parameters found with `enforce_stationarity` set to True.\n",
      "('Parameters:', (4, 3, 1, 2))\n",
      "Non-stationary starting autoregressive parameters found with `enforce_stationarity` set to True.\n",
      "('Parameters:', (4, 3, 2, 1))\n",
      "Non-stationary starting autoregressive parameters found with `enforce_stationarity` set to True.\n",
      "('Parameters:', (4, 3, 2, 2))\n",
      "Non-stationary starting autoregressive parameters found with `enforce_stationarity` set to True.\n",
      "('Parameters:', (4, 4, 1, 1))\n",
      "non-invertible starting MA parameters found with `enforce_invertibility` set to True.\n",
      "('Parameters:', (4, 4, 1, 2))\n",
      "non-invertible starting MA parameters found with `enforce_invertibility` set to True.\n",
      "('Parameters:', (4, 4, 2, 1))\n",
      "non-invertible starting MA parameters found with `enforce_invertibility` set to True.\n",
      "('Parameters:', (4, 4, 2, 2))\n",
      "non-invertible starting MA parameters found with `enforce_invertibility` set to True.\n",
      "('Parameters:', (4, 5, 1, 1))\n",
      "non-invertible starting MA parameters found with `enforce_invertibility` set to True.\n",
      "('Parameters:', (4, 5, 1, 2))\n",
      "non-invertible starting MA parameters found with `enforce_invertibility` set to True.\n",
      "('Parameters:', (4, 5, 2, 1))\n",
      "non-invertible starting MA parameters found with `enforce_invertibility` set to True.\n",
      "('Parameters:', (4, 5, 2, 2))\n",
      "non-invertible starting MA parameters found with `enforce_invertibility` set to True.\n",
      "('Parameters:', (4, 6, 1, 1))\n",
      "non-invertible starting MA parameters found with `enforce_invertibility` set to True.\n",
      "('Parameters:', (4, 6, 1, 2))\n",
      "non-invertible starting MA parameters found with `enforce_invertibility` set to True.\n",
      "('Parameters:', (4, 6, 2, 1))\n",
      "non-invertible starting MA parameters found with `enforce_invertibility` set to True.\n",
      "('Parameters:', (4, 6, 2, 2))\n",
      "non-invertible starting MA parameters found with `enforce_invertibility` set to True.\n",
      "('Parameters:', (5, 2, 1, 1))\n",
      "Non-stationary starting autoregressive parameters found with `enforce_stationarity` set to True.\n",
      "('Parameters:', (5, 2, 1, 2))\n",
      "Non-stationary starting autoregressive parameters found with `enforce_stationarity` set to True.\n",
      "('Parameters:', (5, 2, 2, 1))\n",
      "Non-stationary starting autoregressive parameters found with `enforce_stationarity` set to True.\n",
      "('Parameters:', (5, 2, 2, 2))\n",
      "Non-stationary starting autoregressive parameters found with `enforce_stationarity` set to True.\n",
      "('Parameters:', (5, 3, 1, 1))\n",
      "Non-stationary starting autoregressive parameters found with `enforce_stationarity` set to True.\n",
      "('Parameters:', (5, 3, 1, 2))\n",
      "Non-stationary starting autoregressive parameters found with `enforce_stationarity` set to True.\n",
      "('Parameters:', (5, 3, 2, 1))\n",
      "Non-stationary starting autoregressive parameters found with `enforce_stationarity` set to True.\n",
      "('Parameters:', (5, 3, 2, 2))\n",
      "Non-stationary starting autoregressive parameters found with `enforce_stationarity` set to True.\n",
      "('Parameters:', (5, 4, 1, 1))\n",
      "non-invertible starting MA parameters found with `enforce_invertibility` set to True.\n",
      "('Parameters:', (5, 4, 1, 2))\n",
      "non-invertible starting MA parameters found with `enforce_invertibility` set to True.\n",
      "('Parameters:', (5, 4, 2, 1))\n",
      "non-invertible starting MA parameters found with `enforce_invertibility` set to True.\n",
      "('Parameters:', (5, 4, 2, 2))\n",
      "non-invertible starting MA parameters found with `enforce_invertibility` set to True.\n",
      "('Parameters:', (5, 5, 1, 1))\n",
      "non-invertible starting MA parameters found with `enforce_invertibility` set to True.\n",
      "('Parameters:', (5, 5, 1, 2))\n",
      "non-invertible starting MA parameters found with `enforce_invertibility` set to True.\n",
      "('Parameters:', (5, 5, 2, 1))\n",
      "non-invertible starting MA parameters found with `enforce_invertibility` set to True.\n",
      "('Parameters:', (5, 5, 2, 2))\n",
      "non-invertible starting MA parameters found with `enforce_invertibility` set to True.\n",
      "('Parameters:', (5, 6, 1, 1))\n",
      "non-invertible starting MA parameters found with `enforce_invertibility` set to True.\n",
      "('Parameters:', (5, 6, 1, 2))\n",
      "non-invertible starting MA parameters found with `enforce_invertibility` set to True.\n",
      "('Parameters:', (5, 6, 2, 1))\n",
      "non-invertible starting MA parameters found with `enforce_invertibility` set to True.\n",
      "('Parameters:', (5, 6, 2, 2))\n",
      "non-invertible starting MA parameters found with `enforce_invertibility` set to True.\n",
      "('Parameters:', (6, 2, 1, 1))\n",
      "('AIC', 22976.607207104218)\n",
      "('Parameters:', (6, 2, 1, 2))\n",
      "non-invertible starting seasonal moving average parameters found with `enforce_invertibility` set to True.\n",
      "('Parameters:', (6, 2, 2, 1))\n",
      "('AIC', 22302.510866289762)\n",
      "('Parameters:', (6, 2, 2, 2))\n",
      "non-invertible starting seasonal moving average parameters found with `enforce_invertibility` set to True.\n",
      "('Parameters:', (6, 3, 1, 1))\n",
      "Non-stationary starting autoregressive parameters found with `enforce_stationarity` set to True.\n",
      "('Parameters:', (6, 3, 1, 2))\n",
      "Non-stationary starting autoregressive parameters found with `enforce_stationarity` set to True.\n",
      "('Parameters:', (6, 3, 2, 1))\n",
      "Non-stationary starting autoregressive parameters found with `enforce_stationarity` set to True.\n",
      "('Parameters:', (6, 3, 2, 2))\n",
      "Non-stationary starting autoregressive parameters found with `enforce_stationarity` set to True.\n",
      "('Parameters:', (6, 4, 1, 1))\n",
      "non-invertible starting MA parameters found with `enforce_invertibility` set to True.\n",
      "('Parameters:', (6, 4, 1, 2))\n",
      "non-invertible starting MA parameters found with `enforce_invertibility` set to True.\n",
      "('Parameters:', (6, 4, 2, 1))\n",
      "non-invertible starting MA parameters found with `enforce_invertibility` set to True.\n",
      "('Parameters:', (6, 4, 2, 2))\n",
      "non-invertible starting MA parameters found with `enforce_invertibility` set to True.\n",
      "('Parameters:', (6, 5, 1, 1))\n",
      "non-invertible starting MA parameters found with `enforce_invertibility` set to True.\n",
      "('Parameters:', (6, 5, 1, 2))\n",
      "non-invertible starting MA parameters found with `enforce_invertibility` set to True.\n",
      "('Parameters:', (6, 5, 2, 1))\n",
      "non-invertible starting MA parameters found with `enforce_invertibility` set to True.\n",
      "('Parameters:', (6, 5, 2, 2))\n",
      "non-invertible starting MA parameters found with `enforce_invertibility` set to True.\n",
      "('Parameters:', (6, 6, 1, 1))\n",
      "non-invertible starting MA parameters found with `enforce_invertibility` set to True.\n",
      "('Parameters:', (6, 6, 1, 2))\n",
      "non-invertible starting MA parameters found with `enforce_invertibility` set to True.\n",
      "('Parameters:', (6, 6, 2, 1))\n",
      "non-invertible starting MA parameters found with `enforce_invertibility` set to True.\n",
      "('Parameters:', (6, 6, 2, 2))\n",
      "non-invertible starting MA parameters found with `enforce_invertibility` set to True.\n"
     ]
    }
   ],
   "source": [
    "# подбираем параметры для группы 'gr2'\n",
    "startDate = '2016-01-01 0:0:0'\n",
    "endDate = '2016-04-30 23:59:59'\n",
    "\n",
    "grName = 'gr2'\n",
    "newParams = findHyperParams(df.loc[startDate:endDate,fitSeries.get(grName)].to_frame(name = 'trip_count'))\n",
    "paramsGroups.update({grName:newParams})\n",
    "np.save('paramsGroups.npy', paramsGroups)"
   ]
  },
  {
   "cell_type": "code",
   "execution_count": 58,
   "metadata": {
    "collapsed": false
   },
   "outputs": [
    {
     "data": {
      "text/plain": [
       "[22302.510866289762, (6, 2, 2, 1)]"
      ]
     },
     "execution_count": 58,
     "metadata": {},
     "output_type": "execute_result"
    }
   ],
   "source": [
    "newParams"
   ]
  },
  {
   "cell_type": "code",
   "execution_count": 9,
   "metadata": {
    "collapsed": false
   },
   "outputs": [
    {
     "name": "stdout",
     "output_type": "stream",
     "text": [
      "Group ID is gr18\n",
      "Regions is  1273\n",
      "Fitting 3 folds for each of 9 candidates, totalling 27 fits\n"
     ]
    },
    {
     "name": "stderr",
     "output_type": "stream",
     "text": [
      "[Parallel(n_jobs=4)]: Done  27 out of  27 | elapsed:    3.1s finished\n"
     ]
    },
    {
     "name": "stdout",
     "output_type": "stream",
     "text": [
      "Best params is {'alpha': 5.0}\n",
      "R factor is  0.0712063474376\n",
      "Learn SARIMAX\n",
      "Make prediction\n",
      "Prediction error\n",
      "Provided exogenous values are not of the appropriate shape. Required (1, 1), got (5L,).\n",
      "Prediction error\n",
      "Provided exogenous values are not of the appropriate shape. Required (2, 1), got (4L,).\n",
      "Prediction error\n",
      "Provided exogenous values are not of the appropriate shape. Required (3, 1), got (3L,).\n",
      "Prediction error\n",
      "Provided exogenous values are not of the appropriate shape. Required (4, 1), got (2L,).\n",
      "Prediction error\n",
      "Provided exogenous values are not of the appropriate shape. Required (5, 1), got (1L,).\n",
      "Regions is  1274\n",
      "Fitting 3 folds for each of 9 candidates, totalling 27 fits\n"
     ]
    },
    {
     "name": "stderr",
     "output_type": "stream",
     "text": [
      "[Parallel(n_jobs=4)]: Done  27 out of  27 | elapsed:    3.2s finished\n"
     ]
    },
    {
     "name": "stdout",
     "output_type": "stream",
     "text": [
      "Best params is {'alpha': 5.0}\n",
      "R factor is  0.119933227136\n",
      "Learn SARIMAX\n",
      "Make prediction\n",
      "Prediction error\n",
      "Provided exogenous values are not of the appropriate shape. Required (1, 1), got (5L,).\n",
      "Prediction error\n",
      "Provided exogenous values are not of the appropriate shape. Required (2, 1), got (4L,).\n",
      "Prediction error\n",
      "Provided exogenous values are not of the appropriate shape. Required (3, 1), got (3L,).\n",
      "Prediction error\n",
      "Provided exogenous values are not of the appropriate shape. Required (4, 1), got (2L,).\n",
      "Prediction error\n",
      "Provided exogenous values are not of the appropriate shape. Required (5, 1), got (1L,).\n",
      "Group ID is gr19\n",
      "Regions is  1434\n",
      "Fitting 3 folds for each of 9 candidates, totalling 27 fits\n"
     ]
    },
    {
     "name": "stderr",
     "output_type": "stream",
     "text": [
      "[Parallel(n_jobs=4)]: Done  27 out of  27 | elapsed:    3.2s finished\n"
     ]
    },
    {
     "name": "stdout",
     "output_type": "stream",
     "text": [
      "Best params is {'alpha': 5.0}\n",
      "R factor is  0.0416181095431\n",
      "Learn SARIMAX\n",
      "<type 'exceptions.ValueError'>\n",
      "non-invertible starting MA parameters found with `enforce_invertibility` set to True.\n",
      "Make prediction\n",
      "Prediction error\n",
      "Provided exogenous values are not of the appropriate shape. Required (1, 1), got (5L,).\n",
      "Prediction error\n",
      "Provided exogenous values are not of the appropriate shape. Required (2, 1), got (4L,).\n",
      "Prediction error\n",
      "Provided exogenous values are not of the appropriate shape. Required (3, 1), got (3L,).\n",
      "Prediction error\n",
      "Provided exogenous values are not of the appropriate shape. Required (4, 1), got (2L,).\n",
      "Prediction error\n",
      "Provided exogenous values are not of the appropriate shape. Required (5, 1), got (1L,).\n",
      "Regions is  1435\n",
      "Fitting 3 folds for each of 9 candidates, totalling 27 fits\n"
     ]
    },
    {
     "name": "stderr",
     "output_type": "stream",
     "text": [
      "[Parallel(n_jobs=4)]: Done  27 out of  27 | elapsed:    3.0s finished\n"
     ]
    },
    {
     "name": "stdout",
     "output_type": "stream",
     "text": [
      "Best params is {'alpha': 5.0}\n",
      "R factor is  0.121058765074\n",
      "Learn SARIMAX\n",
      "<type 'exceptions.ValueError'>\n",
      "non-invertible starting MA parameters found with `enforce_invertibility` set to True.\n",
      "Make prediction\n",
      "Prediction error\n",
      "Provided exogenous values are not of the appropriate shape. Required (1, 1), got (5L,).\n",
      "Prediction error\n",
      "Provided exogenous values are not of the appropriate shape. Required (2, 1), got (4L,).\n",
      "Prediction error\n",
      "Provided exogenous values are not of the appropriate shape. Required (3, 1), got (3L,).\n",
      "Prediction error\n",
      "Provided exogenous values are not of the appropriate shape. Required (4, 1), got (2L,).\n",
      "Prediction error\n",
      "Provided exogenous values are not of the appropriate shape. Required (5, 1), got (1L,).\n",
      "Regions is  1437\n",
      "Fitting 3 folds for each of 9 candidates, totalling 27 fits\n"
     ]
    },
    {
     "name": "stderr",
     "output_type": "stream",
     "text": [
      "[Parallel(n_jobs=4)]: Done  27 out of  27 | elapsed:    3.0s finished\n"
     ]
    },
    {
     "name": "stdout",
     "output_type": "stream",
     "text": [
      "Best params is {'alpha': 5.0}\n",
      "R factor is  0.100307955089\n",
      "Learn SARIMAX\n",
      "<type 'exceptions.ValueError'>\n",
      "non-invertible starting MA parameters found with `enforce_invertibility` set to True.\n",
      "Make prediction\n",
      "Prediction error\n",
      "Provided exogenous values are not of the appropriate shape. Required (1, 1), got (5L,).\n",
      "Prediction error\n",
      "Provided exogenous values are not of the appropriate shape. Required (2, 1), got (4L,).\n",
      "Prediction error\n",
      "Provided exogenous values are not of the appropriate shape. Required (3, 1), got (3L,).\n",
      "Prediction error\n",
      "Provided exogenous values are not of the appropriate shape. Required (4, 1), got (2L,).\n",
      "Prediction error\n",
      "Provided exogenous values are not of the appropriate shape. Required (5, 1), got (1L,).\n",
      "Regions is  1438\n",
      "Fitting 3 folds for each of 9 candidates, totalling 27 fits\n"
     ]
    },
    {
     "name": "stderr",
     "output_type": "stream",
     "text": [
      "[Parallel(n_jobs=4)]: Done  27 out of  27 | elapsed:    2.8s finished\n"
     ]
    },
    {
     "name": "stdout",
     "output_type": "stream",
     "text": [
      "Best params is {'alpha': 5.0}\n",
      "R factor is  0.0592073807234\n",
      "Learn SARIMAX\n",
      "<type 'exceptions.ValueError'>\n",
      "non-invertible starting MA parameters found with `enforce_invertibility` set to True.\n",
      "Make prediction\n",
      "Prediction error\n",
      "Provided exogenous values are not of the appropriate shape. Required (1, 1), got (5L,).\n",
      "Prediction error\n",
      "Provided exogenous values are not of the appropriate shape. Required (2, 1), got (4L,).\n",
      "Prediction error\n",
      "Provided exogenous values are not of the appropriate shape. Required (3, 1), got (3L,).\n",
      "Prediction error\n",
      "Provided exogenous values are not of the appropriate shape. Required (4, 1), got (2L,).\n",
      "Prediction error\n",
      "Provided exogenous values are not of the appropriate shape. Required (5, 1), got (1L,).\n",
      "Regions is  1630\n",
      "Fitting 3 folds for each of 9 candidates, totalling 27 fits\n"
     ]
    },
    {
     "name": "stderr",
     "output_type": "stream",
     "text": [
      "[Parallel(n_jobs=4)]: Done  27 out of  27 | elapsed:    3.1s finished\n"
     ]
    },
    {
     "name": "stdout",
     "output_type": "stream",
     "text": [
      "Best params is {'alpha': 1.5}\n",
      "R factor is  0.106255372898\n",
      "Learn SARIMAX\n",
      "<type 'exceptions.ValueError'>\n",
      "non-invertible starting MA parameters found with `enforce_invertibility` set to True.\n",
      "Make prediction\n",
      "Prediction error\n",
      "Provided exogenous values are not of the appropriate shape. Required (1, 1), got (5L,).\n",
      "Prediction error\n",
      "Provided exogenous values are not of the appropriate shape. Required (2, 1), got (4L,).\n",
      "Prediction error\n",
      "Provided exogenous values are not of the appropriate shape. Required (3, 1), got (3L,).\n",
      "Prediction error\n",
      "Provided exogenous values are not of the appropriate shape. Required (4, 1), got (2L,).\n",
      "Prediction error\n",
      "Provided exogenous values are not of the appropriate shape. Required (5, 1), got (1L,).\n",
      "Regions is  1684\n",
      "Fitting 3 folds for each of 9 candidates, totalling 27 fits\n"
     ]
    },
    {
     "name": "stderr",
     "output_type": "stream",
     "text": [
      "[Parallel(n_jobs=4)]: Done  27 out of  27 | elapsed:    2.9s finished\n"
     ]
    },
    {
     "name": "stdout",
     "output_type": "stream",
     "text": [
      "Best params is {'alpha': 5.0}\n",
      "R factor is  0.13479523255\n",
      "Learn SARIMAX\n",
      "<type 'exceptions.ValueError'>\n",
      "non-invertible starting MA parameters found with `enforce_invertibility` set to True.\n",
      "Make prediction\n",
      "Prediction error\n",
      "Provided exogenous values are not of the appropriate shape. Required (1, 1), got (5L,).\n",
      "Prediction error\n",
      "Provided exogenous values are not of the appropriate shape. Required (2, 1), got (4L,).\n",
      "Prediction error\n",
      "Provided exogenous values are not of the appropriate shape. Required (3, 1), got (3L,).\n",
      "Prediction error\n",
      "Provided exogenous values are not of the appropriate shape. Required (4, 1), got (2L,).\n",
      "Prediction error\n",
      "Provided exogenous values are not of the appropriate shape. Required (5, 1), got (1L,).\n",
      "Group ID is gr10\n",
      "Regions is  1333\n",
      "Fitting 3 folds for each of 9 candidates, totalling 27 fits\n"
     ]
    },
    {
     "name": "stderr",
     "output_type": "stream",
     "text": [
      "[Parallel(n_jobs=4)]: Done  27 out of  27 | elapsed:    2.9s finished\n"
     ]
    },
    {
     "name": "stdout",
     "output_type": "stream",
     "text": [
      "Best params is {'alpha': 5.0}\n",
      "R factor is  0.0485040267121\n",
      "Learn SARIMAX\n",
      "Make prediction\n",
      "Prediction error\n",
      "Provided exogenous values are not of the appropriate shape. Required (1, 1), got (5L,).\n",
      "Prediction error\n",
      "Provided exogenous values are not of the appropriate shape. Required (2, 1), got (4L,).\n",
      "Prediction error\n",
      "Provided exogenous values are not of the appropriate shape. Required (3, 1), got (3L,).\n",
      "Prediction error\n",
      "Provided exogenous values are not of the appropriate shape. Required (4, 1), got (2L,).\n",
      "Prediction error\n",
      "Provided exogenous values are not of the appropriate shape. Required (5, 1), got (1L,).\n",
      "Regions is  1337\n",
      "Fitting 3 folds for each of 9 candidates, totalling 27 fits\n"
     ]
    },
    {
     "name": "stderr",
     "output_type": "stream",
     "text": [
      "[Parallel(n_jobs=4)]: Done  27 out of  27 | elapsed:    2.9s finished\n"
     ]
    },
    {
     "name": "stdout",
     "output_type": "stream",
     "text": [
      "Best params is {'alpha': 5.0}\n",
      "R factor is  0.0805393230716\n",
      "Learn SARIMAX\n",
      "Make prediction\n",
      "Prediction error\n",
      "Provided exogenous values are not of the appropriate shape. Required (1, 1), got (5L,).\n",
      "Prediction error\n",
      "Provided exogenous values are not of the appropriate shape. Required (2, 1), got (4L,).\n",
      "Prediction error\n",
      "Provided exogenous values are not of the appropriate shape. Required (3, 1), got (3L,).\n",
      "Prediction error\n",
      "Provided exogenous values are not of the appropriate shape. Required (4, 1), got (2L,).\n",
      "Prediction error\n",
      "Provided exogenous values are not of the appropriate shape. Required (5, 1), got (1L,).\n",
      "Regions is  1338\n",
      "Fitting 3 folds for each of 9 candidates, totalling 27 fits\n"
     ]
    },
    {
     "name": "stderr",
     "output_type": "stream",
     "text": [
      "[Parallel(n_jobs=4)]: Done  27 out of  27 | elapsed:    3.0s finished\n"
     ]
    },
    {
     "name": "stdout",
     "output_type": "stream",
     "text": [
      "Best params is {'alpha': 5.0}\n",
      "R factor is  0.120542348395\n",
      "Learn SARIMAX\n",
      "Make prediction\n",
      "Prediction error\n",
      "Provided exogenous values are not of the appropriate shape. Required (1, 1), got (5L,).\n",
      "Prediction error\n",
      "Provided exogenous values are not of the appropriate shape. Required (2, 1), got (4L,).\n",
      "Prediction error\n",
      "Provided exogenous values are not of the appropriate shape. Required (3, 1), got (3L,).\n",
      "Prediction error\n",
      "Provided exogenous values are not of the appropriate shape. Required (4, 1), got (2L,).\n",
      "Prediction error\n",
      "Provided exogenous values are not of the appropriate shape. Required (5, 1), got (1L,).\n",
      "Regions is  1339\n",
      "Fitting 3 folds for each of 9 candidates, totalling 27 fits\n"
     ]
    },
    {
     "name": "stderr",
     "output_type": "stream",
     "text": [
      "[Parallel(n_jobs=4)]: Done  27 out of  27 | elapsed:    3.1s finished\n"
     ]
    },
    {
     "name": "stdout",
     "output_type": "stream",
     "text": [
      "Best params is {'alpha': 5.0}\n",
      "R factor is  0.0706832434783\n",
      "Learn SARIMAX\n",
      "Make prediction\n",
      "Prediction error\n",
      "Provided exogenous values are not of the appropriate shape. Required (1, 1), got (5L,).\n",
      "Prediction error\n",
      "Provided exogenous values are not of the appropriate shape. Required (2, 1), got (4L,).\n",
      "Prediction error\n",
      "Provided exogenous values are not of the appropriate shape. Required (3, 1), got (3L,).\n",
      "Prediction error\n",
      "Provided exogenous values are not of the appropriate shape. Required (4, 1), got (2L,).\n",
      "Prediction error\n",
      "Provided exogenous values are not of the appropriate shape. Required (5, 1), got (1L,).\n",
      "Regions is  1783\n",
      "Fitting 3 folds for each of 9 candidates, totalling 27 fits\n"
     ]
    },
    {
     "name": "stderr",
     "output_type": "stream",
     "text": [
      "[Parallel(n_jobs=4)]: Done  27 out of  27 | elapsed:    3.0s finished\n"
     ]
    },
    {
     "name": "stdout",
     "output_type": "stream",
     "text": [
      "Best params is {'alpha': 5.0}\n",
      "R factor is  0.152877347945\n",
      "Learn SARIMAX\n",
      "Make prediction\n",
      "Prediction error\n",
      "Provided exogenous values are not of the appropriate shape. Required (1, 1), got (5L,).\n",
      "Prediction error\n",
      "Provided exogenous values are not of the appropriate shape. Required (2, 1), got (4L,).\n",
      "Prediction error\n",
      "Provided exogenous values are not of the appropriate shape. Required (3, 1), got (3L,).\n",
      "Prediction error\n",
      "Provided exogenous values are not of the appropriate shape. Required (4, 1), got (2L,).\n",
      "Prediction error\n",
      "Provided exogenous values are not of the appropriate shape. Required (5, 1), got (1L,).\n",
      "Group ID is gr11\n",
      "Regions is  1075\n",
      "Fitting 3 folds for each of 9 candidates, totalling 27 fits\n"
     ]
    },
    {
     "name": "stderr",
     "output_type": "stream",
     "text": [
      "[Parallel(n_jobs=4)]: Done  27 out of  27 | elapsed:    2.9s finished\n"
     ]
    },
    {
     "name": "stdout",
     "output_type": "stream",
     "text": [
      "Best params is {'alpha': 5.0}\n",
      "R factor is  0.0730205312273\n",
      "Learn SARIMAX\n",
      "Make prediction\n",
      "Prediction error\n",
      "Provided exogenous values are not of the appropriate shape. Required (1, 1), got (5L,).\n",
      "Prediction error\n",
      "Provided exogenous values are not of the appropriate shape. Required (2, 1), got (4L,).\n",
      "Prediction error\n",
      "Provided exogenous values are not of the appropriate shape. Required (3, 1), got (3L,).\n",
      "Prediction error\n",
      "Provided exogenous values are not of the appropriate shape. Required (4, 1), got (2L,).\n",
      "Prediction error\n",
      "Provided exogenous values are not of the appropriate shape. Required (5, 1), got (1L,).\n",
      "Regions is  1733\n",
      "Fitting 3 folds for each of 9 candidates, totalling 27 fits\n"
     ]
    },
    {
     "name": "stderr",
     "output_type": "stream",
     "text": [
      "[Parallel(n_jobs=4)]: Done  27 out of  27 | elapsed:    3.0s finished\n"
     ]
    },
    {
     "name": "stdout",
     "output_type": "stream",
     "text": [
      "Best params is {'alpha': 1.0}\n",
      "R factor is  0.0651552653846\n",
      "Learn SARIMAX\n",
      "Make prediction\n",
      "Prediction error\n",
      "Provided exogenous values are not of the appropriate shape. Required (1, 1), got (5L,).\n",
      "Prediction error\n",
      "Provided exogenous values are not of the appropriate shape. Required (2, 1), got (4L,).\n",
      "Prediction error\n",
      "Provided exogenous values are not of the appropriate shape. Required (3, 1), got (3L,).\n",
      "Prediction error\n",
      "Provided exogenous values are not of the appropriate shape. Required (4, 1), got (2L,).\n",
      "Prediction error\n",
      "Provided exogenous values are not of the appropriate shape. Required (5, 1), got (1L,).\n",
      "Regions is  1734\n",
      "Fitting 3 folds for each of 9 candidates, totalling 27 fits\n"
     ]
    },
    {
     "name": "stderr",
     "output_type": "stream",
     "text": [
      "[Parallel(n_jobs=4)]: Done  27 out of  27 | elapsed:    2.9s finished\n"
     ]
    },
    {
     "name": "stdout",
     "output_type": "stream",
     "text": [
      "Best params is {'alpha': 5.0}\n",
      "R factor is  0.102408012519\n",
      "Learn SARIMAX\n",
      "Make prediction\n",
      "Prediction error\n",
      "Provided exogenous values are not of the appropriate shape. Required (1, 1), got (5L,).\n",
      "Prediction error\n",
      "Provided exogenous values are not of the appropriate shape. Required (2, 1), got (4L,).\n",
      "Prediction error\n",
      "Provided exogenous values are not of the appropriate shape. Required (3, 1), got (3L,).\n",
      "Prediction error\n",
      "Provided exogenous values are not of the appropriate shape. Required (4, 1), got (2L,).\n",
      "Prediction error\n",
      "Provided exogenous values are not of the appropriate shape. Required (5, 1), got (1L,).\n",
      "Group ID is gr12\n",
      "Regions is  2069\n",
      "Fitting 3 folds for each of 9 candidates, totalling 27 fits\n"
     ]
    },
    {
     "name": "stderr",
     "output_type": "stream",
     "text": [
      "[Parallel(n_jobs=4)]: Done  27 out of  27 | elapsed:    2.9s finished\n"
     ]
    },
    {
     "name": "stdout",
     "output_type": "stream",
     "text": [
      "Best params is {'alpha': 5.0}\n",
      "R factor is  0.0459044240695\n",
      "Learn SARIMAX\n",
      "Make prediction\n",
      "Prediction error\n",
      "Provided exogenous values are not of the appropriate shape. Required (1, 1), got (5L,).\n",
      "Prediction error\n",
      "Provided exogenous values are not of the appropriate shape. Required (2, 1), got (4L,).\n",
      "Prediction error\n",
      "Provided exogenous values are not of the appropriate shape. Required (3, 1), got (3L,).\n",
      "Prediction error\n",
      "Provided exogenous values are not of the appropriate shape. Required (4, 1), got (2L,).\n",
      "Prediction error\n",
      "Provided exogenous values are not of the appropriate shape. Required (5, 1), got (1L,).\n",
      "Regions is  2118\n",
      "Fitting 3 folds for each of 9 candidates, totalling 27 fits\n"
     ]
    },
    {
     "name": "stderr",
     "output_type": "stream",
     "text": [
      "[Parallel(n_jobs=4)]: Done  27 out of  27 | elapsed:    3.0s finished\n"
     ]
    },
    {
     "name": "stdout",
     "output_type": "stream",
     "text": [
      "Best params is {'alpha': 5.0}\n",
      "R factor is  0.0730091626139\n",
      "Learn SARIMAX\n",
      "Make prediction\n",
      "Prediction error\n",
      "Provided exogenous values are not of the appropriate shape. Required (1, 1), got (5L,).\n",
      "Prediction error\n",
      "Provided exogenous values are not of the appropriate shape. Required (2, 1), got (4L,).\n",
      "Prediction error\n",
      "Provided exogenous values are not of the appropriate shape. Required (3, 1), got (3L,).\n",
      "Prediction error\n",
      "Provided exogenous values are not of the appropriate shape. Required (4, 1), got (2L,).\n",
      "Prediction error\n",
      "Provided exogenous values are not of the appropriate shape. Required (5, 1), got (1L,).\n",
      "Group ID is gr13\n",
      "Regions is  1222\n",
      "Fitting 3 folds for each of 9 candidates, totalling 27 fits\n"
     ]
    },
    {
     "name": "stderr",
     "output_type": "stream",
     "text": [
      "[Parallel(n_jobs=4)]: Done  27 out of  27 | elapsed:    2.9s finished\n"
     ]
    },
    {
     "name": "stdout",
     "output_type": "stream",
     "text": [
      "Best params is {'alpha': 5.0}\n",
      "R factor is  0.131090815997\n",
      "Learn SARIMAX\n",
      "<type 'exceptions.ValueError'>\n",
      "non-invertible starting MA parameters found with `enforce_invertibility` set to True.\n",
      "Can not create the model\n",
      "index 9 is out of bounds for axis 0 with size 7\n",
      "Regions is  1223\n",
      "Fitting 3 folds for each of 9 candidates, totalling 27 fits\n"
     ]
    },
    {
     "name": "stderr",
     "output_type": "stream",
     "text": [
      "[Parallel(n_jobs=4)]: Done  27 out of  27 | elapsed:    2.9s finished\n"
     ]
    },
    {
     "name": "stdout",
     "output_type": "stream",
     "text": [
      "Best params is {'alpha': 5.0}\n",
      "R factor is  0.130264905914\n",
      "Learn SARIMAX\n",
      "<type 'exceptions.ValueError'>\n",
      "non-invertible starting MA parameters found with `enforce_invertibility` set to True.\n",
      "Can not create the model\n",
      "index 9 is out of bounds for axis 0 with size 7\n",
      "Regions is  1224\n",
      "Fitting 3 folds for each of 9 candidates, totalling 27 fits\n"
     ]
    },
    {
     "name": "stderr",
     "output_type": "stream",
     "text": [
      "[Parallel(n_jobs=4)]: Done  27 out of  27 | elapsed:    2.8s finished\n"
     ]
    },
    {
     "name": "stdout",
     "output_type": "stream",
     "text": [
      "Best params is {'alpha': 5.0}\n",
      "R factor is  0.129817242022\n",
      "Learn SARIMAX\n",
      "<type 'exceptions.ValueError'>\n",
      "Non-stationary starting autoregressive parameters found with `enforce_stationarity` set to True.\n",
      "Can not create the model\n",
      "index 9 is out of bounds for axis 0 with size 7\n",
      "Regions is  1225\n",
      "Fitting 3 folds for each of 9 candidates, totalling 27 fits\n"
     ]
    },
    {
     "name": "stderr",
     "output_type": "stream",
     "text": [
      "[Parallel(n_jobs=4)]: Done  27 out of  27 | elapsed:    2.8s finished\n"
     ]
    },
    {
     "name": "stdout",
     "output_type": "stream",
     "text": [
      "Best params is {'alpha': 5.0}\n",
      "R factor is  0.0539005973516\n",
      "Learn SARIMAX\n",
      "<type 'exceptions.ValueError'>\n",
      "Non-stationary starting autoregressive parameters found with `enforce_stationarity` set to True.\n",
      "Can not create the model\n",
      "index 9 is out of bounds for axis 0 with size 7\n",
      "Regions is  1227\n",
      "Fitting 3 folds for each of 9 candidates, totalling 27 fits\n"
     ]
    },
    {
     "name": "stderr",
     "output_type": "stream",
     "text": [
      "[Parallel(n_jobs=4)]: Done  27 out of  27 | elapsed:    2.8s finished\n"
     ]
    },
    {
     "name": "stdout",
     "output_type": "stream",
     "text": [
      "Best params is {'alpha': 5.0}\n",
      "R factor is  0.295130013278\n",
      "Learn SARIMAX\n",
      "<type 'exceptions.ValueError'>\n",
      "non-invertible starting MA parameters found with `enforce_invertibility` set to True.\n",
      "Can not create the model\n",
      "index 9 is out of bounds for axis 0 with size 7\n",
      "Regions is  1385\n",
      "Fitting 3 folds for each of 9 candidates, totalling 27 fits\n"
     ]
    },
    {
     "name": "stderr",
     "output_type": "stream",
     "text": [
      "[Parallel(n_jobs=4)]: Done  27 out of  27 | elapsed:    2.8s finished\n"
     ]
    },
    {
     "name": "stdout",
     "output_type": "stream",
     "text": [
      "Best params is {'alpha': 5.0}\n",
      "R factor is  0.0381514803101\n",
      "Learn SARIMAX\n",
      "<type 'exceptions.ValueError'>\n",
      "non-invertible starting MA parameters found with `enforce_invertibility` set to True.\n",
      "Can not create the model\n",
      "index 9 is out of bounds for axis 0 with size 7\n",
      "Regions is  1386\n",
      "Fitting 3 folds for each of 9 candidates, totalling 27 fits\n"
     ]
    },
    {
     "name": "stderr",
     "output_type": "stream",
     "text": [
      "[Parallel(n_jobs=4)]: Done  27 out of  27 | elapsed:    2.8s finished\n"
     ]
    },
    {
     "name": "stdout",
     "output_type": "stream",
     "text": [
      "Best params is {'alpha': 5.0}\n",
      "R factor is  0.0583267631468\n",
      "Learn SARIMAX\n",
      "<type 'exceptions.ValueError'>\n",
      "non-invertible starting MA parameters found with `enforce_invertibility` set to True.\n",
      "Can not create the model\n",
      "index 9 is out of bounds for axis 0 with size 7\n",
      "Regions is  1387\n",
      "Fitting 3 folds for each of 9 candidates, totalling 27 fits\n"
     ]
    },
    {
     "name": "stderr",
     "output_type": "stream",
     "text": [
      "[Parallel(n_jobs=4)]: Done  27 out of  27 | elapsed:    2.8s finished\n"
     ]
    },
    {
     "name": "stdout",
     "output_type": "stream",
     "text": [
      "Best params is {'alpha': 5.0}\n",
      "R factor is  0.1156291824\n",
      "Learn SARIMAX\n",
      "<type 'exceptions.ValueError'>\n",
      "non-invertible starting MA parameters found with `enforce_invertibility` set to True.\n",
      "Can not create the model\n",
      "index 9 is out of bounds for axis 0 with size 7\n",
      "Regions is  1390\n",
      "Fitting 3 folds for each of 9 candidates, totalling 27 fits\n"
     ]
    },
    {
     "name": "stderr",
     "output_type": "stream",
     "text": [
      "[Parallel(n_jobs=4)]: Done  27 out of  27 | elapsed:    2.9s finished\n"
     ]
    },
    {
     "name": "stdout",
     "output_type": "stream",
     "text": [
      "Best params is {'alpha': 5.0}\n",
      "R factor is  0.110714945688\n",
      "Learn SARIMAX\n",
      "<type 'exceptions.ValueError'>\n",
      "non-invertible starting MA parameters found with `enforce_invertibility` set to True.\n",
      "Can not create the model\n",
      "index 9 is out of bounds for axis 0 with size 7\n",
      "Group ID is gr14\n",
      "Regions is  1380\n",
      "Fitting 3 folds for each of 9 candidates, totalling 27 fits\n"
     ]
    },
    {
     "name": "stderr",
     "output_type": "stream",
     "text": [
      "[Parallel(n_jobs=4)]: Done  27 out of  27 | elapsed:    3.0s finished\n"
     ]
    },
    {
     "name": "stdout",
     "output_type": "stream",
     "text": [
      "Best params is {'alpha': 5.0}\n",
      "R factor is  0.0892512749324\n",
      "Learn SARIMAX\n",
      "Make prediction\n",
      "Prediction error\n",
      "Provided exogenous values are not of the appropriate shape. Required (1, 1), got (5L,).\n",
      "Prediction error\n",
      "Provided exogenous values are not of the appropriate shape. Required (2, 1), got (4L,).\n",
      "Prediction error\n",
      "Provided exogenous values are not of the appropriate shape. Required (3, 1), got (3L,).\n",
      "Prediction error\n",
      "Provided exogenous values are not of the appropriate shape. Required (4, 1), got (2L,).\n",
      "Prediction error\n",
      "Provided exogenous values are not of the appropriate shape. Required (5, 1), got (1L,).\n",
      "Regions is  1382\n",
      "Fitting 3 folds for each of 9 candidates, totalling 27 fits\n"
     ]
    },
    {
     "name": "stderr",
     "output_type": "stream",
     "text": [
      "[Parallel(n_jobs=4)]: Done  27 out of  27 | elapsed:    2.9s finished\n"
     ]
    },
    {
     "name": "stdout",
     "output_type": "stream",
     "text": [
      "Best params is {'alpha': 5.0}\n",
      "R factor is  0.130787917643\n",
      "Learn SARIMAX\n",
      "Make prediction\n",
      "Prediction error\n",
      "Provided exogenous values are not of the appropriate shape. Required (1, 1), got (5L,).\n",
      "Prediction error\n",
      "Provided exogenous values are not of the appropriate shape. Required (2, 1), got (4L,).\n",
      "Prediction error\n",
      "Provided exogenous values are not of the appropriate shape. Required (3, 1), got (3L,).\n",
      "Prediction error\n",
      "Provided exogenous values are not of the appropriate shape. Required (4, 1), got (2L,).\n",
      "Prediction error\n",
      "Provided exogenous values are not of the appropriate shape. Required (5, 1), got (1L,).\n",
      "Regions is  1383\n",
      "Fitting 3 folds for each of 9 candidates, totalling 27 fits\n"
     ]
    },
    {
     "name": "stderr",
     "output_type": "stream",
     "text": [
      "[Parallel(n_jobs=4)]: Done  27 out of  27 | elapsed:    3.0s finished\n"
     ]
    },
    {
     "name": "stdout",
     "output_type": "stream",
     "text": [
      "Best params is {'alpha': 5.0}\n",
      "R factor is  0.0559752546155\n",
      "Learn SARIMAX\n",
      "Make prediction\n",
      "Prediction error\n",
      "Provided exogenous values are not of the appropriate shape. Required (1, 1), got (5L,).\n",
      "Prediction error\n",
      "Provided exogenous values are not of the appropriate shape. Required (2, 1), got (4L,).\n",
      "Prediction error\n",
      "Provided exogenous values are not of the appropriate shape. Required (3, 1), got (3L,).\n",
      "Prediction error\n",
      "Provided exogenous values are not of the appropriate shape. Required (4, 1), got (2L,).\n",
      "Prediction error\n",
      "Provided exogenous values are not of the appropriate shape. Required (5, 1), got (1L,).\n",
      "Regions is  1384\n",
      "Fitting 3 folds for each of 9 candidates, totalling 27 fits\n"
     ]
    },
    {
     "name": "stderr",
     "output_type": "stream",
     "text": [
      "[Parallel(n_jobs=4)]: Done  27 out of  27 | elapsed:    2.8s finished\n"
     ]
    },
    {
     "name": "stdout",
     "output_type": "stream",
     "text": [
      "Best params is {'alpha': 5.0}\n",
      "R factor is  0.0497301302437\n",
      "Learn SARIMAX\n",
      "Make prediction\n",
      "Prediction error\n",
      "Provided exogenous values are not of the appropriate shape. Required (1, 1), got (5L,).\n",
      "Prediction error\n",
      "Provided exogenous values are not of the appropriate shape. Required (2, 1), got (4L,).\n",
      "Prediction error\n",
      "Provided exogenous values are not of the appropriate shape. Required (3, 1), got (3L,).\n",
      "Prediction error\n",
      "Provided exogenous values are not of the appropriate shape. Required (4, 1), got (2L,).\n",
      "Prediction error\n",
      "Provided exogenous values are not of the appropriate shape. Required (5, 1), got (1L,).\n",
      "Group ID is gr15\n",
      "Regions is  1132\n",
      "Fitting 3 folds for each of 9 candidates, totalling 27 fits\n"
     ]
    },
    {
     "name": "stderr",
     "output_type": "stream",
     "text": [
      "[Parallel(n_jobs=4)]: Done  27 out of  27 | elapsed:    3.0s finished\n"
     ]
    },
    {
     "name": "stdout",
     "output_type": "stream",
     "text": [
      "Best params is {'alpha': 1.0}\n",
      "R factor is  0.0307290756955\n",
      "Learn SARIMAX\n",
      "Make prediction\n",
      "Prediction error\n",
      "Provided exogenous values are not of the appropriate shape. Required (1, 1), got (5L,).\n",
      "Prediction error\n",
      "Provided exogenous values are not of the appropriate shape. Required (2, 1), got (4L,).\n",
      "Prediction error\n",
      "Provided exogenous values are not of the appropriate shape. Required (3, 1), got (3L,).\n",
      "Prediction error\n",
      "Provided exogenous values are not of the appropriate shape. Required (4, 1), got (2L,).\n",
      "Prediction error\n",
      "Provided exogenous values are not of the appropriate shape. Required (5, 1), got (1L,).\n",
      "Regions is  1172\n",
      "Fitting 3 folds for each of 9 candidates, totalling 27 fits\n"
     ]
    },
    {
     "name": "stderr",
     "output_type": "stream",
     "text": [
      "[Parallel(n_jobs=4)]: Done  27 out of  27 | elapsed:    3.0s finished\n"
     ]
    },
    {
     "name": "stdout",
     "output_type": "stream",
     "text": [
      "Best params is {'alpha': 5.0}\n",
      "R factor is  0.0710077292627\n",
      "Learn SARIMAX\n",
      "Make prediction\n",
      "Prediction error\n",
      "Provided exogenous values are not of the appropriate shape. Required (1, 1), got (5L,).\n",
      "Prediction error\n",
      "Provided exogenous values are not of the appropriate shape. Required (2, 1), got (4L,).\n",
      "Prediction error\n",
      "Provided exogenous values are not of the appropriate shape. Required (3, 1), got (3L,).\n",
      "Prediction error\n",
      "Provided exogenous values are not of the appropriate shape. Required (4, 1), got (2L,).\n",
      "Prediction error\n",
      "Provided exogenous values are not of the appropriate shape. Required (5, 1), got (1L,).\n",
      "Regions is  1173\n",
      "Fitting 3 folds for each of 9 candidates, totalling 27 fits\n"
     ]
    },
    {
     "name": "stderr",
     "output_type": "stream",
     "text": [
      "[Parallel(n_jobs=4)]: Done  27 out of  27 | elapsed:    2.8s finished\n"
     ]
    },
    {
     "name": "stdout",
     "output_type": "stream",
     "text": [
      "Best params is {'alpha': 5.0}\n",
      "R factor is  0.045556780489\n",
      "Learn SARIMAX\n",
      "Make prediction\n",
      "Prediction error\n",
      "Provided exogenous values are not of the appropriate shape. Required (1, 1), got (5L,).\n",
      "Prediction error\n",
      "Provided exogenous values are not of the appropriate shape. Required (2, 1), got (4L,).\n",
      "Prediction error\n",
      "Provided exogenous values are not of the appropriate shape. Required (3, 1), got (3L,).\n",
      "Prediction error\n",
      "Provided exogenous values are not of the appropriate shape. Required (4, 1), got (2L,).\n",
      "Prediction error\n",
      "Provided exogenous values are not of the appropriate shape. Required (5, 1), got (1L,).\n",
      "Regions is  1174\n",
      "Fitting 3 folds for each of 9 candidates, totalling 27 fits\n"
     ]
    },
    {
     "name": "stderr",
     "output_type": "stream",
     "text": [
      "[Parallel(n_jobs=4)]: Done  27 out of  27 | elapsed:    2.9s finished\n"
     ]
    },
    {
     "name": "stdout",
     "output_type": "stream",
     "text": [
      "Best params is {'alpha': 5.0}\n",
      "R factor is  0.0374726998575\n",
      "Learn SARIMAX\n",
      "Make prediction\n",
      "Prediction error\n",
      "Provided exogenous values are not of the appropriate shape. Required (1, 1), got (5L,).\n",
      "Prediction error\n",
      "Provided exogenous values are not of the appropriate shape. Required (2, 1), got (4L,).\n",
      "Prediction error\n",
      "Provided exogenous values are not of the appropriate shape. Required (3, 1), got (3L,).\n",
      "Prediction error\n",
      "Provided exogenous values are not of the appropriate shape. Required (4, 1), got (2L,).\n",
      "Prediction error\n",
      "Provided exogenous values are not of the appropriate shape. Required (5, 1), got (1L,).\n",
      "Group ID is gr16\n",
      "Regions is  1480\n",
      "Fitting 3 folds for each of 9 candidates, totalling 27 fits\n"
     ]
    },
    {
     "name": "stderr",
     "output_type": "stream",
     "text": [
      "[Parallel(n_jobs=4)]: Done  27 out of  27 | elapsed:    3.0s finished\n"
     ]
    },
    {
     "name": "stdout",
     "output_type": "stream",
     "text": [
      "Best params is {'alpha': 5.0}\n",
      "R factor is  0.120273574602\n",
      "Learn SARIMAX\n",
      "<type 'exceptions.ValueError'>\n",
      "non-invertible starting MA parameters found with `enforce_invertibility` set to True.\n",
      "Can not create the model\n",
      "index 8 is out of bounds for axis 0 with size 7\n",
      "Regions is  1482\n",
      "Fitting 3 folds for each of 9 candidates, totalling 27 fits\n"
     ]
    },
    {
     "name": "stderr",
     "output_type": "stream",
     "text": [
      "[Parallel(n_jobs=4)]: Done  27 out of  27 | elapsed:    2.9s finished\n"
     ]
    },
    {
     "name": "stdout",
     "output_type": "stream",
     "text": [
      "Best params is {'alpha': 1.0}\n",
      "R factor is  0.138205020203\n",
      "Learn SARIMAX\n",
      "Make prediction\n",
      "Prediction error\n",
      "Provided exogenous values are not of the appropriate shape. Required (1, 1), got (5L,).\n",
      "Prediction error\n",
      "Provided exogenous values are not of the appropriate shape. Required (2, 1), got (4L,).\n",
      "Prediction error\n",
      "Provided exogenous values are not of the appropriate shape. Required (3, 1), got (3L,).\n",
      "Prediction error\n",
      "Provided exogenous values are not of the appropriate shape. Required (4, 1), got (2L,).\n",
      "Prediction error\n",
      "Provided exogenous values are not of the appropriate shape. Required (5, 1), got (1L,).\n",
      "Regions is  1483\n",
      "Fitting 3 folds for each of 9 candidates, totalling 27 fits\n"
     ]
    },
    {
     "name": "stderr",
     "output_type": "stream",
     "text": [
      "[Parallel(n_jobs=4)]: Done  27 out of  27 | elapsed:    2.9s finished\n"
     ]
    },
    {
     "name": "stdout",
     "output_type": "stream",
     "text": [
      "Best params is {'alpha': 5.0}\n",
      "R factor is  0.0427887965991\n",
      "Learn SARIMAX\n",
      "<type 'exceptions.ValueError'>\n",
      "non-invertible starting MA parameters found with `enforce_invertibility` set to True.\n",
      "Make prediction\n",
      "Prediction error\n",
      "Provided exogenous values are not of the appropriate shape. Required (1, 1), got (5L,).\n",
      "Prediction error\n",
      "Provided exogenous values are not of the appropriate shape. Required (2, 1), got (4L,).\n",
      "Prediction error\n",
      "Provided exogenous values are not of the appropriate shape. Required (3, 1), got (3L,).\n",
      "Prediction error\n",
      "Provided exogenous values are not of the appropriate shape. Required (4, 1), got (2L,).\n",
      "Prediction error\n",
      "Provided exogenous values are not of the appropriate shape. Required (5, 1), got (1L,).\n",
      "Regions is  1533\n",
      "Fitting 3 folds for each of 9 candidates, totalling 27 fits\n"
     ]
    },
    {
     "name": "stderr",
     "output_type": "stream",
     "text": [
      "[Parallel(n_jobs=4)]: Done  27 out of  27 | elapsed:    3.0s finished\n"
     ]
    },
    {
     "name": "stdout",
     "output_type": "stream",
     "text": [
      "Best params is {'alpha': 1.5}\n",
      "R factor is  0.202072952391\n",
      "Learn SARIMAX\n",
      "Make prediction\n",
      "Prediction error\n",
      "Provided exogenous values are not of the appropriate shape. Required (1, 1), got (5L,).\n",
      "Prediction error\n",
      "Provided exogenous values are not of the appropriate shape. Required (2, 1), got (4L,).\n",
      "Prediction error\n",
      "Provided exogenous values are not of the appropriate shape. Required (3, 1), got (3L,).\n",
      "Prediction error\n",
      "Provided exogenous values are not of the appropriate shape. Required (4, 1), got (2L,).\n",
      "Prediction error\n",
      "Provided exogenous values are not of the appropriate shape. Required (5, 1), got (1L,).\n",
      "Group ID is gr17\n",
      "Regions is  1278\n",
      "Fitting 3 folds for each of 9 candidates, totalling 27 fits\n"
     ]
    },
    {
     "name": "stderr",
     "output_type": "stream",
     "text": [
      "[Parallel(n_jobs=4)]: Done  27 out of  27 | elapsed:    2.9s finished\n"
     ]
    },
    {
     "name": "stdout",
     "output_type": "stream",
     "text": [
      "Best params is {'alpha': 5.0}\n",
      "R factor is  0.252757394975\n",
      "Learn SARIMAX\n",
      "Make prediction\n",
      "Prediction error\n",
      "Provided exogenous values are not of the appropriate shape. Required (1, 1), got (5L,).\n",
      "Prediction error\n",
      "Provided exogenous values are not of the appropriate shape. Required (2, 1), got (4L,).\n",
      "Prediction error\n",
      "Provided exogenous values are not of the appropriate shape. Required (3, 1), got (3L,).\n",
      "Prediction error\n",
      "Provided exogenous values are not of the appropriate shape. Required (4, 1), got (2L,).\n",
      "Prediction error\n",
      "Provided exogenous values are not of the appropriate shape. Required (5, 1), got (1L,).\n",
      "Regions is  1279\n",
      "Fitting 3 folds for each of 9 candidates, totalling 27 fits\n"
     ]
    },
    {
     "name": "stderr",
     "output_type": "stream",
     "text": [
      "[Parallel(n_jobs=4)]: Done  27 out of  27 | elapsed:    2.9s finished\n"
     ]
    },
    {
     "name": "stdout",
     "output_type": "stream",
     "text": [
      "Best params is {'alpha': 5.0}\n",
      "R factor is  0.0389585086254\n",
      "Learn SARIMAX\n",
      "Make prediction\n",
      "Prediction error\n",
      "Provided exogenous values are not of the appropriate shape. Required (1, 1), got (5L,).\n",
      "Prediction error\n",
      "Provided exogenous values are not of the appropriate shape. Required (2, 1), got (4L,).\n",
      "Prediction error\n",
      "Provided exogenous values are not of the appropriate shape. Required (3, 1), got (3L,).\n",
      "Prediction error\n",
      "Provided exogenous values are not of the appropriate shape. Required (4, 1), got (2L,).\n",
      "Prediction error\n",
      "Provided exogenous values are not of the appropriate shape. Required (5, 1), got (1L,).\n",
      "Regions is  1281\n",
      "Fitting 3 folds for each of 9 candidates, totalling 27 fits\n"
     ]
    },
    {
     "name": "stderr",
     "output_type": "stream",
     "text": [
      "[Parallel(n_jobs=4)]: Done  27 out of  27 | elapsed:    2.9s finished\n"
     ]
    },
    {
     "name": "stdout",
     "output_type": "stream",
     "text": [
      "Best params is {'alpha': 5.0}\n",
      "R factor is  0.117302106558\n",
      "Learn SARIMAX\n",
      "Make prediction\n",
      "Prediction error\n",
      "Provided exogenous values are not of the appropriate shape. Required (1, 1), got (5L,).\n",
      "Prediction error\n",
      "Provided exogenous values are not of the appropriate shape. Required (2, 1), got (4L,).\n",
      "Prediction error\n",
      "Provided exogenous values are not of the appropriate shape. Required (3, 1), got (3L,).\n",
      "Prediction error\n",
      "Provided exogenous values are not of the appropriate shape. Required (4, 1), got (2L,).\n",
      "Prediction error\n",
      "Provided exogenous values are not of the appropriate shape. Required (5, 1), got (1L,).\n",
      "Regions is  1282\n",
      "Fitting 3 folds for each of 9 candidates, totalling 27 fits\n"
     ]
    },
    {
     "name": "stderr",
     "output_type": "stream",
     "text": [
      "[Parallel(n_jobs=4)]: Done  27 out of  27 | elapsed:    3.0s finished\n"
     ]
    },
    {
     "name": "stdout",
     "output_type": "stream",
     "text": [
      "Best params is {'alpha': 5.0}\n",
      "R factor is  0.11877219215\n",
      "Learn SARIMAX\n",
      "Make prediction\n",
      "Prediction error\n",
      "Provided exogenous values are not of the appropriate shape. Required (1, 1), got (5L,).\n",
      "Prediction error\n",
      "Provided exogenous values are not of the appropriate shape. Required (2, 1), got (4L,).\n",
      "Prediction error\n",
      "Provided exogenous values are not of the appropriate shape. Required (3, 1), got (3L,).\n",
      "Prediction error\n",
      "Provided exogenous values are not of the appropriate shape. Required (4, 1), got (2L,).\n",
      "Prediction error\n",
      "Provided exogenous values are not of the appropriate shape. Required (5, 1), got (1L,).\n",
      "Regions is  2068\n",
      "Fitting 3 folds for each of 9 candidates, totalling 27 fits\n"
     ]
    },
    {
     "name": "stderr",
     "output_type": "stream",
     "text": [
      "[Parallel(n_jobs=4)]: Done  27 out of  27 | elapsed:    3.0s finished\n"
     ]
    },
    {
     "name": "stdout",
     "output_type": "stream",
     "text": [
      "Best params is {'alpha': 5.0}\n",
      "R factor is  0.0473038903914\n",
      "Learn SARIMAX\n",
      "Make prediction\n",
      "Prediction error\n",
      "Provided exogenous values are not of the appropriate shape. Required (1, 1), got (5L,).\n",
      "Prediction error\n",
      "Provided exogenous values are not of the appropriate shape. Required (2, 1), got (4L,).\n",
      "Prediction error\n",
      "Provided exogenous values are not of the appropriate shape. Required (3, 1), got (3L,).\n",
      "Prediction error\n",
      "Provided exogenous values are not of the appropriate shape. Required (4, 1), got (2L,).\n",
      "Prediction error\n",
      "Provided exogenous values are not of the appropriate shape. Required (5, 1), got (1L,).\n",
      "Regions is  2119\n",
      "Fitting 3 folds for each of 9 candidates, totalling 27 fits\n"
     ]
    },
    {
     "name": "stderr",
     "output_type": "stream",
     "text": [
      "[Parallel(n_jobs=4)]: Done  27 out of  27 | elapsed:    2.8s finished\n"
     ]
    },
    {
     "name": "stdout",
     "output_type": "stream",
     "text": [
      "Best params is {'alpha': 5.0}\n",
      "R factor is  0.0352919536582\n",
      "Learn SARIMAX\n",
      "Make prediction\n",
      "Prediction error\n",
      "Provided exogenous values are not of the appropriate shape. Required (1, 1), got (5L,).\n",
      "Prediction error\n",
      "Provided exogenous values are not of the appropriate shape. Required (2, 1), got (4L,).\n",
      "Prediction error\n",
      "Provided exogenous values are not of the appropriate shape. Required (3, 1), got (3L,).\n",
      "Prediction error\n",
      "Provided exogenous values are not of the appropriate shape. Required (4, 1), got (2L,).\n",
      "Prediction error\n",
      "Provided exogenous values are not of the appropriate shape. Required (5, 1), got (1L,).\n",
      "Regions is  2168\n",
      "Fitting 3 folds for each of 9 candidates, totalling 27 fits\n"
     ]
    },
    {
     "name": "stderr",
     "output_type": "stream",
     "text": [
      "[Parallel(n_jobs=4)]: Done  27 out of  27 | elapsed:    3.1s finished\n"
     ]
    },
    {
     "name": "stdout",
     "output_type": "stream",
     "text": [
      "Best params is {'alpha': 5.0}\n",
      "R factor is  0.0998509488643\n",
      "Learn SARIMAX\n",
      "Make prediction\n",
      "Prediction error\n",
      "Provided exogenous values are not of the appropriate shape. Required (1, 1), got (5L,).\n",
      "Prediction error\n",
      "Provided exogenous values are not of the appropriate shape. Required (2, 1), got (4L,).\n",
      "Prediction error\n",
      "Provided exogenous values are not of the appropriate shape. Required (3, 1), got (3L,).\n",
      "Prediction error\n",
      "Provided exogenous values are not of the appropriate shape. Required (4, 1), got (2L,).\n",
      "Prediction error\n",
      "Provided exogenous values are not of the appropriate shape. Required (5, 1), got (1L,).\n",
      "Group ID is gr21\n",
      "Regions is  1184\n",
      "Fitting 3 folds for each of 9 candidates, totalling 27 fits\n"
     ]
    },
    {
     "name": "stderr",
     "output_type": "stream",
     "text": [
      "[Parallel(n_jobs=4)]: Done  27 out of  27 | elapsed:    3.2s finished\n"
     ]
    },
    {
     "name": "stdout",
     "output_type": "stream",
     "text": [
      "Best params is {'alpha': 5.0}\n",
      "R factor is  0.0240930041865\n",
      "Learn SARIMAX\n",
      "Make prediction\n",
      "Prediction error\n",
      "Provided exogenous values are not of the appropriate shape. Required (1, 1), got (5L,).\n",
      "Prediction error\n",
      "Provided exogenous values are not of the appropriate shape. Required (2, 1), got (4L,).\n",
      "Prediction error\n",
      "Provided exogenous values are not of the appropriate shape. Required (3, 1), got (3L,).\n",
      "Prediction error\n",
      "Provided exogenous values are not of the appropriate shape. Required (4, 1), got (2L,).\n",
      "Prediction error\n",
      "Provided exogenous values are not of the appropriate shape. Required (5, 1), got (1L,).\n",
      "Regions is  1221\n",
      "Fitting 3 folds for each of 9 candidates, totalling 27 fits\n"
     ]
    },
    {
     "name": "stderr",
     "output_type": "stream",
     "text": [
      "[Parallel(n_jobs=4)]: Done  27 out of  27 | elapsed:    2.9s finished\n"
     ]
    },
    {
     "name": "stdout",
     "output_type": "stream",
     "text": [
      "Best params is {'alpha': 5.0}\n",
      "R factor is  0.109432721769\n",
      "Learn SARIMAX\n",
      "Make prediction\n",
      "Prediction error\n",
      "Provided exogenous values are not of the appropriate shape. Required (1, 1), got (5L,).\n",
      "Prediction error\n",
      "Provided exogenous values are not of the appropriate shape. Required (2, 1), got (4L,).\n",
      "Prediction error\n",
      "Provided exogenous values are not of the appropriate shape. Required (3, 1), got (3L,).\n",
      "Prediction error\n",
      "Provided exogenous values are not of the appropriate shape. Required (4, 1), got (2L,).\n",
      "Prediction error\n",
      "Provided exogenous values are not of the appropriate shape. Required (5, 1), got (1L,).\n",
      "Regions is  1228\n",
      "Fitting 3 folds for each of 9 candidates, totalling 27 fits\n"
     ]
    },
    {
     "name": "stderr",
     "output_type": "stream",
     "text": [
      "[Parallel(n_jobs=4)]: Done  27 out of  27 | elapsed:    2.9s finished\n"
     ]
    },
    {
     "name": "stdout",
     "output_type": "stream",
     "text": [
      "Best params is {'alpha': 5.0}\n",
      "R factor is  0.268496707137\n",
      "Learn SARIMAX\n",
      "Make prediction\n",
      "Prediction error\n",
      "Provided exogenous values are not of the appropriate shape. Required (1, 1), got (5L,).\n",
      "Prediction error\n",
      "Provided exogenous values are not of the appropriate shape. Required (2, 1), got (4L,).\n",
      "Prediction error\n",
      "Provided exogenous values are not of the appropriate shape. Required (3, 1), got (3L,).\n",
      "Prediction error\n",
      "Provided exogenous values are not of the appropriate shape. Required (4, 1), got (2L,).\n",
      "Prediction error\n",
      "Provided exogenous values are not of the appropriate shape. Required (5, 1), got (1L,).\n",
      "Group ID is gr20\n",
      "Regions is  1131\n",
      "Fitting 3 folds for each of 9 candidates, totalling 27 fits\n"
     ]
    },
    {
     "name": "stderr",
     "output_type": "stream",
     "text": [
      "[Parallel(n_jobs=4)]: Done  27 out of  27 | elapsed:    3.0s finished\n"
     ]
    },
    {
     "name": "stdout",
     "output_type": "stream",
     "text": [
      "Best params is {'alpha': 5.0}\n",
      "R factor is  0.13629829901\n",
      "Learn SARIMAX\n",
      "Make prediction\n",
      "Prediction error\n",
      "Provided exogenous values are not of the appropriate shape. Required (1, 1), got (5L,).\n",
      "Prediction error\n",
      "Provided exogenous values are not of the appropriate shape. Required (2, 1), got (4L,).\n",
      "Prediction error\n",
      "Provided exogenous values are not of the appropriate shape. Required (3, 1), got (3L,).\n",
      "Prediction error\n",
      "Provided exogenous values are not of the appropriate shape. Required (4, 1), got (2L,).\n",
      "Prediction error\n",
      "Provided exogenous values are not of the appropriate shape. Required (5, 1), got (1L,).\n",
      "Regions is  1272\n",
      "Fitting 3 folds for each of 9 candidates, totalling 27 fits\n"
     ]
    },
    {
     "name": "stderr",
     "output_type": "stream",
     "text": [
      "[Parallel(n_jobs=4)]: Done  27 out of  27 | elapsed:    2.9s finished\n"
     ]
    },
    {
     "name": "stdout",
     "output_type": "stream",
     "text": [
      "Best params is {'alpha': 5.0}\n",
      "R factor is  0.118985727433\n",
      "Learn SARIMAX\n",
      "Make prediction\n",
      "Prediction error\n",
      "Provided exogenous values are not of the appropriate shape. Required (1, 1), got (5L,).\n",
      "Prediction error\n",
      "Provided exogenous values are not of the appropriate shape. Required (2, 1), got (4L,).\n",
      "Prediction error\n",
      "Provided exogenous values are not of the appropriate shape. Required (3, 1), got (3L,).\n",
      "Prediction error\n",
      "Provided exogenous values are not of the appropriate shape. Required (4, 1), got (2L,).\n",
      "Prediction error\n",
      "Provided exogenous values are not of the appropriate shape. Required (5, 1), got (1L,).\n",
      "Group ID is gr23\n",
      "Regions is  1331\n",
      "Fitting 3 folds for each of 9 candidates, totalling 27 fits\n"
     ]
    },
    {
     "name": "stderr",
     "output_type": "stream",
     "text": [
      "[Parallel(n_jobs=4)]: Done  27 out of  27 | elapsed:    3.2s finished\n"
     ]
    },
    {
     "name": "stdout",
     "output_type": "stream",
     "text": [
      "Best params is {'alpha': 5.0}\n",
      "R factor is  0.0359735495375\n",
      "Learn SARIMAX\n",
      "Make prediction\n",
      "Prediction error\n",
      "Provided exogenous values are not of the appropriate shape. Required (1, 1), got (5L,).\n",
      "Prediction error\n",
      "Provided exogenous values are not of the appropriate shape. Required (2, 1), got (4L,).\n",
      "Prediction error\n",
      "Provided exogenous values are not of the appropriate shape. Required (3, 1), got (3L,).\n",
      "Prediction error\n",
      "Provided exogenous values are not of the appropriate shape. Required (4, 1), got (2L,).\n",
      "Prediction error\n",
      "Provided exogenous values are not of the appropriate shape. Required (5, 1), got (1L,).\n",
      "Regions is  1332\n",
      "Fitting 3 folds for each of 9 candidates, totalling 27 fits\n"
     ]
    },
    {
     "name": "stderr",
     "output_type": "stream",
     "text": [
      "[Parallel(n_jobs=4)]: Done  27 out of  27 | elapsed:    2.9s finished\n"
     ]
    },
    {
     "name": "stdout",
     "output_type": "stream",
     "text": [
      "Best params is {'alpha': 5.0}\n",
      "R factor is  0.0370955062183\n",
      "Learn SARIMAX\n",
      "Make prediction\n",
      "Prediction error\n",
      "Provided exogenous values are not of the appropriate shape. Required (1, 1), got (5L,).\n",
      "Prediction error\n",
      "Provided exogenous values are not of the appropriate shape. Required (2, 1), got (4L,).\n",
      "Prediction error\n",
      "Provided exogenous values are not of the appropriate shape. Required (3, 1), got (3L,).\n",
      "Prediction error\n",
      "Provided exogenous values are not of the appropriate shape. Required (4, 1), got (2L,).\n",
      "Prediction error\n",
      "Provided exogenous values are not of the appropriate shape. Required (5, 1), got (1L,).\n",
      "Regions is  1376\n",
      "Fitting 3 folds for each of 9 candidates, totalling 27 fits\n"
     ]
    },
    {
     "name": "stderr",
     "output_type": "stream",
     "text": [
      "[Parallel(n_jobs=4)]: Done  27 out of  27 | elapsed:    2.9s finished\n"
     ]
    },
    {
     "name": "stdout",
     "output_type": "stream",
     "text": [
      "Best params is {'alpha': 5.0}\n",
      "R factor is  0.207505036678\n",
      "Learn SARIMAX\n",
      "Make prediction\n",
      "Prediction error\n",
      "Provided exogenous values are not of the appropriate shape. Required (1, 1), got (5L,).\n",
      "Prediction error\n",
      "Provided exogenous values are not of the appropriate shape. Required (2, 1), got (4L,).\n",
      "Prediction error\n",
      "Provided exogenous values are not of the appropriate shape. Required (3, 1), got (3L,).\n",
      "Prediction error\n",
      "Provided exogenous values are not of the appropriate shape. Required (4, 1), got (2L,).\n",
      "Prediction error\n",
      "Provided exogenous values are not of the appropriate shape. Required (5, 1), got (1L,).\n",
      "Regions is  1377\n",
      "Fitting 3 folds for each of 9 candidates, totalling 27 fits\n"
     ]
    },
    {
     "name": "stderr",
     "output_type": "stream",
     "text": [
      "[Parallel(n_jobs=4)]: Done  27 out of  27 | elapsed:    3.1s finished\n"
     ]
    },
    {
     "name": "stdout",
     "output_type": "stream",
     "text": [
      "Best params is {'alpha': 5.0}\n",
      "R factor is  0.187959210082\n",
      "Learn SARIMAX\n",
      "Make prediction\n",
      "Prediction error\n",
      "Provided exogenous values are not of the appropriate shape. Required (1, 1), got (5L,).\n",
      "Prediction error\n",
      "Provided exogenous values are not of the appropriate shape. Required (2, 1), got (4L,).\n",
      "Prediction error\n",
      "Provided exogenous values are not of the appropriate shape. Required (3, 1), got (3L,).\n",
      "Prediction error\n",
      "Provided exogenous values are not of the appropriate shape. Required (4, 1), got (2L,).\n",
      "Prediction error\n",
      "Provided exogenous values are not of the appropriate shape. Required (5, 1), got (1L,).\n",
      "Regions is  1378\n",
      "Fitting 3 folds for each of 9 candidates, totalling 27 fits\n"
     ]
    },
    {
     "name": "stderr",
     "output_type": "stream",
     "text": [
      "[Parallel(n_jobs=4)]: Done  27 out of  27 | elapsed:    3.0s finished\n"
     ]
    },
    {
     "name": "stdout",
     "output_type": "stream",
     "text": [
      "Best params is {'alpha': 5.0}\n",
      "R factor is  0.160213231613\n",
      "Learn SARIMAX\n",
      "Make prediction\n",
      "Prediction error\n",
      "Provided exogenous values are not of the appropriate shape. Required (1, 1), got (5L,).\n",
      "Prediction error\n",
      "Provided exogenous values are not of the appropriate shape. Required (2, 1), got (4L,).\n",
      "Prediction error\n",
      "Provided exogenous values are not of the appropriate shape. Required (3, 1), got (3L,).\n",
      "Prediction error\n",
      "Provided exogenous values are not of the appropriate shape. Required (4, 1), got (2L,).\n",
      "Prediction error\n",
      "Provided exogenous values are not of the appropriate shape. Required (5, 1), got (1L,).\n",
      "Regions is  1431\n",
      "Fitting 3 folds for each of 9 candidates, totalling 27 fits\n"
     ]
    },
    {
     "name": "stderr",
     "output_type": "stream",
     "text": [
      "[Parallel(n_jobs=4)]: Done  27 out of  27 | elapsed:    3.0s finished\n"
     ]
    },
    {
     "name": "stdout",
     "output_type": "stream",
     "text": [
      "Best params is {'alpha': 5.0}\n",
      "R factor is  0.156608634258\n",
      "Learn SARIMAX\n",
      "Make prediction\n",
      "Prediction error\n",
      "Provided exogenous values are not of the appropriate shape. Required (1, 1), got (5L,).\n",
      "Prediction error\n",
      "Provided exogenous values are not of the appropriate shape. Required (2, 1), got (4L,).\n",
      "Prediction error\n",
      "Provided exogenous values are not of the appropriate shape. Required (3, 1), got (3L,).\n",
      "Prediction error\n",
      "Provided exogenous values are not of the appropriate shape. Required (4, 1), got (2L,).\n",
      "Prediction error\n",
      "Provided exogenous values are not of the appropriate shape. Required (5, 1), got (1L,).\n",
      "Group ID is gr22\n",
      "Regions is  1327\n",
      "Fitting 3 folds for each of 9 candidates, totalling 27 fits\n"
     ]
    },
    {
     "name": "stderr",
     "output_type": "stream",
     "text": [
      "[Parallel(n_jobs=4)]: Done  27 out of  27 | elapsed:    3.0s finished\n"
     ]
    },
    {
     "name": "stdout",
     "output_type": "stream",
     "text": [
      "Best params is {'alpha': 5.0}\n",
      "R factor is  0.209373461452\n",
      "Learn SARIMAX\n",
      "Make prediction\n",
      "Prediction error\n",
      "Provided exogenous values are not of the appropriate shape. Required (1, 1), got (5L,).\n",
      "Prediction error\n",
      "Provided exogenous values are not of the appropriate shape. Required (2, 1), got (4L,).\n",
      "Prediction error\n",
      "Provided exogenous values are not of the appropriate shape. Required (3, 1), got (3L,).\n",
      "Prediction error\n",
      "Provided exogenous values are not of the appropriate shape. Required (4, 1), got (2L,).\n",
      "Prediction error\n",
      "Provided exogenous values are not of the appropriate shape. Required (5, 1), got (1L,).\n",
      "Regions is  1580\n",
      "Fitting 3 folds for each of 9 candidates, totalling 27 fits\n"
     ]
    },
    {
     "name": "stderr",
     "output_type": "stream",
     "text": [
      "[Parallel(n_jobs=4)]: Done  27 out of  27 | elapsed:    3.4s finished\n"
     ]
    },
    {
     "name": "stdout",
     "output_type": "stream",
     "text": [
      "Best params is {'alpha': 1.0}\n",
      "R factor is  0.0351292099705\n",
      "Learn SARIMAX\n",
      "Make prediction\n",
      "Prediction error\n",
      "Provided exogenous values are not of the appropriate shape. Required (1, 1), got (5L,).\n",
      "Prediction error\n",
      "Provided exogenous values are not of the appropriate shape. Required (2, 1), got (4L,).\n",
      "Prediction error\n",
      "Provided exogenous values are not of the appropriate shape. Required (3, 1), got (3L,).\n",
      "Prediction error\n",
      "Provided exogenous values are not of the appropriate shape. Required (4, 1), got (2L,).\n",
      "Prediction error\n",
      "Provided exogenous values are not of the appropriate shape. Required (5, 1), got (1L,).\n",
      "Group ID is gr6\n",
      "Regions is  1177\n",
      "Fitting 3 folds for each of 9 candidates, totalling 27 fits\n"
     ]
    },
    {
     "name": "stderr",
     "output_type": "stream",
     "text": [
      "[Parallel(n_jobs=4)]: Done  27 out of  27 | elapsed:    3.0s finished\n"
     ]
    },
    {
     "name": "stdout",
     "output_type": "stream",
     "text": [
      "Best params is {'alpha': 5.0}\n",
      "R factor is  0.259124092156\n",
      "Learn SARIMAX\n",
      "Make prediction\n",
      "Prediction error\n",
      "Provided exogenous values are not of the appropriate shape. Required (1, 1), got (5L,).\n",
      "Prediction error\n",
      "Provided exogenous values are not of the appropriate shape. Required (2, 1), got (4L,).\n",
      "Prediction error\n",
      "Provided exogenous values are not of the appropriate shape. Required (3, 1), got (3L,).\n",
      "Prediction error\n",
      "Provided exogenous values are not of the appropriate shape. Required (4, 1), got (2L,).\n",
      "Prediction error\n",
      "Provided exogenous values are not of the appropriate shape. Required (5, 1), got (1L,).\n",
      "Regions is  1326\n",
      "Fitting 3 folds for each of 9 candidates, totalling 27 fits\n"
     ]
    },
    {
     "name": "stderr",
     "output_type": "stream",
     "text": [
      "[Parallel(n_jobs=4)]: Done  27 out of  27 | elapsed:    3.3s finished\n"
     ]
    },
    {
     "name": "stdout",
     "output_type": "stream",
     "text": [
      "Best params is {'alpha': 5.0}\n",
      "R factor is  0.192770692543\n",
      "Learn SARIMAX\n",
      "Make prediction\n",
      "Prediction error\n",
      "Provided exogenous values are not of the appropriate shape. Required (1, 1), got (5L,).\n",
      "Prediction error\n",
      "Provided exogenous values are not of the appropriate shape. Required (2, 1), got (4L,).\n",
      "Prediction error\n",
      "Provided exogenous values are not of the appropriate shape. Required (3, 1), got (3L,).\n",
      "Prediction error\n",
      "Provided exogenous values are not of the appropriate shape. Required (4, 1), got (2L,).\n",
      "Prediction error\n",
      "Provided exogenous values are not of the appropriate shape. Required (5, 1), got (1L,).\n",
      "Regions is  1426\n",
      "Fitting 3 folds for each of 9 candidates, totalling 27 fits\n"
     ]
    },
    {
     "name": "stderr",
     "output_type": "stream",
     "text": [
      "[Parallel(n_jobs=4)]: Done  27 out of  27 | elapsed:    3.1s finished\n"
     ]
    },
    {
     "name": "stdout",
     "output_type": "stream",
     "text": [
      "Best params is {'alpha': 5.0}\n",
      "R factor is  0.196777523317\n",
      "Learn SARIMAX\n",
      "Make prediction\n",
      "Prediction error\n",
      "Provided exogenous values are not of the appropriate shape. Required (1, 1), got (5L,).\n",
      "Prediction error\n",
      "Provided exogenous values are not of the appropriate shape. Required (2, 1), got (4L,).\n",
      "Prediction error\n",
      "Provided exogenous values are not of the appropriate shape. Required (3, 1), got (3L,).\n",
      "Prediction error\n",
      "Provided exogenous values are not of the appropriate shape. Required (4, 1), got (2L,).\n",
      "Prediction error\n",
      "Provided exogenous values are not of the appropriate shape. Required (5, 1), got (1L,).\n",
      "Regions is  1176\n",
      "Fitting 3 folds for each of 9 candidates, totalling 27 fits\n"
     ]
    },
    {
     "name": "stderr",
     "output_type": "stream",
     "text": [
      "[Parallel(n_jobs=4)]: Done  27 out of  27 | elapsed:    3.2s finished\n"
     ]
    },
    {
     "name": "stdout",
     "output_type": "stream",
     "text": [
      "Best params is {'alpha': 5.0}\n",
      "R factor is  0.207356694351\n",
      "Learn SARIMAX\n",
      "Make prediction\n",
      "Prediction error\n",
      "Provided exogenous values are not of the appropriate shape. Required (1, 1), got (5L,).\n",
      "Prediction error\n",
      "Provided exogenous values are not of the appropriate shape. Required (2, 1), got (4L,).\n",
      "Prediction error\n",
      "Provided exogenous values are not of the appropriate shape. Required (3, 1), got (3L,).\n",
      "Prediction error\n",
      "Provided exogenous values are not of the appropriate shape. Required (4, 1), got (2L,).\n",
      "Prediction error\n",
      "Provided exogenous values are not of the appropriate shape. Required (5, 1), got (1L,).\n",
      "Group ID is gr7\n",
      "Regions is  1388\n",
      "Fitting 3 folds for each of 9 candidates, totalling 27 fits\n"
     ]
    },
    {
     "name": "stderr",
     "output_type": "stream",
     "text": [
      "[Parallel(n_jobs=4)]: Done  27 out of  27 | elapsed:    3.2s finished\n"
     ]
    },
    {
     "name": "stdout",
     "output_type": "stream",
     "text": [
      "Best params is {'alpha': 5.0}\n",
      "R factor is  0.19774944265\n",
      "Learn SARIMAX\n",
      "<type 'exceptions.ValueError'>\n",
      "non-invertible starting MA parameters found with `enforce_invertibility` set to True.\n",
      "Make prediction\n",
      "Prediction error\n",
      "Provided exogenous values are not of the appropriate shape. Required (1, 1), got (5L,).\n",
      "Prediction error\n",
      "Provided exogenous values are not of the appropriate shape. Required (2, 1), got (4L,).\n",
      "Prediction error\n",
      "Provided exogenous values are not of the appropriate shape. Required (3, 1), got (3L,).\n",
      "Prediction error\n",
      "Provided exogenous values are not of the appropriate shape. Required (4, 1), got (2L,).\n",
      "Prediction error\n",
      "Provided exogenous values are not of the appropriate shape. Required (5, 1), got (1L,).\n",
      "Regions is  1389\n",
      "Fitting 3 folds for each of 9 candidates, totalling 27 fits\n"
     ]
    },
    {
     "name": "stderr",
     "output_type": "stream",
     "text": [
      "[Parallel(n_jobs=4)]: Done  27 out of  27 | elapsed:    3.1s finished\n"
     ]
    },
    {
     "name": "stdout",
     "output_type": "stream",
     "text": [
      "Best params is {'alpha': 5.0}\n",
      "R factor is  0.12100144734\n",
      "Learn SARIMAX\n",
      "<type 'exceptions.ValueError'>\n",
      "non-invertible starting MA parameters found with `enforce_invertibility` set to True.\n",
      "Make prediction\n",
      "Prediction error\n",
      "Provided exogenous values are not of the appropriate shape. Required (1, 1), got (5L,).\n",
      "Prediction error\n",
      "Provided exogenous values are not of the appropriate shape. Required (2, 1), got (4L,).\n",
      "Prediction error\n",
      "Provided exogenous values are not of the appropriate shape. Required (3, 1), got (3L,).\n",
      "Prediction error\n",
      "Provided exogenous values are not of the appropriate shape. Required (4, 1), got (2L,).\n",
      "Prediction error\n",
      "Provided exogenous values are not of the appropriate shape. Required (5, 1), got (1L,).\n",
      "Group ID is gr4\n",
      "Regions is  1127\n",
      "Fitting 3 folds for each of 9 candidates, totalling 27 fits\n"
     ]
    },
    {
     "name": "stderr",
     "output_type": "stream",
     "text": [
      "[Parallel(n_jobs=4)]: Done  27 out of  27 | elapsed:    3.1s finished\n"
     ]
    },
    {
     "name": "stdout",
     "output_type": "stream",
     "text": [
      "Best params is {'alpha': 5.0}\n",
      "R factor is  0.124337705011\n",
      "Learn SARIMAX\n",
      "Make prediction\n",
      "Prediction error\n",
      "Provided exogenous values are not of the appropriate shape. Required (1, 1), got (5L,).\n",
      "Prediction error\n",
      "Provided exogenous values are not of the appropriate shape. Required (2, 1), got (4L,).\n",
      "Prediction error\n",
      "Provided exogenous values are not of the appropriate shape. Required (3, 1), got (3L,).\n",
      "Prediction error\n",
      "Provided exogenous values are not of the appropriate shape. Required (4, 1), got (2L,).\n",
      "Prediction error\n",
      "Provided exogenous values are not of the appropriate shape. Required (5, 1), got (1L,).\n",
      "Regions is  1128\n",
      "Fitting 3 folds for each of 9 candidates, totalling 27 fits\n"
     ]
    },
    {
     "name": "stderr",
     "output_type": "stream",
     "text": [
      "[Parallel(n_jobs=4)]: Done  27 out of  27 | elapsed:    4.0s finished\n"
     ]
    },
    {
     "name": "stdout",
     "output_type": "stream",
     "text": [
      "Best params is {'alpha': 5.0}\n",
      "R factor is  0.110182329041\n",
      "Learn SARIMAX\n",
      "Make prediction\n",
      "Prediction error\n",
      "Provided exogenous values are not of the appropriate shape. Required (1, 1), got (5L,).\n",
      "Prediction error\n",
      "Provided exogenous values are not of the appropriate shape. Required (2, 1), got (4L,).\n",
      "Prediction error\n",
      "Provided exogenous values are not of the appropriate shape. Required (3, 1), got (3L,).\n",
      "Prediction error\n",
      "Provided exogenous values are not of the appropriate shape. Required (4, 1), got (2L,).\n",
      "Prediction error\n",
      "Provided exogenous values are not of the appropriate shape. Required (5, 1), got (1L,).\n",
      "Regions is  1129\n",
      "Fitting 3 folds for each of 9 candidates, totalling 27 fits\n"
     ]
    },
    {
     "name": "stderr",
     "output_type": "stream",
     "text": [
      "[Parallel(n_jobs=4)]: Done  27 out of  27 | elapsed:    3.3s finished\n"
     ]
    },
    {
     "name": "stdout",
     "output_type": "stream",
     "text": [
      "Best params is {'alpha': 5.0}\n",
      "R factor is  0.162958406362\n",
      "Learn SARIMAX\n",
      "Make prediction\n",
      "Prediction error\n",
      "Provided exogenous values are not of the appropriate shape. Required (1, 1), got (5L,).\n",
      "Prediction error\n",
      "Provided exogenous values are not of the appropriate shape. Required (2, 1), got (4L,).\n",
      "Prediction error\n",
      "Provided exogenous values are not of the appropriate shape. Required (3, 1), got (3L,).\n",
      "Prediction error\n",
      "Provided exogenous values are not of the appropriate shape. Required (4, 1), got (2L,).\n",
      "Prediction error\n",
      "Provided exogenous values are not of the appropriate shape. Required (5, 1), got (1L,).\n",
      "Regions is  1130\n",
      "Fitting 3 folds for each of 9 candidates, totalling 27 fits\n"
     ]
    },
    {
     "name": "stderr",
     "output_type": "stream",
     "text": [
      "[Parallel(n_jobs=4)]: Done  27 out of  27 | elapsed:    3.4s finished\n"
     ]
    },
    {
     "name": "stdout",
     "output_type": "stream",
     "text": [
      "Best params is {'alpha': 5.0}\n",
      "R factor is  0.226380976701\n",
      "Learn SARIMAX\n",
      "Make prediction\n",
      "Prediction error\n",
      "Provided exogenous values are not of the appropriate shape. Required (1, 1), got (5L,).\n",
      "Prediction error\n",
      "Provided exogenous values are not of the appropriate shape. Required (2, 1), got (4L,).\n",
      "Prediction error\n",
      "Provided exogenous values are not of the appropriate shape. Required (3, 1), got (3L,).\n",
      "Prediction error\n",
      "Provided exogenous values are not of the appropriate shape. Required (4, 1), got (2L,).\n",
      "Prediction error\n",
      "Provided exogenous values are not of the appropriate shape. Required (5, 1), got (1L,).\n",
      "Group ID is gr2\n",
      "Regions is  1180\n",
      "Fitting 3 folds for each of 9 candidates, totalling 27 fits\n"
     ]
    },
    {
     "name": "stderr",
     "output_type": "stream",
     "text": [
      "[Parallel(n_jobs=4)]: Done  27 out of  27 | elapsed:    3.2s finished\n"
     ]
    },
    {
     "name": "stdout",
     "output_type": "stream",
     "text": [
      "Best params is {'alpha': 5.0}\n",
      "R factor is  0.0598080685303\n",
      "Learn SARIMAX\n",
      "Make prediction\n",
      "Prediction error\n",
      "Provided exogenous values are not of the appropriate shape. Required (1, 1), got (5L,).\n",
      "Prediction error\n",
      "Provided exogenous values are not of the appropriate shape. Required (2, 1), got (4L,).\n",
      "Prediction error\n",
      "Provided exogenous values are not of the appropriate shape. Required (3, 1), got (3L,).\n",
      "Prediction error\n",
      "Provided exogenous values are not of the appropriate shape. Required (4, 1), got (2L,).\n",
      "Prediction error\n",
      "Provided exogenous values are not of the appropriate shape. Required (5, 1), got (1L,).\n",
      "Regions is  1232\n",
      "Fitting 3 folds for each of 9 candidates, totalling 27 fits\n"
     ]
    },
    {
     "name": "stderr",
     "output_type": "stream",
     "text": [
      "[Parallel(n_jobs=4)]: Done  27 out of  27 | elapsed:    3.3s finished\n"
     ]
    },
    {
     "name": "stdout",
     "output_type": "stream",
     "text": [
      "Best params is {'alpha': 5.0}\n",
      "R factor is  0.077341969722\n",
      "Learn SARIMAX\n",
      "Make prediction\n",
      "Prediction error\n",
      "Provided exogenous values are not of the appropriate shape. Required (1, 1), got (5L,).\n",
      "Prediction error\n",
      "Provided exogenous values are not of the appropriate shape. Required (2, 1), got (4L,).\n",
      "Prediction error\n",
      "Provided exogenous values are not of the appropriate shape. Required (3, 1), got (3L,).\n",
      "Prediction error\n",
      "Provided exogenous values are not of the appropriate shape. Required (4, 1), got (2L,).\n",
      "Prediction error\n",
      "Provided exogenous values are not of the appropriate shape. Required (5, 1), got (1L,).\n",
      "Regions is  1233\n",
      "Fitting 3 folds for each of 9 candidates, totalling 27 fits\n"
     ]
    },
    {
     "name": "stderr",
     "output_type": "stream",
     "text": [
      "[Parallel(n_jobs=4)]: Done  27 out of  27 | elapsed:    3.0s finished\n"
     ]
    },
    {
     "name": "stdout",
     "output_type": "stream",
     "text": [
      "Best params is {'alpha': 5.0}\n",
      "R factor is  0.0601090926212\n",
      "Learn SARIMAX\n",
      "Make prediction\n",
      "Prediction error\n",
      "Provided exogenous values are not of the appropriate shape. Required (1, 1), got (5L,).\n",
      "Prediction error\n",
      "Provided exogenous values are not of the appropriate shape. Required (2, 1), got (4L,).\n",
      "Prediction error\n",
      "Provided exogenous values are not of the appropriate shape. Required (3, 1), got (3L,).\n",
      "Prediction error\n",
      "Provided exogenous values are not of the appropriate shape. Required (4, 1), got (2L,).\n",
      "Prediction error\n",
      "Provided exogenous values are not of the appropriate shape. Required (5, 1), got (1L,).\n",
      "Regions is  1234\n",
      "Fitting 3 folds for each of 9 candidates, totalling 27 fits\n"
     ]
    },
    {
     "name": "stderr",
     "output_type": "stream",
     "text": [
      "[Parallel(n_jobs=4)]: Done  27 out of  27 | elapsed:    3.1s finished\n"
     ]
    },
    {
     "name": "stdout",
     "output_type": "stream",
     "text": [
      "Best params is {'alpha': 5.0}\n",
      "R factor is  0.0230034943839\n",
      "Learn SARIMAX\n",
      "Make prediction\n",
      "Prediction error\n",
      "Provided exogenous values are not of the appropriate shape. Required (1, 1), got (5L,).\n",
      "Prediction error\n",
      "Provided exogenous values are not of the appropriate shape. Required (2, 1), got (4L,).\n",
      "Prediction error\n",
      "Provided exogenous values are not of the appropriate shape. Required (3, 1), got (3L,).\n",
      "Prediction error\n",
      "Provided exogenous values are not of the appropriate shape. Required (4, 1), got (2L,).\n",
      "Prediction error\n",
      "Provided exogenous values are not of the appropriate shape. Required (5, 1), got (1L,).\n",
      "Regions is  1235\n",
      "Fitting 3 folds for each of 9 candidates, totalling 27 fits\n"
     ]
    },
    {
     "name": "stderr",
     "output_type": "stream",
     "text": [
      "[Parallel(n_jobs=4)]: Done  27 out of  27 | elapsed:    3.0s finished\n"
     ]
    },
    {
     "name": "stdout",
     "output_type": "stream",
     "text": [
      "Best params is {'alpha': 5.0}\n",
      "R factor is  0.0215808262091\n",
      "Learn SARIMAX\n",
      "Make prediction\n",
      "Prediction error\n",
      "Provided exogenous values are not of the appropriate shape. Required (1, 1), got (5L,).\n",
      "Prediction error\n",
      "Provided exogenous values are not of the appropriate shape. Required (2, 1), got (4L,).\n",
      "Prediction error\n",
      "Provided exogenous values are not of the appropriate shape. Required (3, 1), got (3L,).\n",
      "Prediction error\n",
      "Provided exogenous values are not of the appropriate shape. Required (4, 1), got (2L,).\n",
      "Prediction error\n",
      "Provided exogenous values are not of the appropriate shape. Required (5, 1), got (1L,).\n",
      "Group ID is gr3\n",
      "Regions is  1183\n",
      "Fitting 3 folds for each of 9 candidates, totalling 27 fits\n"
     ]
    },
    {
     "name": "stderr",
     "output_type": "stream",
     "text": [
      "[Parallel(n_jobs=4)]: Done  27 out of  27 | elapsed:    3.2s finished\n"
     ]
    },
    {
     "name": "stdout",
     "output_type": "stream",
     "text": [
      "Best params is {'alpha': 5.0}\n",
      "R factor is  0.091097670709\n",
      "Learn SARIMAX\n",
      "Make prediction\n",
      "Prediction error\n",
      "Provided exogenous values are not of the appropriate shape. Required (1, 1), got (5L,).\n",
      "Prediction error\n",
      "Provided exogenous values are not of the appropriate shape. Required (2, 1), got (4L,).\n",
      "Prediction error\n",
      "Provided exogenous values are not of the appropriate shape. Required (3, 1), got (3L,).\n",
      "Prediction error\n",
      "Provided exogenous values are not of the appropriate shape. Required (4, 1), got (2L,).\n",
      "Prediction error\n",
      "Provided exogenous values are not of the appropriate shape. Required (5, 1), got (1L,).\n",
      "Regions is  1229\n",
      "Fitting 3 folds for each of 9 candidates, totalling 27 fits\n"
     ]
    },
    {
     "name": "stderr",
     "output_type": "stream",
     "text": [
      "[Parallel(n_jobs=4)]: Done  27 out of  27 | elapsed:    3.4s finished\n"
     ]
    },
    {
     "name": "stdout",
     "output_type": "stream",
     "text": [
      "Best params is {'alpha': 5.0}\n",
      "R factor is  0.153179252967\n",
      "Learn SARIMAX\n",
      "Make prediction\n",
      "Prediction error\n",
      "Provided exogenous values are not of the appropriate shape. Required (1, 1), got (5L,).\n",
      "Prediction error\n",
      "Provided exogenous values are not of the appropriate shape. Required (2, 1), got (4L,).\n",
      "Prediction error\n",
      "Provided exogenous values are not of the appropriate shape. Required (3, 1), got (3L,).\n",
      "Prediction error\n",
      "Provided exogenous values are not of the appropriate shape. Required (4, 1), got (2L,).\n",
      "Prediction error\n",
      "Provided exogenous values are not of the appropriate shape. Required (5, 1), got (1L,).\n"
     ]
    },
    {
     "ename": "IOError",
     "evalue": "[Errno 28] No space left on device",
     "output_type": "error",
     "traceback": [
      "\u001b[0;31m---------------------------------------------------------------------------\u001b[0m",
      "\u001b[0;31mIOError\u001b[0m                                   Traceback (most recent call last)",
      "\u001b[0;32m<ipython-input-9-57c1ac91de5d>\u001b[0m in \u001b[0;36m<module>\u001b[0;34m()\u001b[0m\n\u001b[1;32m     77\u001b[0m \u001b[1;33m\u001b[0m\u001b[0m\n\u001b[1;32m     78\u001b[0m             \u001b[1;31m# save results\u001b[0m\u001b[1;33m\u001b[0m\u001b[1;33m\u001b[0m\u001b[0m\n\u001b[0;32m---> 79\u001b[0;31m             \u001b[0mresDf\u001b[0m\u001b[1;33m.\u001b[0m\u001b[0mto_pickle\u001b[0m\u001b[1;33m(\u001b[0m\u001b[1;34m'predictionResults.pcl'\u001b[0m\u001b[1;33m)\u001b[0m\u001b[1;33m\u001b[0m\u001b[0m\n\u001b[0m\u001b[1;32m     80\u001b[0m \u001b[1;33m\u001b[0m\u001b[0m\n\u001b[1;32m     81\u001b[0m \u001b[1;32mprint\u001b[0m \u001b[1;34m'Total error is'\u001b[0m\u001b[1;33m,\u001b[0m \u001b[0merr\u001b[0m\u001b[1;33m\u001b[0m\u001b[0m\n",
      "\u001b[0;32mC:\\Anaconda2\\lib\\site-packages\\pandas\\core\\generic.pyc\u001b[0m in \u001b[0;36mto_pickle\u001b[0;34m(self, path)\u001b[0m\n\u001b[1;32m   1211\u001b[0m         \"\"\"\n\u001b[1;32m   1212\u001b[0m         \u001b[1;32mfrom\u001b[0m \u001b[0mpandas\u001b[0m\u001b[1;33m.\u001b[0m\u001b[0mio\u001b[0m\u001b[1;33m.\u001b[0m\u001b[0mpickle\u001b[0m \u001b[1;32mimport\u001b[0m \u001b[0mto_pickle\u001b[0m\u001b[1;33m\u001b[0m\u001b[0m\n\u001b[0;32m-> 1213\u001b[0;31m         \u001b[1;32mreturn\u001b[0m \u001b[0mto_pickle\u001b[0m\u001b[1;33m(\u001b[0m\u001b[0mself\u001b[0m\u001b[1;33m,\u001b[0m \u001b[0mpath\u001b[0m\u001b[1;33m)\u001b[0m\u001b[1;33m\u001b[0m\u001b[0m\n\u001b[0m\u001b[1;32m   1214\u001b[0m \u001b[1;33m\u001b[0m\u001b[0m\n\u001b[1;32m   1215\u001b[0m     \u001b[1;32mdef\u001b[0m \u001b[0mto_clipboard\u001b[0m\u001b[1;33m(\u001b[0m\u001b[0mself\u001b[0m\u001b[1;33m,\u001b[0m \u001b[0mexcel\u001b[0m\u001b[1;33m=\u001b[0m\u001b[0mNone\u001b[0m\u001b[1;33m,\u001b[0m \u001b[0msep\u001b[0m\u001b[1;33m=\u001b[0m\u001b[0mNone\u001b[0m\u001b[1;33m,\u001b[0m \u001b[1;33m**\u001b[0m\u001b[0mkwargs\u001b[0m\u001b[1;33m)\u001b[0m\u001b[1;33m:\u001b[0m\u001b[1;33m\u001b[0m\u001b[0m\n",
      "\u001b[0;32mC:\\Anaconda2\\lib\\site-packages\\pandas\\io\\pickle.pyc\u001b[0m in \u001b[0;36mto_pickle\u001b[0;34m(obj, path)\u001b[0m\n\u001b[1;32m     18\u001b[0m     \"\"\"\n\u001b[1;32m     19\u001b[0m     \u001b[1;32mwith\u001b[0m \u001b[0mopen\u001b[0m\u001b[1;33m(\u001b[0m\u001b[0mpath\u001b[0m\u001b[1;33m,\u001b[0m \u001b[1;34m'wb'\u001b[0m\u001b[1;33m)\u001b[0m \u001b[1;32mas\u001b[0m \u001b[0mf\u001b[0m\u001b[1;33m:\u001b[0m\u001b[1;33m\u001b[0m\u001b[0m\n\u001b[0;32m---> 20\u001b[0;31m         \u001b[0mpkl\u001b[0m\u001b[1;33m.\u001b[0m\u001b[0mdump\u001b[0m\u001b[1;33m(\u001b[0m\u001b[0mobj\u001b[0m\u001b[1;33m,\u001b[0m \u001b[0mf\u001b[0m\u001b[1;33m,\u001b[0m \u001b[0mprotocol\u001b[0m\u001b[1;33m=\u001b[0m\u001b[0mpkl\u001b[0m\u001b[1;33m.\u001b[0m\u001b[0mHIGHEST_PROTOCOL\u001b[0m\u001b[1;33m)\u001b[0m\u001b[1;33m\u001b[0m\u001b[0m\n\u001b[0m\u001b[1;32m     21\u001b[0m \u001b[1;33m\u001b[0m\u001b[0m\n\u001b[1;32m     22\u001b[0m \u001b[1;33m\u001b[0m\u001b[0m\n",
      "\u001b[0;31mIOError\u001b[0m: [Errno 28] No space left on device"
     ]
    }
   ],
   "source": [
    "# диапазон дат для обучения\n",
    "startFit = '2016-01-01 0:0:0'\n",
    "endFit = '2016-05-31 23:00:00'\n",
    "\n",
    "err = 0\n",
    "\n",
    "# диапазон дат для предсказания\n",
    "startPrediction = '2016-05-31 18:00:00'\n",
    "endPrediction   = '2016-06-30 23:00:00'\n",
    "predictionRange = pd.date_range(startPrediction, endPrediction, freq='H')\n",
    "\n",
    "# словарь с оптимальными параметрами для каждой группы\n",
    "paramsGroups = np.load('paramsGroups.npy').item()\n",
    "\n",
    "# create array to save prediction results\n",
    "mIndex = pd.MultiIndex.from_product([df.columns.values, predictionRange])\n",
    "resDf = pd.DataFrame(index = mIndex, columns = ['y','err'])\n",
    "# load data\n",
    "\n",
    "\n",
    "for grId, ts in tsGroups.iteritems(): #{k: v for k, v in tsGroups.iteritems() if k in recalcGroups}.iteritems():\n",
    "    print 'Group ID is', grId\n",
    "    \n",
    "    # получаем параметры SARIMAX модели\n",
    "    params = paramsGroups.get(grId)[1] \n",
    "    \n",
    "    for tsId in ts:\n",
    "        print 'Regions is ', tsId\n",
    "        # получаем временной ряд\n",
    "        ts = df.loc[startFit:endFit,tsId] #\n",
    "\n",
    "        # обучаем регрессор\n",
    "        ts = ts.to_frame(name = 'trip_count')\n",
    "        [r_pr, res, regressor] = regression(addFeatures(ts),verbose = True, searchBestFit = True)\n",
    "\n",
    "        # обучаем SARIMAX модель\n",
    "        print 'Learn SARIMAX'\n",
    "        try:\n",
    "            mSARIMA=sm.tsa.statespace.SARIMAX(ts, order=[params[0], 2, params[1]],\n",
    "                                              seasonal_order=(params[2], 1, params[3], 24),\n",
    "                                              exog = r_pr).fit(disp=1);\n",
    "        except Exception as inst:\n",
    "            print type(inst)     \n",
    "            print inst          \n",
    "\n",
    "        # получаем предсказания регрессора на весь диапазон дат (обучение+предсказание)\n",
    "        exog = getRegressor(regressor,startFit,endPrediction)\n",
    "        # получаем данные о поездкахы на весь диапазон дат\n",
    "        endog = df.loc[startFit:endPrediction,tsId]\n",
    "       \n",
    "        # создаём новую модель, которую будет использовать для предсказания\n",
    "        # Для чего такой финт ушами - не понимаю до сих пор\n",
    "        try:\n",
    "            model_fitted = sm.tsa.statespace.SARIMAX(endog, order=[params[0], 2, params[1]],\n",
    "                                                 seasonal_order=(params[2], 1, params[3], 24),\n",
    "                                                 exog = exog).filter(mSARIMA.params)\n",
    "        except Exception as inst:\n",
    "            print 'Can not create the model'\n",
    "            print inst\n",
    "            continue\n",
    "        else:    \n",
    "            # проходим по всему диапазону дат предсказаний\n",
    "            print 'Make prediction'\n",
    "            for firstLag in predictionRange:\n",
    "                lastLag = firstLag+datetime.timedelta(hours = 5)\n",
    "                # prediction\n",
    "                try:\n",
    "                    predicted_data = model_fitted.predict(firstLag, lastLag, dynamic=True, exog = exog[firstLag:lastLag])\n",
    "                except Exception as inst:\n",
    "                    print 'Prediction error'\n",
    "                    print inst\n",
    "                else:\n",
    "                    # save results\n",
    "                    resDf.loc[tsId,firstLag].y = predicted_data\n",
    "                    err += (df.loc[startPrediction:endPrediction,tsId]-predicted_data).abs().sum()\n",
    "                    resDf.loc[tsId,firstLag].err = (df.loc[startPrediction:endPrediction,tsId]-predicted_data).abs().mean()\n",
    "\n",
    "            # save results\n",
    "            resDf.to_pickle('predictionResults.pcl')\n",
    "    \n",
    "print 'Total error is', err    "
   ]
  },
  {
   "cell_type": "markdown",
   "metadata": {
    "collapsed": true
   },
   "source": [
    "gr19"
   ]
  },
  {
   "cell_type": "code",
   "execution_count": 10,
   "metadata": {
    "collapsed": false
   },
   "outputs": [
    {
     "data": {
      "text/html": [
       "<div>\n",
       "<table border=\"1\" class=\"dataframe\">\n",
       "  <thead>\n",
       "    <tr style=\"text-align: right;\">\n",
       "      <th></th>\n",
       "      <th></th>\n",
       "      <th>y</th>\n",
       "      <th>err</th>\n",
       "    </tr>\n",
       "  </thead>\n",
       "  <tbody>\n",
       "    <tr>\n",
       "      <th rowspan=\"30\" valign=\"top\">1075</th>\n",
       "      <th>2016-05-31 18:00:00</th>\n",
       "      <td>2016-05-31 18:00:00    92.206177\n",
       "2016-05-31 19...</td>\n",
       "      <td>17.5702</td>\n",
       "    </tr>\n",
       "    <tr>\n",
       "      <th>2016-05-31 19:00:00</th>\n",
       "      <td>2016-05-31 19:00:00    88.846814\n",
       "2016-05-31 20...</td>\n",
       "      <td>13.1172</td>\n",
       "    </tr>\n",
       "    <tr>\n",
       "      <th>2016-05-31 20:00:00</th>\n",
       "      <td>2016-05-31 20:00:00     99.123025\n",
       "2016-05-31 2...</td>\n",
       "      <td>17.9422</td>\n",
       "    </tr>\n",
       "    <tr>\n",
       "      <th>2016-05-31 21:00:00</th>\n",
       "      <td>2016-05-31 21:00:00    101.512154\n",
       "2016-05-31 2...</td>\n",
       "      <td>22.0675</td>\n",
       "    </tr>\n",
       "    <tr>\n",
       "      <th>2016-05-31 22:00:00</th>\n",
       "      <td>2016-05-31 22:00:00    71.090867\n",
       "2016-05-31 23...</td>\n",
       "      <td>12.6391</td>\n",
       "    </tr>\n",
       "    <tr>\n",
       "      <th>2016-05-31 23:00:00</th>\n",
       "      <td>2016-05-31 23:00:00    61.511194\n",
       "2016-06-01 00...</td>\n",
       "      <td>21.8889</td>\n",
       "    </tr>\n",
       "    <tr>\n",
       "      <th>2016-06-01 00:00:00</th>\n",
       "      <td>2016-06-01 00:00:00    27.988291\n",
       "2016-06-01 01...</td>\n",
       "      <td>3.11276</td>\n",
       "    </tr>\n",
       "    <tr>\n",
       "      <th>2016-06-01 01:00:00</th>\n",
       "      <td>2016-06-01 01:00:00    11.807716\n",
       "2016-06-01 02...</td>\n",
       "      <td>6.07457</td>\n",
       "    </tr>\n",
       "    <tr>\n",
       "      <th>2016-06-01 02:00:00</th>\n",
       "      <td>2016-06-01 02:00:00     3.210972\n",
       "2016-06-01 03...</td>\n",
       "      <td>4.62567</td>\n",
       "    </tr>\n",
       "    <tr>\n",
       "      <th>2016-06-01 03:00:00</th>\n",
       "      <td>2016-06-01 03:00:00    -0.575645\n",
       "2016-06-01 04...</td>\n",
       "      <td>4.76683</td>\n",
       "    </tr>\n",
       "    <tr>\n",
       "      <th>2016-06-01 04:00:00</th>\n",
       "      <td>2016-06-01 04:00:00     0.718586\n",
       "2016-06-01 05...</td>\n",
       "      <td>3.22476</td>\n",
       "    </tr>\n",
       "    <tr>\n",
       "      <th>2016-06-01 05:00:00</th>\n",
       "      <td>2016-06-01 05:00:00     4.920542\n",
       "2016-06-01 06...</td>\n",
       "      <td>3.76655</td>\n",
       "    </tr>\n",
       "    <tr>\n",
       "      <th>2016-06-01 06:00:00</th>\n",
       "      <td>2016-06-01 06:00:00    18.632402\n",
       "2016-06-01 07...</td>\n",
       "      <td>4.71596</td>\n",
       "    </tr>\n",
       "    <tr>\n",
       "      <th>2016-06-01 07:00:00</th>\n",
       "      <td>2016-06-01 07:00:00    40.526559\n",
       "2016-06-01 08...</td>\n",
       "      <td>9.27421</td>\n",
       "    </tr>\n",
       "    <tr>\n",
       "      <th>2016-06-01 08:00:00</th>\n",
       "      <td>2016-06-01 08:00:00     64.629728\n",
       "2016-06-01 0...</td>\n",
       "      <td>7.31249</td>\n",
       "    </tr>\n",
       "    <tr>\n",
       "      <th>2016-06-01 09:00:00</th>\n",
       "      <td>2016-06-01 09:00:00     61.460568\n",
       "2016-06-01 1...</td>\n",
       "      <td>9.84573</td>\n",
       "    </tr>\n",
       "    <tr>\n",
       "      <th>2016-06-01 10:00:00</th>\n",
       "      <td>2016-06-01 10:00:00     54.984280\n",
       "2016-06-01 1...</td>\n",
       "      <td>10.2013</td>\n",
       "    </tr>\n",
       "    <tr>\n",
       "      <th>2016-06-01 11:00:00</th>\n",
       "      <td>2016-06-01 11:00:00     71.990819\n",
       "2016-06-01 1...</td>\n",
       "      <td>10.6</td>\n",
       "    </tr>\n",
       "    <tr>\n",
       "      <th>2016-06-01 12:00:00</th>\n",
       "      <td>2016-06-01 12:00:00     98.219079\n",
       "2016-06-01 1...</td>\n",
       "      <td>14.3964</td>\n",
       "    </tr>\n",
       "    <tr>\n",
       "      <th>2016-06-01 13:00:00</th>\n",
       "      <td>2016-06-01 13:00:00    84.099340\n",
       "2016-06-01 14...</td>\n",
       "      <td>16.8293</td>\n",
       "    </tr>\n",
       "    <tr>\n",
       "      <th>2016-06-01 14:00:00</th>\n",
       "      <td>2016-06-01 14:00:00    103.055180\n",
       "2016-06-01 1...</td>\n",
       "      <td>9.87876</td>\n",
       "    </tr>\n",
       "    <tr>\n",
       "      <th>2016-06-01 15:00:00</th>\n",
       "      <td>2016-06-01 15:00:00    111.702096\n",
       "2016-06-01 1...</td>\n",
       "      <td>12.0158</td>\n",
       "    </tr>\n",
       "    <tr>\n",
       "      <th>2016-06-01 16:00:00</th>\n",
       "      <td>2016-06-01 16:00:00    72.543718\n",
       "2016-06-01 17...</td>\n",
       "      <td>18.8748</td>\n",
       "    </tr>\n",
       "    <tr>\n",
       "      <th>2016-06-01 17:00:00</th>\n",
       "      <td>2016-06-01 17:00:00    81.895583\n",
       "2016-06-01 18...</td>\n",
       "      <td>18.3946</td>\n",
       "    </tr>\n",
       "    <tr>\n",
       "      <th>2016-06-01 18:00:00</th>\n",
       "      <td>2016-06-01 18:00:00    98.571979\n",
       "2016-06-01 19...</td>\n",
       "      <td>18.1028</td>\n",
       "    </tr>\n",
       "    <tr>\n",
       "      <th>2016-06-01 19:00:00</th>\n",
       "      <td>2016-06-01 19:00:00    115.853253\n",
       "2016-06-01 2...</td>\n",
       "      <td>12.2303</td>\n",
       "    </tr>\n",
       "    <tr>\n",
       "      <th>2016-06-01 20:00:00</th>\n",
       "      <td>2016-06-01 20:00:00    102.650304\n",
       "2016-06-01 2...</td>\n",
       "      <td>7.53627</td>\n",
       "    </tr>\n",
       "    <tr>\n",
       "      <th>2016-06-01 21:00:00</th>\n",
       "      <td>2016-06-01 21:00:00    102.176823\n",
       "2016-06-01 2...</td>\n",
       "      <td>8.70293</td>\n",
       "    </tr>\n",
       "    <tr>\n",
       "      <th>2016-06-01 22:00:00</th>\n",
       "      <td>2016-06-01 22:00:00    117.040910\n",
       "2016-06-01 2...</td>\n",
       "      <td>30.2658</td>\n",
       "    </tr>\n",
       "    <tr>\n",
       "      <th>2016-06-01 23:00:00</th>\n",
       "      <td>2016-06-01 23:00:00    69.116673\n",
       "2016-06-02 00...</td>\n",
       "      <td>4.63077</td>\n",
       "    </tr>\n",
       "    <tr>\n",
       "      <th>...</th>\n",
       "      <th>...</th>\n",
       "      <td>...</td>\n",
       "      <td>...</td>\n",
       "    </tr>\n",
       "    <tr>\n",
       "      <th rowspan=\"30\" valign=\"top\">2168</th>\n",
       "      <th>2016-06-29 18:00:00</th>\n",
       "      <td>2016-06-29 18:00:00    -3.913872\n",
       "2016-06-29 19...</td>\n",
       "      <td>6.91492</td>\n",
       "    </tr>\n",
       "    <tr>\n",
       "      <th>2016-06-29 19:00:00</th>\n",
       "      <td>2016-06-29 19:00:00     4.079588\n",
       "2016-06-29 20...</td>\n",
       "      <td>9.47069</td>\n",
       "    </tr>\n",
       "    <tr>\n",
       "      <th>2016-06-29 20:00:00</th>\n",
       "      <td>2016-06-29 20:00:00     8.167934\n",
       "2016-06-29 21...</td>\n",
       "      <td>8.35232</td>\n",
       "    </tr>\n",
       "    <tr>\n",
       "      <th>2016-06-29 21:00:00</th>\n",
       "      <td>2016-06-29 21:00:00     9.187338\n",
       "2016-06-29 22...</td>\n",
       "      <td>9.46298</td>\n",
       "    </tr>\n",
       "    <tr>\n",
       "      <th>2016-06-29 22:00:00</th>\n",
       "      <td>2016-06-29 22:00:00     6.556142\n",
       "2016-06-29 23...</td>\n",
       "      <td>12.6748</td>\n",
       "    </tr>\n",
       "    <tr>\n",
       "      <th>2016-06-29 23:00:00</th>\n",
       "      <td>2016-06-29 23:00:00    -2.842592\n",
       "2016-06-30 00...</td>\n",
       "      <td>18.2122</td>\n",
       "    </tr>\n",
       "    <tr>\n",
       "      <th>2016-06-30 00:00:00</th>\n",
       "      <td>2016-06-30 00:00:00     2.999968\n",
       "2016-06-30 01...</td>\n",
       "      <td>20.3819</td>\n",
       "    </tr>\n",
       "    <tr>\n",
       "      <th>2016-06-30 01:00:00</th>\n",
       "      <td>2016-06-30 01:00:00   -11.897084\n",
       "2016-06-30 02...</td>\n",
       "      <td>23.1986</td>\n",
       "    </tr>\n",
       "    <tr>\n",
       "      <th>2016-06-30 02:00:00</th>\n",
       "      <td>2016-06-30 02:00:00   -21.740793\n",
       "2016-06-30 03...</td>\n",
       "      <td>17.2094</td>\n",
       "    </tr>\n",
       "    <tr>\n",
       "      <th>2016-06-30 03:00:00</th>\n",
       "      <td>2016-06-30 03:00:00   -18.043492\n",
       "2016-06-30 04...</td>\n",
       "      <td>9.42101</td>\n",
       "    </tr>\n",
       "    <tr>\n",
       "      <th>2016-06-30 04:00:00</th>\n",
       "      <td>2016-06-30 04:00:00   -11.672863\n",
       "2016-06-30 05...</td>\n",
       "      <td>8.94228</td>\n",
       "    </tr>\n",
       "    <tr>\n",
       "      <th>2016-06-30 05:00:00</th>\n",
       "      <td>2016-06-30 05:00:00     7.747598\n",
       "2016-06-30 06...</td>\n",
       "      <td>11.6544</td>\n",
       "    </tr>\n",
       "    <tr>\n",
       "      <th>2016-06-30 06:00:00</th>\n",
       "      <td>2016-06-30 06:00:00    13.728653\n",
       "2016-06-30 07...</td>\n",
       "      <td>10.143</td>\n",
       "    </tr>\n",
       "    <tr>\n",
       "      <th>2016-06-30 07:00:00</th>\n",
       "      <td>2016-06-30 07:00:00    15.296194\n",
       "2016-06-30 08...</td>\n",
       "      <td>6.70696</td>\n",
       "    </tr>\n",
       "    <tr>\n",
       "      <th>2016-06-30 08:00:00</th>\n",
       "      <td>2016-06-30 08:00:00    12.119146\n",
       "2016-06-30 09...</td>\n",
       "      <td>6.24678</td>\n",
       "    </tr>\n",
       "    <tr>\n",
       "      <th>2016-06-30 09:00:00</th>\n",
       "      <td>2016-06-30 09:00:00     0.069508\n",
       "2016-06-30 10...</td>\n",
       "      <td>4.86778</td>\n",
       "    </tr>\n",
       "    <tr>\n",
       "      <th>2016-06-30 10:00:00</th>\n",
       "      <td>2016-06-30 10:00:00    -5.024301\n",
       "2016-06-30 11...</td>\n",
       "      <td>5.51292</td>\n",
       "    </tr>\n",
       "    <tr>\n",
       "      <th>2016-06-30 11:00:00</th>\n",
       "      <td>2016-06-30 11:00:00   -7.899170\n",
       "2016-06-30 12:...</td>\n",
       "      <td>4.5848</td>\n",
       "    </tr>\n",
       "    <tr>\n",
       "      <th>2016-06-30 12:00:00</th>\n",
       "      <td>2016-06-30 12:00:00    -1.436748\n",
       "2016-06-30 13...</td>\n",
       "      <td>5.59406</td>\n",
       "    </tr>\n",
       "    <tr>\n",
       "      <th>2016-06-30 13:00:00</th>\n",
       "      <td>2016-06-30 13:00:00    10.958542\n",
       "2016-06-30 14...</td>\n",
       "      <td>6.69193</td>\n",
       "    </tr>\n",
       "    <tr>\n",
       "      <th>2016-06-30 14:00:00</th>\n",
       "      <td>2016-06-30 14:00:00    1.815666\n",
       "2016-06-30 15:...</td>\n",
       "      <td>3.06081</td>\n",
       "    </tr>\n",
       "    <tr>\n",
       "      <th>2016-06-30 15:00:00</th>\n",
       "      <td>2016-06-30 15:00:00    -1.090260\n",
       "2016-06-30 16...</td>\n",
       "      <td>4.46998</td>\n",
       "    </tr>\n",
       "    <tr>\n",
       "      <th>2016-06-30 16:00:00</th>\n",
       "      <td>2016-06-30 16:00:00     7.813717\n",
       "2016-06-30 17...</td>\n",
       "      <td>7.08293</td>\n",
       "    </tr>\n",
       "    <tr>\n",
       "      <th>2016-06-30 17:00:00</th>\n",
       "      <td>2016-06-30 17:00:00     3.130188\n",
       "2016-06-30 18...</td>\n",
       "      <td>7.38396</td>\n",
       "    </tr>\n",
       "    <tr>\n",
       "      <th>2016-06-30 18:00:00</th>\n",
       "      <td>2016-06-30 18:00:00    -3.599442\n",
       "2016-06-30 19...</td>\n",
       "      <td>7.77072</td>\n",
       "    </tr>\n",
       "    <tr>\n",
       "      <th>2016-06-30 19:00:00</th>\n",
       "      <td>NaN</td>\n",
       "      <td>NaN</td>\n",
       "    </tr>\n",
       "    <tr>\n",
       "      <th>2016-06-30 20:00:00</th>\n",
       "      <td>NaN</td>\n",
       "      <td>NaN</td>\n",
       "    </tr>\n",
       "    <tr>\n",
       "      <th>2016-06-30 21:00:00</th>\n",
       "      <td>NaN</td>\n",
       "      <td>NaN</td>\n",
       "    </tr>\n",
       "    <tr>\n",
       "      <th>2016-06-30 22:00:00</th>\n",
       "      <td>NaN</td>\n",
       "      <td>NaN</td>\n",
       "    </tr>\n",
       "    <tr>\n",
       "      <th>2016-06-30 23:00:00</th>\n",
       "      <td>NaN</td>\n",
       "      <td>NaN</td>\n",
       "    </tr>\n",
       "  </tbody>\n",
       "</table>\n",
       "<p>74052 rows × 2 columns</p>\n",
       "</div>"
      ],
      "text/plain": [
       "                                                                          y  \\\n",
       "1075 2016-05-31 18:00:00  2016-05-31 18:00:00    92.206177\n",
       "2016-05-31 19...   \n",
       "     2016-05-31 19:00:00  2016-05-31 19:00:00    88.846814\n",
       "2016-05-31 20...   \n",
       "     2016-05-31 20:00:00  2016-05-31 20:00:00     99.123025\n",
       "2016-05-31 2...   \n",
       "     2016-05-31 21:00:00  2016-05-31 21:00:00    101.512154\n",
       "2016-05-31 2...   \n",
       "     2016-05-31 22:00:00  2016-05-31 22:00:00    71.090867\n",
       "2016-05-31 23...   \n",
       "     2016-05-31 23:00:00  2016-05-31 23:00:00    61.511194\n",
       "2016-06-01 00...   \n",
       "     2016-06-01 00:00:00  2016-06-01 00:00:00    27.988291\n",
       "2016-06-01 01...   \n",
       "     2016-06-01 01:00:00  2016-06-01 01:00:00    11.807716\n",
       "2016-06-01 02...   \n",
       "     2016-06-01 02:00:00  2016-06-01 02:00:00     3.210972\n",
       "2016-06-01 03...   \n",
       "     2016-06-01 03:00:00  2016-06-01 03:00:00    -0.575645\n",
       "2016-06-01 04...   \n",
       "     2016-06-01 04:00:00  2016-06-01 04:00:00     0.718586\n",
       "2016-06-01 05...   \n",
       "     2016-06-01 05:00:00  2016-06-01 05:00:00     4.920542\n",
       "2016-06-01 06...   \n",
       "     2016-06-01 06:00:00  2016-06-01 06:00:00    18.632402\n",
       "2016-06-01 07...   \n",
       "     2016-06-01 07:00:00  2016-06-01 07:00:00    40.526559\n",
       "2016-06-01 08...   \n",
       "     2016-06-01 08:00:00  2016-06-01 08:00:00     64.629728\n",
       "2016-06-01 0...   \n",
       "     2016-06-01 09:00:00  2016-06-01 09:00:00     61.460568\n",
       "2016-06-01 1...   \n",
       "     2016-06-01 10:00:00  2016-06-01 10:00:00     54.984280\n",
       "2016-06-01 1...   \n",
       "     2016-06-01 11:00:00  2016-06-01 11:00:00     71.990819\n",
       "2016-06-01 1...   \n",
       "     2016-06-01 12:00:00  2016-06-01 12:00:00     98.219079\n",
       "2016-06-01 1...   \n",
       "     2016-06-01 13:00:00  2016-06-01 13:00:00    84.099340\n",
       "2016-06-01 14...   \n",
       "     2016-06-01 14:00:00  2016-06-01 14:00:00    103.055180\n",
       "2016-06-01 1...   \n",
       "     2016-06-01 15:00:00  2016-06-01 15:00:00    111.702096\n",
       "2016-06-01 1...   \n",
       "     2016-06-01 16:00:00  2016-06-01 16:00:00    72.543718\n",
       "2016-06-01 17...   \n",
       "     2016-06-01 17:00:00  2016-06-01 17:00:00    81.895583\n",
       "2016-06-01 18...   \n",
       "     2016-06-01 18:00:00  2016-06-01 18:00:00    98.571979\n",
       "2016-06-01 19...   \n",
       "     2016-06-01 19:00:00  2016-06-01 19:00:00    115.853253\n",
       "2016-06-01 2...   \n",
       "     2016-06-01 20:00:00  2016-06-01 20:00:00    102.650304\n",
       "2016-06-01 2...   \n",
       "     2016-06-01 21:00:00  2016-06-01 21:00:00    102.176823\n",
       "2016-06-01 2...   \n",
       "     2016-06-01 22:00:00  2016-06-01 22:00:00    117.040910\n",
       "2016-06-01 2...   \n",
       "     2016-06-01 23:00:00  2016-06-01 23:00:00    69.116673\n",
       "2016-06-02 00...   \n",
       "...                                                                     ...   \n",
       "2168 2016-06-29 18:00:00  2016-06-29 18:00:00    -3.913872\n",
       "2016-06-29 19...   \n",
       "     2016-06-29 19:00:00  2016-06-29 19:00:00     4.079588\n",
       "2016-06-29 20...   \n",
       "     2016-06-29 20:00:00  2016-06-29 20:00:00     8.167934\n",
       "2016-06-29 21...   \n",
       "     2016-06-29 21:00:00  2016-06-29 21:00:00     9.187338\n",
       "2016-06-29 22...   \n",
       "     2016-06-29 22:00:00  2016-06-29 22:00:00     6.556142\n",
       "2016-06-29 23...   \n",
       "     2016-06-29 23:00:00  2016-06-29 23:00:00    -2.842592\n",
       "2016-06-30 00...   \n",
       "     2016-06-30 00:00:00  2016-06-30 00:00:00     2.999968\n",
       "2016-06-30 01...   \n",
       "     2016-06-30 01:00:00  2016-06-30 01:00:00   -11.897084\n",
       "2016-06-30 02...   \n",
       "     2016-06-30 02:00:00  2016-06-30 02:00:00   -21.740793\n",
       "2016-06-30 03...   \n",
       "     2016-06-30 03:00:00  2016-06-30 03:00:00   -18.043492\n",
       "2016-06-30 04...   \n",
       "     2016-06-30 04:00:00  2016-06-30 04:00:00   -11.672863\n",
       "2016-06-30 05...   \n",
       "     2016-06-30 05:00:00  2016-06-30 05:00:00     7.747598\n",
       "2016-06-30 06...   \n",
       "     2016-06-30 06:00:00  2016-06-30 06:00:00    13.728653\n",
       "2016-06-30 07...   \n",
       "     2016-06-30 07:00:00  2016-06-30 07:00:00    15.296194\n",
       "2016-06-30 08...   \n",
       "     2016-06-30 08:00:00  2016-06-30 08:00:00    12.119146\n",
       "2016-06-30 09...   \n",
       "     2016-06-30 09:00:00  2016-06-30 09:00:00     0.069508\n",
       "2016-06-30 10...   \n",
       "     2016-06-30 10:00:00  2016-06-30 10:00:00    -5.024301\n",
       "2016-06-30 11...   \n",
       "     2016-06-30 11:00:00  2016-06-30 11:00:00   -7.899170\n",
       "2016-06-30 12:...   \n",
       "     2016-06-30 12:00:00  2016-06-30 12:00:00    -1.436748\n",
       "2016-06-30 13...   \n",
       "     2016-06-30 13:00:00  2016-06-30 13:00:00    10.958542\n",
       "2016-06-30 14...   \n",
       "     2016-06-30 14:00:00  2016-06-30 14:00:00    1.815666\n",
       "2016-06-30 15:...   \n",
       "     2016-06-30 15:00:00  2016-06-30 15:00:00    -1.090260\n",
       "2016-06-30 16...   \n",
       "     2016-06-30 16:00:00  2016-06-30 16:00:00     7.813717\n",
       "2016-06-30 17...   \n",
       "     2016-06-30 17:00:00  2016-06-30 17:00:00     3.130188\n",
       "2016-06-30 18...   \n",
       "     2016-06-30 18:00:00  2016-06-30 18:00:00    -3.599442\n",
       "2016-06-30 19...   \n",
       "     2016-06-30 19:00:00                                                NaN   \n",
       "     2016-06-30 20:00:00                                                NaN   \n",
       "     2016-06-30 21:00:00                                                NaN   \n",
       "     2016-06-30 22:00:00                                                NaN   \n",
       "     2016-06-30 23:00:00                                                NaN   \n",
       "\n",
       "                              err  \n",
       "1075 2016-05-31 18:00:00  17.5702  \n",
       "     2016-05-31 19:00:00  13.1172  \n",
       "     2016-05-31 20:00:00  17.9422  \n",
       "     2016-05-31 21:00:00  22.0675  \n",
       "     2016-05-31 22:00:00  12.6391  \n",
       "     2016-05-31 23:00:00  21.8889  \n",
       "     2016-06-01 00:00:00  3.11276  \n",
       "     2016-06-01 01:00:00  6.07457  \n",
       "     2016-06-01 02:00:00  4.62567  \n",
       "     2016-06-01 03:00:00  4.76683  \n",
       "     2016-06-01 04:00:00  3.22476  \n",
       "     2016-06-01 05:00:00  3.76655  \n",
       "     2016-06-01 06:00:00  4.71596  \n",
       "     2016-06-01 07:00:00  9.27421  \n",
       "     2016-06-01 08:00:00  7.31249  \n",
       "     2016-06-01 09:00:00  9.84573  \n",
       "     2016-06-01 10:00:00  10.2013  \n",
       "     2016-06-01 11:00:00     10.6  \n",
       "     2016-06-01 12:00:00  14.3964  \n",
       "     2016-06-01 13:00:00  16.8293  \n",
       "     2016-06-01 14:00:00  9.87876  \n",
       "     2016-06-01 15:00:00  12.0158  \n",
       "     2016-06-01 16:00:00  18.8748  \n",
       "     2016-06-01 17:00:00  18.3946  \n",
       "     2016-06-01 18:00:00  18.1028  \n",
       "     2016-06-01 19:00:00  12.2303  \n",
       "     2016-06-01 20:00:00  7.53627  \n",
       "     2016-06-01 21:00:00  8.70293  \n",
       "     2016-06-01 22:00:00  30.2658  \n",
       "     2016-06-01 23:00:00  4.63077  \n",
       "...                           ...  \n",
       "2168 2016-06-29 18:00:00  6.91492  \n",
       "     2016-06-29 19:00:00  9.47069  \n",
       "     2016-06-29 20:00:00  8.35232  \n",
       "     2016-06-29 21:00:00  9.46298  \n",
       "     2016-06-29 22:00:00  12.6748  \n",
       "     2016-06-29 23:00:00  18.2122  \n",
       "     2016-06-30 00:00:00  20.3819  \n",
       "     2016-06-30 01:00:00  23.1986  \n",
       "     2016-06-30 02:00:00  17.2094  \n",
       "     2016-06-30 03:00:00  9.42101  \n",
       "     2016-06-30 04:00:00  8.94228  \n",
       "     2016-06-30 05:00:00  11.6544  \n",
       "     2016-06-30 06:00:00   10.143  \n",
       "     2016-06-30 07:00:00  6.70696  \n",
       "     2016-06-30 08:00:00  6.24678  \n",
       "     2016-06-30 09:00:00  4.86778  \n",
       "     2016-06-30 10:00:00  5.51292  \n",
       "     2016-06-30 11:00:00   4.5848  \n",
       "     2016-06-30 12:00:00  5.59406  \n",
       "     2016-06-30 13:00:00  6.69193  \n",
       "     2016-06-30 14:00:00  3.06081  \n",
       "     2016-06-30 15:00:00  4.46998  \n",
       "     2016-06-30 16:00:00  7.08293  \n",
       "     2016-06-30 17:00:00  7.38396  \n",
       "     2016-06-30 18:00:00  7.77072  \n",
       "     2016-06-30 19:00:00      NaN  \n",
       "     2016-06-30 20:00:00      NaN  \n",
       "     2016-06-30 21:00:00      NaN  \n",
       "     2016-06-30 22:00:00      NaN  \n",
       "     2016-06-30 23:00:00      NaN  \n",
       "\n",
       "[74052 rows x 2 columns]"
      ]
     },
     "execution_count": 10,
     "metadata": {},
     "output_type": "execute_result"
    }
   ],
   "source": [
    "resDf"
   ]
  },
  {
   "cell_type": "code",
   "execution_count": null,
   "metadata": {
    "collapsed": true
   },
   "outputs": [],
   "source": []
  }
 ],
 "metadata": {
  "anaconda-cloud": {},
  "kernelspec": {
   "display_name": "Python [default]",
   "language": "python",
   "name": "python2"
  },
  "language_info": {
   "codemirror_mode": {
    "name": "ipython",
    "version": 2
   },
   "file_extension": ".py",
   "mimetype": "text/x-python",
   "name": "python",
   "nbconvert_exporter": "python",
   "pygments_lexer": "ipython2",
   "version": "2.7.13"
  }
 },
 "nbformat": 4,
 "nbformat_minor": 2
}
