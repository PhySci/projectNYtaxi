{
 "cells": [
  {
   "cell_type": "code",
   "execution_count": 1,
   "metadata": {
    "collapsed": true
   },
   "outputs": [],
   "source": [
    "# load libraries\n",
    "import pandas as pd\n",
    "import numpy as np\n",
    "import matplotlib.pyplot as plt\n",
    "from itertools import product\n",
    "from sklearn import linear_model\n",
    "import datetime\n",
    "from itertools import product\n",
    "import statsmodels.api as sm\n",
    "import warnings\n",
    "from sklearn import preprocessing\n",
    "\n",
    "%matplotlib inline"
   ]
  },
  {
   "cell_type": "code",
   "execution_count": 2,
   "metadata": {
    "collapsed": false
   },
   "outputs": [],
   "source": [
    "def regression(res, alpha = 0.1, plot = False,verbose = False):\n",
    "    X = res.drop('trip_count',axis = 1)        \n",
    "    y = res.loc[:,'trip_count'];\n",
    "    lassoReg = linear_model.Lasso(alpha = alpha, max_iter = 1e5,fit_intercept = True,random_state = 0);\n",
    "    lassoReg.fit(X,y)\n",
    "    y_pr = pd.Series(data = lassoReg.predict(X), index = res.index)\n",
    "    R = lassoReg.score(X,y);\n",
    "    print 'R factor is ', R\n",
    "    \n",
    "    if plot:\n",
    "        plt.figure(figsize = [15,10])\n",
    "        plt.subplot(211)\n",
    "        plt.plot(y)\n",
    "        plt.plot(y_pr)\n",
    "        plt.legend(['Original data','Predicted'])\n",
    "\n",
    "        plt.subplot(212)\n",
    "        plt.plot(y-y_pr)\n",
    "        plt.legend(['Residuals'])\n",
    "        \n",
    "    return [y_pr, y-y_pr, lassoReg]"
   ]
  },
  {
   "cell_type": "code",
   "execution_count": 3,
   "metadata": {
    "collapsed": false
   },
   "outputs": [],
   "source": [
    "def getRegressor(regressor, start_date = '2016-05-15 00:00:00', end_date = '2016-05-20 23:00:00'):\n",
    "    predictionStart = datetime.datetime.strptime(start_date,'%Y-%m-%d %H:%M:%S')\n",
    "    predictionEnd = datetime.datetime.strptime(end_date,'%Y-%m-%d %H:%M:%S')\n",
    "    date_index = pd.date_range(predictionStart, predictionEnd, freq='H')\n",
    "   \n",
    "    #какой-то пипец. Должен быть способ сделать это проще.\n",
    "    features = date_index.to_series().to_frame()\n",
    "    features = addFeatures(features,verbose = True)\n",
    "    features = features.drop(0,axis = 1)\n",
    "    exog = regressor.predict(features)\n",
    "    #print \n",
    "    #exog = np.expand_dims(,axis = 1)\n",
    "    #print exog\n",
    "    return pd.Series(exog,index = date_index)"
   ]
  },
  {
   "cell_type": "code",
   "execution_count": 6,
   "metadata": {
    "collapsed": true
   },
   "outputs": [],
   "source": [
    "def addFeatures(res, Kw = 6, Ka = 3,verbose = False):    \n",
    "    # add linear feature\n",
    "    res = res.assign(hours = (res.index - datetime.datetime(2014,1,1,0,0,0))/np.timedelta64(1, 'h'))\n",
    "    \n",
    "    # добавляем гармонические фичи\n",
    "    for ind in range(1,Kw+1):\n",
    "        res['weekCos'+str(ind)]= np.cos(np.pi*res.hours*ind/168);\n",
    "        res['weekSin'+str(ind)]= np.sin(np.pi*res.hours*ind/168);\n",
    "    for ind in range(1,Ka+1):\n",
    "        res['yearCos'+str(ind)]= np.cos(2*np.pi*res.hours*ind/8766);\n",
    "        res['yearSin'+str(ind)]= np.sin(2*np.pi*res.hours*ind/8766);\n",
    "        \n",
    "    # добавляем dummy variables для дней недели\n",
    "    lbDays = preprocessing.LabelBinarizer()\n",
    "    lbDays.fit(list(np.arange(6)))\n",
    "    DoW = pd.DataFrame(lbDays.transform(res.index.dayofweek),columns = ['DayOfWeek_'+str(x) for x in np.arange(6)],\n",
    "                       index = res.index)      \n",
    "    res = res.merge(DoW,left_index=True,right_index=True)\n",
    " \n",
    "    # добавляем dummy variables для месяца\n",
    "    lbMonths = preprocessing.LabelBinarizer()\n",
    "    lbMonths.fit(list(np.arange(12)))\n",
    "    Months = pd.DataFrame(lbMonths.transform(res.index.month),columns = ['Month_'+str(x) for x in np.arange(12)],index = res.index)      \n",
    "    res = res.merge(Months,left_index=True,right_index=True);\n",
    "    return res"
   ]
  },
  {
   "cell_type": "code",
   "execution_count": 4,
   "metadata": {
    "collapsed": true
   },
   "outputs": [],
   "source": [
    "# id нужных регионов\n",
    "regsDf = pd.read_csv('../crowdRegs.csv',names=['id','regId']);  \n",
    "\n",
    "# временные ряды для этих регионов\n",
    "df = pd.read_pickle('../loadData/crowdRegs3.pcl')\n",
    "df.columns = regsDf.regId.values.astype('str')\n",
    "\n",
    "# словарь с группировкой рядов\n",
    "tsGroups = np.load('tsGroups.npy').item()\n",
    "\n",
    "# словарь с оптимальными параметрами для каждой группы\n",
    "paramsGroups = np.load('paramsGroups.npy').item()"
   ]
  },
  {
   "cell_type": "markdown",
   "metadata": {},
   "source": [
    "*Логика скрипта:*\n",
    "<ol>\n",
    "<li> Выбираем одну группу\n",
    "<li> В группе выбираем один ряд\n",
    "<li> По номеру группы подгружаем оптимальные параметры\n",
    "<li> Обучаем регрессор\n",
    "<li> Обучаем SARIMAX модель\n",
    "<li> Сохраняем модель (??? Может быть без данных, чтобы сэкономить место).\n",
    "<li> Делаем предсказание\n",
    "<li> Сохраняем предсказение\n",
    "<li> Идём на второй или первый шаг\n",
    "<ol>\n",
    "    "
   ]
  },
  {
   "cell_type": "code",
   "execution_count": 14,
   "metadata": {
    "collapsed": false,
    "scrolled": true
   },
   "outputs": [
    {
     "name": "stdout",
     "output_type": "stream",
     "text": [
      "Group ID is gr18\n",
      "Regions is  1273\n",
      "R factor is  0.0348605313164\n",
      "Learn SARIMAX\n"
     ]
    },
    {
     "name": "stderr",
     "output_type": "stream",
     "text": [
      "/home/frodos/anaconda/lib/python2.7/site-packages/statsmodels/base/model.py:496: ConvergenceWarning: Maximum Likelihood optimization failed to converge. Check mle_retvals\n",
      "  \"Check mle_retvals\", ConvergenceWarning)\n"
     ]
    },
    {
     "name": "stdout",
     "output_type": "stream",
     "text": [
      "Make prediction\n",
      "Regions is  1274\n",
      "R factor is  0.0871641080872\n",
      "Learn SARIMAX\n"
     ]
    },
    {
     "name": "stderr",
     "output_type": "stream",
     "text": [
      "/home/frodos/anaconda/lib/python2.7/site-packages/statsmodels/base/model.py:496: ConvergenceWarning: Maximum Likelihood optimization failed to converge. Check mle_retvals\n",
      "  \"Check mle_retvals\", ConvergenceWarning)\n"
     ]
    },
    {
     "name": "stdout",
     "output_type": "stream",
     "text": [
      "Make prediction\n",
      "Group ID is gr19\n",
      "Regions is  1434\n",
      "R factor is  0.018278110283\n",
      "Learn SARIMAX\n"
     ]
    },
    {
     "name": "stderr",
     "output_type": "stream",
     "text": [
      "/home/frodos/anaconda/lib/python2.7/site-packages/statsmodels/base/model.py:496: ConvergenceWarning: Maximum Likelihood optimization failed to converge. Check mle_retvals\n",
      "  \"Check mle_retvals\", ConvergenceWarning)\n"
     ]
    },
    {
     "name": "stdout",
     "output_type": "stream",
     "text": [
      "Make prediction\n",
      "Regions is  1435\n",
      "R factor is  0.101333276704\n",
      "Learn SARIMAX\n"
     ]
    },
    {
     "name": "stderr",
     "output_type": "stream",
     "text": [
      "/home/frodos/anaconda/lib/python2.7/site-packages/statsmodels/base/model.py:496: ConvergenceWarning: Maximum Likelihood optimization failed to converge. Check mle_retvals\n",
      "  \"Check mle_retvals\", ConvergenceWarning)\n"
     ]
    },
    {
     "name": "stdout",
     "output_type": "stream",
     "text": [
      "Make prediction\n",
      "Regions is  1437\n",
      "R factor is  0.0880380582527\n",
      "Learn SARIMAX\n"
     ]
    },
    {
     "name": "stderr",
     "output_type": "stream",
     "text": [
      "/home/frodos/anaconda/lib/python2.7/site-packages/statsmodels/base/model.py:496: ConvergenceWarning: Maximum Likelihood optimization failed to converge. Check mle_retvals\n",
      "  \"Check mle_retvals\", ConvergenceWarning)\n"
     ]
    },
    {
     "name": "stdout",
     "output_type": "stream",
     "text": [
      "Make prediction\n",
      "Regions is  1438\n",
      "R factor is  0.0473341631545\n",
      "Learn SARIMAX\n"
     ]
    },
    {
     "name": "stderr",
     "output_type": "stream",
     "text": [
      "/home/frodos/anaconda/lib/python2.7/site-packages/statsmodels/base/model.py:496: ConvergenceWarning: Maximum Likelihood optimization failed to converge. Check mle_retvals\n",
      "  \"Check mle_retvals\", ConvergenceWarning)\n"
     ]
    },
    {
     "name": "stdout",
     "output_type": "stream",
     "text": [
      "Make prediction\n",
      "Regions is  1630\n",
      "R factor is  0.0654912922419\n",
      "Learn SARIMAX\n"
     ]
    },
    {
     "name": "stderr",
     "output_type": "stream",
     "text": [
      "/home/frodos/anaconda/lib/python2.7/site-packages/statsmodels/base/model.py:496: ConvergenceWarning: Maximum Likelihood optimization failed to converge. Check mle_retvals\n",
      "  \"Check mle_retvals\", ConvergenceWarning)\n"
     ]
    },
    {
     "name": "stdout",
     "output_type": "stream",
     "text": [
      "Make prediction\n",
      "Regions is  1684\n",
      "R factor is  0.118775426739\n",
      "Learn SARIMAX\n"
     ]
    },
    {
     "name": "stderr",
     "output_type": "stream",
     "text": [
      "/home/frodos/anaconda/lib/python2.7/site-packages/statsmodels/base/model.py:496: ConvergenceWarning: Maximum Likelihood optimization failed to converge. Check mle_retvals\n",
      "  \"Check mle_retvals\", ConvergenceWarning)\n"
     ]
    },
    {
     "name": "stdout",
     "output_type": "stream",
     "text": [
      "Make prediction\n",
      "Group ID is gr10\n",
      "Regions is  1333\n",
      "R factor is  0.0442996592015\n",
      "Learn SARIMAX\n",
      "Make prediction\n",
      "Regions is  1337\n",
      "R factor is  0.0834235239164\n",
      "Learn SARIMAX\n",
      "Make prediction\n",
      "Regions is  1338\n",
      "R factor is  0.12525956524\n",
      "Learn SARIMAX\n",
      "Make prediction\n",
      "Regions is  1339\n",
      "R factor is  0.057378844713\n",
      "Learn SARIMAX\n"
     ]
    },
    {
     "name": "stderr",
     "output_type": "stream",
     "text": [
      "/home/frodos/anaconda/lib/python2.7/site-packages/statsmodels/base/model.py:496: ConvergenceWarning: Maximum Likelihood optimization failed to converge. Check mle_retvals\n",
      "  \"Check mle_retvals\", ConvergenceWarning)\n"
     ]
    },
    {
     "name": "stdout",
     "output_type": "stream",
     "text": [
      "Make prediction\n",
      "Regions is  1783\n",
      "R factor is  0.149156801012\n",
      "Learn SARIMAX\n",
      "Make prediction\n",
      "Group ID is gr11\n",
      "Regions is  1075\n",
      "R factor is  0.079605984786\n",
      "Learn SARIMAX\n"
     ]
    },
    {
     "name": "stderr",
     "output_type": "stream",
     "text": [
      "/home/frodos/anaconda/lib/python2.7/site-packages/statsmodels/base/model.py:496: ConvergenceWarning: Maximum Likelihood optimization failed to converge. Check mle_retvals\n",
      "  \"Check mle_retvals\", ConvergenceWarning)\n"
     ]
    },
    {
     "name": "stdout",
     "output_type": "stream",
     "text": [
      "Make prediction\n",
      "Regions is  1733\n",
      "R factor is  0.0433368135015\n",
      "Learn SARIMAX\n",
      "Make prediction\n",
      "Regions is  1734\n",
      "R factor is  0.104278118506\n",
      "Learn SARIMAX\n",
      "Make prediction\n",
      "Group ID is gr12\n",
      "Regions is  2069\n",
      "R factor is  0.0360931726236\n",
      "Learn SARIMAX\n",
      "Make prediction\n",
      "Regions is  2118\n",
      "R factor is  0.0682688389143\n",
      "Learn SARIMAX\n"
     ]
    },
    {
     "name": "stderr",
     "output_type": "stream",
     "text": [
      "/home/frodos/anaconda/lib/python2.7/site-packages/statsmodels/base/model.py:496: ConvergenceWarning: Maximum Likelihood optimization failed to converge. Check mle_retvals\n",
      "  \"Check mle_retvals\", ConvergenceWarning)\n"
     ]
    },
    {
     "name": "stdout",
     "output_type": "stream",
     "text": [
      "Make prediction\n",
      "Group ID is gr13\n",
      "Regions is  1222\n",
      "R factor is  0.0854515765533\n",
      "Learn SARIMAX\n"
     ]
    },
    {
     "name": "stderr",
     "output_type": "stream",
     "text": [
      "/home/frodos/anaconda/lib/python2.7/site-packages/statsmodels/base/model.py:496: ConvergenceWarning: Maximum Likelihood optimization failed to converge. Check mle_retvals\n",
      "  \"Check mle_retvals\", ConvergenceWarning)\n"
     ]
    },
    {
     "name": "stdout",
     "output_type": "stream",
     "text": [
      "Make prediction\n",
      "Regions is  1223\n",
      "R factor is  0.0940933039937\n",
      "Learn SARIMAX\n"
     ]
    },
    {
     "name": "stderr",
     "output_type": "stream",
     "text": [
      "/home/frodos/anaconda/lib/python2.7/site-packages/statsmodels/base/model.py:496: ConvergenceWarning: Maximum Likelihood optimization failed to converge. Check mle_retvals\n",
      "  \"Check mle_retvals\", ConvergenceWarning)\n"
     ]
    },
    {
     "name": "stdout",
     "output_type": "stream",
     "text": [
      "Make prediction\n",
      "Regions is  1224\n",
      "R factor is  0.113294640454\n",
      "Learn SARIMAX\n"
     ]
    },
    {
     "name": "stderr",
     "output_type": "stream",
     "text": [
      "/home/frodos/anaconda/lib/python2.7/site-packages/statsmodels/base/model.py:496: ConvergenceWarning: Maximum Likelihood optimization failed to converge. Check mle_retvals\n",
      "  \"Check mle_retvals\", ConvergenceWarning)\n"
     ]
    },
    {
     "name": "stdout",
     "output_type": "stream",
     "text": [
      "Make prediction\n",
      "Regions is  1225\n",
      "R factor is  0.0261529178538\n",
      "Learn SARIMAX\n"
     ]
    },
    {
     "name": "stderr",
     "output_type": "stream",
     "text": [
      "/home/frodos/anaconda/lib/python2.7/site-packages/statsmodels/base/model.py:496: ConvergenceWarning: Maximum Likelihood optimization failed to converge. Check mle_retvals\n",
      "  \"Check mle_retvals\", ConvergenceWarning)\n"
     ]
    },
    {
     "name": "stdout",
     "output_type": "stream",
     "text": [
      "Make prediction\n",
      "Regions is  1227\n",
      "R factor is  0.29947363363\n",
      "Learn SARIMAX\n",
      "<type 'exceptions.ValueError'>\n",
      "non-invertible starting MA parameters found with `enforce_invertibility` set to True.\n",
      "Make prediction\n",
      "Regions is  1385\n",
      "R factor is  0.0323984366967\n",
      "Learn SARIMAX\n",
      "<type 'exceptions.ValueError'>\n",
      "non-invertible starting MA parameters found with `enforce_invertibility` set to True.\n",
      "Make prediction\n",
      "Regions is  1386\n",
      "R factor is  0.0513096524345\n",
      "Learn SARIMAX\n"
     ]
    },
    {
     "name": "stderr",
     "output_type": "stream",
     "text": [
      "/home/frodos/anaconda/lib/python2.7/site-packages/statsmodels/base/model.py:496: ConvergenceWarning: Maximum Likelihood optimization failed to converge. Check mle_retvals\n",
      "  \"Check mle_retvals\", ConvergenceWarning)\n"
     ]
    },
    {
     "name": "stdout",
     "output_type": "stream",
     "text": [
      "Make prediction\n",
      "Regions is  1387\n",
      "R factor is  0.107498801869\n",
      "Learn SARIMAX\n"
     ]
    },
    {
     "name": "stderr",
     "output_type": "stream",
     "text": [
      "/home/frodos/anaconda/lib/python2.7/site-packages/statsmodels/base/model.py:496: ConvergenceWarning: Maximum Likelihood optimization failed to converge. Check mle_retvals\n",
      "  \"Check mle_retvals\", ConvergenceWarning)\n"
     ]
    },
    {
     "name": "stdout",
     "output_type": "stream",
     "text": [
      "Make prediction\n",
      "Regions is  1390\n",
      "R factor is  0.0818462057883\n",
      "Learn SARIMAX\n"
     ]
    },
    {
     "name": "stderr",
     "output_type": "stream",
     "text": [
      "/home/frodos/anaconda/lib/python2.7/site-packages/statsmodels/base/model.py:496: ConvergenceWarning: Maximum Likelihood optimization failed to converge. Check mle_retvals\n",
      "  \"Check mle_retvals\", ConvergenceWarning)\n"
     ]
    },
    {
     "name": "stdout",
     "output_type": "stream",
     "text": [
      "Make prediction\n",
      "Group ID is gr14\n",
      "Regions is  1380\n",
      "R factor is  0.0818200334924\n",
      "Learn SARIMAX\n",
      "Make prediction\n",
      "Regions is  1382\n",
      "R factor is  0.118891903509\n",
      "Learn SARIMAX\n",
      "Make prediction\n",
      "Regions is  1383\n",
      "R factor is  0.0534668320618\n",
      "Learn SARIMAX\n"
     ]
    },
    {
     "name": "stderr",
     "output_type": "stream",
     "text": [
      "/home/frodos/anaconda/lib/python2.7/site-packages/statsmodels/base/model.py:496: ConvergenceWarning: Maximum Likelihood optimization failed to converge. Check mle_retvals\n",
      "  \"Check mle_retvals\", ConvergenceWarning)\n"
     ]
    },
    {
     "name": "stdout",
     "output_type": "stream",
     "text": [
      "Make prediction\n",
      "Regions is  1384\n",
      "R factor is  0.0493078932664\n",
      "Learn SARIMAX\n",
      "Make prediction\n",
      "Group ID is gr15\n",
      "Regions is  1132\n",
      "R factor is  0.0312861525339\n",
      "Learn SARIMAX\n"
     ]
    },
    {
     "name": "stderr",
     "output_type": "stream",
     "text": [
      "/home/frodos/anaconda/lib/python2.7/site-packages/statsmodels/base/model.py:496: ConvergenceWarning: Maximum Likelihood optimization failed to converge. Check mle_retvals\n",
      "  \"Check mle_retvals\", ConvergenceWarning)\n"
     ]
    },
    {
     "name": "stdout",
     "output_type": "stream",
     "text": [
      "Make prediction\n",
      "Regions is  1172\n",
      "R factor is  0.0151954615172\n",
      "Learn SARIMAX\n",
      "Make prediction\n",
      "Regions is  1173\n",
      "R factor is  0.0162750582327\n",
      "Learn SARIMAX\n",
      "<type 'exceptions.ValueError'>\n",
      "non-invertible starting MA parameters found with `enforce_invertibility` set to True.\n",
      "Make prediction\n",
      "Regions is  1174\n",
      "R factor is  0.0250402717295\n",
      "Learn SARIMAX\n",
      "<type 'exceptions.ValueError'>\n",
      "Non-stationary starting autoregressive parameters found with `enforce_stationarity` set to True.\n",
      "Make prediction\n",
      "Group ID is gr16\n",
      "Regions is  1480\n",
      "R factor is  0.115071212663\n",
      "Learn SARIMAX\n"
     ]
    },
    {
     "name": "stderr",
     "output_type": "stream",
     "text": [
      "/home/frodos/anaconda/lib/python2.7/site-packages/statsmodels/base/model.py:496: ConvergenceWarning: Maximum Likelihood optimization failed to converge. Check mle_retvals\n",
      "  \"Check mle_retvals\", ConvergenceWarning)\n"
     ]
    },
    {
     "name": "stdout",
     "output_type": "stream",
     "text": [
      "Make prediction\n",
      "Regions is  1482\n",
      "R factor is  0.0948380423755\n",
      "Learn SARIMAX\n"
     ]
    },
    {
     "name": "stderr",
     "output_type": "stream",
     "text": [
      "/home/frodos/anaconda/lib/python2.7/site-packages/statsmodels/base/model.py:496: ConvergenceWarning: Maximum Likelihood optimization failed to converge. Check mle_retvals\n",
      "  \"Check mle_retvals\", ConvergenceWarning)\n"
     ]
    },
    {
     "name": "stdout",
     "output_type": "stream",
     "text": [
      "Make prediction\n",
      "Regions is  1483\n",
      "R factor is  0.0269951903279\n",
      "Learn SARIMAX\n"
     ]
    },
    {
     "name": "stderr",
     "output_type": "stream",
     "text": [
      "/home/frodos/anaconda/lib/python2.7/site-packages/statsmodels/base/model.py:496: ConvergenceWarning: Maximum Likelihood optimization failed to converge. Check mle_retvals\n",
      "  \"Check mle_retvals\", ConvergenceWarning)\n"
     ]
    },
    {
     "name": "stdout",
     "output_type": "stream",
     "text": [
      "Make prediction\n",
      "Regions is  1533\n",
      "R factor is  0.106926803906\n",
      "Learn SARIMAX\n"
     ]
    },
    {
     "name": "stderr",
     "output_type": "stream",
     "text": [
      "/home/frodos/anaconda/lib/python2.7/site-packages/statsmodels/base/model.py:496: ConvergenceWarning: Maximum Likelihood optimization failed to converge. Check mle_retvals\n",
      "  \"Check mle_retvals\", ConvergenceWarning)\n"
     ]
    },
    {
     "name": "stdout",
     "output_type": "stream",
     "text": [
      "Make prediction\n",
      "Group ID is gr17\n",
      "Regions is  1278\n",
      "R factor is  0.2200194847\n",
      "Learn SARIMAX\n",
      "Make prediction\n",
      "Regions is  1279\n",
      "R factor is  0.0293307870192\n",
      "Learn SARIMAX\n"
     ]
    },
    {
     "name": "stderr",
     "output_type": "stream",
     "text": [
      "/home/frodos/anaconda/lib/python2.7/site-packages/statsmodels/base/model.py:496: ConvergenceWarning: Maximum Likelihood optimization failed to converge. Check mle_retvals\n",
      "  \"Check mle_retvals\", ConvergenceWarning)\n"
     ]
    },
    {
     "name": "stdout",
     "output_type": "stream",
     "text": [
      "Make prediction\n",
      "Regions is  1281\n",
      "R factor is  0.1235201705\n",
      "Learn SARIMAX\n",
      "Make prediction\n",
      "Regions is  1282\n",
      "R factor is  0.123345258768\n",
      "Learn SARIMAX\n",
      "Make prediction\n",
      "Regions is  2068\n",
      "R factor is  0.0417430039162\n",
      "Learn SARIMAX\n"
     ]
    },
    {
     "name": "stderr",
     "output_type": "stream",
     "text": [
      "/home/frodos/anaconda/lib/python2.7/site-packages/statsmodels/base/model.py:496: ConvergenceWarning: Maximum Likelihood optimization failed to converge. Check mle_retvals\n",
      "  \"Check mle_retvals\", ConvergenceWarning)\n"
     ]
    },
    {
     "name": "stdout",
     "output_type": "stream",
     "text": [
      "Make prediction\n",
      "Regions is  2119\n",
      "R factor is  0.027321814387\n",
      "Learn SARIMAX\n"
     ]
    },
    {
     "name": "stderr",
     "output_type": "stream",
     "text": [
      "/home/frodos/anaconda/lib/python2.7/site-packages/statsmodels/base/model.py:496: ConvergenceWarning: Maximum Likelihood optimization failed to converge. Check mle_retvals\n",
      "  \"Check mle_retvals\", ConvergenceWarning)\n"
     ]
    },
    {
     "name": "stdout",
     "output_type": "stream",
     "text": [
      "Make prediction\n",
      "Regions is  2168\n",
      "R factor is  0.0929280052246\n",
      "Learn SARIMAX\n",
      "Make prediction\n",
      "Group ID is gr21\n",
      "Regions is  1184\n",
      "R factor is  0.0115211670158\n",
      "Learn SARIMAX\n",
      "Make prediction\n",
      "Regions is  1221\n",
      "R factor is  0.045388794534\n",
      "Learn SARIMAX\n",
      "Make prediction\n",
      "Regions is  1228\n",
      "R factor is  0.26922183916\n",
      "Learn SARIMAX\n",
      "Make prediction\n",
      "Group ID is gr20\n",
      "Regions is  1131\n",
      "R factor is  0.136371886767\n",
      "Learn SARIMAX\n",
      "<type 'exceptions.ValueError'>\n",
      "non-invertible starting MA parameters found with `enforce_invertibility` set to True.\n",
      "Can not create the model\n",
      "index 9 is out of bounds for axis 0 with size 9\n",
      "Regions is  1272\n",
      "R factor is  0.080889371658\n",
      "Learn SARIMAX\n"
     ]
    },
    {
     "name": "stderr",
     "output_type": "stream",
     "text": [
      "/home/frodos/anaconda/lib/python2.7/site-packages/statsmodels/base/model.py:496: ConvergenceWarning: Maximum Likelihood optimization failed to converge. Check mle_retvals\n",
      "  \"Check mle_retvals\", ConvergenceWarning)\n"
     ]
    },
    {
     "name": "stdout",
     "output_type": "stream",
     "text": [
      "Make prediction\n",
      "Group ID is gr23\n",
      "Regions is  1331\n",
      "R factor is  0.0229430331583\n",
      "Learn SARIMAX\n",
      "<type 'exceptions.ValueError'>\n",
      "Non-stationary starting autoregressive parameters found with `enforce_stationarity` set to True.\n",
      "Make prediction\n",
      "Regions is  1332\n",
      "R factor is  0.0362669400198\n",
      "Learn SARIMAX\n",
      "Make prediction\n",
      "Regions is  1376\n",
      "R factor is  0.1614188711\n",
      "Learn SARIMAX\n",
      "<type 'exceptions.ValueError'>\n",
      "Non-stationary starting autoregressive parameters found with `enforce_stationarity` set to True.\n",
      "Make prediction\n",
      "Regions is  1377\n",
      "R factor is  0.119740994618\n",
      "Learn SARIMAX\n",
      "<type 'exceptions.ValueError'>\n",
      "Non-stationary starting autoregressive parameters found with `enforce_stationarity` set to True.\n",
      "Make prediction\n",
      "Regions is  1378\n",
      "R factor is  0.104527261445\n",
      "Learn SARIMAX\n",
      "<type 'exceptions.ValueError'>\n",
      "Non-stationary starting autoregressive parameters found with `enforce_stationarity` set to True.\n",
      "Make prediction\n",
      "Regions is  1431\n",
      "R factor is  0.144737568111\n",
      "Learn SARIMAX\n",
      "Make prediction\n",
      "Group ID is gr22\n",
      "Regions is  1327\n",
      "R factor is  0.189590338563\n",
      "Learn SARIMAX\n",
      "<type 'exceptions.ValueError'>\n",
      "non-invertible starting MA parameters found with `enforce_invertibility` set to True.\n",
      "Can not create the model\n",
      "index 8 is out of bounds for axis 0 with size 8\n",
      "Regions is  1580\n",
      "R factor is  0.023532555539\n",
      "Learn SARIMAX\n",
      "<type 'exceptions.ValueError'>\n",
      "Non-stationary starting autoregressive parameters found with `enforce_stationarity` set to True.\n",
      "Can not create the model\n",
      "index 8 is out of bounds for axis 0 with size 8\n",
      "Group ID is gr6\n",
      "Regions is  1177\n",
      "R factor is  0.26640067156\n",
      "Learn SARIMAX\n",
      "<type 'exceptions.ValueError'>\n",
      "non-invertible starting MA parameters found with `enforce_invertibility` set to True.\n",
      "Can not create the model\n",
      "index 8 is out of bounds for axis 0 with size 8\n",
      "Regions is  1326\n",
      "R factor is  0.168053892766\n",
      "Learn SARIMAX\n"
     ]
    },
    {
     "name": "stderr",
     "output_type": "stream",
     "text": [
      "/home/frodos/anaconda/lib/python2.7/site-packages/statsmodels/tsa/statespace/tools.py:405: RuntimeWarning: invalid value encountered in sqrt\n",
      "  x = r / ((1 - r**2)**0.5)\n"
     ]
    },
    {
     "name": "stdout",
     "output_type": "stream",
     "text": [
      "Make prediction\n",
      "Regions is  1426\n",
      "R factor is  0.0951555809209\n",
      "Learn SARIMAX\n"
     ]
    },
    {
     "name": "stderr",
     "output_type": "stream",
     "text": [
      "/home/frodos/anaconda/lib/python2.7/site-packages/statsmodels/base/model.py:496: ConvergenceWarning: Maximum Likelihood optimization failed to converge. Check mle_retvals\n",
      "  \"Check mle_retvals\", ConvergenceWarning)\n"
     ]
    },
    {
     "name": "stdout",
     "output_type": "stream",
     "text": [
      "Make prediction\n",
      "Regions is  1176\n",
      "R factor is  0.191448736556\n",
      "Learn SARIMAX\n",
      "Make prediction\n",
      "Group ID is gr7\n",
      "Regions is  1388\n",
      "R factor is  0.180759164902\n",
      "Learn SARIMAX\n"
     ]
    },
    {
     "name": "stderr",
     "output_type": "stream",
     "text": [
      "/home/frodos/anaconda/lib/python2.7/site-packages/statsmodels/base/model.py:496: ConvergenceWarning: Maximum Likelihood optimization failed to converge. Check mle_retvals\n",
      "  \"Check mle_retvals\", ConvergenceWarning)\n"
     ]
    },
    {
     "name": "stdout",
     "output_type": "stream",
     "text": [
      "Make prediction\n",
      "Regions is  1389\n",
      "R factor is  0.0980942276734\n",
      "Learn SARIMAX\n"
     ]
    },
    {
     "name": "stderr",
     "output_type": "stream",
     "text": [
      "/home/frodos/anaconda/lib/python2.7/site-packages/statsmodels/base/model.py:496: ConvergenceWarning: Maximum Likelihood optimization failed to converge. Check mle_retvals\n",
      "  \"Check mle_retvals\", ConvergenceWarning)\n"
     ]
    },
    {
     "name": "stdout",
     "output_type": "stream",
     "text": [
      "Make prediction\n",
      "Group ID is gr4\n",
      "Regions is  1127\n",
      "R factor is  0.122588067942\n",
      "Learn SARIMAX\n",
      "<type 'exceptions.ValueError'>\n",
      "non-invertible starting MA parameters found with `enforce_invertibility` set to True.\n",
      "Can not create the model\n",
      "index 9 is out of bounds for axis 0 with size 8\n",
      "Regions is  1128\n",
      "R factor is  0.114159933058\n",
      "Learn SARIMAX\n",
      "<type 'exceptions.ValueError'>\n",
      "non-invertible starting MA parameters found with `enforce_invertibility` set to True.\n",
      "Can not create the model\n",
      "index 9 is out of bounds for axis 0 with size 8\n",
      "Regions is  1129\n",
      "R factor is  0.164530717238\n",
      "Learn SARIMAX\n",
      "<type 'exceptions.ValueError'>\n",
      "non-invertible starting MA parameters found with `enforce_invertibility` set to True.\n",
      "Can not create the model\n",
      "index 9 is out of bounds for axis 0 with size 8\n",
      "Regions is  1130\n",
      "R factor is  0.230154241944\n",
      "Learn SARIMAX\n",
      "<type 'exceptions.ValueError'>\n",
      "non-invertible starting MA parameters found with `enforce_invertibility` set to True.\n",
      "Can not create the model\n",
      "index 9 is out of bounds for axis 0 with size 8\n",
      "Group ID is gr2\n",
      "Regions is  1180\n",
      "R factor is  0.0606279722907\n",
      "Learn SARIMAX\n",
      "<type 'exceptions.ValueError'>\n",
      "Non-stationary starting autoregressive parameters found with `enforce_stationarity` set to True.\n",
      "Can not create the model\n",
      "index 8 is out of bounds for axis 0 with size 8\n",
      "Regions is  1232\n",
      "R factor is  0.0839838317639\n",
      "Learn SARIMAX\n"
     ]
    },
    {
     "name": "stderr",
     "output_type": "stream",
     "text": [
      "/home/frodos/anaconda/lib/python2.7/site-packages/statsmodels/base/model.py:496: ConvergenceWarning: Maximum Likelihood optimization failed to converge. Check mle_retvals\n",
      "  \"Check mle_retvals\", ConvergenceWarning)\n"
     ]
    },
    {
     "name": "stdout",
     "output_type": "stream",
     "text": [
      "Make prediction\n",
      "Regions is  1233\n",
      "R factor is  0.0611840724537\n",
      "Learn SARIMAX\n"
     ]
    },
    {
     "name": "stderr",
     "output_type": "stream",
     "text": [
      "/home/frodos/anaconda/lib/python2.7/site-packages/statsmodels/base/model.py:496: ConvergenceWarning: Maximum Likelihood optimization failed to converge. Check mle_retvals\n",
      "  \"Check mle_retvals\", ConvergenceWarning)\n"
     ]
    },
    {
     "name": "stdout",
     "output_type": "stream",
     "text": [
      "Make prediction\n",
      "Regions is  1234\n",
      "R factor is  0.0251209784732\n",
      "Learn SARIMAX\n"
     ]
    },
    {
     "name": "stderr",
     "output_type": "stream",
     "text": [
      "/home/frodos/anaconda/lib/python2.7/site-packages/statsmodels/base/model.py:496: ConvergenceWarning: Maximum Likelihood optimization failed to converge. Check mle_retvals\n",
      "  \"Check mle_retvals\", ConvergenceWarning)\n"
     ]
    },
    {
     "name": "stdout",
     "output_type": "stream",
     "text": [
      "Make prediction\n",
      "Regions is  1235\n",
      "R factor is  0.0184101161996\n",
      "Learn SARIMAX\n"
     ]
    },
    {
     "name": "stderr",
     "output_type": "stream",
     "text": [
      "/home/frodos/anaconda/lib/python2.7/site-packages/statsmodels/base/model.py:496: ConvergenceWarning: Maximum Likelihood optimization failed to converge. Check mle_retvals\n",
      "  \"Check mle_retvals\", ConvergenceWarning)\n"
     ]
    },
    {
     "name": "stdout",
     "output_type": "stream",
     "text": [
      "Make prediction\n",
      "Group ID is gr3\n",
      "Regions is  1183\n",
      "R factor is  0.0822788888082\n",
      "Learn SARIMAX\n"
     ]
    },
    {
     "name": "stderr",
     "output_type": "stream",
     "text": [
      "/home/frodos/anaconda/lib/python2.7/site-packages/statsmodels/base/model.py:496: ConvergenceWarning: Maximum Likelihood optimization failed to converge. Check mle_retvals\n",
      "  \"Check mle_retvals\", ConvergenceWarning)\n"
     ]
    },
    {
     "name": "stdout",
     "output_type": "stream",
     "text": [
      "Make prediction\n",
      "Regions is  1229\n",
      "R factor is  0.153889386942\n",
      "Learn SARIMAX\n",
      "Make prediction\n",
      "Regions is  1230\n",
      "R factor is  0.11498935558\n",
      "Learn SARIMAX\n",
      "Make prediction\n",
      "Regions is  1231\n",
      "R factor is  0.0908307935708\n",
      "Learn SARIMAX\n",
      "Make prediction\n",
      "Regions is  1436\n",
      "R factor is  0.195340970391\n",
      "Learn SARIMAX\n"
     ]
    },
    {
     "name": "stderr",
     "output_type": "stream",
     "text": [
      "/home/frodos/anaconda/lib/python2.7/site-packages/statsmodels/base/model.py:496: ConvergenceWarning: Maximum Likelihood optimization failed to converge. Check mle_retvals\n",
      "  \"Check mle_retvals\", ConvergenceWarning)\n"
     ]
    },
    {
     "name": "stdout",
     "output_type": "stream",
     "text": [
      "Make prediction\n",
      "Group ID is gr0\n",
      "Regions is  1283\n",
      "R factor is  0.0585646947585\n",
      "Learn SARIMAX\n",
      "Make prediction\n",
      "Regions is  1284\n",
      "R factor is  0.0214309910705\n",
      "Learn SARIMAX\n",
      "Make prediction\n",
      "Regions is  1285\n",
      "R factor is  0.0305000865432\n",
      "Learn SARIMAX\n",
      "<type 'exceptions.ValueError'>\n",
      "Non-stationary starting autoregressive parameters found with `enforce_stationarity` set to True.\n",
      "Make prediction\n",
      "Regions is  1286\n",
      "R factor is  0.024946209179\n",
      "Learn SARIMAX\n",
      "Make prediction\n",
      "Regions is  1287\n",
      "R factor is  0.0379141870619\n",
      "Learn SARIMAX\n",
      "Make prediction\n",
      "Group ID is gr1\n",
      "Regions is  1076\n",
      "R factor is  0.0389924709316\n",
      "Learn SARIMAX\n"
     ]
    },
    {
     "name": "stderr",
     "output_type": "stream",
     "text": [
      "/home/frodos/anaconda/lib/python2.7/site-packages/statsmodels/base/model.py:496: ConvergenceWarning: Maximum Likelihood optimization failed to converge. Check mle_retvals\n",
      "  \"Check mle_retvals\", ConvergenceWarning)\n"
     ]
    },
    {
     "name": "stdout",
     "output_type": "stream",
     "text": [
      "Make prediction\n",
      "Regions is  1077\n",
      "R factor is  0.0695513427463\n",
      "Learn SARIMAX\n",
      "Make prediction\n",
      "Regions is  1125\n",
      "R factor is  0.158645096834\n",
      "Learn SARIMAX\n",
      "Make prediction\n",
      "Regions is  1126\n",
      "R factor is  0.0907566354311\n",
      "Learn SARIMAX\n",
      "Make prediction\n",
      "Group ID is gr8\n",
      "Regions is  1175\n",
      "R factor is  0.0406828768485\n",
      "Learn SARIMAX\n",
      "Make prediction\n",
      "Regions is  1178\n",
      "R factor is  0.175867549835\n",
      "Learn SARIMAX\n",
      "Make prediction\n",
      "Regions is  1179\n",
      "R factor is  0.0664505567669\n",
      "Learn SARIMAX\n",
      "Make prediction\n",
      "Regions is  1181\n",
      "R factor is  0.0344877861083\n",
      "Learn SARIMAX\n",
      "Make prediction\n",
      "Regions is  1182\n",
      "R factor is  0.054923537264\n",
      "Learn SARIMAX\n",
      "Make prediction\n",
      "Regions is  1280\n",
      "R factor is  0.0414333961878\n",
      "Learn SARIMAX\n",
      "<type 'exceptions.ValueError'>\n",
      "Non-stationary starting autoregressive parameters found with `enforce_stationarity` set to True.\n",
      "Make prediction\n",
      "Regions is  1334\n",
      "R factor is  0.0448564286215\n",
      "Learn SARIMAX\n",
      "Make prediction\n",
      "Regions is  1335\n",
      "R factor is  0.0683310105855\n",
      "Learn SARIMAX\n",
      "<type 'exceptions.ValueError'>\n",
      "non-invertible starting MA parameters found with `enforce_invertibility` set to True.\n",
      "Make prediction\n",
      "Regions is  1336\n",
      "R factor is  0.0159072734547\n",
      "Learn SARIMAX\n",
      "Make prediction\n",
      "Regions is  1439\n",
      "R factor is  0.0685642748616\n",
      "Learn SARIMAX\n",
      "Make prediction\n",
      "Regions is  1441\n",
      "R factor is  0.0489342710899\n",
      "Learn SARIMAX\n",
      "Make prediction\n",
      "Regions is  1442\n",
      "R factor is  0.0444772305022\n",
      "Learn SARIMAX\n",
      "Make prediction\n",
      "Group ID is gr9\n",
      "Regions is  1530\n",
      "R factor is  0.0425120717259\n",
      "Learn SARIMAX\n",
      "Make prediction\n",
      "Regions is  1532\n",
      "R factor is  0.10773592668\n",
      "Learn SARIMAX\n",
      "Make prediction\n",
      "Total error is 11066699.4977\n"
     ]
    }
   ],
   "source": [
    "-"
   ]
  },
  {
   "cell_type": "code",
   "execution_count": 15,
   "metadata": {
    "collapsed": false
   },
   "outputs": [
    {
     "name": "stdout",
     "output_type": "stream",
     "text": [
      "Group ID is gr18\n",
      "Regions is  1273\n",
      "R factor is  0.0479732808974\n",
      "Learn SARIMAX\n"
     ]
    },
    {
     "name": "stderr",
     "output_type": "stream",
     "text": [
      "/home/frodos/anaconda/lib/python2.7/site-packages/statsmodels/base/model.py:496: ConvergenceWarning: Maximum Likelihood optimization failed to converge. Check mle_retvals\n",
      "  \"Check mle_retvals\", ConvergenceWarning)\n"
     ]
    },
    {
     "name": "stdout",
     "output_type": "stream",
     "text": [
      "Make prediction\n",
      "Regions is  1274\n",
      "R factor is  0.102098938695\n",
      "Learn SARIMAX\n"
     ]
    },
    {
     "name": "stderr",
     "output_type": "stream",
     "text": [
      "/home/frodos/anaconda/lib/python2.7/site-packages/statsmodels/base/model.py:496: ConvergenceWarning: Maximum Likelihood optimization failed to converge. Check mle_retvals\n",
      "  \"Check mle_retvals\", ConvergenceWarning)\n"
     ]
    },
    {
     "name": "stdout",
     "output_type": "stream",
     "text": [
      "Make prediction\n",
      "Group ID is gr19\n",
      "Regions is  1434\n",
      "R factor is  0.0237837132242\n",
      "Learn SARIMAX\n"
     ]
    },
    {
     "name": "stderr",
     "output_type": "stream",
     "text": [
      "/home/frodos/anaconda/lib/python2.7/site-packages/statsmodels/base/model.py:496: ConvergenceWarning: Maximum Likelihood optimization failed to converge. Check mle_retvals\n",
      "  \"Check mle_retvals\", ConvergenceWarning)\n"
     ]
    },
    {
     "name": "stdout",
     "output_type": "stream",
     "text": [
      "Make prediction\n",
      "Regions is  1435\n",
      "R factor is  0.104871101861\n",
      "Learn SARIMAX\n"
     ]
    },
    {
     "name": "stderr",
     "output_type": "stream",
     "text": [
      "/home/frodos/anaconda/lib/python2.7/site-packages/statsmodels/base/model.py:496: ConvergenceWarning: Maximum Likelihood optimization failed to converge. Check mle_retvals\n",
      "  \"Check mle_retvals\", ConvergenceWarning)\n"
     ]
    },
    {
     "name": "stdout",
     "output_type": "stream",
     "text": [
      "Make prediction\n",
      "Regions is  1437\n",
      "R factor is  0.0903316748035\n",
      "Learn SARIMAX\n"
     ]
    },
    {
     "name": "stderr",
     "output_type": "stream",
     "text": [
      "/home/frodos/anaconda/lib/python2.7/site-packages/statsmodels/base/model.py:496: ConvergenceWarning: Maximum Likelihood optimization failed to converge. Check mle_retvals\n",
      "  \"Check mle_retvals\", ConvergenceWarning)\n"
     ]
    },
    {
     "name": "stdout",
     "output_type": "stream",
     "text": [
      "Make prediction\n",
      "Regions is  1438\n",
      "R factor is  0.0481863478999\n",
      "Learn SARIMAX\n"
     ]
    },
    {
     "name": "stderr",
     "output_type": "stream",
     "text": [
      "/home/frodos/anaconda/lib/python2.7/site-packages/statsmodels/base/model.py:496: ConvergenceWarning: Maximum Likelihood optimization failed to converge. Check mle_retvals\n",
      "  \"Check mle_retvals\", ConvergenceWarning)\n"
     ]
    },
    {
     "name": "stdout",
     "output_type": "stream",
     "text": [
      "Make prediction\n",
      "Regions is  1630\n",
      "R factor is  0.0761539364595\n",
      "Learn SARIMAX\n"
     ]
    },
    {
     "name": "stderr",
     "output_type": "stream",
     "text": [
      "/home/frodos/anaconda/lib/python2.7/site-packages/statsmodels/base/model.py:496: ConvergenceWarning: Maximum Likelihood optimization failed to converge. Check mle_retvals\n",
      "  \"Check mle_retvals\", ConvergenceWarning)\n"
     ]
    },
    {
     "name": "stdout",
     "output_type": "stream",
     "text": [
      "Make prediction\n",
      "Regions is  1684\n",
      "R factor is  0.120776018539\n",
      "Learn SARIMAX\n"
     ]
    },
    {
     "name": "stderr",
     "output_type": "stream",
     "text": [
      "/home/frodos/anaconda/lib/python2.7/site-packages/statsmodels/base/model.py:496: ConvergenceWarning: Maximum Likelihood optimization failed to converge. Check mle_retvals\n",
      "  \"Check mle_retvals\", ConvergenceWarning)\n"
     ]
    },
    {
     "name": "stdout",
     "output_type": "stream",
     "text": [
      "Make prediction\n",
      "Group ID is gr10\n",
      "Regions is  1333\n",
      "R factor is  0.0489950549284\n",
      "Learn SARIMAX\n",
      "Make prediction\n",
      "Regions is  1337\n",
      "R factor is  0.0769030288607\n",
      "Learn SARIMAX\n",
      "Make prediction\n",
      "Regions is  1338\n",
      "R factor is  0.109354252334\n",
      "Learn SARIMAX\n",
      "Make prediction\n",
      "Regions is  1339\n",
      "R factor is  0.0553628311166\n",
      "Learn SARIMAX\n"
     ]
    },
    {
     "name": "stderr",
     "output_type": "stream",
     "text": [
      "/home/frodos/anaconda/lib/python2.7/site-packages/statsmodels/base/model.py:496: ConvergenceWarning: Maximum Likelihood optimization failed to converge. Check mle_retvals\n",
      "  \"Check mle_retvals\", ConvergenceWarning)\n"
     ]
    },
    {
     "name": "stdout",
     "output_type": "stream",
     "text": [
      "Make prediction\n",
      "Regions is  1783\n",
      "R factor is  0.151654215727\n",
      "Learn SARIMAX\n",
      "Make prediction\n",
      "Group ID is gr11\n",
      "Regions is  1075\n",
      "R factor is  0.0643376640968\n",
      "Learn SARIMAX\n"
     ]
    },
    {
     "name": "stderr",
     "output_type": "stream",
     "text": [
      "/home/frodos/anaconda/lib/python2.7/site-packages/statsmodels/base/model.py:496: ConvergenceWarning: Maximum Likelihood optimization failed to converge. Check mle_retvals\n",
      "  \"Check mle_retvals\", ConvergenceWarning)\n"
     ]
    },
    {
     "name": "stdout",
     "output_type": "stream",
     "text": [
      "Make prediction\n",
      "Regions is  1733\n",
      "R factor is  0.0406465753709\n",
      "Learn SARIMAX\n",
      "Make prediction\n",
      "Regions is  1734\n",
      "R factor is  0.10171512588\n",
      "Learn SARIMAX\n",
      "Make prediction\n",
      "Group ID is gr12\n",
      "Regions is  2069\n",
      "R factor is  0.0359536584347\n",
      "Learn SARIMAX\n",
      "Make prediction\n",
      "Regions is  2118\n",
      "R factor is  0.0703455822146\n",
      "Learn SARIMAX\n",
      "Make prediction\n",
      "Group ID is gr13\n",
      "Regions is  1222\n",
      "R factor is  0.10284307779\n",
      "Learn SARIMAX\n"
     ]
    },
    {
     "name": "stderr",
     "output_type": "stream",
     "text": [
      "/home/frodos/anaconda/lib/python2.7/site-packages/statsmodels/base/model.py:496: ConvergenceWarning: Maximum Likelihood optimization failed to converge. Check mle_retvals\n",
      "  \"Check mle_retvals\", ConvergenceWarning)\n"
     ]
    },
    {
     "name": "stdout",
     "output_type": "stream",
     "text": [
      "Make prediction\n",
      "Regions is  1223\n",
      "R factor is  0.120004355947\n",
      "Learn SARIMAX\n"
     ]
    },
    {
     "name": "stderr",
     "output_type": "stream",
     "text": [
      "/home/frodos/anaconda/lib/python2.7/site-packages/statsmodels/base/model.py:496: ConvergenceWarning: Maximum Likelihood optimization failed to converge. Check mle_retvals\n",
      "  \"Check mle_retvals\", ConvergenceWarning)\n"
     ]
    },
    {
     "name": "stdout",
     "output_type": "stream",
     "text": [
      "Make prediction\n",
      "Regions is  1224\n",
      "R factor is  0.120500679553\n",
      "Learn SARIMAX\n"
     ]
    },
    {
     "name": "stderr",
     "output_type": "stream",
     "text": [
      "/home/frodos/anaconda/lib/python2.7/site-packages/statsmodels/base/model.py:496: ConvergenceWarning: Maximum Likelihood optimization failed to converge. Check mle_retvals\n",
      "  \"Check mle_retvals\", ConvergenceWarning)\n"
     ]
    },
    {
     "name": "stdout",
     "output_type": "stream",
     "text": [
      "Make prediction\n",
      "Regions is  1225\n",
      "R factor is  0.0413807650631\n",
      "Learn SARIMAX\n"
     ]
    },
    {
     "name": "stderr",
     "output_type": "stream",
     "text": [
      "/home/frodos/anaconda/lib/python2.7/site-packages/statsmodels/base/model.py:496: ConvergenceWarning: Maximum Likelihood optimization failed to converge. Check mle_retvals\n",
      "  \"Check mle_retvals\", ConvergenceWarning)\n"
     ]
    },
    {
     "name": "stdout",
     "output_type": "stream",
     "text": [
      "Make prediction\n",
      "Regions is  1227\n",
      "R factor is  0.302303926486\n",
      "Learn SARIMAX\n",
      "<type 'exceptions.ValueError'>\n",
      "non-invertible starting MA parameters found with `enforce_invertibility` set to True.\n",
      "Make prediction\n",
      "Regions is  1385\n",
      "R factor is  0.0370175474682\n",
      "Learn SARIMAX\n",
      "<type 'exceptions.ValueError'>\n",
      "non-invertible starting MA parameters found with `enforce_invertibility` set to True.\n",
      "Make prediction\n",
      "Regions is  1386\n",
      "R factor is  0.0495808304946\n",
      "Learn SARIMAX\n"
     ]
    },
    {
     "name": "stderr",
     "output_type": "stream",
     "text": [
      "/home/frodos/anaconda/lib/python2.7/site-packages/statsmodels/base/model.py:496: ConvergenceWarning: Maximum Likelihood optimization failed to converge. Check mle_retvals\n",
      "  \"Check mle_retvals\", ConvergenceWarning)\n"
     ]
    },
    {
     "name": "stdout",
     "output_type": "stream",
     "text": [
      "Make prediction\n",
      "Regions is  1387\n",
      "R factor is  0.108506850261\n",
      "Learn SARIMAX\n"
     ]
    },
    {
     "name": "stderr",
     "output_type": "stream",
     "text": [
      "/home/frodos/anaconda/lib/python2.7/site-packages/statsmodels/base/model.py:496: ConvergenceWarning: Maximum Likelihood optimization failed to converge. Check mle_retvals\n",
      "  \"Check mle_retvals\", ConvergenceWarning)\n"
     ]
    },
    {
     "name": "stdout",
     "output_type": "stream",
     "text": [
      "Make prediction\n",
      "Regions is  1390\n",
      "R factor is  0.0922083031732\n",
      "Learn SARIMAX\n"
     ]
    },
    {
     "name": "stderr",
     "output_type": "stream",
     "text": [
      "/home/frodos/anaconda/lib/python2.7/site-packages/statsmodels/base/model.py:496: ConvergenceWarning: Maximum Likelihood optimization failed to converge. Check mle_retvals\n",
      "  \"Check mle_retvals\", ConvergenceWarning)\n"
     ]
    },
    {
     "name": "stdout",
     "output_type": "stream",
     "text": [
      "Make prediction\n",
      "Group ID is gr14\n",
      "Regions is  1380\n",
      "R factor is  0.0736577611072\n",
      "Learn SARIMAX\n",
      "Make prediction\n",
      "Regions is  1382\n",
      "R factor is  0.114813158291\n",
      "Learn SARIMAX\n",
      "Make prediction\n",
      "Regions is  1383\n",
      "R factor is  0.055892092522\n",
      "Learn SARIMAX\n"
     ]
    },
    {
     "name": "stderr",
     "output_type": "stream",
     "text": [
      "/home/frodos/anaconda/lib/python2.7/site-packages/statsmodels/base/model.py:496: ConvergenceWarning: Maximum Likelihood optimization failed to converge. Check mle_retvals\n",
      "  \"Check mle_retvals\", ConvergenceWarning)\n"
     ]
    },
    {
     "name": "stdout",
     "output_type": "stream",
     "text": [
      "Make prediction\n",
      "Regions is  1384\n",
      "R factor is  0.049766390354\n",
      "Learn SARIMAX\n",
      "Make prediction\n",
      "Group ID is gr15\n",
      "Regions is  1132\n",
      "R factor is  0.0206682956784\n",
      "Learn SARIMAX\n"
     ]
    },
    {
     "name": "stderr",
     "output_type": "stream",
     "text": [
      "/home/frodos/anaconda/lib/python2.7/site-packages/statsmodels/base/model.py:496: ConvergenceWarning: Maximum Likelihood optimization failed to converge. Check mle_retvals\n",
      "  \"Check mle_retvals\", ConvergenceWarning)\n"
     ]
    },
    {
     "name": "stdout",
     "output_type": "stream",
     "text": [
      "Make prediction\n",
      "Regions is  1172\n",
      "R factor is  0.0513709581628\n",
      "Learn SARIMAX\n",
      "Make prediction\n",
      "Regions is  1173\n",
      "R factor is  0.0368009343958\n",
      "Learn SARIMAX\n",
      "<type 'exceptions.ValueError'>\n",
      "non-invertible starting MA parameters found with `enforce_invertibility` set to True.\n",
      "Make prediction\n",
      "Regions is  1174\n",
      "R factor is  0.0303663822647\n",
      "Learn SARIMAX\n",
      "<type 'exceptions.ValueError'>\n",
      "non-invertible starting MA parameters found with `enforce_invertibility` set to True.\n",
      "Make prediction\n",
      "Group ID is gr16\n",
      "Regions is  1480\n",
      "R factor is  0.111872134736\n",
      "Learn SARIMAX\n"
     ]
    },
    {
     "name": "stderr",
     "output_type": "stream",
     "text": [
      "/home/frodos/anaconda/lib/python2.7/site-packages/statsmodels/base/model.py:496: ConvergenceWarning: Maximum Likelihood optimization failed to converge. Check mle_retvals\n",
      "  \"Check mle_retvals\", ConvergenceWarning)\n"
     ]
    },
    {
     "name": "stdout",
     "output_type": "stream",
     "text": [
      "Make prediction\n",
      "Regions is  1482\n",
      "R factor is  0.109144967826\n",
      "Learn SARIMAX\n"
     ]
    },
    {
     "name": "stderr",
     "output_type": "stream",
     "text": [
      "/home/frodos/anaconda/lib/python2.7/site-packages/statsmodels/base/model.py:496: ConvergenceWarning: Maximum Likelihood optimization failed to converge. Check mle_retvals\n",
      "  \"Check mle_retvals\", ConvergenceWarning)\n"
     ]
    },
    {
     "name": "stdout",
     "output_type": "stream",
     "text": [
      "Make prediction\n",
      "Regions is  1483\n",
      "R factor is  0.0293296798487\n",
      "Learn SARIMAX\n"
     ]
    },
    {
     "name": "stderr",
     "output_type": "stream",
     "text": [
      "/home/frodos/anaconda/lib/python2.7/site-packages/statsmodels/base/model.py:496: ConvergenceWarning: Maximum Likelihood optimization failed to converge. Check mle_retvals\n",
      "  \"Check mle_retvals\", ConvergenceWarning)\n"
     ]
    },
    {
     "name": "stdout",
     "output_type": "stream",
     "text": [
      "Make prediction\n",
      "Regions is  1533\n",
      "R factor is  0.120854277325\n",
      "Learn SARIMAX\n"
     ]
    },
    {
     "name": "stderr",
     "output_type": "stream",
     "text": [
      "/home/frodos/anaconda/lib/python2.7/site-packages/statsmodels/base/model.py:496: ConvergenceWarning: Maximum Likelihood optimization failed to converge. Check mle_retvals\n",
      "  \"Check mle_retvals\", ConvergenceWarning)\n"
     ]
    },
    {
     "name": "stdout",
     "output_type": "stream",
     "text": [
      "Make prediction\n",
      "Group ID is gr17\n",
      "Regions is  1278\n",
      "R factor is  0.226658292714\n",
      "Learn SARIMAX\n",
      "Make prediction\n",
      "Regions is  1279\n",
      "R factor is  0.0295874078891\n",
      "Learn SARIMAX\n",
      "Make prediction\n",
      "Regions is  1281\n",
      "R factor is  0.11787881417\n",
      "Learn SARIMAX\n",
      "Make prediction\n",
      "Regions is  1282\n",
      "R factor is  0.119874983849\n",
      "Learn SARIMAX\n",
      "Make prediction\n",
      "Regions is  2068\n",
      "R factor is  0.0436562751673\n",
      "Learn SARIMAX\n",
      "Make prediction\n",
      "Regions is  2119\n",
      "R factor is  0.02903689969\n",
      "Learn SARIMAX\n"
     ]
    },
    {
     "name": "stderr",
     "output_type": "stream",
     "text": [
      "/home/frodos/anaconda/lib/python2.7/site-packages/statsmodels/base/model.py:496: ConvergenceWarning: Maximum Likelihood optimization failed to converge. Check mle_retvals\n",
      "  \"Check mle_retvals\", ConvergenceWarning)\n"
     ]
    },
    {
     "name": "stdout",
     "output_type": "stream",
     "text": [
      "Make prediction\n",
      "Regions is  2168\n",
      "R factor is  0.0949942334958\n",
      "Learn SARIMAX\n",
      "Make prediction\n",
      "Group ID is gr21\n",
      "Regions is  1184\n",
      "R factor is  0.0121227593676\n",
      "Learn SARIMAX\n",
      "Make prediction\n",
      "Regions is  1221\n",
      "R factor is  0.068254703669\n",
      "Learn SARIMAX\n",
      "Make prediction\n",
      "Regions is  1228\n",
      "R factor is  0.270581383994\n",
      "Learn SARIMAX\n",
      "Make prediction\n",
      "Group ID is gr20\n",
      "Regions is  1131\n",
      "R factor is  0.136242537843\n",
      "Learn SARIMAX\n",
      "<type 'exceptions.ValueError'>\n",
      "non-invertible starting MA parameters found with `enforce_invertibility` set to True.\n",
      "Can not create the model\n",
      "index 9 is out of bounds for axis 0 with size 9\n",
      "Regions is  1272\n",
      "R factor is  0.0918447625659\n",
      "Learn SARIMAX\n"
     ]
    },
    {
     "name": "stderr",
     "output_type": "stream",
     "text": [
      "/home/frodos/anaconda/lib/python2.7/site-packages/statsmodels/base/model.py:496: ConvergenceWarning: Maximum Likelihood optimization failed to converge. Check mle_retvals\n",
      "  \"Check mle_retvals\", ConvergenceWarning)\n"
     ]
    },
    {
     "name": "stdout",
     "output_type": "stream",
     "text": [
      "Make prediction\n",
      "Group ID is gr23\n",
      "Regions is  1331\n",
      "R factor is  0.0253861358144\n",
      "Learn SARIMAX\n",
      "<type 'exceptions.ValueError'>\n",
      "Non-stationary starting autoregressive parameters found with `enforce_stationarity` set to True.\n",
      "Make prediction\n",
      "Regions is  1332\n",
      "R factor is  0.0373588791689\n",
      "Learn SARIMAX\n",
      "<type 'exceptions.ValueError'>\n",
      "non-invertible starting MA parameters found with `enforce_invertibility` set to True.\n",
      "Make prediction\n",
      "Regions is  1376\n",
      "R factor is  0.167072215915\n",
      "Learn SARIMAX\n",
      "<type 'exceptions.ValueError'>\n",
      "Non-stationary starting autoregressive parameters found with `enforce_stationarity` set to True.\n",
      "Make prediction\n",
      "Regions is  1377\n",
      "R factor is  0.128291272898\n",
      "Learn SARIMAX\n",
      "<type 'exceptions.ValueError'>\n",
      "Non-stationary starting autoregressive parameters found with `enforce_stationarity` set to True.\n",
      "Make prediction\n",
      "Regions is  1378\n",
      "R factor is  0.111809405724\n",
      "Learn SARIMAX\n",
      "<type 'exceptions.ValueError'>\n",
      "non-invertible starting MA parameters found with `enforce_invertibility` set to True.\n",
      "Make prediction\n",
      "Regions is  1431\n",
      "R factor is  0.141838415058\n",
      "Learn SARIMAX\n",
      "Make prediction\n",
      "Group ID is gr22\n",
      "Regions is  1327\n",
      "R factor is  0.191821079778\n",
      "Learn SARIMAX\n",
      "<type 'exceptions.ValueError'>\n",
      "Non-stationary starting autoregressive parameters found with `enforce_stationarity` set to True.\n",
      "Can not create the model\n",
      "index 8 is out of bounds for axis 0 with size 8\n",
      "Regions is  1580\n",
      "R factor is  0.0266423583746\n",
      "Learn SARIMAX\n",
      "<type 'exceptions.ValueError'>\n",
      "non-invertible starting MA parameters found with `enforce_invertibility` set to True.\n",
      "Can not create the model\n",
      "index 8 is out of bounds for axis 0 with size 8\n",
      "Group ID is gr6\n",
      "Regions is  1177\n",
      "R factor is  0.264499605009\n",
      "Learn SARIMAX\n",
      "<type 'exceptions.ValueError'>\n",
      "non-invertible starting MA parameters found with `enforce_invertibility` set to True.\n",
      "Can not create the model\n",
      "index 8 is out of bounds for axis 0 with size 8\n",
      "Regions is  1326\n",
      "R factor is  0.172531146375\n",
      "Learn SARIMAX\n",
      "Make prediction\n",
      "Regions is  1426\n",
      "R factor is  0.107146637596\n",
      "Learn SARIMAX\n",
      "Make prediction\n",
      "Regions is  1176\n",
      "R factor is  0.185334595482\n",
      "Learn SARIMAX\n",
      "Make prediction\n",
      "Group ID is gr7\n",
      "Regions is  1388\n",
      "R factor is  0.185594020669\n",
      "Learn SARIMAX\n"
     ]
    },
    {
     "name": "stderr",
     "output_type": "stream",
     "text": [
      "/home/frodos/anaconda/lib/python2.7/site-packages/statsmodels/base/model.py:496: ConvergenceWarning: Maximum Likelihood optimization failed to converge. Check mle_retvals\n",
      "  \"Check mle_retvals\", ConvergenceWarning)\n"
     ]
    },
    {
     "name": "stdout",
     "output_type": "stream",
     "text": [
      "Make prediction\n",
      "Regions is  1389\n",
      "R factor is  0.103222828838\n",
      "Learn SARIMAX\n"
     ]
    },
    {
     "name": "stderr",
     "output_type": "stream",
     "text": [
      "/home/frodos/anaconda/lib/python2.7/site-packages/statsmodels/base/model.py:496: ConvergenceWarning: Maximum Likelihood optimization failed to converge. Check mle_retvals\n",
      "  \"Check mle_retvals\", ConvergenceWarning)\n"
     ]
    },
    {
     "name": "stdout",
     "output_type": "stream",
     "text": [
      "Make prediction\n",
      "Group ID is gr4\n",
      "Regions is  1127\n",
      "R factor is  0.124684238753\n",
      "Learn SARIMAX\n",
      "<type 'exceptions.ValueError'>\n",
      "non-invertible starting MA parameters found with `enforce_invertibility` set to True.\n",
      "Can not create the model\n",
      "index 9 is out of bounds for axis 0 with size 8\n",
      "Regions is  1128\n",
      "R factor is  0.110798576802\n",
      "Learn SARIMAX\n",
      "<type 'exceptions.ValueError'>\n",
      "non-invertible starting MA parameters found with `enforce_invertibility` set to True.\n",
      "Can not create the model\n",
      "index 9 is out of bounds for axis 0 with size 8\n",
      "Regions is  1129\n",
      "R factor is  0.162986161245\n",
      "Learn SARIMAX\n",
      "<type 'exceptions.ValueError'>\n",
      "non-invertible starting MA parameters found with `enforce_invertibility` set to True.\n",
      "Can not create the model\n",
      "index 9 is out of bounds for axis 0 with size 8\n",
      "Regions is  1130\n",
      "R factor is  0.229738999734\n",
      "Learn SARIMAX\n",
      "<type 'exceptions.ValueError'>\n",
      "non-invertible starting MA parameters found with `enforce_invertibility` set to True.\n",
      "Can not create the model\n",
      "index 9 is out of bounds for axis 0 with size 8\n",
      "Group ID is gr2\n",
      "Regions is  1180\n",
      "R factor is  0.0601219886986\n",
      "Learn SARIMAX\n",
      "<type 'exceptions.ValueError'>\n",
      "Non-stationary starting autoregressive parameters found with `enforce_stationarity` set to True.\n",
      "Can not create the model\n",
      "index 8 is out of bounds for axis 0 with size 8\n",
      "Regions is  1232\n",
      "R factor is  0.0788675986934\n",
      "Learn SARIMAX\n"
     ]
    },
    {
     "name": "stderr",
     "output_type": "stream",
     "text": [
      "/home/frodos/anaconda/lib/python2.7/site-packages/statsmodels/base/model.py:496: ConvergenceWarning: Maximum Likelihood optimization failed to converge. Check mle_retvals\n",
      "  \"Check mle_retvals\", ConvergenceWarning)\n"
     ]
    },
    {
     "name": "stdout",
     "output_type": "stream",
     "text": [
      "Make prediction\n",
      "Regions is  1233\n",
      "R factor is  0.0603303660308\n",
      "Learn SARIMAX\n"
     ]
    },
    {
     "name": "stderr",
     "output_type": "stream",
     "text": [
      "/home/frodos/anaconda/lib/python2.7/site-packages/statsmodels/base/model.py:496: ConvergenceWarning: Maximum Likelihood optimization failed to converge. Check mle_retvals\n",
      "  \"Check mle_retvals\", ConvergenceWarning)\n"
     ]
    },
    {
     "name": "stdout",
     "output_type": "stream",
     "text": [
      "Make prediction\n",
      "Regions is  1234\n",
      "R factor is  0.0229499636674\n",
      "Learn SARIMAX\n"
     ]
    },
    {
     "name": "stderr",
     "output_type": "stream",
     "text": [
      "/home/frodos/anaconda/lib/python2.7/site-packages/statsmodels/base/model.py:496: ConvergenceWarning: Maximum Likelihood optimization failed to converge. Check mle_retvals\n",
      "  \"Check mle_retvals\", ConvergenceWarning)\n"
     ]
    },
    {
     "name": "stdout",
     "output_type": "stream",
     "text": [
      "Make prediction\n",
      "Regions is  1235\n",
      "R factor is  0.0189038754418\n",
      "Learn SARIMAX\n"
     ]
    },
    {
     "name": "stderr",
     "output_type": "stream",
     "text": [
      "/home/frodos/anaconda/lib/python2.7/site-packages/statsmodels/base/model.py:496: ConvergenceWarning: Maximum Likelihood optimization failed to converge. Check mle_retvals\n",
      "  \"Check mle_retvals\", ConvergenceWarning)\n"
     ]
    },
    {
     "name": "stdout",
     "output_type": "stream",
     "text": [
      "Make prediction\n",
      "Group ID is gr3\n",
      "Regions is  1183\n",
      "R factor is  0.0841359315731\n",
      "Learn SARIMAX\n"
     ]
    },
    {
     "name": "stderr",
     "output_type": "stream",
     "text": [
      "/home/frodos/anaconda/lib/python2.7/site-packages/statsmodels/base/model.py:496: ConvergenceWarning: Maximum Likelihood optimization failed to converge. Check mle_retvals\n",
      "  \"Check mle_retvals\", ConvergenceWarning)\n"
     ]
    },
    {
     "name": "stdout",
     "output_type": "stream",
     "text": [
      "Make prediction\n",
      "Regions is  1229\n",
      "R factor is  0.153577052756\n",
      "Learn SARIMAX\n",
      "Make prediction\n",
      "Regions is  1230\n",
      "R factor is  0.115204402756\n",
      "Learn SARIMAX\n",
      "Make prediction\n",
      "Regions is  1231\n",
      "R factor is  0.0821011806611\n",
      "Learn SARIMAX\n",
      "Make prediction\n",
      "Regions is  1436\n",
      "R factor is  0.197697648503\n",
      "Learn SARIMAX\n",
      "Make prediction\n",
      "Group ID is gr0\n",
      "Regions is  1283\n",
      "R factor is  0.0615113125008\n",
      "Learn SARIMAX\n",
      "Make prediction\n",
      "Regions is  1284\n",
      "R factor is  0.0182623801649\n",
      "Learn SARIMAX\n",
      "Make prediction\n",
      "Regions is  1285\n",
      "R factor is  0.0290718749454\n",
      "Learn SARIMAX\n",
      "<type 'exceptions.ValueError'>\n",
      "Non-stationary starting autoregressive parameters found with `enforce_stationarity` set to True.\n",
      "Make prediction\n",
      "Regions is  1286\n",
      "R factor is  0.0234604440802\n",
      "Learn SARIMAX\n",
      "Make prediction\n",
      "Regions is  1287\n",
      "R factor is  0.0368110904348\n",
      "Learn SARIMAX\n",
      "Make prediction\n",
      "Group ID is gr1\n",
      "Regions is  1076\n",
      "R factor is  0.0354025927586\n",
      "Learn SARIMAX\n",
      "Make prediction\n",
      "Regions is  1077\n",
      "R factor is  0.0636982094666\n",
      "Learn SARIMAX\n",
      "Make prediction\n",
      "Regions is  1125\n",
      "R factor is  0.150800425428\n",
      "Learn SARIMAX\n",
      "Make prediction\n",
      "Regions is  1126\n",
      "R factor is  0.084259195959\n",
      "Learn SARIMAX\n"
     ]
    },
    {
     "name": "stderr",
     "output_type": "stream",
     "text": [
      "/home/frodos/anaconda/lib/python2.7/site-packages/statsmodels/base/model.py:496: ConvergenceWarning: Maximum Likelihood optimization failed to converge. Check mle_retvals\n",
      "  \"Check mle_retvals\", ConvergenceWarning)\n"
     ]
    },
    {
     "name": "stdout",
     "output_type": "stream",
     "text": [
      "Make prediction\n",
      "Group ID is gr8\n",
      "Regions is  1175\n",
      "R factor is  0.0611830114011\n",
      "Learn SARIMAX\n"
     ]
    },
    {
     "name": "stderr",
     "output_type": "stream",
     "text": [
      "/home/frodos/anaconda/lib/python2.7/site-packages/statsmodels/base/model.py:496: ConvergenceWarning: Maximum Likelihood optimization failed to converge. Check mle_retvals\n",
      "  \"Check mle_retvals\", ConvergenceWarning)\n"
     ]
    },
    {
     "name": "stdout",
     "output_type": "stream",
     "text": [
      "Make prediction\n",
      "Regions is  1178\n",
      "R factor is  0.174545746028\n",
      "Learn SARIMAX\n",
      "Make prediction\n",
      "Regions is  1179\n",
      "R factor is  0.066570961414\n",
      "Learn SARIMAX\n",
      "Make prediction\n",
      "Regions is  1181\n",
      "R factor is  0.031408129975\n",
      "Learn SARIMAX\n",
      "Make prediction\n",
      "Regions is  1182\n",
      "R factor is  0.0504764205924\n",
      "Learn SARIMAX\n",
      "Make prediction\n",
      "Regions is  1280\n",
      "R factor is  0.0432630560135\n",
      "Learn SARIMAX\n",
      "<type 'exceptions.ValueError'>\n",
      "Non-stationary starting autoregressive parameters found with `enforce_stationarity` set to True.\n",
      "Make prediction\n",
      "Regions is  1334\n",
      "R factor is  0.0475319343857\n",
      "Learn SARIMAX\n",
      "Make prediction\n",
      "Regions is  1335\n",
      "R factor is  0.0727482217123\n",
      "Learn SARIMAX\n",
      "<type 'exceptions.ValueError'>\n",
      "non-invertible starting MA parameters found with `enforce_invertibility` set to True.\n",
      "Make prediction\n",
      "Regions is  1336\n",
      "R factor is  0.0152943432728\n",
      "Learn SARIMAX\n"
     ]
    },
    {
     "name": "stderr",
     "output_type": "stream",
     "text": [
      "/home/frodos/anaconda/lib/python2.7/site-packages/statsmodels/base/model.py:496: ConvergenceWarning: Maximum Likelihood optimization failed to converge. Check mle_retvals\n",
      "  \"Check mle_retvals\", ConvergenceWarning)\n"
     ]
    },
    {
     "name": "stdout",
     "output_type": "stream",
     "text": [
      "Make prediction\n",
      "Regions is  1439\n",
      "R factor is  0.0690438402021\n",
      "Learn SARIMAX\n",
      "Make prediction\n",
      "Regions is  1441\n",
      "R factor is  0.0482550107807\n",
      "Learn SARIMAX\n",
      "Make prediction\n",
      "Regions is  1442\n",
      "R factor is  0.0409095921854\n",
      "Learn SARIMAX\n",
      "Make prediction\n",
      "Group ID is gr9\n",
      "Regions is  1530\n",
      "R factor is  0.0430286208707\n",
      "Learn SARIMAX\n",
      "Make prediction\n",
      "Regions is  1532\n",
      "R factor is  0.12876985508\n",
      "Learn SARIMAX\n",
      "Make prediction\n",
      "Total error is 10077061.7839\n"
     ]
    }
   ],
   "source": [
    "# диапазон дат для обучения\n",
    "startFit = '2016-01-01 0:0:0'\n",
    "endFit = '2016-05-31 23:00:00'\n",
    "\n",
    "err = 0\n",
    "\n",
    "# диапазон дат для предсказания\n",
    "startPrediction = '2016-06-01 00:00:00'\n",
    "endPrediction   = '2016-06-30 23:00:00'\n",
    "predictionRange = pd.date_range(startPrediction, endPrediction, freq='H')\n",
    "\n",
    "# create array to save prediction results\n",
    "mIndex = pd.MultiIndex.from_product([df.columns.values, predictionRange])\n",
    "resDf = pd.DataFrame(index = mIndex, columns = ['y','err'])\n",
    "\n",
    "for grId, ts in tsGroups.iteritems():\n",
    "    print 'Group ID is', grId\n",
    "    \n",
    "    # получаем параметры SARIMAX модели\n",
    "    params = paramsGroups.get(grId)[1] \n",
    "    \n",
    "    for tsId in ts:\n",
    "        print 'Regions is ', tsId\n",
    "        # получаем временной ряд\n",
    "        ts = df.loc[startFit:endFit,tsId] #\n",
    "\n",
    "        # обучаем регрессор\n",
    "        ts = ts.to_frame(name = 'trip_count')\n",
    "        [r_pr, res, regressor] = regression(addFeatures(ts),verbose = True)\n",
    "\n",
    "        # обучаем SARIMAX модель\n",
    "        print 'Learn SARIMAX'\n",
    "        try:\n",
    "            mSARIMA=sm.tsa.statespace.SARIMAX(ts, order=[params[0], 1, params[1]],\n",
    "                                              seasonal_order=(params[2], 1, params[3], 24),\n",
    "                                              exog = r_pr, enforce_invertibility = True).fit(disp=1);\n",
    "        except Exception as inst:\n",
    "            print type(inst)     \n",
    "            print inst          \n",
    "\n",
    "        # получаем предсказания регрессора на весь диапазон дат (обучение+предсказание)\n",
    "        exog = getRegressor(regressor,startFit,endPrediction)\n",
    "        # получаем данные о поездкахы на весь диапазон дат\n",
    "        endog = df.loc[startFit:endPrediction,tsId]\n",
    "       \n",
    "        # создаём новую модель, которую будет использовать для предсказания\n",
    "        # Для чего такой финт ушами - не понимаю до сих пор\n",
    "        try:\n",
    "            model_fitted = sm.tsa.statespace.SARIMAX(endog, order=[params[0], 1, params[1]],\n",
    "                                                 seasonal_order=(params[2], 1, params[3], 24),\n",
    "                                                 exog = exog).filter(mSARIMA.params)\n",
    "        except Exception as inst:\n",
    "            print 'Can not create the model'\n",
    "            print inst\n",
    "            continue\n",
    "            \n",
    "        # проходим по всему диапазону дат предсказаний\n",
    "        print 'Make prediction'\n",
    "        for firstLag in predictionRange[:-5]:\n",
    "            lastLag = firstLag+datetime.timedelta(hours = 5)\n",
    "            # prediction\n",
    "            try:\n",
    "                predicted_data = model_fitted.predict(firstLag, lastLag, dynamic=True, exog = exog[firstLag:lastLag])\n",
    "            except Exception as inst:\n",
    "                print 'Prediction error'\n",
    "                print inst\n",
    "            else:\n",
    "                # save results\n",
    "                resDf.loc[tsId,firstLag].y = predicted_data\n",
    "                err += (df.loc[startPrediction:endPrediction,tsId]-predicted_data).abs().sum()\n",
    "                resDf.loc[tsId,firstLag].err = (df.loc[startPrediction:endPrediction,tsId]-predicted_data).abs().mean()\n",
    "                    \n",
    "    # save results\n",
    "    resDf.to_pickle('predictionResults.pcl')\n",
    "    \n",
    "print 'Total error is', err    "
   ]
  },
  {
   "cell_type": "code",
   "execution_count": 17,
   "metadata": {
    "collapsed": false
   },
   "outputs": [
    {
     "data": {
      "text/plain": [
       "(1, 4, 2, 1)"
      ]
     },
     "execution_count": 17,
     "metadata": {},
     "output_type": "execute_result"
    }
   ],
   "source": [
    "paramsGroups.get('gr4')[1] "
   ]
  },
  {
   "cell_type": "code",
   "execution_count": null,
   "metadata": {
    "collapsed": true
   },
   "outputs": [],
   "source": []
  }
 ],
 "metadata": {
  "kernelspec": {
   "display_name": "Python 2",
   "language": "python",
   "name": "python2"
  },
  "language_info": {
   "codemirror_mode": {
    "name": "ipython",
    "version": 2
   },
   "file_extension": ".py",
   "mimetype": "text/x-python",
   "name": "python",
   "nbconvert_exporter": "python",
   "pygments_lexer": "ipython2",
   "version": "2.7.13"
  }
 },
 "nbformat": 4,
 "nbformat_minor": 2
}
