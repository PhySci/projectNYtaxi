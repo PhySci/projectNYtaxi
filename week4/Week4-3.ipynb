{
 "cells": [
  {
   "cell_type": "code",
   "execution_count": 1,
   "metadata": {
    "collapsed": true
   },
   "outputs": [],
   "source": [
    "# load libraries\n",
    "import pandas as pd\n",
    "import numpy as np\n",
    "import matplotlib.pyplot as plt\n",
    "from itertools import product\n",
    "from sklearn import linear_model\n",
    "import datetime\n",
    "from itertools import product\n",
    "import statsmodels.api as sm\n",
    "import warnings\n",
    "from sklearn import preprocessing\n",
    "\n",
    "%matplotlib inline"
   ]
  },
  {
   "cell_type": "code",
   "execution_count": 2,
   "metadata": {
    "collapsed": false
   },
   "outputs": [],
   "source": [
    "def regression(res, alpha = 0.1, plot = False,verbose = False):\n",
    "    X = res.drop('trip_count',axis = 1)        \n",
    "    y = res.loc[:,'trip_count'];\n",
    "    lassoReg = linear_model.Lasso(alpha = alpha, max_iter = 1e5,fit_intercept = True,random_state = 0);\n",
    "    lassoReg.fit(X,y)\n",
    "    y_pr = pd.Series(data = lassoReg.predict(X), index = res.index)\n",
    "    R = lassoReg.score(X,y);\n",
    "    print 'R factor is ', R\n",
    "    \n",
    "    if plot:\n",
    "        plt.figure(figsize = [15,10])\n",
    "        plt.subplot(211)\n",
    "        plt.plot(y)\n",
    "        plt.plot(y_pr)\n",
    "        plt.legend(['Original data','Predicted'])\n",
    "\n",
    "        plt.subplot(212)\n",
    "        plt.plot(y-y_pr)\n",
    "        plt.legend(['Residuals'])\n",
    "        \n",
    "    return [y_pr, y-y_pr, lassoReg]"
   ]
  },
  {
   "cell_type": "code",
   "execution_count": 3,
   "metadata": {
    "collapsed": false
   },
   "outputs": [],
   "source": [
    "def getRegressor(regressor, start_date = '2016-05-15 00:00:00', end_date = '2016-05-20 23:00:00'):\n",
    "    predictionStart = datetime.datetime.strptime(start_date,'%Y-%m-%d %H:%M:%S')\n",
    "    predictionEnd = datetime.datetime.strptime(end_date,'%Y-%m-%d %H:%M:%S')\n",
    "    date_index = pd.date_range(predictionStart, predictionEnd, freq='H')\n",
    "   \n",
    "    #какой-то пипец. Должен быть способ сделать это проще.\n",
    "    features = date_index.to_series().to_frame()\n",
    "    features = addFeatures(features,verbose = True)\n",
    "    features = features.drop(0,axis = 1)\n",
    "    exog = regressor.predict(features)\n",
    "    #print \n",
    "    #exog = np.expand_dims(,axis = 1)\n",
    "    #print exog\n",
    "    return pd.Series(exog,index = date_index)"
   ]
  },
  {
   "cell_type": "code",
   "execution_count": 4,
   "metadata": {
    "collapsed": true
   },
   "outputs": [],
   "source": [
    "def addFeatures(res, Kw = 6, Ka = 3,verbose = False):    \n",
    "    # add linear feature\n",
    "    res = res.assign(hours = (res.index - datetime.datetime(2014,1,1,0,0,0))/np.timedelta64(1, 'h'))\n",
    "    \n",
    "    # добавляем гармонические фичи\n",
    "    for ind in range(1,Kw+1):\n",
    "        res['weekCos'+str(ind)]= np.cos(np.pi*res.hours*ind/168);\n",
    "        res['weekSin'+str(ind)]= np.sin(np.pi*res.hours*ind/168);\n",
    "    for ind in range(1,Ka+1):\n",
    "        res['yearCos'+str(ind)]= np.cos(2*np.pi*res.hours*ind/8766);\n",
    "        res['yearSin'+str(ind)]= np.sin(2*np.pi*res.hours*ind/8766);\n",
    "        \n",
    "    # добавляем dummy variables для дней недели\n",
    "    lbDays = preprocessing.LabelBinarizer()\n",
    "    lbDays.fit(list(np.arange(6)))\n",
    "    DoW = pd.DataFrame(lbDays.transform(res.index.dayofweek),columns = ['DayOfWeek_'+str(x) for x in np.arange(6)],\n",
    "                       index = res.index)      \n",
    "    res = res.merge(DoW,left_index=True,right_index=True)\n",
    " \n",
    "    # добавляем dummy variables для месяца\n",
    "    lbMonths = preprocessing.LabelBinarizer()\n",
    "    lbMonths.fit(list(np.arange(12)))\n",
    "    Months = pd.DataFrame(lbMonths.transform(res.index.month),columns = ['Month_'+str(x) for x in np.arange(12)],index = res.index)      \n",
    "    res = res.merge(Months,left_index=True,right_index=True);\n",
    "    return res"
   ]
  },
  {
   "cell_type": "code",
   "execution_count": 6,
   "metadata": {
    "collapsed": false
   },
   "outputs": [],
   "source": [
    "# id нужных регионов\n",
    "regsDf = pd.read_csv('../crowdRegs.csv',names=['id','regId']);  \n",
    "\n",
    "# временные ряды для этих регионов\n",
    "df = pd.read_pickle('../crowdRegs2.pcl')\n",
    "df.columns = regsDf.regId.values.astype('str')\n",
    "\n",
    "# словарь с группировкой рядов\n",
    "tsGroups = np.load('tsGroups.npy').item()\n",
    "\n",
    "# словарь с оптимальными параметрами для каждой группы\n",
    "paramsGroups = np.load('paramsGroups.npy').item()"
   ]
  },
  {
   "cell_type": "markdown",
   "metadata": {},
   "source": [
    "*Логика скрипта:*\n",
    "<ol>\n",
    "<li> Выбираем одну группу\n",
    "<li> В группе выбираем один ряд\n",
    "<li> По номеру группы подгружаем оптимальные параметры\n",
    "<li> Обучаем регрессор\n",
    "<li> Обучаем SARIMAX модель\n",
    "<li> Сохраняем модель (??? Может быть без данных, чтобы сэкономить место).\n",
    "<li> Делаем предсказание\n",
    "<li> Сохраняем предсказение\n",
    "<li> Идём на второй или первый шаг\n",
    "<ol>\n",
    "    "
   ]
  },
  {
   "cell_type": "code",
   "execution_count": 7,
   "metadata": {
    "collapsed": true
   },
   "outputs": [],
   "source": [
    "# тестируем процедуру на одном ряду. Например, группа gr0, ряд 1283"
   ]
  },
  {
   "cell_type": "code",
   "execution_count": null,
   "metadata": {
    "collapsed": false
   },
   "outputs": [
    {
     "name": "stdout",
     "output_type": "stream",
     "text": [
      "Group ID is gr18\n",
      "Regions is  1273\n",
      "R factor is  0.0348605313164\n",
      "Learn SARIMAX\n"
     ]
    },
    {
     "name": "stderr",
     "output_type": "stream",
     "text": [
      "C:\\Anaconda2\\lib\\site-packages\\statsmodels\\base\\model.py:496: ConvergenceWarning: Maximum Likelihood optimization failed to converge. Check mle_retvals\n",
      "  \"Check mle_retvals\", ConvergenceWarning)\n"
     ]
    },
    {
     "name": "stdout",
     "output_type": "stream",
     "text": [
      "Make prediction\n"
     ]
    },
    {
     "name": "stderr",
     "output_type": "stream",
     "text": [
      "C:\\Anaconda2\\lib\\site-packages\\pandas\\core\\generic.py:5135: RuntimeWarning: invalid value encountered in absolute\n",
      "  return np.abs(self)\n"
     ]
    },
    {
     "name": "stdout",
     "output_type": "stream",
     "text": [
      "Prediction error\n",
      "Provided exogenous values are not of the appropriate shape. Required (1, 1), got (5L,).\n",
      "Prediction error\n",
      "Provided exogenous values are not of the appropriate shape. Required (2, 1), got (4L,).\n",
      "Prediction error\n",
      "Provided exogenous values are not of the appropriate shape. Required (3, 1), got (3L,).\n",
      "Prediction error\n",
      "Provided exogenous values are not of the appropriate shape. Required (4, 1), got (2L,).\n",
      "Prediction error\n",
      "Provided exogenous values are not of the appropriate shape. Required (5, 1), got (1L,).\n",
      "Regions is  1274\n",
      "R factor is  0.0871641080872\n",
      "Learn SARIMAX\n"
     ]
    },
    {
     "name": "stderr",
     "output_type": "stream",
     "text": [
      "C:\\Anaconda2\\lib\\site-packages\\statsmodels\\base\\model.py:496: ConvergenceWarning: Maximum Likelihood optimization failed to converge. Check mle_retvals\n",
      "  \"Check mle_retvals\", ConvergenceWarning)\n"
     ]
    },
    {
     "name": "stdout",
     "output_type": "stream",
     "text": [
      "Make prediction\n",
      "Prediction error\n",
      "Provided exogenous values are not of the appropriate shape. Required (1, 1), got (5L,).\n",
      "Prediction error\n",
      "Provided exogenous values are not of the appropriate shape. Required (2, 1), got (4L,).\n",
      "Prediction error\n",
      "Provided exogenous values are not of the appropriate shape. Required (3, 1), got (3L,).\n",
      "Prediction error\n",
      "Provided exogenous values are not of the appropriate shape. Required (4, 1), got (2L,).\n",
      "Prediction error\n",
      "Provided exogenous values are not of the appropriate shape. Required (5, 1), got (1L,).\n",
      "Group ID is gr19\n",
      "Regions is  1434\n",
      "R factor is  0.018278110283\n",
      "Learn SARIMAX\n"
     ]
    },
    {
     "name": "stderr",
     "output_type": "stream",
     "text": [
      "C:\\Anaconda2\\lib\\site-packages\\statsmodels\\base\\model.py:496: ConvergenceWarning: Maximum Likelihood optimization failed to converge. Check mle_retvals\n",
      "  \"Check mle_retvals\", ConvergenceWarning)\n"
     ]
    },
    {
     "name": "stdout",
     "output_type": "stream",
     "text": [
      "Make prediction\n",
      "Prediction error\n",
      "Provided exogenous values are not of the appropriate shape. Required (1, 1), got (5L,).\n",
      "Prediction error\n",
      "Provided exogenous values are not of the appropriate shape. Required (2, 1), got (4L,).\n",
      "Prediction error\n",
      "Provided exogenous values are not of the appropriate shape. Required (3, 1), got (3L,).\n",
      "Prediction error\n",
      "Provided exogenous values are not of the appropriate shape. Required (4, 1), got (2L,).\n",
      "Prediction error\n",
      "Provided exogenous values are not of the appropriate shape. Required (5, 1), got (1L,).\n",
      "Regions is  1435\n",
      "R factor is  0.101333276704\n",
      "Learn SARIMAX\n"
     ]
    },
    {
     "name": "stderr",
     "output_type": "stream",
     "text": [
      "C:\\Anaconda2\\lib\\site-packages\\statsmodels\\base\\model.py:496: ConvergenceWarning: Maximum Likelihood optimization failed to converge. Check mle_retvals\n",
      "  \"Check mle_retvals\", ConvergenceWarning)\n"
     ]
    },
    {
     "name": "stdout",
     "output_type": "stream",
     "text": [
      "Make prediction\n",
      "Prediction error\n",
      "Provided exogenous values are not of the appropriate shape. Required (1, 1), got (5L,).\n",
      "Prediction error\n",
      "Provided exogenous values are not of the appropriate shape. Required (2, 1), got (4L,).\n",
      "Prediction error\n",
      "Provided exogenous values are not of the appropriate shape. Required (3, 1), got (3L,).\n",
      "Prediction error\n",
      "Provided exogenous values are not of the appropriate shape. Required (4, 1), got (2L,).\n",
      "Prediction error\n",
      "Provided exogenous values are not of the appropriate shape. Required (5, 1), got (1L,).\n",
      "Regions is  1437\n",
      "R factor is  0.0880380582527\n",
      "Learn SARIMAX\n"
     ]
    },
    {
     "name": "stderr",
     "output_type": "stream",
     "text": [
      "C:\\Anaconda2\\lib\\site-packages\\statsmodels\\base\\model.py:496: ConvergenceWarning: Maximum Likelihood optimization failed to converge. Check mle_retvals\n",
      "  \"Check mle_retvals\", ConvergenceWarning)\n"
     ]
    },
    {
     "name": "stdout",
     "output_type": "stream",
     "text": [
      "Make prediction\n",
      "Prediction error\n",
      "Provided exogenous values are not of the appropriate shape. Required (1, 1), got (5L,).\n",
      "Prediction error\n",
      "Provided exogenous values are not of the appropriate shape. Required (2, 1), got (4L,).\n",
      "Prediction error\n",
      "Provided exogenous values are not of the appropriate shape. Required (3, 1), got (3L,).\n",
      "Prediction error\n",
      "Provided exogenous values are not of the appropriate shape. Required (4, 1), got (2L,).\n",
      "Prediction error\n",
      "Provided exogenous values are not of the appropriate shape. Required (5, 1), got (1L,).\n",
      "Regions is  1438\n",
      "R factor is  0.0473341631545\n",
      "Learn SARIMAX\n"
     ]
    },
    {
     "name": "stderr",
     "output_type": "stream",
     "text": [
      "C:\\Anaconda2\\lib\\site-packages\\statsmodels\\base\\model.py:496: ConvergenceWarning: Maximum Likelihood optimization failed to converge. Check mle_retvals\n",
      "  \"Check mle_retvals\", ConvergenceWarning)\n"
     ]
    },
    {
     "name": "stdout",
     "output_type": "stream",
     "text": [
      "Make prediction\n",
      "Prediction error\n",
      "Provided exogenous values are not of the appropriate shape. Required (1, 1), got (5L,).\n",
      "Prediction error\n",
      "Provided exogenous values are not of the appropriate shape. Required (2, 1), got (4L,).\n",
      "Prediction error\n",
      "Provided exogenous values are not of the appropriate shape. Required (3, 1), got (3L,).\n",
      "Prediction error\n",
      "Provided exogenous values are not of the appropriate shape. Required (4, 1), got (2L,).\n",
      "Prediction error\n",
      "Provided exogenous values are not of the appropriate shape. Required (5, 1), got (1L,).\n",
      "Regions is  1630\n",
      "R factor is  0.0654912922419\n",
      "Learn SARIMAX\n"
     ]
    },
    {
     "name": "stderr",
     "output_type": "stream",
     "text": [
      "C:\\Anaconda2\\lib\\site-packages\\statsmodels\\base\\model.py:496: ConvergenceWarning: Maximum Likelihood optimization failed to converge. Check mle_retvals\n",
      "  \"Check mle_retvals\", ConvergenceWarning)\n"
     ]
    },
    {
     "name": "stdout",
     "output_type": "stream",
     "text": [
      "Make prediction\n",
      "Prediction error\n",
      "Provided exogenous values are not of the appropriate shape. Required (1, 1), got (5L,).\n",
      "Prediction error\n",
      "Provided exogenous values are not of the appropriate shape. Required (2, 1), got (4L,).\n",
      "Prediction error\n",
      "Provided exogenous values are not of the appropriate shape. Required (3, 1), got (3L,).\n",
      "Prediction error\n",
      "Provided exogenous values are not of the appropriate shape. Required (4, 1), got (2L,).\n",
      "Prediction error\n",
      "Provided exogenous values are not of the appropriate shape. Required (5, 1), got (1L,).\n",
      "Regions is  1684\n",
      "R factor is  0.118775426739\n",
      "Learn SARIMAX\n"
     ]
    },
    {
     "name": "stderr",
     "output_type": "stream",
     "text": [
      "C:\\Anaconda2\\lib\\site-packages\\statsmodels\\base\\model.py:496: ConvergenceWarning: Maximum Likelihood optimization failed to converge. Check mle_retvals\n",
      "  \"Check mle_retvals\", ConvergenceWarning)\n"
     ]
    },
    {
     "name": "stdout",
     "output_type": "stream",
     "text": [
      "Make prediction\n",
      "Prediction error\n",
      "Provided exogenous values are not of the appropriate shape. Required (1, 1), got (5L,).\n",
      "Prediction error\n",
      "Provided exogenous values are not of the appropriate shape. Required (2, 1), got (4L,).\n",
      "Prediction error\n",
      "Provided exogenous values are not of the appropriate shape. Required (3, 1), got (3L,).\n",
      "Prediction error\n",
      "Provided exogenous values are not of the appropriate shape. Required (4, 1), got (2L,).\n",
      "Prediction error\n",
      "Provided exogenous values are not of the appropriate shape. Required (5, 1), got (1L,).\n",
      "Group ID is gr10\n",
      "Regions is  1333\n",
      "R factor is  0.0442996592015\n",
      "Learn SARIMAX\n",
      "Make prediction\n",
      "Prediction error\n",
      "Provided exogenous values are not of the appropriate shape. Required (1, 1), got (5L,).\n",
      "Prediction error\n",
      "Provided exogenous values are not of the appropriate shape. Required (2, 1), got (4L,).\n",
      "Prediction error\n",
      "Provided exogenous values are not of the appropriate shape. Required (3, 1), got (3L,).\n",
      "Prediction error\n",
      "Provided exogenous values are not of the appropriate shape. Required (4, 1), got (2L,).\n",
      "Prediction error\n",
      "Provided exogenous values are not of the appropriate shape. Required (5, 1), got (1L,).\n",
      "Regions is  1337\n",
      "R factor is  0.0834235239164\n",
      "Learn SARIMAX\n",
      "Make prediction\n",
      "Prediction error\n",
      "Provided exogenous values are not of the appropriate shape. Required (1, 1), got (5L,).\n",
      "Prediction error\n",
      "Provided exogenous values are not of the appropriate shape. Required (2, 1), got (4L,).\n",
      "Prediction error\n",
      "Provided exogenous values are not of the appropriate shape. Required (3, 1), got (3L,).\n",
      "Prediction error\n",
      "Provided exogenous values are not of the appropriate shape. Required (4, 1), got (2L,).\n",
      "Prediction error\n",
      "Provided exogenous values are not of the appropriate shape. Required (5, 1), got (1L,).\n",
      "Regions is  1338\n",
      "R factor is  0.12525956524\n",
      "Learn SARIMAX\n",
      "Make prediction\n",
      "Prediction error\n",
      "Provided exogenous values are not of the appropriate shape. Required (1, 1), got (5L,).\n",
      "Prediction error\n",
      "Provided exogenous values are not of the appropriate shape. Required (2, 1), got (4L,).\n",
      "Prediction error\n",
      "Provided exogenous values are not of the appropriate shape. Required (3, 1), got (3L,).\n",
      "Prediction error\n",
      "Provided exogenous values are not of the appropriate shape. Required (4, 1), got (2L,).\n",
      "Prediction error\n",
      "Provided exogenous values are not of the appropriate shape. Required (5, 1), got (1L,).\n",
      "Regions is  1339\n",
      "R factor is  0.057378844713\n",
      "Learn SARIMAX\n",
      "Make prediction\n",
      "Prediction error\n",
      "Provided exogenous values are not of the appropriate shape. Required (1, 1), got (5L,).\n",
      "Prediction error\n",
      "Provided exogenous values are not of the appropriate shape. Required (2, 1), got (4L,).\n",
      "Prediction error\n",
      "Provided exogenous values are not of the appropriate shape. Required (3, 1), got (3L,).\n",
      "Prediction error\n",
      "Provided exogenous values are not of the appropriate shape. Required (4, 1), got (2L,).\n",
      "Prediction error\n",
      "Provided exogenous values are not of the appropriate shape. Required (5, 1), got (1L,).\n",
      "Regions is  1783\n",
      "R factor is  0.149156801012\n",
      "Learn SARIMAX\n",
      "Make prediction\n",
      "Prediction error\n",
      "Provided exogenous values are not of the appropriate shape. Required (1, 1), got (5L,).\n",
      "Prediction error\n",
      "Provided exogenous values are not of the appropriate shape. Required (2, 1), got (4L,).\n",
      "Prediction error\n",
      "Provided exogenous values are not of the appropriate shape. Required (3, 1), got (3L,).\n",
      "Prediction error\n",
      "Provided exogenous values are not of the appropriate shape. Required (4, 1), got (2L,).\n",
      "Prediction error\n",
      "Provided exogenous values are not of the appropriate shape. Required (5, 1), got (1L,).\n",
      "Group ID is gr11\n",
      "Regions is  1075\n",
      "R factor is  0.079605984786\n",
      "Learn SARIMAX\n"
     ]
    },
    {
     "name": "stderr",
     "output_type": "stream",
     "text": [
      "C:\\Anaconda2\\lib\\site-packages\\statsmodels\\base\\model.py:496: ConvergenceWarning: Maximum Likelihood optimization failed to converge. Check mle_retvals\n",
      "  \"Check mle_retvals\", ConvergenceWarning)\n"
     ]
    },
    {
     "name": "stdout",
     "output_type": "stream",
     "text": [
      "Make prediction\n",
      "Prediction error\n",
      "Provided exogenous values are not of the appropriate shape. Required (1, 1), got (5L,).\n",
      "Prediction error\n",
      "Provided exogenous values are not of the appropriate shape. Required (2, 1), got (4L,).\n",
      "Prediction error\n",
      "Provided exogenous values are not of the appropriate shape. Required (3, 1), got (3L,).\n",
      "Prediction error\n",
      "Provided exogenous values are not of the appropriate shape. Required (4, 1), got (2L,).\n",
      "Prediction error\n",
      "Provided exogenous values are not of the appropriate shape. Required (5, 1), got (1L,).\n",
      "Regions is  1733\n",
      "R factor is  0.0433368135015\n",
      "Learn SARIMAX\n",
      "Make prediction\n",
      "Prediction error\n",
      "Provided exogenous values are not of the appropriate shape. Required (1, 1), got (5L,).\n",
      "Prediction error\n",
      "Provided exogenous values are not of the appropriate shape. Required (2, 1), got (4L,).\n",
      "Prediction error\n",
      "Provided exogenous values are not of the appropriate shape. Required (3, 1), got (3L,).\n",
      "Prediction error\n",
      "Provided exogenous values are not of the appropriate shape. Required (4, 1), got (2L,).\n",
      "Prediction error\n",
      "Provided exogenous values are not of the appropriate shape. Required (5, 1), got (1L,).\n",
      "Regions is  1734\n",
      "R factor is  0.104278118506\n",
      "Learn SARIMAX\n",
      "Make prediction\n",
      "Prediction error\n",
      "Provided exogenous values are not of the appropriate shape. Required (1, 1), got (5L,).\n",
      "Prediction error\n",
      "Provided exogenous values are not of the appropriate shape. Required (2, 1), got (4L,).\n",
      "Prediction error\n",
      "Provided exogenous values are not of the appropriate shape. Required (3, 1), got (3L,).\n",
      "Prediction error\n",
      "Provided exogenous values are not of the appropriate shape. Required (4, 1), got (2L,).\n",
      "Prediction error\n",
      "Provided exogenous values are not of the appropriate shape. Required (5, 1), got (1L,).\n",
      "Group ID is gr12\n",
      "Regions is  2069\n",
      "R factor is  0.0360931726236\n",
      "Learn SARIMAX\n",
      "Make prediction\n",
      "Prediction error\n",
      "Provided exogenous values are not of the appropriate shape. Required (1, 1), got (5L,).\n",
      "Prediction error\n",
      "Provided exogenous values are not of the appropriate shape. Required (2, 1), got (4L,).\n",
      "Prediction error\n",
      "Provided exogenous values are not of the appropriate shape. Required (3, 1), got (3L,).\n",
      "Prediction error\n",
      "Provided exogenous values are not of the appropriate shape. Required (4, 1), got (2L,).\n",
      "Prediction error\n",
      "Provided exogenous values are not of the appropriate shape. Required (5, 1), got (1L,).\n",
      "Regions is  2118\n",
      "R factor is  0.0682688389143\n",
      "Learn SARIMAX\n",
      "Make prediction\n",
      "Prediction error\n",
      "Provided exogenous values are not of the appropriate shape. Required (1, 1), got (5L,).\n",
      "Prediction error\n",
      "Provided exogenous values are not of the appropriate shape. Required (2, 1), got (4L,).\n",
      "Prediction error\n",
      "Provided exogenous values are not of the appropriate shape. Required (3, 1), got (3L,).\n",
      "Prediction error\n",
      "Provided exogenous values are not of the appropriate shape. Required (4, 1), got (2L,).\n",
      "Prediction error\n",
      "Provided exogenous values are not of the appropriate shape. Required (5, 1), got (1L,).\n",
      "Group ID is gr13\n",
      "Regions is  1222\n",
      "R factor is  "
     ]
    },
    {
     "name": "stderr",
     "output_type": "stream",
     "text": [
      "C:\\Anaconda2\\lib\\site-packages\\statsmodels\\base\\model.py:496: ConvergenceWarning: Maximum Likelihood optimization failed to converge. Check mle_retvals\n",
      "  \"Check mle_retvals\", ConvergenceWarning)\n"
     ]
    },
    {
     "name": "stdout",
     "output_type": "stream",
     "text": [
      "0.0854515765533\n",
      "Learn SARIMAX\n",
      "Make prediction\n",
      "Prediction error\n",
      "Provided exogenous values are not of the appropriate shape. Required (1, 1), got (5L,).\n",
      "Prediction error\n",
      "Provided exogenous values are not of the appropriate shape. Required (2, 1), got (4L,).\n",
      "Prediction error\n",
      "Provided exogenous values are not of the appropriate shape. Required (3, 1), got (3L,).\n",
      "Prediction error\n",
      "Provided exogenous values are not of the appropriate shape. Required (4, 1), got (2L,).\n",
      "Prediction error\n",
      "Provided exogenous values are not of the appropriate shape. Required (5, 1), got (1L,).\n",
      "Regions is  1223\n",
      "R factor is  0.0940933039937\n",
      "Learn SARIMAX\n"
     ]
    },
    {
     "name": "stderr",
     "output_type": "stream",
     "text": [
      "C:\\Anaconda2\\lib\\site-packages\\statsmodels\\base\\model.py:496: ConvergenceWarning: Maximum Likelihood optimization failed to converge. Check mle_retvals\n",
      "  \"Check mle_retvals\", ConvergenceWarning)\n"
     ]
    },
    {
     "name": "stdout",
     "output_type": "stream",
     "text": [
      "Make prediction\n",
      "Prediction error\n",
      "Provided exogenous values are not of the appropriate shape. Required (1, 1), got (5L,).\n",
      "Prediction error\n",
      "Provided exogenous values are not of the appropriate shape. Required (2, 1), got (4L,).\n",
      "Prediction error\n",
      "Provided exogenous values are not of the appropriate shape. Required (3, 1), got (3L,).\n",
      "Prediction error\n",
      "Provided exogenous values are not of the appropriate shape. Required (4, 1), got (2L,).\n",
      "Prediction error\n",
      "Provided exogenous values are not of the appropriate shape. Required (5, 1), got (1L,).\n",
      "Regions is  1224\n",
      "R factor is  0.113294640454\n",
      "Learn SARIMAX\n"
     ]
    },
    {
     "name": "stderr",
     "output_type": "stream",
     "text": [
      "C:\\Anaconda2\\lib\\site-packages\\statsmodels\\base\\model.py:496: ConvergenceWarning: Maximum Likelihood optimization failed to converge. Check mle_retvals\n",
      "  \"Check mle_retvals\", ConvergenceWarning)\n"
     ]
    }
   ],
   "source": [
    "# диапазон дат для обучения\n",
    "startFit = '2016-01-01 0:0:0'\n",
    "endFit = '2016-04-30 23:59:59'\n",
    "\n",
    "# диапазон дат для предсказания\n",
    "startPrediction = '2016-01-01 00:00:00'\n",
    "endPrediction = '2016-05-30 00:00:00'\n",
    "predictionRange = pd.date_range(startPrediction, endPrediction, freq='H')\n",
    "\n",
    "# create array to save prediction results\n",
    "mIndex = pd.MultiIndex.from_product([df.columns.values, predictionRange])\n",
    "resDf = pd.DataFrame(index = mIndex, columns = ['y','err'])\n",
    "\n",
    "\n",
    "grId = 'gr0'\n",
    "\n",
    "for grId, ts in tsGroups.iteritems():\n",
    "    print 'Group ID is', grId\n",
    "    \n",
    "    # получаем параметры SARIMAX модели\n",
    "    params = paramsGroups.get(grId)[1] \n",
    "    \n",
    "    for tsId in ts:\n",
    "        print 'Regions is ', tsId\n",
    "        # получаем временной ряд\n",
    "        ts = df.loc[startFit:endFit,tsId] #\n",
    "\n",
    "        # обучаем регрессор\n",
    "        ts = ts.to_frame(name = 'trip_count')\n",
    "        [r_pr, res, regressor] = regression(addFeatures(ts),verbose = True)\n",
    "\n",
    "        # обучаем SARIMAX модель\n",
    "        print 'Learn SARIMAX'\n",
    "        try:\n",
    "            mSARIMA=sm.tsa.statespace.SARIMAX(ts, order=[params[0], 1, params[1]],\n",
    "                                              seasonal_order=(params[2], 1, params[3], 24),\n",
    "                                              exog = r_pr, enforce_invertibility = True).fit(disp=1);\n",
    "        except Exception as inst:\n",
    "            print type(inst)     \n",
    "            print inst          \n",
    "\n",
    "        # получаем предсказания регрессора на весь диапазон дат (обучение+предсказание)\n",
    "        exog = getRegressor(regressor,startFit,endPrediction)\n",
    "        # получаем данные о поездкахы на весь диапазон дат\n",
    "        endog = df.loc[startFit:endPrediction,tsId]\n",
    "       \n",
    "        # создаём новую модель, которую будет использовать для предсказания\n",
    "        # Для чего такой финт ушами - не понимаю до сих пор\n",
    "        model_fitted = sm.tsa.statespace.SARIMAX(endog, order=[params[0], 1, params[1]],\n",
    "                                                 seasonal_order=(params[2], 1, params[3], 24),\n",
    "                                                 exog = exog).filter(mSARIMA.params)\n",
    "         \n",
    "        # проходим по всему диапазону дат предсказаний\n",
    "        print 'Make prediction'\n",
    "        for firstLag in predictionRange:\n",
    "            lastLag = firstLag+datetime.timedelta(hours = 5)\n",
    "            # prediction\n",
    "            try:\n",
    "                predicted_data = model_fitted.predict(firstLag, lastLag, dynamic=True, exog = exog[firstLag:lastLag])\n",
    "                # save results\n",
    "                resDf.loc[tsId,startPrediction].y = predicted_data\n",
    "                resDf.loc[tsId,startPrediction].err = (df.loc[startPrediction:endPrediction,tsId]-predicted_data).abs().mean()\n",
    "            except Exception as inst:\n",
    "                print 'Prediction error'\n",
    "                print inst\n",
    "                \n",
    "    # save results\n",
    "    resDf.to_pickle('predictionResults.pcl')"
   ]
  },
  {
   "cell_type": "code",
   "execution_count": null,
   "metadata": {
    "collapsed": true
   },
   "outputs": [],
   "source": []
  }
 ],
 "metadata": {
  "kernelspec": {
   "display_name": "Python [default]",
   "language": "python",
   "name": "python2"
  },
  "language_info": {
   "codemirror_mode": {
    "name": "ipython",
    "version": 2
   },
   "file_extension": ".py",
   "mimetype": "text/x-python",
   "name": "python",
   "nbconvert_exporter": "python",
   "pygments_lexer": "ipython2",
   "version": "2.7.13"
  }
 },
 "nbformat": 4,
 "nbformat_minor": 2
}
